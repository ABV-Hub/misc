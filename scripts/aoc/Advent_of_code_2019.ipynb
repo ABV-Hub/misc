{
 "cells": [
  {
   "cell_type": "markdown",
   "metadata": {},
   "source": [
    "# Advent of code 2019\n",
    "\n",
    "### imports"
   ]
  },
  {
   "cell_type": "code",
   "execution_count": 1,
   "metadata": {},
   "outputs": [],
   "source": [
    "import numpy as np\n",
    "import pandas as pd\n",
    "%matplotlib inline\n",
    "import matplotlib.pyplot as plt"
   ]
  },
  {
   "cell_type": "markdown",
   "metadata": {},
   "source": [
    "### Day 1 - part 1"
   ]
  },
  {
   "cell_type": "code",
   "execution_count": 21,
   "metadata": {},
   "outputs": [],
   "source": [
    "# load data\n",
    "with open('./data_2019/d1p1.csv', 'r') as f:\n",
    "    data = np.array(f.readlines()).astype(int)"
   ]
  },
  {
   "cell_type": "code",
   "execution_count": 24,
   "metadata": {},
   "outputs": [
    {
     "data": {
      "text/plain": [
       "3161483"
      ]
     },
     "execution_count": 24,
     "metadata": {},
     "output_type": "execute_result"
    }
   ],
   "source": [
    "np.sum(np.floor(data / 3) - 2).astype(int)"
   ]
  },
  {
   "cell_type": "markdown",
   "metadata": {},
   "source": [
    "The first half of this puzzle is complete! It provides one gold star: *"
   ]
  },
  {
   "cell_type": "markdown",
   "metadata": {},
   "source": [
    "### Day 1 - part 2"
   ]
  },
  {
   "cell_type": "code",
   "execution_count": 87,
   "metadata": {},
   "outputs": [],
   "source": [
    "def get_fuel(mass):\n",
    "    return (np.floor(mass / 3) - 2).astype(int)"
   ]
  },
  {
   "cell_type": "code",
   "execution_count": 89,
   "metadata": {},
   "outputs": [],
   "source": [
    "get_fuel(data);"
   ]
  },
  {
   "cell_type": "code",
   "execution_count": 90,
   "metadata": {},
   "outputs": [
    {
     "data": {
      "text/plain": [
       "654"
      ]
     },
     "execution_count": 90,
     "metadata": {},
     "output_type": "execute_result"
    }
   ],
   "source": [
    "get_fuel(1969)"
   ]
  },
  {
   "cell_type": "markdown",
   "metadata": {},
   "source": [
    "mass 1969 is 654 + 216 + 70 + 21 + 5 = 966 fuel"
   ]
  },
  {
   "cell_type": "code",
   "execution_count": 146,
   "metadata": {},
   "outputs": [
    {
     "data": {
      "text/plain": [
       "50346"
      ]
     },
     "execution_count": 146,
     "metadata": {},
     "output_type": "execute_result"
    }
   ],
   "source": [
    "def get_fuel_recursive(mass):\n",
    "    if (np.floor(mass / 3) - 2).astype(int) <= 0:\n",
    "        return 0\n",
    "    else:\n",
    "        mass = (np.floor(mass / 3) - 2).astype(int)\n",
    "        new_mass = get_fuel_recursive(mass)\n",
    "        mass += new_mass\n",
    "        return mass\n",
    "    \n",
    "get_fuel_recursive(1969)"
   ]
  },
  {
   "cell_type": "code",
   "execution_count": 160,
   "metadata": {},
   "outputs": [
    {
     "data": {
      "text/plain": [
       "4739374"
      ]
     },
     "execution_count": 160,
     "metadata": {},
     "output_type": "execute_result"
    }
   ],
   "source": [
    "np.array(list(map(get_fuel_recursive, data))).sum()"
   ]
  },
  {
   "cell_type": "markdown",
   "metadata": {},
   "source": [
    "That's the right answer! You are one gold star closer to rescuing Santa."
   ]
  },
  {
   "cell_type": "markdown",
   "metadata": {},
   "source": [
    "### Day 2 - part 1"
   ]
  },
  {
   "cell_type": "code",
   "execution_count": 531,
   "metadata": {},
   "outputs": [],
   "source": [
    "window = 4"
   ]
  },
  {
   "cell_type": "code",
   "execution_count": 532,
   "metadata": {},
   "outputs": [],
   "source": [
    "data = np.array([1,9,10,3,2,3,11,0,99,30,40,50])"
   ]
  },
  {
   "cell_type": "code",
   "execution_count": 533,
   "metadata": {},
   "outputs": [],
   "source": [
    "def get_codes(data, start, window):\n",
    "    end = start + window\n",
    "    codes = data[start:end]\n",
    "    return codes"
   ]
  },
  {
   "cell_type": "code",
   "execution_count": 534,
   "metadata": {},
   "outputs": [],
   "source": [
    "def intcode(codes, data):\n",
    "    op = codes[0]\n",
    "    a, b = codes[1], codes[2]\n",
    "    out = codes[-1]\n",
    "    if op == 1:\n",
    "        return data[a] + data[b], out\n",
    "    elif op == 2:\n",
    "        return data[a] * data[b], out\n",
    "    else:\n",
    "        return np.nan, np.nan"
   ]
  },
  {
   "cell_type": "code",
   "execution_count": 535,
   "metadata": {},
   "outputs": [],
   "source": [
    "def update_data(codes, data):\n",
    "    value, index = intcode(codes, data)\n",
    "    data[index] = value\n",
    "    return data"
   ]
  },
  {
   "cell_type": "code",
   "execution_count": 536,
   "metadata": {},
   "outputs": [],
   "source": [
    "def run_codes(data):\n",
    "    for i in range(len(data) // window):\n",
    "        codes = get_codes(data, i * window, window)\n",
    "        if codes[0] == 99:\n",
    "            break\n",
    "        update_data(codes, data)\n",
    "    return data"
   ]
  },
  {
   "cell_type": "code",
   "execution_count": 537,
   "metadata": {},
   "outputs": [
    {
     "data": {
      "text/plain": [
       "array([3500,    9,   10,   70,    2,    3,   11,    0,   99,   30,   40,\n",
       "         50])"
      ]
     },
     "execution_count": 537,
     "metadata": {},
     "output_type": "execute_result"
    }
   ],
   "source": [
    "run_codes(data)"
   ]
  },
  {
   "cell_type": "markdown",
   "metadata": {},
   "source": [
    "3500,9,10,70,\n",
    "2,3,11,0,\n",
    "99,\n",
    "30,40,50"
   ]
  },
  {
   "cell_type": "markdown",
   "metadata": {},
   "source": [
    "1,0,0,0,99 becomes 2,0,0,0,99 (1 + 1 = 2).\n",
    "\n",
    "2,3,0,3,99 becomes 2,3,0,6,99 (3 * 2 = 6).\n",
    "\n",
    "2,4,4,5,99,0 becomes 2,4,4,5,99,9801 (99 * 99 = 9801).\n",
    "\n",
    "1,1,1,4,99,5,6,0,99 becomes 30,1,1,4,2,5,6,0,99"
   ]
  },
  {
   "cell_type": "code",
   "execution_count": 538,
   "metadata": {},
   "outputs": [
    {
     "data": {
      "text/plain": [
       "[30, 1, 1, 4, 2, 5, 6, 0, 99]"
      ]
     },
     "execution_count": 538,
     "metadata": {},
     "output_type": "execute_result"
    }
   ],
   "source": [
    "run_codes([1,1,1,4,99,5,6,0,99])"
   ]
  },
  {
   "cell_type": "markdown",
   "metadata": {},
   "source": [
    "To do this, before running the program, replace position 1 with the value 12 and replace position 2 with the value 2. What value is left at position 0 after the program halts?"
   ]
  },
  {
   "cell_type": "code",
   "execution_count": 539,
   "metadata": {},
   "outputs": [
    {
     "data": {
      "text/plain": [
       "['1,0,0,3,1,1,2,3,1,3,4,3,1,5,0,3,2,1,10,19,1,6,19,23,1,10,23,27,2,27,13,31,1,31,6,35,2,6,35,39,1,39,5,43,1,6,43,47,2,6,47,51,1,51,5,55,2,55,9,59,1,6,59,63,1,9,63,67,1,67,10,71,2,9,71,75,1,6,75,79,1,5,79,83,2,83,10,87,1,87,5,91,1,91,9,95,1,6,95,99,2,99,10,103,1,103,5,107,2,107,6,111,1,111,5,115,1,9,115,119,2,119,10,123,1,6,123,127,2,13,127,131,1,131,6,135,1,135,10,139,1,13,139,143,1,143,13,147,1,5,147,151,1,151,2,155,1,155,5,0,99,2,0,14,0\\n']"
      ]
     },
     "execution_count": 539,
     "metadata": {},
     "output_type": "execute_result"
    }
   ],
   "source": [
    "with open('./data_2019/day2.csv','r') as f:\n",
    "    data = f.readlines()\n",
    "data"
   ]
  },
  {
   "cell_type": "code",
   "execution_count": 540,
   "metadata": {},
   "outputs": [],
   "source": [
    "data = np.array(data[0].split(',')).astype(int)"
   ]
  },
  {
   "cell_type": "code",
   "execution_count": 541,
   "metadata": {},
   "outputs": [],
   "source": [
    "data[1] = 12\n",
    "data[2] = 2"
   ]
  },
  {
   "cell_type": "code",
   "execution_count": 542,
   "metadata": {},
   "outputs": [
    {
     "data": {
      "text/plain": [
       "array([6327510,      12,       2,       2,       1,       1,       2,\n",
       "             3,       1,       3,       4,       3,       1,       5,\n",
       "             0,       3,       2,       1,      10,      48,       1,\n",
       "             6,      19,      50,       1,      10,      23,      54,\n",
       "             2,      27,      13,     270,       1,      31,       6,\n",
       "           272,       2,       6,      35,     544,       1,      39,\n",
       "             5,     545,       1,       6,      43,     547,       2,\n",
       "             6,      47,    1094,       1,      51,       5,    1095,\n",
       "             2,      55,       9,    3285,       1,       6,      59,\n",
       "          3287,       1,       9,      63,    3290,       1,      67,\n",
       "            10,    3294,       2,       9,      71,    9882,       1,\n",
       "             6,      75,    9884,       1,       5,      79,    9885,\n",
       "             2,      83,      10,   39540,       1,      87,       5,\n",
       "         39541,       1,      91,       9,   39544,       1,       6,\n",
       "            95,   39546,       2,      99,      10,  158184,       1,\n",
       "           103,       5,  158185,       2,     107,       6,  316370,\n",
       "             1,     111,       5,  316371,       1,       9,     115,\n",
       "        316374,       2,     119,      10, 1265496,       1,       6,\n",
       "           123, 1265498,       2,      13,     127, 6327490,       1,\n",
       "           131,       6, 6327492,       1,     135,      10, 6327496,\n",
       "             1,      13,     139, 6327501,       1,     143,      13,\n",
       "       6327506,       1,       5,     147, 6327507,       1,     151,\n",
       "             2, 6327509,       1,     155,       5,       0,      99,\n",
       "             2,       0,      14,       0])"
      ]
     },
     "execution_count": 542,
     "metadata": {},
     "output_type": "execute_result"
    }
   ],
   "source": [
    "run_codes(data)"
   ]
  },
  {
   "cell_type": "markdown",
   "metadata": {},
   "source": [
    "That's not the right answer; your answer is too low. If you're stuck, make sure you're using the full input data; there are also some general tips on the about page, or you can ask for hints on the subreddit. Please wait one minute before trying again. (You guessed 6327508.) "
   ]
  },
  {
   "cell_type": "markdown",
   "metadata": {},
   "source": [
    "6327510: That's the right answer! You are one gold star closer to rescuing Santa."
   ]
  },
  {
   "cell_type": "code",
   "execution_count": null,
   "metadata": {},
   "outputs": [],
   "source": []
  }
 ],
 "metadata": {
  "kernelspec": {
   "display_name": "geocomp",
   "language": "python",
   "name": "geocomp"
  },
  "language_info": {
   "codemirror_mode": {
    "name": "ipython",
    "version": 3
   },
   "file_extension": ".py",
   "mimetype": "text/x-python",
   "name": "python",
   "nbconvert_exporter": "python",
   "pygments_lexer": "ipython3",
   "version": "3.7.4"
  }
 },
 "nbformat": 4,
 "nbformat_minor": 2
}
