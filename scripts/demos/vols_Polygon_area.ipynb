{
 "cells": [
  {
   "cell_type": "markdown",
   "metadata": {},
   "source": [
    "# Polygon area calculation\n",
    "\n",
    "from [this SO page](https://stackoverflow.com/questions/24467972/calculate-area-of-polygon-given-x-y-coordinates)."
   ]
  },
  {
   "cell_type": "code",
   "execution_count": 8,
   "metadata": {},
   "outputs": [],
   "source": [
    "import numpy as np\n",
    "%matplotlib inline\n",
    "import matplotlib.pyplot as plt\n",
    "from scipy.integrate import simps"
   ]
  },
  {
   "cell_type": "code",
   "execution_count": 9,
   "metadata": {},
   "outputs": [],
   "source": [
    "def poly_area(x,y):\n",
    "    \"\"\"Implementation of Shoelace formula\n",
    "    Args:\n",
    "        x, y: coordinate vectors [array-like]\n",
    "        Coordinate vectors *MUST BE* provided in an ordered (clockwise/counter clockwise) manner\n",
    "        example: x, y = np.array([[3, 5, 12, 9, 5, 3], [4, 11, 8, 5, 6, 4]])\n",
    "    Return:\n",
    "        area: [float]\n",
    "    References:\n",
    "        https://en.wikipedia.org/wiki/Shoelace_formula\n",
    "        https://stackoverflow.com/questions/24467972/calculate-area-of-polygon-given-x-y-coordinates\n",
    "    \"\"\"\n",
    "    return 0.5 * np.abs(np.dot(x, np.roll(y,1)) - np.dot(y, np.roll(x,1)))"
   ]
  },
  {
   "cell_type": "code",
   "execution_count": 10,
   "metadata": {},
   "outputs": [
    {
     "data": {
      "image/png": "[encoded data removed]",
      "text/plain": [
       "<Figure size 432x288 with 1 Axes>"
      ]
     },
     "metadata": {
      "needs_background": "light"
     },
     "output_type": "display_data"
    }
   ],
   "source": [
    "# https://en.wikipedia.org/wiki/Shoelace_formula\n",
    "test_coords = np.array([[3, 5, 12, 9, 5, 3], [4, 11, 8, 5, 6, 4]])\n",
    "assert poly_area(test_coords[0], test_coords[1]) == 30\n",
    "plt.plot(test_coords[0], test_coords[1])\n",
    "plt.text(6, 8, f'Area = {poly_area(test_coords[0], test_coords[1])} units**2')\n",
    "plt.show()"
   ]
  },
  {
   "cell_type": "markdown",
   "metadata": {},
   "source": [
    "## Extension to area-depth\n",
    "\n",
    "### First define some polygons:"
   ]
  },
  {
   "cell_type": "code",
   "execution_count": 11,
   "metadata": {},
   "outputs": [],
   "source": [
    "# x, y vectors\n",
    "top_0 = np.array([[8, 8, 8, 8, 8], [8, 8, 8, 8, 8]])\n",
    "top_1 = np.array([[7, 9, 9, 7, 7], [7, 7, 9, 9, 7]])\n",
    "top2_goc = np.array([[6, 10, 10, 6, 6], [6, 6, 10, 10, 6]])\n",
    "top3 = np.array([[5, 11, 11, 5, 5], [5, 5, 11, 11, 5]])\n",
    "top4 = np.array([[4, 12, 12, 4, 4], [4, 4, 12, 12, 4]])\n",
    "top5_owc = np.array([[3, 13, 13, 3, 3], [3, 3, 13, 13, 3]])\n",
    "# depths of polygons\n",
    "depths = np.array([-1200, -1250, -1380, -1500, -1590, -1720])"
   ]
  },
  {
   "cell_type": "markdown",
   "metadata": {},
   "source": [
    "## Calculate areas for each contour"
   ]
  },
  {
   "cell_type": "code",
   "execution_count": 12,
   "metadata": {},
   "outputs": [],
   "source": [
    "def calc_areas_from_countour_set(*contour_sets):\n",
    "    \"\"\"Calculate poly_area for each contour\n",
    "    Args:\n",
    "        contour_sets: contours, positional args of type `np.array([[...],[...]]`\n",
    "    Returns:\n",
    "        areas: array of areas\n",
    "        contour_set: tuple of inputs\n",
    "    \"\"\"\n",
    "    areas = np.array([poly_area(c[0], c[1]) for c in np.array(contour_sets)])\n",
    "    print(f'areas.shape: {areas.shape}')\n",
    "    return areas, (contour_sets)"
   ]
  },
  {
   "cell_type": "code",
   "execution_count": 13,
   "metadata": {},
   "outputs": [
    {
     "name": "stdout",
     "output_type": "stream",
     "text": [
      "areas.shape: (6,)\n",
      "\n",
      "areas: [  0.   4.  16.  36.  64. 100.]\n",
      "\n",
      "contour sets:\n",
      "(array([[8, 8, 8, 8, 8],\n",
      "       [8, 8, 8, 8, 8]]), array([[7, 9, 9, 7, 7],\n",
      "       [7, 7, 9, 9, 7]]), array([[ 6, 10, 10,  6,  6],\n",
      "       [ 6,  6, 10, 10,  6]]), array([[ 5, 11, 11,  5,  5],\n",
      "       [ 5,  5, 11, 11,  5]]), array([[ 4, 12, 12,  4,  4],\n",
      "       [ 4,  4, 12, 12,  4]]), array([[ 3, 13, 13,  3,  3],\n",
      "       [ 3,  3, 13, 13,  3]]))\n"
     ]
    }
   ],
   "source": [
    "areas, cs = calc_areas_from_countour_set(top_0, top_1, top2_goc, top3, top4, top5_owc)\n",
    "print(f'\\nareas: {areas}\\n\\ncontour sets:\\n{cs}')"
   ]
  },
  {
   "cell_type": "code",
   "execution_count": 14,
   "metadata": {},
   "outputs": [
    {
     "data": {
      "image/png": "[encoded data removed]",
      "text/plain": [
       "<Figure size 432x432 with 1 Axes>"
      ]
     },
     "metadata": {
      "needs_background": "light"
     },
     "output_type": "display_data"
    }
   ],
   "source": [
    "# plot for QC\n",
    "fig = plt.figure(figsize=(6, 6))\n",
    "plt.scatter(top_0[0], top_0[1], s=5)\n",
    "for c in cs[1:]:\n",
    "    plt.plot(c[0], c[1])\n",
    "    plt.text(7.2, c[0,0] + 0.1, f'Area:{poly_area(c[0], c[1]):.0f}')"
   ]
  },
  {
   "cell_type": "markdown",
   "metadata": {},
   "source": [
    "### Add contacts\n",
    "\n",
    "Define some depths in tvdss, but shift them to zero for integration of area under curve"
   ]
  },
  {
   "cell_type": "code",
   "execution_count": 15,
   "metadata": {},
   "outputs": [
    {
     "data": {
      "text/plain": [
       "array([-1200, -1250, -1380, -1500, -1590, -1720])"
      ]
     },
     "execution_count": 15,
     "metadata": {},
     "output_type": "execute_result"
    }
   ],
   "source": [
    "goc, owc = -1380, -1720\n",
    "depths"
   ]
  },
  {
   "cell_type": "markdown",
   "metadata": {},
   "source": [
    "## Calculate `grv` using the `poly_area`\n",
    "\n",
    "Here I calculate grv using the `poly_area` function rather than `np.trapz` or `scipy.integrate.simps`.\n",
    "First a comparison of the three methods on a simple case:"
   ]
  },
  {
   "cell_type": "markdown",
   "metadata": {},
   "source": [
    "### Test case to compare methods"
   ]
  },
  {
   "cell_type": "code",
   "execution_count": 16,
   "metadata": {},
   "outputs": [
    {
     "data": {
      "text/plain": [
       "[<matplotlib.lines.Line2D at 0x7ff3790c24d0>]"
      ]
     },
     "execution_count": 16,
     "metadata": {},
     "output_type": "execute_result"
    },
    {
     "data": {
      "image/png": "[encoded data removed]",
      "text/plain": [
       "<Figure size 432x288 with 1 Axes>"
      ]
     },
     "metadata": {
      "needs_background": "light"
     },
     "output_type": "display_data"
    }
   ],
   "source": [
    "topx = [0, 100]\n",
    "topy = [0, 100]\n",
    "plt.plot(topy, topx, 'o-')"
   ]
  },
  {
   "cell_type": "code",
   "execution_count": 17,
   "metadata": {},
   "outputs": [
    {
     "data": {
      "text/plain": [
       "5000.0"
      ]
     },
     "execution_count": 17,
     "metadata": {},
     "output_type": "execute_result"
    }
   ],
   "source": [
    "#area under curve\n",
    "100 * 100 / 2"
   ]
  },
  {
   "cell_type": "code",
   "execution_count": 18,
   "metadata": {},
   "outputs": [
    {
     "data": {
      "text/plain": [
       "5000.0"
      ]
     },
     "execution_count": 18,
     "metadata": {},
     "output_type": "execute_result"
    }
   ],
   "source": [
    "# area from np.trapz\n",
    "np.trapz(topx, topy)"
   ]
  },
  {
   "cell_type": "code",
   "execution_count": 19,
   "metadata": {},
   "outputs": [
    {
     "data": {
      "text/plain": [
       "5000.0"
      ]
     },
     "execution_count": 19,
     "metadata": {},
     "output_type": "execute_result"
    }
   ],
   "source": [
    "# area from simps\n",
    "simps(topx, topy)"
   ]
  },
  {
   "cell_type": "code",
   "execution_count": 20,
   "metadata": {},
   "outputs": [
    {
     "data": {
      "text/plain": [
       "5000.0"
      ]
     },
     "execution_count": 20,
     "metadata": {},
     "output_type": "execute_result"
    }
   ],
   "source": [
    "# area from poly_area, we need to complete the xs and ys\n",
    "xs = [0, 100, 100, 0]\n",
    "ys = [0, 0, 100, 0]\n",
    "poly_area(xs, ys)"
   ]
  },
  {
   "cell_type": "markdown",
   "metadata": {},
   "source": [
    "###  Example case 1: top, no base, no goc"
   ]
  },
  {
   "cell_type": "code",
   "execution_count": 21,
   "metadata": {},
   "outputs": [
    {
     "name": "stdout",
     "output_type": "stream",
     "text": [
      "areas: [  0.   4.  16.  36.  64. 100.]\n",
      "depths: [-1200 -1250 -1380 -1500 -1590 -1720]\n",
      "goc: -1380\n",
      "owc: -1720\n"
     ]
    }
   ],
   "source": [
    "print(f'areas: {areas}\\ndepths: {depths}\\ngoc: {goc}\\nowc: {owc}')"
   ]
  },
  {
   "cell_type": "code",
   "execution_count": 43,
   "metadata": {},
   "outputs": [
    {
     "data": {
      "text/plain": [
       "[<matplotlib.lines.Line2D at 0x7ff3792c7a90>]"
      ]
     },
     "execution_count": 43,
     "metadata": {},
     "output_type": "execute_result"
    },
    {
     "data": {
      "image/png": "[encoded data removed]",
      "text/plain": [
       "<Figure size 432x288 with 1 Axes>"
      ]
     },
     "metadata": {
      "needs_background": "light"
     },
     "output_type": "display_data"
    }
   ],
   "source": [
    "plt.plot(areas, depths, 'o-')"
   ]
  },
  {
   "cell_type": "code",
   "execution_count": 23,
   "metadata": {},
   "outputs": [
    {
     "data": {
      "text/plain": [
       "(-19680.0, -19466.54131054131)"
      ]
     },
     "execution_count": 23,
     "metadata": {},
     "output_type": "execute_result"
    }
   ],
   "source": [
    "np.trapz(areas, depths), simps(areas, depths)"
   ]
  },
  {
   "cell_type": "code",
   "execution_count": 24,
   "metadata": {},
   "outputs": [],
   "source": [
    "def build_poly_from_area_depth(areas, depths):\n",
    "    \"\"\"Build polygon from area depth data\"\"\"\n",
    "    xs = np.append(areas, np.flip(areas)[1:])\n",
    "    ys = [depths[-1]] * len(areas)\n",
    "    ys = np.append(ys, np.flip(depths)[1:])\n",
    "    return xs, ys"
   ]
  },
  {
   "cell_type": "code",
   "execution_count": 25,
   "metadata": {},
   "outputs": [
    {
     "data": {
      "text/plain": [
       "19680.0"
      ]
     },
     "execution_count": 25,
     "metadata": {},
     "output_type": "execute_result"
    }
   ],
   "source": [
    "poly_area(*build_poly_from_area_depth(areas, depths))"
   ]
  },
  {
   "cell_type": "markdown",
   "metadata": {},
   "source": [
    "### Example case 2: top, base, no goc\n",
    "\n",
    "We use areas and depths as before, shift the dephts down by 100 units, and then need to calculate the base_contact_interesct to add a point to the polygon."
   ]
  },
  {
   "cell_type": "code",
   "execution_count": 26,
   "metadata": {},
   "outputs": [
    {
     "data": {
      "text/plain": [
       "(array([  0.,   4.,  16.,  36.,  64., 100.]),\n",
       " array([-1200, -1250, -1380, -1500, -1590, -1720]))"
      ]
     },
     "execution_count": 26,
     "metadata": {},
     "output_type": "execute_result"
    }
   ],
   "source": [
    "areas, depths"
   ]
  },
  {
   "cell_type": "code",
   "execution_count": 27,
   "metadata": {},
   "outputs": [
    {
     "data": {
      "text/plain": [
       "array([-1300, -1350, -1480, -1600, -1690, -1820])"
      ]
     },
     "execution_count": 27,
     "metadata": {},
     "output_type": "execute_result"
    }
   ],
   "source": [
    "base_depths = depths - 100\n",
    "base_depths"
   ]
  },
  {
   "cell_type": "code",
   "execution_count": 28,
   "metadata": {},
   "outputs": [
    {
     "data": {
      "text/plain": [
       "<matplotlib.legend.Legend at 0x7ff378f73f50>"
      ]
     },
     "execution_count": 28,
     "metadata": {},
     "output_type": "execute_result"
    },
    {
     "data": {
      "image/png": "[encoded data removed]",
      "text/plain": [
       "<Figure size 432x288 with 1 Axes>"
      ]
     },
     "metadata": {
      "needs_background": "light"
     },
     "output_type": "display_data"
    }
   ],
   "source": [
    "plt.plot(areas, depths, '-o', label='top')\n",
    "plt.plot(areas, base_depths, '-o', label='base')\n",
    "plt.axhline(owc, label='OWC')\n",
    "plt.scatter(72, -1720, marker='o', c='k', s=100, label='base_contact_intersect')\n",
    "plt.legend()"
   ]
  },
  {
   "cell_type": "markdown",
   "metadata": {},
   "source": [
    "### `base_contact_intersect` calculation"
   ]
  },
  {
   "cell_type": "code",
   "execution_count": 29,
   "metadata": {},
   "outputs": [],
   "source": [
    "def closest_depths_to_contact(arr, contact):\n",
    "    \"\"\"Get closest depths to contact in an array\"\"\"\n",
    "    close_0 = arr.flat[np.abs(arr - contact).argmin()]\n",
    "    arr2 = arr[arr != close_0]\n",
    "    close_1 = arr2.flat[np.abs(arr2 - contact).argmin()]\n",
    "    return close_0, close_1\n",
    "\n",
    "\n",
    "def closest_areas_to_contact(arr, c0, c1):\n",
    "    \"\"\"Get equivalent closest areas to contact\"\"\"\n",
    "    area_0 = areas[np.where(arr == c0)][0]\n",
    "    area_1 = areas[np.where(arr == c1)][0]\n",
    "    return area_0, area_1\n",
    "\n",
    "\n",
    "def last_base_slope(c0, c1, a0, a1):\n",
    "    \"\"\"Calculate slope of line\"\"\"\n",
    "    dy = c1 - c0\n",
    "    dx = a1 - a0\n",
    "    return dy / dx\n",
    "\n",
    "\n",
    "def calc_x_for_contact_depth(m, c, contact):\n",
    "    \"\"\"Calculate x for contact depth\n",
    "    Args:\n",
    "        m: slope from `last_base_slope`\n",
    "        c: intercept from `c0`\n",
    "    \"\"\"\n",
    "    return 1 / m * (contact - c)\n",
    "\n",
    "\n",
    "def calc_x_actual(x, a0):\n",
    "    \"\"\"Calculate x position of intersection of base with contact\"\"\"\n",
    "    return x + a0\n",
    "\n",
    "\n",
    "def build_poly_from_top_depth_contact(areas, top_depths, base_depths, x_act, contact):\n",
    "    \"\"\"Build polygon from top depth and contact\"\"\"\n",
    "    xs = np.append(np.append(areas[:-1], x_act), areas[::-1])\n",
    "    ys = np.append(np.append(base_depths[:-1], contact), top_depths[::-1])\n",
    "    return xs, ys"
   ]
  },
  {
   "cell_type": "code",
   "execution_count": 30,
   "metadata": {},
   "outputs": [],
   "source": [
    "c0, c1 = closest_depths_to_contact(base_depths, owc)\n",
    "a0, a1 = closest_areas_to_contact(base_depths, c0, c1)\n",
    "m = last_base_slope(c0, c1, a0, a1)\n",
    "x = calc_x_for_contact_depth(m, c0, owc)\n",
    "x_act_owc = calc_x_actual(x, a0)"
   ]
  },
  {
   "cell_type": "code",
   "execution_count": 31,
   "metadata": {},
   "outputs": [
    {
     "name": "stdout",
     "output_type": "stream",
     "text": [
      "72.3076923076923 -1720\n"
     ]
    },
    {
     "data": {
      "image/png": "[encoded data removed]",
      "text/plain": [
       "<Figure size 432x288 with 1 Axes>"
      ]
     },
     "metadata": {
      "needs_background": "light"
     },
     "output_type": "display_data"
    }
   ],
   "source": [
    "plt.plot(areas, depths, '-o', c='k', label='top')\n",
    "plt.plot(areas, base_depths, '-o', c='g', label='base')\n",
    "plt.scatter(areas, base_depths)\n",
    "plt.axhline(owc, c='b', label='OWC')\n",
    "plt.scatter(x_act_owc, owc, s=70, label='x_actual_owc')\n",
    "plt.legend()\n",
    "print(x_act_owc, owc)"
   ]
  },
  {
   "cell_type": "code",
   "execution_count": 32,
   "metadata": {},
   "outputs": [
    {
     "name": "stdout",
     "output_type": "stream",
     "text": [
      "areas: [  0.   4.  16.  36.  64. 100.]\n",
      "depths: [-1200 -1250 -1380 -1500 -1590 -1720]\n",
      "base: [-1300 -1350 -1480 -1600 -1690 -1820]\n",
      "x_actual:depth: (72.3076923076923, -1720)\n"
     ]
    }
   ],
   "source": [
    "print(f'areas: {areas}\\ndepths: {depths}\\nbase: {base_depths}\\nx_actual:depth: {x_act_owc, owc}')"
   ]
  },
  {
   "cell_type": "code",
   "execution_count": 33,
   "metadata": {},
   "outputs": [
    {
     "data": {
      "text/plain": [
       "8615.384615384624"
      ]
     },
     "execution_count": 33,
     "metadata": {},
     "output_type": "execute_result"
    }
   ],
   "source": [
    "xs, ys = build_poly_from_top_depth_contact(areas, depths, base_depths, x_act_owc, owc)\n",
    "HCGRV = poly_area(xs, ys)\n",
    "HCGRV"
   ]
  },
  {
   "cell_type": "markdown",
   "metadata": {},
   "source": [
    "### `base_contact_intersect` calculation: GOC"
   ]
  },
  {
   "cell_type": "code",
   "execution_count": 34,
   "metadata": {},
   "outputs": [],
   "source": [
    "c0, c1 = closest_depths_to_contact(base_depths, goc)\n",
    "a0, a1 = closest_areas_to_contact(base_depths, c0, c1)\n",
    "m = last_base_slope(c0, c1, a0, a1)\n",
    "x = calc_x_for_contact_depth(m, c0, goc)\n",
    "x_act_goc = calc_x_actual(x, a0)"
   ]
  },
  {
   "cell_type": "code",
   "execution_count": 35,
   "metadata": {},
   "outputs": [
    {
     "name": "stdout",
     "output_type": "stream",
     "text": [
      "6.4 -1380\n"
     ]
    },
    {
     "data": {
      "image/png": "[encoded data removed]",
      "text/plain": [
       "<Figure size 432x288 with 1 Axes>"
      ]
     },
     "metadata": {
      "needs_background": "light"
     },
     "output_type": "display_data"
    }
   ],
   "source": [
    "plt.plot(areas, depths, '-o', c='k', label='top')\n",
    "plt.plot(areas, base_depths, '-o', c='g', label='base')\n",
    "plt.scatter(areas, base_depths)\n",
    "plt.axhline(goc, c='r', label='GOC')\n",
    "plt.scatter(x_act_goc, goc, c='r', s=70, label='x_actual_goc')\n",
    "plt.legend()\n",
    "print(x_act_goc, goc)"
   ]
  },
  {
   "cell_type": "code",
   "execution_count": 36,
   "metadata": {},
   "outputs": [],
   "source": [
    "# insert x_act_goc into areas and depths vectors\n",
    "idx_areas_xgoc = np.searchsorted(areas, x_act_goc)\n",
    "areas_goc = np.insert(areas, idx_areas_xgoc, x_act_goc)\n",
    "idx_base_depths_goc = np.searchsorted(base_depths[::-1], goc)\n",
    "base_depths_goc = np.insert(base_depths[::-1], idx_base_depths_goc, goc)[::-1]"
   ]
  },
  {
   "cell_type": "code",
   "execution_count": 37,
   "metadata": {},
   "outputs": [
    {
     "name": "stdout",
     "output_type": "stream",
     "text": [
      "areas: [  0.   4.  16.  36.  64. 100.]\n",
      "depths: [-1200 -1250 -1380 -1500 -1590 -1720]\n",
      "areas_goc: [  0.    4.    6.4  16.   36.   64.  100. ]\n",
      "base_depths_goc: [-1300 -1350 -1380 -1480 -1600 -1690 -1820]\n",
      "goc: -1380\n",
      "x_act_goc: 6.4\n"
     ]
    }
   ],
   "source": [
    "print(f\"\"\"areas: {areas}\n",
    "depths: {depths}\n",
    "areas_goc: {areas_goc}\n",
    "base_depths_goc: {base_depths_goc}\n",
    "goc: {goc}\n",
    "x_act_goc: {x_act_goc}\"\"\")"
   ]
  },
  {
   "cell_type": "code",
   "execution_count": 38,
   "metadata": {},
   "outputs": [],
   "source": [
    "base_xs = areas_goc[areas_goc <= x_act_goc]\n",
    "base_ys = base_depths_goc[base_depths_goc >= goc]"
   ]
  },
  {
   "cell_type": "code",
   "execution_count": 39,
   "metadata": {},
   "outputs": [],
   "source": [
    "top_xs = areas[depths >= goc]\n",
    "top_ys = depths[depths >= goc]"
   ]
  },
  {
   "cell_type": "code",
   "execution_count": 40,
   "metadata": {},
   "outputs": [
    {
     "data": {
      "text/plain": [
       "(array([0. , 4. , 6.4]),\n",
       " array([ 0.,  4., 16.]),\n",
       " array([-1300, -1350, -1380]),\n",
       " array([-1200, -1250, -1380]))"
      ]
     },
     "execution_count": 40,
     "metadata": {},
     "output_type": "execute_result"
    }
   ],
   "source": [
    "base_xs, top_xs, base_ys, top_ys"
   ]
  },
  {
   "cell_type": "code",
   "execution_count": 41,
   "metadata": {},
   "outputs": [
    {
     "data": {
      "text/plain": [
       "1144.0"
      ]
     },
     "execution_count": 41,
     "metadata": {},
     "output_type": "execute_result"
    }
   ],
   "source": [
    "goc_xs = np.append(base_xs, top_xs[::-1])\n",
    "goc_ys = np.append(base_ys, top_ys[::-1])\n",
    "GOCGRV = poly_area(goc_xs, goc_ys)\n",
    "GOCGRV"
   ]
  },
  {
   "cell_type": "code",
   "execution_count": 42,
   "metadata": {},
   "outputs": [
    {
     "data": {
      "text/plain": [
       "7471.384615384624"
      ]
     },
     "execution_count": 42,
     "metadata": {},
     "output_type": "execute_result"
    }
   ],
   "source": [
    "GRV = HCGRV - GOCGRV\n",
    "GRV"
   ]
  },
  {
   "cell_type": "code",
   "execution_count": null,
   "metadata": {},
   "outputs": [],
   "source": []
  }
 ],
 "metadata": {
  "kernelspec": {
   "display_name": "Python 3",
   "language": "python",
   "name": "python3"
  },
  "language_info": {
   "codemirror_mode": {
    "name": "ipython",
    "version": 3
   },
   "file_extension": ".py",
   "mimetype": "text/x-python",
   "name": "python",
   "nbconvert_exporter": "python",
   "pygments_lexer": "ipython3",
   "version": "3.7.7"
  }
 },
 "nbformat": 4,
 "nbformat_minor": 4
}
