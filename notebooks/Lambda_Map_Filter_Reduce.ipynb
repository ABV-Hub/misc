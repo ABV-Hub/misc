{
 "cells": [
  {
   "cell_type": "markdown",
   "metadata": {},
   "source": [
    "# Lambda, Map, Filter and Reduce functions\n",
    "\n",
    "based on [Joe James'](https://www.youtube.com/channel/UC4Xt-DUAapAtkfaWWkv4OAw) [youtube video](https://www.youtube.com/watch?v=cKlnR-CB3tk)"
   ]
  },
  {
   "cell_type": "markdown",
   "metadata": {},
   "source": [
    "## Lambda function\n",
    "\n",
    "- A simple one line function\n",
    "- Does not use `def` nor `return` as they are implicit"
   ]
  },
  {
   "cell_type": "code",
   "execution_count": 17,
   "metadata": {},
   "outputs": [
    {
     "data": {
      "text/plain": [
       "(6, 6)"
      ]
     },
     "execution_count": 17,
     "metadata": {},
     "output_type": "execute_result"
    }
   ],
   "source": [
    "def double(x):\n",
    "    return 2 * x\n",
    "\n",
    "res = lambda x: 2*x\n",
    "\n",
    "double(3), res(3)"
   ]
  },
  {
   "cell_type": "code",
   "execution_count": 18,
   "metadata": {},
   "outputs": [
    {
     "data": {
      "text/plain": [
       "(7, 7)"
      ]
     },
     "execution_count": 18,
     "metadata": {},
     "output_type": "execute_result"
    }
   ],
   "source": [
    "def add(x,y):\n",
    "    return x + y\n",
    "\n",
    "res = lambda x,y: x + y\n",
    "\n",
    "add(3,4), res(3,4)"
   ]
  },
  {
   "cell_type": "code",
   "execution_count": 20,
   "metadata": {},
   "outputs": [
    {
     "data": {
      "text/plain": [
       "(5, 5)"
      ]
     },
     "execution_count": 20,
     "metadata": {},
     "output_type": "execute_result"
    }
   ],
   "source": [
    "def mx(x,y):\n",
    "    if x > y:\n",
    "        return x\n",
    "    else:\n",
    "        return y\n",
    "\n",
    "res = lambda x,y: x if x > y else y\n",
    "    \n",
    "mx(5,3), res(5,3)"
   ]
  },
  {
   "cell_type": "markdown",
   "metadata": {},
   "source": [
    "## Map function\n",
    "\n",
    "- apply same function to each element of an iterable\n",
    "- return the modified list"
   ]
  },
  {
   "cell_type": "code",
   "execution_count": 34,
   "metadata": {},
   "outputs": [
    {
     "data": {
      "text/plain": [
       "([1, 4, 9], [1, 4, 9], [1, 4, 9], [1, 4, 9])"
      ]
     },
     "execution_count": 34,
     "metadata": {},
     "output_type": "execute_result"
    }
   ],
   "source": [
    "mylist = [1,2,3]\n",
    "def square(x):\n",
    "    return x**2\n",
    "newlist = [square(n) for n in mylist]\n",
    "newlist2 = [x**2 for x in mylist]\n",
    "\n",
    "res = list(map(lambda x: x**2, mylist))\n",
    "res2 = list(map(square, mylist))\n",
    "\n",
    "newlist, newlist2, res, res2"
   ]
  },
  {
   "cell_type": "markdown",
   "metadata": {},
   "source": [
    "## Filter function\n",
    "\n",
    "- Remove items out of a sequence\n",
    "- Return filtered sequence"
   ]
  },
  {
   "cell_type": "code",
   "execution_count": 41,
   "metadata": {},
   "outputs": [
    {
     "data": {
      "text/plain": [
       "([7, 8], [7, 8])"
      ]
     },
     "execution_count": 41,
     "metadata": {},
     "output_type": "execute_result"
    }
   ],
   "source": [
    "mylist = [5,7,8,]\n",
    "condition = 6\n",
    "\n",
    "def over_six(seq, cond):\n",
    "    return [x for x in seq if x > 6]\n",
    "\n",
    "\n",
    "res = list(filter(lambda x: x > condition, mylist))\n",
    "\n",
    "over_six(mylist, condition), res"
   ]
  },
  {
   "cell_type": "markdown",
   "metadata": {},
   "source": [
    "## Reduce function\n",
    "\n",
    "- Applies same operation to items in iterable\n",
    "- Uses result of operation as first parameter for next operation\n",
    "- Returns a single item, not an iterable"
   ]
  },
  {
   "cell_type": "code",
   "execution_count": 52,
   "metadata": {},
   "outputs": [],
   "source": [
    "from functools import reduce"
   ]
  },
  {
   "cell_type": "code",
   "execution_count": 53,
   "metadata": {},
   "outputs": [
    {
     "data": {
      "text/plain": [
       "(192, 192)"
      ]
     },
     "execution_count": 53,
     "metadata": {},
     "output_type": "execute_result"
    }
   ],
   "source": [
    "mylist = [4,6,8]\n",
    "\n",
    "def mult(seq):\n",
    "    prod = seq[0]\n",
    "    for i in range(1,len(seq)):\n",
    "        prod *= seq[i]\n",
    "    return prod\n",
    "\n",
    "res = reduce(lambda x, y: x * y, mylist)\n",
    "\n",
    "mult(mylist), res"
   ]
  },
  {
   "cell_type": "code",
   "execution_count": null,
   "metadata": {},
   "outputs": [],
   "source": []
  }
 ],
 "metadata": {
  "kernelspec": {
   "display_name": "Python 3",
   "language": "python",
   "name": "python3"
  },
  "language_info": {
   "codemirror_mode": {
    "name": "ipython",
    "version": 3
   },
   "file_extension": ".py",
   "mimetype": "text/x-python",
   "name": "python",
   "nbconvert_exporter": "python",
   "pygments_lexer": "ipython3",
   "version": "3.7.1"
  }
 },
 "nbformat": 4,
 "nbformat_minor": 2
}
