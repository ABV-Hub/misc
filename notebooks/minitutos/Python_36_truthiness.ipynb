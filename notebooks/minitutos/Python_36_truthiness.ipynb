{
 "cells": [
  {
   "cell_type": "markdown",
   "metadata": {},
   "source": [
    "# Python 3.6.5 truthines"
   ]
  },
  {
   "cell_type": "code",
   "execution_count": 2,
   "metadata": {},
   "outputs": [],
   "source": [
    "import numpy as np"
   ]
  },
  {
   "cell_type": "code",
   "execution_count": 8,
   "metadata": {},
   "outputs": [
    {
     "name": "stdout",
     "output_type": "stream",
     "text": [
      "Type of : <class 'str'>; Bool of : False\n",
      "Type of a: <class 'str'>; Bool of a: True\n",
      "Type of None: <class 'NoneType'>; Bool of None: False\n",
      "Type of nan: <class 'float'>; Bool of nan: True\n",
      "Type of 1: <class 'int'>; Bool of 1: True\n",
      "Type of 0: <class 'int'>; Bool of 0: False\n",
      "Type of 1.0: <class 'float'>; Bool of 1.0: True\n",
      "Type of True: <class 'bool'>; Bool of True: True\n",
      "Type of False: <class 'bool'>; Bool of False: False\n",
      "Type of {}: <class 'dict'>; Bool of {}: False\n",
      "Type of (): <class 'tuple'>; Bool of (): False\n",
      "Type of []: <class 'list'>; Bool of []: False\n",
      "Type of {1, 2}: <class 'set'>; Bool of {1, 2}: True\n",
      "Type of {'a': 1}: <class 'dict'>; Bool of {'a': 1}: True\n",
      "Type of (1, 2): <class 'tuple'>; Bool of (1, 2): True\n",
      "Type of [1, 2]: <class 'list'>; Bool of [1, 2]: True\n"
     ]
    }
   ],
   "source": [
    "inputs = ['','a', None, np.nan, 1, 0, 1.0, True, False, {}, (), [], {1,2}, {'a': 1}, (1,2), [1,2]]\n",
    "for i in inputs:\n",
    "    print(f'Type of {i}: {type(i)}; Bool of {i}: {bool(i)}')"
   ]
  },
  {
   "cell_type": "code",
   "execution_count": null,
   "metadata": {},
   "outputs": [],
   "source": []
  }
 ],
 "metadata": {
  "kernelspec": {
   "display_name": "geocomp",
   "language": "python",
   "name": "geocomp"
  },
  "language_info": {
   "codemirror_mode": {
    "name": "ipython",
    "version": 3
   },
   "file_extension": ".py",
   "mimetype": "text/x-python",
   "name": "python",
   "nbconvert_exporter": "python",
   "pygments_lexer": "ipython3",
   "version": "3.7.0"
  }
 },
 "nbformat": 4,
 "nbformat_minor": 2
}
