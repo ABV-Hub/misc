{
 "cells": [
  {
   "cell_type": "code",
   "execution_count": 18,
   "metadata": {},
   "outputs": [],
   "source": [
    "import pandas as pd"
   ]
  },
  {
   "cell_type": "code",
   "execution_count": 35,
   "metadata": {},
   "outputs": [
    {
     "data": {
      "text/html": [
       "<div>\n",
       "<style scoped>\n",
       "    .dataframe tbody tr th:only-of-type {\n",
       "        vertical-align: middle;\n",
       "    }\n",
       "\n",
       "    .dataframe tbody tr th {\n",
       "        vertical-align: top;\n",
       "    }\n",
       "\n",
       "    .dataframe thead th {\n",
       "        text-align: right;\n",
       "    }\n",
       "</style>\n",
       "<table border=\"1\" class=\"dataframe\">\n",
       "  <thead>\n",
       "    <tr style=\"text-align: right;\">\n",
       "      <th></th>\n",
       "      <th>a</th>\n",
       "      <th>b</th>\n",
       "      <th>c</th>\n",
       "      <th>d</th>\n",
       "      <th>e</th>\n",
       "      <th>f</th>\n",
       "    </tr>\n",
       "  </thead>\n",
       "  <tbody>\n",
       "    <tr>\n",
       "      <th>0</th>\n",
       "      <td>159357</td>\n",
       "      <td>208/22- 1</td>\n",
       "      <td>(-1.720611</td>\n",
       "      <td>61.2202)</td>\n",
       "      <td>2171.0</td>\n",
       "      <td>Shetland</td>\n",
       "    </tr>\n",
       "    <tr>\n",
       "      <th>1</th>\n",
       "      <td>159358</td>\n",
       "      <td>208/23- 1</td>\n",
       "      <td>(-1.514861</td>\n",
       "      <td>61.17053)</td>\n",
       "      <td>824.0</td>\n",
       "      <td>Shetland</td>\n",
       "    </tr>\n",
       "    <tr>\n",
       "      <th>2</th>\n",
       "      <td>159359</td>\n",
       "      <td>208/24- 1A</td>\n",
       "      <td>(-1.350917</td>\n",
       "      <td>61.19103)</td>\n",
       "      <td>792.0</td>\n",
       "      <td>Shetland</td>\n",
       "    </tr>\n",
       "    <tr>\n",
       "      <th>3</th>\n",
       "      <td>159360</td>\n",
       "      <td>208/26- 1</td>\n",
       "      <td>(-1.8205</td>\n",
       "      <td>61.11806)</td>\n",
       "      <td>1764.0</td>\n",
       "      <td>Shetland</td>\n",
       "    </tr>\n",
       "  </tbody>\n",
       "</table>\n",
       "</div>"
      ],
      "text/plain": [
       "        a             b               c           d       e  \\\n",
       "0  159357     208/22- 1      (-1.720611    61.2202)  2171.0   \n",
       "1  159358     208/23- 1      (-1.514861   61.17053)   824.0   \n",
       "2  159359    208/24- 1A      (-1.350917   61.19103)   792.0   \n",
       "3  159360     208/26- 1        (-1.8205   61.11806)  1764.0   \n",
       "\n",
       "                                     f  \n",
       "0                             Shetland  \n",
       "1                             Shetland  \n",
       "2                             Shetland  \n",
       "3                             Shetland  "
      ]
     },
     "execution_count": 35,
     "metadata": {},
     "output_type": "execute_result"
    }
   ],
   "source": [
    "df = pd.read_csv('../data/malc.csv', header=None, names=['a', 'b', 'c', 'd', 'e', 'f'])\n",
    "df"
   ]
  },
  {
   "cell_type": "code",
   "execution_count": 36,
   "metadata": {},
   "outputs": [],
   "source": [
    "df['mytuple'] = (df.c + ',' +df.d)"
   ]
  },
  {
   "cell_type": "code",
   "execution_count": 37,
   "metadata": {},
   "outputs": [
    {
     "data": {
      "text/plain": [
       "0        (-1.720611, 61.2202)\n",
       "1       (-1.514861, 61.17053)\n",
       "2       (-1.350917, 61.19103)\n",
       "3         (-1.8205, 61.11806)\n",
       "Name: mytuple, dtype: object"
      ]
     },
     "execution_count": 37,
     "metadata": {},
     "output_type": "execute_result"
    }
   ],
   "source": [
    "df.mytuple"
   ]
  },
  {
   "cell_type": "code",
   "execution_count": 38,
   "metadata": {},
   "outputs": [
    {
     "data": {
      "text/html": [
       "<div>\n",
       "<style scoped>\n",
       "    .dataframe tbody tr th:only-of-type {\n",
       "        vertical-align: middle;\n",
       "    }\n",
       "\n",
       "    .dataframe tbody tr th {\n",
       "        vertical-align: top;\n",
       "    }\n",
       "\n",
       "    .dataframe thead th {\n",
       "        text-align: right;\n",
       "    }\n",
       "</style>\n",
       "<table border=\"1\" class=\"dataframe\">\n",
       "  <thead>\n",
       "    <tr style=\"text-align: right;\">\n",
       "      <th></th>\n",
       "      <th>a</th>\n",
       "      <th>b</th>\n",
       "      <th>c</th>\n",
       "      <th>d</th>\n",
       "      <th>e</th>\n",
       "      <th>f</th>\n",
       "      <th>mytuple</th>\n",
       "    </tr>\n",
       "  </thead>\n",
       "  <tbody>\n",
       "    <tr>\n",
       "      <th>0</th>\n",
       "      <td>159357</td>\n",
       "      <td>208/22- 1</td>\n",
       "      <td>(-1.720611</td>\n",
       "      <td>61.2202)</td>\n",
       "      <td>2171.0</td>\n",
       "      <td>Shetland</td>\n",
       "      <td>(-1.720611, 61.2202)</td>\n",
       "    </tr>\n",
       "    <tr>\n",
       "      <th>1</th>\n",
       "      <td>159358</td>\n",
       "      <td>208/23- 1</td>\n",
       "      <td>(-1.514861</td>\n",
       "      <td>61.17053)</td>\n",
       "      <td>824.0</td>\n",
       "      <td>Shetland</td>\n",
       "      <td>(-1.514861, 61.17053)</td>\n",
       "    </tr>\n",
       "    <tr>\n",
       "      <th>2</th>\n",
       "      <td>159359</td>\n",
       "      <td>208/24- 1A</td>\n",
       "      <td>(-1.350917</td>\n",
       "      <td>61.19103)</td>\n",
       "      <td>792.0</td>\n",
       "      <td>Shetland</td>\n",
       "      <td>(-1.350917, 61.19103)</td>\n",
       "    </tr>\n",
       "    <tr>\n",
       "      <th>3</th>\n",
       "      <td>159360</td>\n",
       "      <td>208/26- 1</td>\n",
       "      <td>(-1.8205</td>\n",
       "      <td>61.11806)</td>\n",
       "      <td>1764.0</td>\n",
       "      <td>Shetland</td>\n",
       "      <td>(-1.8205, 61.11806)</td>\n",
       "    </tr>\n",
       "  </tbody>\n",
       "</table>\n",
       "</div>"
      ],
      "text/plain": [
       "        a             b               c           d       e  \\\n",
       "0  159357     208/22- 1      (-1.720611    61.2202)  2171.0   \n",
       "1  159358     208/23- 1      (-1.514861   61.17053)   824.0   \n",
       "2  159359    208/24- 1A      (-1.350917   61.19103)   792.0   \n",
       "3  159360     208/26- 1        (-1.8205   61.11806)  1764.0   \n",
       "\n",
       "                                     f                   mytuple  \n",
       "0                             Shetland      (-1.720611, 61.2202)  \n",
       "1                             Shetland     (-1.514861, 61.17053)  \n",
       "2                             Shetland     (-1.350917, 61.19103)  \n",
       "3                             Shetland       (-1.8205, 61.11806)  "
      ]
     },
     "execution_count": 38,
     "metadata": {},
     "output_type": "execute_result"
    }
   ],
   "source": [
    "df"
   ]
  },
  {
   "cell_type": "code",
   "execution_count": 40,
   "metadata": {},
   "outputs": [
    {
     "data": {
      "text/plain": [
       "str"
      ]
     },
     "execution_count": 40,
     "metadata": {},
     "output_type": "execute_result"
    }
   ],
   "source": [
    "type(df.mytuple[0])"
   ]
  },
  {
   "cell_type": "code",
   "execution_count": 45,
   "metadata": {},
   "outputs": [
    {
     "data": {
      "text/plain": [
       "['(-1.720611', ' 61.2202)']"
      ]
     },
     "execution_count": 45,
     "metadata": {},
     "output_type": "execute_result"
    }
   ],
   "source": [
    "df.mytuple[0].strip().split(',')"
   ]
  },
  {
   "cell_type": "code",
   "execution_count": null,
   "metadata": {},
   "outputs": [],
   "source": []
  },
  {
   "cell_type": "code",
   "execution_count": 48,
   "metadata": {},
   "outputs": [],
   "source": [
    "df['new'] = df.mytuple.str.split(',')"
   ]
  },
  {
   "cell_type": "code",
   "execution_count": 52,
   "metadata": {},
   "outputs": [
    {
     "data": {
      "text/plain": [
       "'    (-1.720611'"
      ]
     },
     "execution_count": 52,
     "metadata": {},
     "output_type": "execute_result"
    }
   ],
   "source": [
    "df.new[0][0]"
   ]
  },
  {
   "cell_type": "code",
   "execution_count": 54,
   "metadata": {},
   "outputs": [
    {
     "data": {
      "text/html": [
       "<div>\n",
       "<style scoped>\n",
       "    .dataframe tbody tr th:only-of-type {\n",
       "        vertical-align: middle;\n",
       "    }\n",
       "\n",
       "    .dataframe tbody tr th {\n",
       "        vertical-align: top;\n",
       "    }\n",
       "\n",
       "    .dataframe thead th {\n",
       "        text-align: right;\n",
       "    }\n",
       "</style>\n",
       "<table border=\"1\" class=\"dataframe\">\n",
       "  <thead>\n",
       "    <tr style=\"text-align: right;\">\n",
       "      <th></th>\n",
       "      <th>a</th>\n",
       "      <th>b</th>\n",
       "      <th>c</th>\n",
       "      <th>d</th>\n",
       "      <th>e</th>\n",
       "      <th>f</th>\n",
       "      <th>mytuple</th>\n",
       "      <th>new</th>\n",
       "      <th>x</th>\n",
       "      <th>y</th>\n",
       "    </tr>\n",
       "  </thead>\n",
       "  <tbody>\n",
       "    <tr>\n",
       "      <th>0</th>\n",
       "      <td>159357</td>\n",
       "      <td>208/22- 1</td>\n",
       "      <td>(-1.720611</td>\n",
       "      <td>61.2202)</td>\n",
       "      <td>2171.0</td>\n",
       "      <td>Shetland</td>\n",
       "      <td>(-1.720611, 61.2202)</td>\n",
       "      <td>[    (-1.720611,  61.2202)]</td>\n",
       "      <td>(-1.720611</td>\n",
       "      <td>61.2202)</td>\n",
       "    </tr>\n",
       "    <tr>\n",
       "      <th>1</th>\n",
       "      <td>159358</td>\n",
       "      <td>208/23- 1</td>\n",
       "      <td>(-1.514861</td>\n",
       "      <td>61.17053)</td>\n",
       "      <td>824.0</td>\n",
       "      <td>Shetland</td>\n",
       "      <td>(-1.514861, 61.17053)</td>\n",
       "      <td>[  (-1.514861,  61.17053)]</td>\n",
       "      <td>(-1.720611</td>\n",
       "      <td>61.2202)</td>\n",
       "    </tr>\n",
       "    <tr>\n",
       "      <th>2</th>\n",
       "      <td>159359</td>\n",
       "      <td>208/24- 1A</td>\n",
       "      <td>(-1.350917</td>\n",
       "      <td>61.19103)</td>\n",
       "      <td>792.0</td>\n",
       "      <td>Shetland</td>\n",
       "      <td>(-1.350917, 61.19103)</td>\n",
       "      <td>[   (-1.350917,  61.19103)]</td>\n",
       "      <td>(-1.720611</td>\n",
       "      <td>61.2202)</td>\n",
       "    </tr>\n",
       "    <tr>\n",
       "      <th>3</th>\n",
       "      <td>159360</td>\n",
       "      <td>208/26- 1</td>\n",
       "      <td>(-1.8205</td>\n",
       "      <td>61.11806)</td>\n",
       "      <td>1764.0</td>\n",
       "      <td>Shetland</td>\n",
       "      <td>(-1.8205, 61.11806)</td>\n",
       "      <td>[     (-1.8205,  61.11806)]</td>\n",
       "      <td>(-1.720611</td>\n",
       "      <td>61.2202)</td>\n",
       "    </tr>\n",
       "  </tbody>\n",
       "</table>\n",
       "</div>"
      ],
      "text/plain": [
       "        a             b               c           d       e  \\\n",
       "0  159357     208/22- 1      (-1.720611    61.2202)  2171.0   \n",
       "1  159358     208/23- 1      (-1.514861   61.17053)   824.0   \n",
       "2  159359    208/24- 1A      (-1.350917   61.19103)   792.0   \n",
       "3  159360     208/26- 1        (-1.8205   61.11806)  1764.0   \n",
       "\n",
       "                                     f                   mytuple  \\\n",
       "0                             Shetland      (-1.720611, 61.2202)   \n",
       "1                             Shetland     (-1.514861, 61.17053)   \n",
       "2                             Shetland     (-1.350917, 61.19103)   \n",
       "3                             Shetland       (-1.8205, 61.11806)   \n",
       "\n",
       "                           new               x          y  \n",
       "0  [    (-1.720611,  61.2202)]      (-1.720611   61.2202)  \n",
       "1   [  (-1.514861,  61.17053)]      (-1.720611   61.2202)  \n",
       "2  [   (-1.350917,  61.19103)]      (-1.720611   61.2202)  \n",
       "3  [     (-1.8205,  61.11806)]      (-1.720611   61.2202)  "
      ]
     },
     "execution_count": 54,
     "metadata": {},
     "output_type": "execute_result"
    }
   ],
   "source": [
    "df['x'], df['y'] = df.new[0]\n",
    "df"
   ]
  },
  {
   "cell_type": "code",
   "execution_count": 55,
   "metadata": {},
   "outputs": [
    {
     "data": {
      "text/plain": [
       "0        (-1.720611\n",
       "1        (-1.720611\n",
       "2        (-1.720611\n",
       "3        (-1.720611\n",
       "Name: x, dtype: object"
      ]
     },
     "execution_count": 55,
     "metadata": {},
     "output_type": "execute_result"
    }
   ],
   "source": [
    "df.x"
   ]
  },
  {
   "cell_type": "code",
   "execution_count": 56,
   "metadata": {},
   "outputs": [
    {
     "data": {
      "text/plain": [
       "0     61.2202)\n",
       "1     61.2202)\n",
       "2     61.2202)\n",
       "3     61.2202)\n",
       "Name: y, dtype: object"
      ]
     },
     "execution_count": 56,
     "metadata": {},
     "output_type": "execute_result"
    }
   ],
   "source": [
    "df.y"
   ]
  },
  {
   "cell_type": "code",
   "execution_count": null,
   "metadata": {},
   "outputs": [],
   "source": []
  }
 ],
 "metadata": {
  "kernelspec": {
   "display_name": "geocomp",
   "language": "python",
   "name": "geocomp"
  },
  "language_info": {
   "codemirror_mode": {
    "name": "ipython",
    "version": 3
   },
   "file_extension": ".py",
   "mimetype": "text/x-python",
   "name": "python",
   "nbconvert_exporter": "python",
   "pygments_lexer": "ipython3",
   "version": "3.6.5"
  }
 },
 "nbformat": 4,
 "nbformat_minor": 2
}
