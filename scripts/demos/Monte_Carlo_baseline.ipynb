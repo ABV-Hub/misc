{
 "cells": [
  {
   "cell_type": "markdown",
   "metadata": {},
   "source": [
    "# Monte Carlo simulation example\n",
    "\n",
    "Based on [this article](https://pbpython.com/monte-carlo.html)"
   ]
  },
  {
   "cell_type": "code",
   "execution_count": 1,
   "metadata": {},
   "outputs": [],
   "source": [
    "import pandas as pd\n",
    "import numpy as np\n",
    "import seaborn as sns\n",
    "\n",
    "sns.set_style('whitegrid')"
   ]
  },
  {
   "cell_type": "code",
   "execution_count": 2,
   "metadata": {},
   "outputs": [],
   "source": [
    "avg = 1\n",
    "std_dev = .1\n",
    "num_reps = 500\n",
    "num_simulations = 1000"
   ]
  },
  {
   "cell_type": "code",
   "execution_count": 3,
   "metadata": {},
   "outputs": [
    {
     "data": {
      "text/plain": [
       "array([1.04, 1.17, 1.1 , 1.12, 0.95, 0.79, 1.05, 1.14, 0.97, 0.96])"
      ]
     },
     "execution_count": 3,
     "metadata": {},
     "output_type": "execute_result"
    }
   ],
   "source": [
    "pct_to_target = np.random.normal(avg, std_dev, num_reps).round(2)\n",
    "pct_to_target[0:10]"
   ]
  },
  {
   "cell_type": "code",
   "execution_count": 4,
   "metadata": {},
   "outputs": [
    {
     "data": {
      "image/png": "[encoded data removed]",
      "text/plain": [
       "<Figure size 432x288 with 1 Axes>"
      ]
     },
     "metadata": {},
     "output_type": "display_data"
    }
   ],
   "source": [
    "_ = sns.distplot(pct_to_target).set_title('Input variable distribution')"
   ]
  },
  {
   "cell_type": "code",
   "execution_count": 5,
   "metadata": {},
   "outputs": [],
   "source": [
    "sales_target_values = [75_000, 100_000, 200_000, 300_000, 400_000, 500_000]\n",
    "sales_target_prob = [.3, .3, .2, .1, .05, .05]\n",
    "sales_target = np.random.choice(sales_target_values, num_reps, p=sales_target_prob)"
   ]
  },
  {
   "cell_type": "code",
   "execution_count": 7,
   "metadata": {},
   "outputs": [],
   "source": [
    "df = pd.DataFrame(index=range(num_reps), data={'Pct_To_Target': pct_to_target,\n",
    "                                               'Sales_Target': sales_target})\n",
    "\n",
    "df['Sales'] = df['Pct_To_Target'] * df['Sales_Target']"
   ]
  },
  {
   "cell_type": "code",
   "execution_count": 8,
   "metadata": {},
   "outputs": [
    {
     "data": {
      "text/html": [
       "<div>\n",
       "<style scoped>\n",
       "    .dataframe tbody tr th:only-of-type {\n",
       "        vertical-align: middle;\n",
       "    }\n",
       "\n",
       "    .dataframe tbody tr th {\n",
       "        vertical-align: top;\n",
       "    }\n",
       "\n",
       "    .dataframe thead th {\n",
       "        text-align: right;\n",
       "    }\n",
       "</style>\n",
       "<table border=\"1\" class=\"dataframe\">\n",
       "  <thead>\n",
       "    <tr style=\"text-align: right;\">\n",
       "      <th></th>\n",
       "      <th>Pct_To_Target</th>\n",
       "      <th>Sales_Target</th>\n",
       "      <th>Sales</th>\n",
       "    </tr>\n",
       "  </thead>\n",
       "  <tbody>\n",
       "    <tr>\n",
       "      <th>0</th>\n",
       "      <td>1.04</td>\n",
       "      <td>75000</td>\n",
       "      <td>78000.0</td>\n",
       "    </tr>\n",
       "    <tr>\n",
       "      <th>1</th>\n",
       "      <td>1.17</td>\n",
       "      <td>75000</td>\n",
       "      <td>87750.0</td>\n",
       "    </tr>\n",
       "    <tr>\n",
       "      <th>2</th>\n",
       "      <td>1.10</td>\n",
       "      <td>300000</td>\n",
       "      <td>330000.0</td>\n",
       "    </tr>\n",
       "    <tr>\n",
       "      <th>3</th>\n",
       "      <td>1.12</td>\n",
       "      <td>100000</td>\n",
       "      <td>112000.0</td>\n",
       "    </tr>\n",
       "    <tr>\n",
       "      <th>4</th>\n",
       "      <td>0.95</td>\n",
       "      <td>100000</td>\n",
       "      <td>95000.0</td>\n",
       "    </tr>\n",
       "  </tbody>\n",
       "</table>\n",
       "</div>"
      ],
      "text/plain": [
       "   Pct_To_Target  Sales_Target     Sales\n",
       "0           1.04         75000   78000.0\n",
       "1           1.17         75000   87750.0\n",
       "2           1.10        300000  330000.0\n",
       "3           1.12        100000  112000.0\n",
       "4           0.95        100000   95000.0"
      ]
     },
     "execution_count": 8,
     "metadata": {},
     "output_type": "execute_result"
    }
   ],
   "source": [
    "df.head()"
   ]
  },
  {
   "cell_type": "code",
   "execution_count": 9,
   "metadata": {},
   "outputs": [],
   "source": [
    "def calc_commission_rate(x):\n",
    "    \"\"\" Return the commission rate based on the table:\n",
    "    0-90% = 2%\n",
    "    91-99% = 3%\n",
    "    >= 100 = 4%\n",
    "    \"\"\"\n",
    "    if x <= .90:\n",
    "        return .02\n",
    "    if x <= .99:\n",
    "        return .03\n",
    "    else:\n",
    "        return .04"
   ]
  },
  {
   "cell_type": "code",
   "execution_count": 10,
   "metadata": {},
   "outputs": [],
   "source": [
    "df['Commission_Rate'] = df['Pct_To_Target'].apply(calc_commission_rate)\n",
    "df['Commission_Amount'] = df['Commission_Rate'] * df['Sales']"
   ]
  },
  {
   "cell_type": "code",
   "execution_count": 11,
   "metadata": {},
   "outputs": [
    {
     "data": {
      "text/html": [
       "<div>\n",
       "<style scoped>\n",
       "    .dataframe tbody tr th:only-of-type {\n",
       "        vertical-align: middle;\n",
       "    }\n",
       "\n",
       "    .dataframe tbody tr th {\n",
       "        vertical-align: top;\n",
       "    }\n",
       "\n",
       "    .dataframe thead th {\n",
       "        text-align: right;\n",
       "    }\n",
       "</style>\n",
       "<table border=\"1\" class=\"dataframe\">\n",
       "  <thead>\n",
       "    <tr style=\"text-align: right;\">\n",
       "      <th></th>\n",
       "      <th>Pct_To_Target</th>\n",
       "      <th>Sales_Target</th>\n",
       "      <th>Sales</th>\n",
       "      <th>Commission_Rate</th>\n",
       "      <th>Commission_Amount</th>\n",
       "    </tr>\n",
       "  </thead>\n",
       "  <tbody>\n",
       "    <tr>\n",
       "      <th>0</th>\n",
       "      <td>1.04</td>\n",
       "      <td>75000</td>\n",
       "      <td>78000.0</td>\n",
       "      <td>0.04</td>\n",
       "      <td>3120.0</td>\n",
       "    </tr>\n",
       "    <tr>\n",
       "      <th>1</th>\n",
       "      <td>1.17</td>\n",
       "      <td>75000</td>\n",
       "      <td>87750.0</td>\n",
       "      <td>0.04</td>\n",
       "      <td>3510.0</td>\n",
       "    </tr>\n",
       "    <tr>\n",
       "      <th>2</th>\n",
       "      <td>1.10</td>\n",
       "      <td>300000</td>\n",
       "      <td>330000.0</td>\n",
       "      <td>0.04</td>\n",
       "      <td>13200.0</td>\n",
       "    </tr>\n",
       "    <tr>\n",
       "      <th>3</th>\n",
       "      <td>1.12</td>\n",
       "      <td>100000</td>\n",
       "      <td>112000.0</td>\n",
       "      <td>0.04</td>\n",
       "      <td>4480.0</td>\n",
       "    </tr>\n",
       "    <tr>\n",
       "      <th>4</th>\n",
       "      <td>0.95</td>\n",
       "      <td>100000</td>\n",
       "      <td>95000.0</td>\n",
       "      <td>0.03</td>\n",
       "      <td>2850.0</td>\n",
       "    </tr>\n",
       "  </tbody>\n",
       "</table>\n",
       "</div>"
      ],
      "text/plain": [
       "   Pct_To_Target  Sales_Target     Sales  Commission_Rate  Commission_Amount\n",
       "0           1.04         75000   78000.0             0.04             3120.0\n",
       "1           1.17         75000   87750.0             0.04             3510.0\n",
       "2           1.10        300000  330000.0             0.04            13200.0\n",
       "3           1.12        100000  112000.0             0.04             4480.0\n",
       "4           0.95        100000   95000.0             0.03             2850.0"
      ]
     },
     "execution_count": 11,
     "metadata": {},
     "output_type": "execute_result"
    }
   ],
   "source": [
    "df.head()"
   ]
  },
  {
   "cell_type": "code",
   "execution_count": 12,
   "metadata": {},
   "outputs": [],
   "source": [
    "all_stats = []\n",
    "\n",
    "# Loop through many simulations\n",
    "for i in range(num_simulations):\n",
    "\n",
    "    # Choose random inputs for the sales targets and percent to target\n",
    "    sales_target = np.random.choice(sales_target_values, num_reps, p=sales_target_prob)\n",
    "    pct_to_target = np.random.normal(avg, std_dev, num_reps).round(2)\n",
    "\n",
    "    # Build the dataframe based on the inputs and number of reps\n",
    "    df = pd.DataFrame(index=range(num_reps), data={'Pct_To_Target': pct_to_target,\n",
    "                                                   'Sales_Target': sales_target})\n",
    "\n",
    "    # Back into the sales number using the percent to target rate\n",
    "    df['Sales'] = df['Pct_To_Target'] * df['Sales_Target']\n",
    "\n",
    "    # Determine the commissions rate and calculate it\n",
    "    df['Commission_Rate'] = df['Pct_To_Target'].apply(calc_commission_rate)\n",
    "    df['Commission_Amount'] = df['Commission_Rate'] * df['Sales']\n",
    "\n",
    "    # We want to track sales,commission amounts and sales targets over all the simulations\n",
    "    all_stats.append([df['Sales'].sum().round(0),\n",
    "                      df['Commission_Amount'].sum().round(0),\n",
    "                      df['Sales_Target'].sum().round(0)])"
   ]
  },
  {
   "cell_type": "code",
   "execution_count": 13,
   "metadata": {},
   "outputs": [],
   "source": [
    "results_df = pd.DataFrame.from_records(all_stats, columns=['Sales',\n",
    "                                                           'Commission_Amount',\n",
    "                                                           'Sales_Target'])\n"
   ]
  },
  {
   "cell_type": "code",
   "execution_count": 14,
   "metadata": {},
   "outputs": [
    {
     "data": {
      "text/html": [
       "<div>\n",
       "<style scoped>\n",
       "    .dataframe tbody tr th:only-of-type {\n",
       "        vertical-align: middle;\n",
       "    }\n",
       "\n",
       "    .dataframe tbody tr th {\n",
       "        vertical-align: top;\n",
       "    }\n",
       "\n",
       "    .dataframe thead th {\n",
       "        text-align: right;\n",
       "    }\n",
       "</style>\n",
       "<table border=\"1\" class=\"dataframe\">\n",
       "  <thead>\n",
       "    <tr style=\"text-align: right;\">\n",
       "      <th></th>\n",
       "      <th>Sales</th>\n",
       "      <th>Commission_Amount</th>\n",
       "      <th>Sales_Target</th>\n",
       "    </tr>\n",
       "  </thead>\n",
       "  <tbody>\n",
       "    <tr>\n",
       "      <th>0</th>\n",
       "      <td>84121500.0</td>\n",
       "      <td>2848738.0</td>\n",
       "      <td>84225000</td>\n",
       "    </tr>\n",
       "    <tr>\n",
       "      <th>1</th>\n",
       "      <td>79701500.0</td>\n",
       "      <td>2749242.0</td>\n",
       "      <td>79375000</td>\n",
       "    </tr>\n",
       "    <tr>\n",
       "      <th>2</th>\n",
       "      <td>82120000.0</td>\n",
       "      <td>2812195.0</td>\n",
       "      <td>82200000</td>\n",
       "    </tr>\n",
       "    <tr>\n",
       "      <th>3</th>\n",
       "      <td>86552000.0</td>\n",
       "      <td>2983492.0</td>\n",
       "      <td>86100000</td>\n",
       "    </tr>\n",
       "    <tr>\n",
       "      <th>4</th>\n",
       "      <td>85842250.0</td>\n",
       "      <td>2961110.0</td>\n",
       "      <td>85675000</td>\n",
       "    </tr>\n",
       "  </tbody>\n",
       "</table>\n",
       "</div>"
      ],
      "text/plain": [
       "        Sales  Commission_Amount  Sales_Target\n",
       "0  84121500.0          2848738.0      84225000\n",
       "1  79701500.0          2749242.0      79375000\n",
       "2  82120000.0          2812195.0      82200000\n",
       "3  86552000.0          2983492.0      86100000\n",
       "4  85842250.0          2961110.0      85675000"
      ]
     },
     "execution_count": 14,
     "metadata": {},
     "output_type": "execute_result"
    }
   ],
   "source": [
    "results_df.head()"
   ]
  },
  {
   "cell_type": "code",
   "execution_count": 15,
   "metadata": {},
   "outputs": [
    {
     "data": {
      "text/html": [
       "<style  type=\"text/css\" >\n",
       "</style><table id=\"T_4389bd20_cdbe_11ea_8fc1_23733864a5e5\" ><thead>    <tr>        <th class=\"blank level0\" ></th>        <th class=\"col_heading level0 col0\" >Sales</th>        <th class=\"col_heading level0 col1\" >Commission_Amount</th>        <th class=\"col_heading level0 col2\" >Sales_Target</th>    </tr></thead><tbody>\n",
       "                <tr>\n",
       "                        <th id=\"T_4389bd20_cdbe_11ea_8fc1_23733864a5e5level0_row0\" class=\"row_heading level0 row0\" >count</th>\n",
       "                        <td id=\"T_4389bd20_cdbe_11ea_8fc1_23733864a5e5row0_col0\" class=\"data row0 col0\" >1,000.0</td>\n",
       "                        <td id=\"T_4389bd20_cdbe_11ea_8fc1_23733864a5e5row0_col1\" class=\"data row0 col1\" >1,000.0</td>\n",
       "                        <td id=\"T_4389bd20_cdbe_11ea_8fc1_23733864a5e5row0_col2\" class=\"data row0 col2\" >1,000.0</td>\n",
       "            </tr>\n",
       "            <tr>\n",
       "                        <th id=\"T_4389bd20_cdbe_11ea_8fc1_23733864a5e5level0_row1\" class=\"row_heading level0 row1\" >mean</th>\n",
       "                        <td id=\"T_4389bd20_cdbe_11ea_8fc1_23733864a5e5row1_col0\" class=\"data row1 col0\" >83,848,180.75</td>\n",
       "                        <td id=\"T_4389bd20_cdbe_11ea_8fc1_23733864a5e5row1_col1\" class=\"data row1 col1\" >2,863,437.586</td>\n",
       "                        <td id=\"T_4389bd20_cdbe_11ea_8fc1_23733864a5e5row1_col2\" class=\"data row1 col2\" >83,842,325.0</td>\n",
       "            </tr>\n",
       "            <tr>\n",
       "                        <th id=\"T_4389bd20_cdbe_11ea_8fc1_23733864a5e5level0_row2\" class=\"row_heading level0 row2\" >std</th>\n",
       "                        <td id=\"T_4389bd20_cdbe_11ea_8fc1_23733864a5e5row2_col0\" class=\"data row2 col0\" >2,740,549.5179438707</td>\n",
       "                        <td id=\"T_4389bd20_cdbe_11ea_8fc1_23733864a5e5row2_col1\" class=\"data row2 col1\" >103,509.5313723114</td>\n",
       "                        <td id=\"T_4389bd20_cdbe_11ea_8fc1_23733864a5e5row2_col2\" class=\"data row2 col2\" >2,704,506.391968634</td>\n",
       "            </tr>\n",
       "            <tr>\n",
       "                        <th id=\"T_4389bd20_cdbe_11ea_8fc1_23733864a5e5level0_row3\" class=\"row_heading level0 row3\" >min</th>\n",
       "                        <td id=\"T_4389bd20_cdbe_11ea_8fc1_23733864a5e5row3_col0\" class=\"data row3 col0\" >75,104,750.0</td>\n",
       "                        <td id=\"T_4389bd20_cdbe_11ea_8fc1_23733864a5e5row3_col1\" class=\"data row3 col1\" >2,510,815.0</td>\n",
       "                        <td id=\"T_4389bd20_cdbe_11ea_8fc1_23733864a5e5row3_col2\" class=\"data row3 col2\" >75,725,000.0</td>\n",
       "            </tr>\n",
       "            <tr>\n",
       "                        <th id=\"T_4389bd20_cdbe_11ea_8fc1_23733864a5e5level0_row4\" class=\"row_heading level0 row4\" >25%</th>\n",
       "                        <td id=\"T_4389bd20_cdbe_11ea_8fc1_23733864a5e5row4_col0\" class=\"data row4 col0\" >81,940,875.0</td>\n",
       "                        <td id=\"T_4389bd20_cdbe_11ea_8fc1_23733864a5e5row4_col1\" class=\"data row4 col1\" >2,791,497.5</td>\n",
       "                        <td id=\"T_4389bd20_cdbe_11ea_8fc1_23733864a5e5row4_col2\" class=\"data row4 col2\" >81,900,000.0</td>\n",
       "            </tr>\n",
       "            <tr>\n",
       "                        <th id=\"T_4389bd20_cdbe_11ea_8fc1_23733864a5e5level0_row5\" class=\"row_heading level0 row5\" >50%</th>\n",
       "                        <td id=\"T_4389bd20_cdbe_11ea_8fc1_23733864a5e5row5_col0\" class=\"data row5 col0\" >83,812,500.0</td>\n",
       "                        <td id=\"T_4389bd20_cdbe_11ea_8fc1_23733864a5e5row5_col1\" class=\"data row5 col1\" >2,858,208.5</td>\n",
       "                        <td id=\"T_4389bd20_cdbe_11ea_8fc1_23733864a5e5row5_col2\" class=\"data row5 col2\" >83,887,500.0</td>\n",
       "            </tr>\n",
       "            <tr>\n",
       "                        <th id=\"T_4389bd20_cdbe_11ea_8fc1_23733864a5e5level0_row6\" class=\"row_heading level0 row6\" >75%</th>\n",
       "                        <td id=\"T_4389bd20_cdbe_11ea_8fc1_23733864a5e5row6_col0\" class=\"data row6 col0\" >85,697,500.0</td>\n",
       "                        <td id=\"T_4389bd20_cdbe_11ea_8fc1_23733864a5e5row6_col1\" class=\"data row6 col1\" >2,933,193.5</td>\n",
       "                        <td id=\"T_4389bd20_cdbe_11ea_8fc1_23733864a5e5row6_col2\" class=\"data row6 col2\" >85,600,000.0</td>\n",
       "            </tr>\n",
       "            <tr>\n",
       "                        <th id=\"T_4389bd20_cdbe_11ea_8fc1_23733864a5e5level0_row7\" class=\"row_heading level0 row7\" >max</th>\n",
       "                        <td id=\"T_4389bd20_cdbe_11ea_8fc1_23733864a5e5row7_col0\" class=\"data row7 col0\" >92,821,750.0</td>\n",
       "                        <td id=\"T_4389bd20_cdbe_11ea_8fc1_23733864a5e5row7_col1\" class=\"data row7 col1\" >3,196,710.0</td>\n",
       "                        <td id=\"T_4389bd20_cdbe_11ea_8fc1_23733864a5e5row7_col2\" class=\"data row7 col2\" >93,200,000.0</td>\n",
       "            </tr>\n",
       "    </tbody></table>"
      ],
      "text/plain": [
       "<pandas.io.formats.style.Styler at 0x7f8a794cba50>"
      ]
     },
     "execution_count": 15,
     "metadata": {},
     "output_type": "execute_result"
    }
   ],
   "source": [
    "results_df.describe().style.format('{:,}')"
   ]
  },
  {
   "cell_type": "code",
   "execution_count": 16,
   "metadata": {},
   "outputs": [
    {
     "data": {
      "text/html": [
       "<div>\n",
       "<style scoped>\n",
       "    .dataframe tbody tr th:only-of-type {\n",
       "        vertical-align: middle;\n",
       "    }\n",
       "\n",
       "    .dataframe tbody tr th {\n",
       "        vertical-align: top;\n",
       "    }\n",
       "\n",
       "    .dataframe thead th {\n",
       "        text-align: right;\n",
       "    }\n",
       "</style>\n",
       "<table border=\"1\" class=\"dataframe\">\n",
       "  <thead>\n",
       "    <tr style=\"text-align: right;\">\n",
       "      <th></th>\n",
       "      <th>Sales</th>\n",
       "      <th>Commission_Amount</th>\n",
       "      <th>Sales_Target</th>\n",
       "    </tr>\n",
       "  </thead>\n",
       "  <tbody>\n",
       "    <tr>\n",
       "      <th>0</th>\n",
       "      <td>84121500.0</td>\n",
       "      <td>2848738.0</td>\n",
       "      <td>84225000</td>\n",
       "    </tr>\n",
       "    <tr>\n",
       "      <th>1</th>\n",
       "      <td>79701500.0</td>\n",
       "      <td>2749242.0</td>\n",
       "      <td>79375000</td>\n",
       "    </tr>\n",
       "    <tr>\n",
       "      <th>2</th>\n",
       "      <td>82120000.0</td>\n",
       "      <td>2812195.0</td>\n",
       "      <td>82200000</td>\n",
       "    </tr>\n",
       "    <tr>\n",
       "      <th>3</th>\n",
       "      <td>86552000.0</td>\n",
       "      <td>2983492.0</td>\n",
       "      <td>86100000</td>\n",
       "    </tr>\n",
       "    <tr>\n",
       "      <th>4</th>\n",
       "      <td>85842250.0</td>\n",
       "      <td>2961110.0</td>\n",
       "      <td>85675000</td>\n",
       "    </tr>\n",
       "  </tbody>\n",
       "</table>\n",
       "</div>"
      ],
      "text/plain": [
       "        Sales  Commission_Amount  Sales_Target\n",
       "0  84121500.0          2848738.0      84225000\n",
       "1  79701500.0          2749242.0      79375000\n",
       "2  82120000.0          2812195.0      82200000\n",
       "3  86552000.0          2983492.0      86100000\n",
       "4  85842250.0          2961110.0      85675000"
      ]
     },
     "execution_count": 16,
     "metadata": {},
     "output_type": "execute_result"
    }
   ],
   "source": [
    "results_df.head()"
   ]
  },
  {
   "cell_type": "code",
   "execution_count": 17,
   "metadata": {},
   "outputs": [
    {
     "data": {
      "image/png": "[encoded data removed]",
      "text/plain": [
       "<Figure size 432x288 with 1 Axes>"
      ]
     },
     "metadata": {},
     "output_type": "display_data"
    }
   ],
   "source": [
    "_ = sns.distplot(results_df.Commission_Amount, kde=False, bins=10)"
   ]
  },
  {
   "cell_type": "code",
   "execution_count": null,
   "metadata": {},
   "outputs": [],
   "source": []
  }
 ],
 "metadata": {
  "kernelspec": {
   "display_name": "geocomp",
   "language": "python",
   "name": "geocomp"
  },
  "language_info": {
   "codemirror_mode": {
    "name": "ipython",
    "version": 3
   },
   "file_extension": ".py",
   "mimetype": "text/x-python",
   "name": "python",
   "nbconvert_exporter": "python",
   "pygments_lexer": "ipython3",
   "version": "3.7.7"
  }
 },
 "nbformat": 4,
 "nbformat_minor": 4
}
