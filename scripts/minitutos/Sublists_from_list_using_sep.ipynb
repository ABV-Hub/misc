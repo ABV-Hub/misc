{
 "cells": [
  {
   "cell_type": "markdown",
   "metadata": {},
   "source": [
    "# Sublists from a single list using seperators\n",
    "\n",
    "From this [SO](https://stackoverflow.com/questions/6164313/make-python-sublists-from-a-list-using-a-separator) post.\n",
    "Kudos to [Ignacio Vazquez-Abrams](https://stackoverflow.com/users/20862/ignacio-vazquez-abrams)."
   ]
  },
  {
   "cell_type": "code",
   "execution_count": 1,
   "metadata": {},
   "outputs": [],
   "source": [
    "import itertools"
   ]
  },
  {
   "cell_type": "code",
   "execution_count": 2,
   "metadata": {},
   "outputs": [
    {
     "data": {
      "text/plain": [
       "['someheader_dgg\\n',\n",
       " 'someline12wewe\\n',\n",
       " '\\n',\n",
       " 'someline123\\n',\n",
       " 'someline12\\n',\n",
       " 'someline12wewe\\n',\n",
       " '\\n',\n",
       " 'someline345\\n',\n",
       " 'someline35\\n',\n",
       " 'someline12we12c\\n',\n",
       " 'someline12wevf2\\n',\n",
       " '\\n',\n",
       " 'someline67875\\n',\n",
       " 'someline68956\\n',\n",
       " 'someline12wenh63\\n',\n",
       " 'someline12wefee\\n',\n",
       " 'someline12we123\\n',\n",
       " 'someline12wed2\\n',\n",
       " '\\n',\n",
       " ' \\n',\n",
       " 'someline23\\n',\n",
       " 'someline65ede']"
      ]
     },
     "execution_count": 2,
     "metadata": {},
     "output_type": "execute_result"
    }
   ],
   "source": [
    "with open('./junk.csv', 'r') as f:\n",
    "    lines = f.readlines()\n",
    "    \n",
    "lines"
   ]
  },
  {
   "cell_type": "code",
   "execution_count": 3,
   "metadata": {},
   "outputs": [
    {
     "data": {
      "text/plain": [
       "[['someheader_dgg\\n', 'someline12wewe\\n'],\n",
       " ['someline123\\n', 'someline12\\n', 'someline12wewe\\n'],\n",
       " ['someline345\\n', 'someline35\\n', 'someline12we12c\\n', 'someline12wevf2\\n'],\n",
       " ['someline67875\\n',\n",
       "  'someline68956\\n',\n",
       "  'someline12wenh63\\n',\n",
       "  'someline12wefee\\n',\n",
       "  'someline12we123\\n',\n",
       "  'someline12wed2\\n'],\n",
       " ['someline23\\n', 'someline65ede']]"
      ]
     },
     "execution_count": 3,
     "metadata": {},
     "output_type": "execute_result"
    }
   ],
   "source": [
    "[list(x[1]) for x in itertools.groupby(lines, lambda x: x=='\\n' or x==' \\n') if not x[0]]"
   ]
  },
  {
   "cell_type": "code",
   "execution_count": null,
   "metadata": {},
   "outputs": [],
   "source": []
  }
 ],
 "metadata": {
  "kernelspec": {
   "display_name": "Python 3",
   "language": "python",
   "name": "python3"
  },
  "language_info": {
   "codemirror_mode": {
    "name": "ipython",
    "version": 3
   },
   "file_extension": ".py",
   "mimetype": "text/x-python",
   "name": "python",
   "nbconvert_exporter": "python",
   "pygments_lexer": "ipython3",
   "version": "3.7.1"
  }
 },
 "nbformat": 4,
 "nbformat_minor": 2
}
