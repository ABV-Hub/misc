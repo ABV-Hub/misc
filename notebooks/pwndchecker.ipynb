{
 "cells": [
  {
   "cell_type": "markdown",
   "metadata": {},
   "source": [
    "# Pwnage checker\n",
    "\n",
    "The idea for this code came from [this](https://youtu.be/hhUb5iknVJs) video made by the great guys at [Computerphile](https://www.youtube.com/channel/UC9-y-6csu5WGm29I7JiwpnA).\n",
    "\n",
    "[Mike Pound](https://twitter.com/_mikepound?lang=en) actually provided his own Python code to achieve the same result which you can find [here](https://github.com/mikepound/pwned-search) - and I recommend you check it out as it's nicer than my code. But I didn't use his code to write mine as I wanted to practise a little.\n",
    "\n",
    "For the hashing, I inspired myself from [SomeBytes](https://github.com/skickar/SomeBytes) who also makes great content.\n",
    "\n",
    "This code would not exist without [Troy Hunt](https://twitter.com/troyhunt?ref_src=twsrc%5Egoogle%7Ctwcamp%5Eserp%7Ctwgr%5Eauthor), the creator of [haveibeenpwned.com](https://haveibeenpwned.com/)."
   ]
  },
  {
   "cell_type": "code",
   "execution_count": 1,
   "metadata": {},
   "outputs": [],
   "source": [
    "import hashlib\n",
    "import requests"
   ]
  },
  {
   "cell_type": "code",
   "execution_count": 2,
   "metadata": {},
   "outputs": [],
   "source": [
    "pwd_list = ['secret', 'secr*et']"
   ]
  },
  {
   "cell_type": "code",
   "execution_count": 3,
   "metadata": {},
   "outputs": [],
   "source": [
    "def make_hash(pwd):\n",
    "    \"\"\"return hashed version of password\"\"\"\n",
    "    encoded_pwd = bytes(pwd, 'utf-8')\n",
    "    hashed_pwd = hashlib.sha1(encoded_pwd)\n",
    "    decoded_hash = hashed_pwd.hexdigest()\n",
    "    return decoded_hash"
   ]
  },
  {
   "cell_type": "code",
   "execution_count": 4,
   "metadata": {},
   "outputs": [
    {
     "data": {
      "text/plain": [
       "['e5e9fa1ba31ecd1ae84f75caaa474f3a663f05f4',\n",
       " 'ca6e72830f00f4504da7aa29754143671b918d24']"
      ]
     },
     "execution_count": 4,
     "metadata": {},
     "output_type": "execute_result"
    }
   ],
   "source": [
    "hashed_pwds = [make_hash(pwd) for pwd in pwd_list]\n",
    "hashed_pwds"
   ]
  },
  {
   "cell_type": "code",
   "execution_count": 5,
   "metadata": {},
   "outputs": [],
   "source": [
    "def query_api(hashed_pwd):\n",
    "    \"\"\"check hashed password against API\"\"\"\n",
    "    head = hashed_pwd[:5]\n",
    "    url = 'https://api.pwnedpasswords.com/range/' + head\n",
    "    r = requests.get(url)\n",
    "    print(f'request status code: {r.status_code}')\n",
    "    api_results = r.text.split()\n",
    "    return api_results"
   ]
  },
  {
   "cell_type": "code",
   "execution_count": 6,
   "metadata": {},
   "outputs": [],
   "source": [
    "def pwned_count(query_api_results, hashed_pwd):\n",
    "    \"\"\"check whether a given hash is in the list of return matching hashes and returns count found\"\"\"\n",
    "    count = 0\n",
    "    hashed_pwd_section = hashed_pwd[5:].lower()\n",
    "    for result in query_api_results:\n",
    "        clean_res = result.split(':')\n",
    "        if hashed_pwd_section == clean_res[0].lower():\n",
    "            count = int(clean_res[1])\n",
    "            print(f'This hash was pwned {clean_res[1]} times.')\n",
    "    if count == 0:\n",
    "        print('This hash was not in the pwned database.')\n",
    "    return"
   ]
  },
  {
   "cell_type": "code",
   "execution_count": 7,
   "metadata": {},
   "outputs": [
    {
     "name": "stdout",
     "output_type": "stream",
     "text": [
      "request status code: 200\n",
      "This hash was pwned 226313 times.\n",
      "request status code: 200\n",
      "This hash was not in the pwned database.\n"
     ]
    }
   ],
   "source": [
    "for hashed_pwd in hashed_pwds:\n",
    "    test_results = query_api(hashed_pwd)\n",
    "    pwned_count(test_results, hashed_pwd)"
   ]
  }
 ],
 "metadata": {
  "kernelspec": {
   "display_name": "hack",
   "language": "python",
   "name": "hack"
  },
  "language_info": {
   "codemirror_mode": {
    "name": "ipython",
    "version": 3
   },
   "file_extension": ".py",
   "mimetype": "text/x-python",
   "name": "python",
   "nbconvert_exporter": "python",
   "pygments_lexer": "ipython3",
   "version": "3.7.1"
  }
 },
 "nbformat": 4,
 "nbformat_minor": 2
}
