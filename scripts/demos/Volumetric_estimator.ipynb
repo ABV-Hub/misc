{
 "cells": [
  {
   "cell_type": "markdown",
   "metadata": {},
   "source": [
    "# Hydrocarbon volumes calculator\n",
    "\n",
    "The expression for _oil_ volumes in place:\n",
    "\n",
    "$$ V = c \\times GRV \\times \\phi \\times NTG \\times S_\\mathrm{HC} \\times \\frac{1}{FVF} $$\n",
    "\n",
    "where:\n",
    "\n",
    "- c: conversion factor: `7758` from acre-ft to bbl (oil) or `43560` from acre-ft to ft3 (gas)\n",
    "- V: hydrocarbon volumes\n",
    "- GRV: Gross rock volume\n",
    "- $\\phi$: Porosity\n",
    "- NTG: Net-to-gross\n",
    "- $S_HC$: Hydrocarbon saturation (oil or gas)\n",
    "- FVF: Formation volume factor\n",
    "\n",
    "\n",
    "### Gross rock volume\n",
    "\n",
    "Gross rock volume (GRV) can be expressed as:\n",
    "\n",
    "$$GRV = A \\times T \\times G$$\n",
    "\n",
    "where:\n",
    "\n",
    "- A: Area\n",
    "- T: Thickness\n",
    "- G: Geometric correction factor\n",
    "\n",
    "The [Geometric correction factor](https://subsurfwiki.org/wiki/Geometric_correction_factor) is applied to account for pinch out of the oil column at the edges of the prospect, it is a function of the thickness to closure height ratio as illustrated below:\n",
    "\n",
    "<html>\n",
    "    <img src=\"http://subsurfwiki.org/images/6/66/Geometric_correction_factor.png\", width=600>\n",
    "</html>"
   ]
  },
  {
   "cell_type": "code",
   "execution_count": null,
   "metadata": {},
   "outputs": [],
   "source": [
    "# standard imports\n",
    "import pandas as pd\n",
    "pd.set_option(\"display.precision\", 3)\n",
    "import numpy as np\n",
    "\n",
    "%matplotlib inline\n",
    "import matplotlib.pyplot as plt\n",
    "from matplotlib.ticker import StrMethodFormatter"
   ]
  },
  {
   "cell_type": "code",
   "execution_count": null,
   "metadata": {},
   "outputs": [],
   "source": [
    "def calc_grv(thickness, height, area, top='slab', g=False):\n",
    "    \"\"\"Calculate GRV for given prospect\n",
    "    Args:\n",
    "        thickness [float]: average thickness of reservoir\n",
    "        height [float]: height of hydrocarbon column\n",
    "        area [float]: area of hydrocarbon prospect\n",
    "        top: structure shape, one of `{'slab', 'round', 'flat'}`\n",
    "        g [float]: geometric correction factor\n",
    "    Returns:\n",
    "        grv following `thickness * area * geometric_correction_factor`\n",
    "    \"\"\"\n",
    "    if g:\n",
    "        g = g\n",
    "    else:\n",
    "        ratio = thickness / height\n",
    "\n",
    "        if top == 'round':\n",
    "            g = -0.6 * ratio + 1\n",
    "        elif top == 'flat':\n",
    "            g = -0.3 * ratio + 1\n",
    "        else:\n",
    "            g = 1\n",
    "    return thickness * area * g, g\n",
    "\n",
    "\n",
    "def calc_hciip(GRV, phi=1, NTG=1, Sw=0, FVF=1, fluid='oil'):\n",
    "    \"\"\"Calculate Hydrocarbon initially in-place for a given prospect\n",
    "    Args:\n",
    "        GRV [float]: gross rock volume [acre-feet]\n",
    "        phi [float]: porosity [fraction]\n",
    "        NTG [float]: net-to-gross [fraction]\n",
    "        Sw [float]: water saturation [fraction]\n",
    "        FVF [float]: formation volume factor (Bo for oil or Bg for gas) [RES bbl/STB or RES ft3/SCF]\n",
    "    \"\"\"\n",
    "\n",
    "    try:\n",
    "        if fluid.lower() not in {'oil', 'gas'}:\n",
    "            raise ValueError(\"`fluid` arg must be of `{'gas', 'oil'}`\")\n",
    "    except AttributeError:\n",
    "        raise AttributeError(\"`fluid` arg must be of type `str`\")\n",
    "\n",
    "    if fluid == 'oil':\n",
    "        constant = 7758 # conversion factor from acre-ft to bbl\n",
    "    elif fluid == 'gas':\n",
    "        constant = 43560 # conversion factor from acre-ft to ft3\n",
    "   \n",
    "    return (constant * GRV * phi * NTG * (1 - Sw)) / FVF"
   ]
  },
  {
   "cell_type": "markdown",
   "metadata": {},
   "source": [
    "## Monte Carlo simulation of volumes\n",
    "\n",
    "The two components of the Monte Carlo simulation are:\n",
    "1. The equation to evaluate\n",
    "2. The random variables for the input\n",
    "\n",
    "Here the equation is `calc_hciip` and the variables are `{GRV, phi, NTG, Sw, FVF}`.\n",
    "\n",
    "[Normal distribution applet](https://homepage.divms.uiowa.edu/~mbognar/applets/normal.html) and [Lognormal](https://homepage.divms.uiowa.edu/~mbognar/applets/lognormal.html) to eyeball parameters.\n",
    "\n",
    "First, define the distributions paramters:"
   ]
  },
  {
   "cell_type": "code",
   "execution_count": null,
   "metadata": {},
   "outputs": [],
   "source": [
    "df_raw = pd.read_clipboard(sep=',')\n",
    "df_raw.index = df_raw.Reservoir\n",
    "df_raw = df_raw.drop(columns='Reservoir')\n",
    "df_raw"
   ]
  },
  {
   "cell_type": "markdown",
   "metadata": {},
   "source": [
    "Then sample from a normal distribution (to begin with) and calculate volumes:"
   ]
  },
  {
   "cell_type": "markdown",
   "metadata": {},
   "source": [
    "## Monte Carlo Experiment"
   ]
  },
  {
   "cell_type": "code",
   "execution_count": null,
   "metadata": {},
   "outputs": [],
   "source": [
    "def plot_pdf(df, sand):\n",
    "    \"\"\"plot pdt of stoiip for given sand and save fig\"\"\"\n",
    "    fig, ax = plt.subplots(figsize=(16,8))\n",
    "\n",
    "    n, *_ = ax.hist(df.hciip, bins=30, alpha=0.4, color='green')\n",
    "    n_len = (len(str(int(n.max()))))\n",
    "    y_max = round(n.max(), -(n_len-1))\n",
    "\n",
    "    title = f'Probability density function of STOIIP for {sand}'\n",
    "    ax.set_title(title, fontsize=26)\n",
    "\n",
    "    minvol, maxvol = df.hciip.describe().loc[['min', 'max']]\n",
    "\n",
    "    for name, prob in {'P90': p90, 'P50': p50, 'P10': p10}.items():\n",
    "        formatted_prob = round(prob, -3)/1e6\n",
    "        prob_approx = f'\\n{formatted_prob:.1f}\\nmmbbl'\n",
    "        plt.axvline(prob, c='b', linewidth=1.5)\n",
    "        ax.text(prob, y_max - y_max*.2, name + prob_approx, fontdict={'fontsize': 22})\n",
    "\n",
    "    ax.set_xlim(minvol, maxvol)\n",
    "    ax.tick_params(axis='both', which='major', labelsize=20)\n",
    "    plt.gca().xaxis.set_major_formatter(StrMethodFormatter('{x:,.0f}'))\n",
    "    plt.gca().yaxis.set_major_formatter(StrMethodFormatter('{x:,.0f}'))\n",
    "\n",
    "    ax.set_xlabel('STOIIP [bbl]', fontsize=20)\n",
    "    ax.set_ylabel('Density of probability [1 / bbl]', fontsize=20)\n",
    "\n",
    "    plt.savefig(f'./stoiip_pdf_{sand}', dpi=400)\n",
    "    \n",
    "    return None"
   ]
  },
  {
   "cell_type": "code",
   "execution_count": null,
   "metadata": {
    "scrolled": false
   },
   "outputs": [],
   "source": [
    "for sand in df_raw.index:\n",
    "    grv_avg, grv_std = df_raw.loc[sand, 'grv_avg'], df_raw.loc[sand, 'grv_std']\n",
    "    phi_avg, phi_std = df_raw.loc[sand, 'phi_avg'], df_raw.loc[sand, 'phi_std']\n",
    "    ntg_avg, ntg_std = df_raw.loc[sand, 'ntg_avg'], df_raw.loc[sand, 'ntg_std']\n",
    "    sw_avg, sw_std = df_raw.loc[sand, 'sw_avg'], df_raw.loc[sand, 'sw_std']\n",
    "    fvf_avg, fvf_std = df_raw.loc[sand, 'fvf_avg'], df_raw.loc[sand, 'fvf_std']\n",
    "    # sample count for MC experiment\n",
    "    num_samples = 5000\n",
    "    # Choose random inputs for each variable\n",
    "    ### NOTE THAT OTHER DISTIBUTIONS CAN BE SUBSTITUTED, SEE FOR EXAMPLE: https://docs.scipy.org/doc/scipy/reference/stats.html#continuous-distributions\n",
    "    grv = np.random.normal(grv_avg, grv_std, num_samples)\n",
    "    phi = np.random.normal(phi_avg, phi_std, num_samples)\n",
    "    ntg = np.random.normal(ntg_avg, ntg_std, num_samples)\n",
    "    sw = np.random.normal(sw_avg, sw_std, num_samples)\n",
    "    fvf = np.random.normal(fvf_avg, fvf_std, num_samples)\n",
    "    # set negative values to 0\n",
    "    for arr in [grv, phi, ntg, sw, fvf]:\n",
    "        arr[arr < 0] = 0\n",
    "    # set values over 1 to 1\n",
    "    for arr in [phi, ntg, sw]:\n",
    "        arr[arr > 1] = 1\n",
    "    # Build the dataframe based on the inputs and num_samples\n",
    "    df = pd.DataFrame(index=range(num_samples), data={'grv': grv,'phi': phi,'ntg': ntg,'sw': sw,'fvf': fvf,})\n",
    "    # calculate HCIIPs based on inputs\n",
    "    df['hciip'] = calc_hciip(df.grv, df.phi, df.ntg, df.sw, df.fvf)\n",
    "    # reverse p90, p50, p10 to match oil-field convention\n",
    "    p90, p50, p10 = df.describe(percentiles=[.1,.5,.9]).loc[['10%', '50%', '90%'], 'hciip']\n",
    "    df_raw.loc[sand, 'P90'] = p90 / 1e6\n",
    "    df_raw.loc[sand, 'P50'] = p50 / 1e6\n",
    "    df_raw.loc[sand, 'P10'] = p10 / 1e6\n",
    "    plot_pdf(df, sand)"
   ]
  },
  {
   "cell_type": "code",
   "execution_count": null,
   "metadata": {},
   "outputs": [],
   "source": [
    "field = input('what is the field name?')"
   ]
  },
  {
   "cell_type": "code",
   "execution_count": null,
   "metadata": {},
   "outputs": [],
   "source": [
    "col_units = ['acre-feet',\n",
    "             'acre-feet',\n",
    "             '%',\n",
    "             '%',\n",
    "             '%',\n",
    "             '%',\n",
    "             '%',\n",
    "             '%',\n",
    "             'bbl/STB',\n",
    "             'bbl/STB',\n",
    "             'MMSTB',\n",
    "             'MMSTB',\n",
    "             'MMSTB',\n",
    "            ]\n",
    "cols_multiindex = list(zip(df_raw.columns, col_units))\n",
    "df_raw.columns = pd.MultiIndex.from_tuples(cols_multiindex)"
   ]
  },
  {
   "cell_type": "code",
   "execution_count": null,
   "metadata": {},
   "outputs": [],
   "source": [
    "df_raw.loc['Totals'] = df_raw.loc[:,['grv_avg', 'P90', 'P50', 'P10']].sum(axis=0)\n",
    "df_raw"
   ]
  },
  {
   "cell_type": "code",
   "execution_count": null,
   "metadata": {},
   "outputs": [],
   "source": [
    "df_raw.to_excel(f'./{field}_quicklook_volumetrics.xlsx')"
   ]
  },
  {
   "cell_type": "code",
   "execution_count": null,
   "metadata": {},
   "outputs": [],
   "source": []
  }
 ],
 "metadata": {
  "kernelspec": {
   "display_name": "geocomp",
   "language": "python",
   "name": "geocomp"
  },
  "language_info": {
   "codemirror_mode": {
    "name": "ipython",
    "version": 3
   },
   "file_extension": ".py",
   "mimetype": "text/x-python",
   "name": "python",
   "nbconvert_exporter": "python",
   "pygments_lexer": "ipython3",
   "version": "3.7.7"
  }
 },
 "nbformat": 4,
 "nbformat_minor": 4
}
