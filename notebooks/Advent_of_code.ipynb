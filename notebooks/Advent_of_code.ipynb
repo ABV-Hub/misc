{
 "cells": [
  {
   "cell_type": "markdown",
   "metadata": {},
   "source": [
    "# Advent of code 2018"
   ]
  },
  {
   "cell_type": "markdown",
   "metadata": {},
   "source": [
    "## Day 1 - part 1"
   ]
  },
  {
   "cell_type": "code",
   "execution_count": 1,
   "metadata": {},
   "outputs": [],
   "source": [
    "# imports\n",
    "import pandas as pd\n",
    "import numpy as np\n",
    "%matplotlib inline\n",
    "import matplotlib.pyplot as plt\n",
    "import math\n",
    "from collections import Counter\n",
    "import datetime\n",
    "from string import ascii_lowercase\n",
    "from collections import OrderedDict"
   ]
  },
  {
   "cell_type": "code",
   "execution_count": 2,
   "metadata": {},
   "outputs": [
    {
     "data": {
      "text/html": [
       "<div>\n",
       "<style scoped>\n",
       "    .dataframe tbody tr th:only-of-type {\n",
       "        vertical-align: middle;\n",
       "    }\n",
       "\n",
       "    .dataframe tbody tr th {\n",
       "        vertical-align: top;\n",
       "    }\n",
       "\n",
       "    .dataframe thead th {\n",
       "        text-align: right;\n",
       "    }\n",
       "</style>\n",
       "<table border=\"1\" class=\"dataframe\">\n",
       "  <thead>\n",
       "    <tr style=\"text-align: right;\">\n",
       "      <th></th>\n",
       "      <th>changes</th>\n",
       "    </tr>\n",
       "  </thead>\n",
       "  <tbody>\n",
       "    <tr>\n",
       "      <th>0</th>\n",
       "      <td>-17</td>\n",
       "    </tr>\n",
       "    <tr>\n",
       "      <th>1</th>\n",
       "      <td>-20</td>\n",
       "    </tr>\n",
       "    <tr>\n",
       "      <th>2</th>\n",
       "      <td>-15</td>\n",
       "    </tr>\n",
       "    <tr>\n",
       "      <th>3</th>\n",
       "      <td>-2</td>\n",
       "    </tr>\n",
       "    <tr>\n",
       "      <th>4</th>\n",
       "      <td>-7</td>\n",
       "    </tr>\n",
       "  </tbody>\n",
       "</table>\n",
       "</div>"
      ],
      "text/plain": [
       "   changes\n",
       "0      -17\n",
       "1      -20\n",
       "2      -15\n",
       "3       -2\n",
       "4       -7"
      ]
     },
     "execution_count": 2,
     "metadata": {},
     "output_type": "execute_result"
    }
   ],
   "source": [
    "df1 = pd.read_csv('../data/advent_of_code/day1.txt', header=None, names=['changes'])\n",
    "df1.head()"
   ]
  },
  {
   "cell_type": "markdown",
   "metadata": {},
   "source": [
    "Current frequency  0, change of +1; resulting frequency  1."
   ]
  },
  {
   "cell_type": "code",
   "execution_count": 3,
   "metadata": {},
   "outputs": [
    {
     "data": {
      "text/plain": [
       "-17"
      ]
     },
     "execution_count": 3,
     "metadata": {},
     "output_type": "execute_result"
    }
   ],
   "source": [
    "df1.changes[0]"
   ]
  },
  {
   "cell_type": "code",
   "execution_count": 4,
   "metadata": {},
   "outputs": [
    {
     "data": {
      "text/plain": [
       "580"
      ]
     },
     "execution_count": 4,
     "metadata": {},
     "output_type": "execute_result"
    }
   ],
   "source": [
    "current_frequency = 0\n",
    "for change in df1.changes:\n",
    "    current_frequency += change\n",
    "current_frequency"
   ]
  },
  {
   "cell_type": "markdown",
   "metadata": {},
   "source": [
    "## Day 1 - part 2"
   ]
  },
  {
   "cell_type": "code",
   "execution_count": 5,
   "metadata": {},
   "outputs": [],
   "source": [
    "test_list = [-6, +3, +8, +5, -6]"
   ]
  },
  {
   "cell_type": "code",
   "execution_count": 6,
   "metadata": {},
   "outputs": [
    {
     "name": "stdout",
     "output_type": "stream",
     "text": [
      "First double frequency is: 81972\n",
      "current loop: 146545\n"
     ]
    }
   ],
   "source": [
    "current_frequency = 0\n",
    "freq_list = []\n",
    "loop = True\n",
    "loop_counter = 0\n",
    "while loop:\n",
    "    for change in df1.changes:\n",
    "        current_frequency += change\n",
    "        if current_frequency in freq_list:\n",
    "            print(f'First double frequency is: {current_frequency}')\n",
    "            print(f'current loop: {loop_counter}')\n",
    "            loop = False\n",
    "            break\n",
    "        else:\n",
    "            freq_list.append(current_frequency)\n",
    "            loop_counter += 1"
   ]
  },
  {
   "cell_type": "markdown",
   "metadata": {},
   "source": [
    "## Day 2 - part 1"
   ]
  },
  {
   "cell_type": "markdown",
   "metadata": {},
   "source": [
    "- abcdef contains no letters that appear exactly two or three times.\n",
    "- bababc contains two a and three b, so it counts for both.\n",
    "- abbcde contains two b, but no letter appears exactly three times.\n",
    "- abcccd contains three c, but no letter appears exactly two times.\n",
    "- aabcdd contains two a and two d, but it only counts once.\n",
    "- abcdee contains two e.\n",
    "- ababab contains three a and three b, but it only counts once.\n",
    "\n",
    "Of these box IDs, four of them contain a letter which appears exactly twice, and three of them contain a letter which appears exactly three times. Multiplying these together produces a checksum of 4 * 3 = 12."
   ]
  },
  {
   "cell_type": "code",
   "execution_count": 7,
   "metadata": {},
   "outputs": [],
   "source": [
    "df2 = pd.read_csv('../data/advent_of_code/day2.txt', header=None, names=['boxIDs'])\n",
    "boxid_list = df2.boxIDs.tolist()"
   ]
  },
  {
   "cell_type": "code",
   "execution_count": 8,
   "metadata": {},
   "outputs": [],
   "source": [
    "boxid_dict = {}\n",
    "for boxid in boxid_list:\n",
    "    boxid_dict[boxid] = dict(Counter(boxid))"
   ]
  },
  {
   "cell_type": "code",
   "execution_count": 9,
   "metadata": {},
   "outputs": [
    {
     "name": "stdout",
     "output_type": "stream",
     "text": [
      "twices: 249\n",
      "thrices: 26\n"
     ]
    }
   ],
   "source": [
    "twices = 0\n",
    "thrices = 0\n",
    "\n",
    "for key, value in boxid_dict.items():\n",
    "    if 2 in value.values():\n",
    "        twices += 1\n",
    "    if 3 in value.values():\n",
    "        thrices += 1\n",
    "print(f'twices: {twices}\\nthrices: {thrices}')        "
   ]
  },
  {
   "cell_type": "code",
   "execution_count": 10,
   "metadata": {},
   "outputs": [
    {
     "name": "stdout",
     "output_type": "stream",
     "text": [
      "6474\n"
     ]
    }
   ],
   "source": [
    "print(twices * thrices)"
   ]
  },
  {
   "cell_type": "markdown",
   "metadata": {},
   "source": [
    "## Day 2 - part 2"
   ]
  },
  {
   "cell_type": "code",
   "execution_count": 11,
   "metadata": {},
   "outputs": [],
   "source": [
    "boxid_test = ['abcde',\n",
    "             'fghij',\n",
    "             'klmno',\n",
    "             'pqrst',\n",
    "             'fguij',\n",
    "             'axcye',\n",
    "             'wvxyz'\n",
    "            ]"
   ]
  },
  {
   "cell_type": "code",
   "execution_count": 12,
   "metadata": {},
   "outputs": [],
   "source": [
    "# take first item in list\n",
    "# remember it\n",
    "# save it as a dictionary with index as keys and letters as values\n",
    "# run down the list\n",
    "# for each new item\n",
    "# save it as a ditionary with index as keys and letters as values #### maybe do this one for all?\n",
    "# compare dictionary 1 to dictionary 2\n",
    "# if values different, remember index in both dictionaries (these are correct boxes)\n",
    "# if more than one different value, `continue`\n",
    "# get two correct boxes\n",
    "# from each, remove characters at matching indexes\n",
    "# get remaining characters\n",
    "# return result"
   ]
  },
  {
   "cell_type": "code",
   "execution_count": 13,
   "metadata": {},
   "outputs": [],
   "source": [
    "boxid_test_dict = {}\n",
    "for k in boxid_test:\n",
    "    boxid_test_dict[k] = 0"
   ]
  },
  {
   "cell_type": "code",
   "execution_count": 14,
   "metadata": {},
   "outputs": [
    {
     "data": {
      "text/plain": [
       "{'abcde': 0,\n",
       " 'fghij': 0,\n",
       " 'klmno': 0,\n",
       " 'pqrst': 0,\n",
       " 'fguij': 0,\n",
       " 'axcye': 0,\n",
       " 'wvxyz': 0}"
      ]
     },
     "execution_count": 14,
     "metadata": {},
     "output_type": "execute_result"
    }
   ],
   "source": [
    "boxid_test_dict"
   ]
  },
  {
   "cell_type": "code",
   "execution_count": 15,
   "metadata": {},
   "outputs": [],
   "source": [
    "def list_from_word(word):\n",
    "    return [letter for letter in word]"
   ]
  },
  {
   "cell_type": "code",
   "execution_count": 16,
   "metadata": {},
   "outputs": [
    {
     "data": {
      "text/plain": [
       "{'abcde': ['a', 'b', 'c', 'd', 'e'],\n",
       " 'fghij': ['f', 'g', 'h', 'i', 'j'],\n",
       " 'klmno': ['k', 'l', 'm', 'n', 'o'],\n",
       " 'pqrst': ['p', 'q', 'r', 's', 't'],\n",
       " 'fguij': ['f', 'g', 'u', 'i', 'j'],\n",
       " 'axcye': ['a', 'x', 'c', 'y', 'e'],\n",
       " 'wvxyz': ['w', 'v', 'x', 'y', 'z']}"
      ]
     },
     "execution_count": 16,
     "metadata": {},
     "output_type": "execute_result"
    }
   ],
   "source": [
    "for key in boxid_test_dict.keys():\n",
    "    boxid_test_dict[key] = (list_from_word(key))\n",
    "boxid_test_dict"
   ]
  },
  {
   "cell_type": "code",
   "execution_count": 17,
   "metadata": {},
   "outputs": [],
   "source": [
    "list1 = [1,2,3,7,5]\n",
    "list2 = [1,2,3,3,5]\n",
    "output = [(i,j) for i, j in zip(list1, list2) if i != j]"
   ]
  },
  {
   "cell_type": "code",
   "execution_count": 18,
   "metadata": {},
   "outputs": [
    {
     "data": {
      "text/plain": [
       "1"
      ]
     },
     "execution_count": 18,
     "metadata": {},
     "output_type": "execute_result"
    }
   ],
   "source": [
    "len(output)"
   ]
  },
  {
   "cell_type": "code",
   "execution_count": 19,
   "metadata": {},
   "outputs": [
    {
     "name": "stdout",
     "output_type": "stream",
     "text": [
      "abcde ['a', 'b', 'c', 'd', 'e']\n",
      "fghij ['f', 'g', 'h', 'i', 'j']\n",
      "klmno ['k', 'l', 'm', 'n', 'o']\n",
      "pqrst ['p', 'q', 'r', 's', 't']\n",
      "fguij ['f', 'g', 'u', 'i', 'j']\n",
      "axcye ['a', 'x', 'c', 'y', 'e']\n",
      "wvxyz ['w', 'v', 'x', 'y', 'z']\n"
     ]
    }
   ],
   "source": [
    "for k, v in boxid_test_dict.items():\n",
    "    print(k, v)"
   ]
  },
  {
   "cell_type": "code",
   "execution_count": 20,
   "metadata": {},
   "outputs": [],
   "source": [
    "id_dict = {}\n",
    "for boxid_str in boxid_test:\n",
    "    for character in boxid_str:\n",
    "        id_dict[boxid_str.index(character)] = character\n",
    "    current_boxid = id_dict\n",
    "    #print(current_boxid)\n",
    "    for boxid_str in boxid_test:\n",
    "        for character in boxid_str:\n",
    "            id_dict[boxid_str.index(character)] = character\n",
    "        next_boxid = id_dict\n",
    "        #print(next_boxid)\n",
    "        #print(f'current_boxid: {list(current_boxid.values())}')\n",
    "        #print(f'next_boxid: {list(next_boxid.values())}')"
   ]
  },
  {
   "cell_type": "code",
   "execution_count": 21,
   "metadata": {},
   "outputs": [
    {
     "data": {
      "text/plain": [
       "['abcde', 'fghij', 'klmno', 'pqrst', 'fguij', 'axcye', 'wvxyz']"
      ]
     },
     "execution_count": 21,
     "metadata": {},
     "output_type": "execute_result"
    }
   ],
   "source": [
    "boxid_test"
   ]
  },
  {
   "cell_type": "code",
   "execution_count": 22,
   "metadata": {},
   "outputs": [
    {
     "name": "stdout",
     "output_type": "stream",
     "text": [
      "mxhwoglxgeauywfkztndcvjqr\n"
     ]
    }
   ],
   "source": [
    "#boxid_list\n",
    "pair = ()\n",
    "#input_list = boxid_test\n",
    "input_list = boxid_list\n",
    "for item1 in input_list:\n",
    "    for item2 in input_list:\n",
    "        listcomp = [i for i in range(len(item1)) if item1[i] != item2[i]]\n",
    "        if len(listcomp) == 1:\n",
    "            result = item1[:listcomp[0]] + item1[listcomp[0] + 1 :]\n",
    "try:\n",
    "    print(result)\n",
    "except:\n",
    "    print('none found')\n"
   ]
  },
  {
   "cell_type": "markdown",
   "metadata": {},
   "source": [
    "## Day 3 - part 1"
   ]
  },
  {
   "cell_type": "markdown",
   "metadata": {},
   "source": [
    "The four square inches marked with X are claimed by both 1 and 2. (Claim 3, while adjacent to the others, does not overlap either of them.)\n",
    "\n",
    "If the Elves all proceed with their own plans, none of them will have enough fabric. How many square inches of fabric are within two or more claims?\n",
    "\n",
    "```\n",
    "#1 @ 1,3: 4x4\n",
    "#2 @ 3,1: 4x4\n",
    "#3 @ 5,5: 2x2\n",
    "```\n",
    "\n",
    "```\n",
    "........\n",
    "...2222.\n",
    "...2222.\n",
    ".11XX22.\n",
    ".11XX22.\n",
    ".111133.\n",
    ".111133.\n",
    "........\n",
    "```\n",
    "\n",
    "Answer == 4"
   ]
  },
  {
   "cell_type": "code",
   "execution_count": 23,
   "metadata": {},
   "outputs": [
    {
     "data": {
      "text/html": [
       "<div>\n",
       "<style scoped>\n",
       "    .dataframe tbody tr th:only-of-type {\n",
       "        vertical-align: middle;\n",
       "    }\n",
       "\n",
       "    .dataframe tbody tr th {\n",
       "        vertical-align: top;\n",
       "    }\n",
       "\n",
       "    .dataframe thead th {\n",
       "        text-align: right;\n",
       "    }\n",
       "</style>\n",
       "<table border=\"1\" class=\"dataframe\">\n",
       "  <thead>\n",
       "    <tr style=\"text-align: right;\">\n",
       "      <th></th>\n",
       "      <th>claims</th>\n",
       "    </tr>\n",
       "  </thead>\n",
       "  <tbody>\n",
       "    <tr>\n",
       "      <th>0</th>\n",
       "      <td>#1 @ 469,741: 22x26</td>\n",
       "    </tr>\n",
       "    <tr>\n",
       "      <th>1</th>\n",
       "      <td>#2 @ 290,985: 25x11</td>\n",
       "    </tr>\n",
       "    <tr>\n",
       "      <th>2</th>\n",
       "      <td>#3 @ 794,639: 21x28</td>\n",
       "    </tr>\n",
       "    <tr>\n",
       "      <th>3</th>\n",
       "      <td>#4 @ 969,266: 13x11</td>\n",
       "    </tr>\n",
       "    <tr>\n",
       "      <th>4</th>\n",
       "      <td>#5 @ 465,103: 24x10</td>\n",
       "    </tr>\n",
       "  </tbody>\n",
       "</table>\n",
       "</div>"
      ],
      "text/plain": [
       "                claims\n",
       "0  #1 @ 469,741: 22x26\n",
       "1  #2 @ 290,985: 25x11\n",
       "2  #3 @ 794,639: 21x28\n",
       "3  #4 @ 969,266: 13x11\n",
       "4  #5 @ 465,103: 24x10"
      ]
     },
     "execution_count": 23,
     "metadata": {},
     "output_type": "execute_result"
    }
   ],
   "source": [
    "df3 = pd.read_csv('../data/advent_of_code/day3.txt', header=None, names=['claims'], sep='s\\+', engine='python')\n",
    "df3.head()"
   ]
  },
  {
   "cell_type": "code",
   "execution_count": 24,
   "metadata": {},
   "outputs": [
    {
     "data": {
      "text/html": [
       "<div>\n",
       "<style scoped>\n",
       "    .dataframe tbody tr th:only-of-type {\n",
       "        vertical-align: middle;\n",
       "    }\n",
       "\n",
       "    .dataframe tbody tr th {\n",
       "        vertical-align: top;\n",
       "    }\n",
       "\n",
       "    .dataframe thead th {\n",
       "        text-align: right;\n",
       "    }\n",
       "</style>\n",
       "<table border=\"1\" class=\"dataframe\">\n",
       "  <thead>\n",
       "    <tr style=\"text-align: right;\">\n",
       "      <th></th>\n",
       "      <th>claims</th>\n",
       "      <th>claims_edt</th>\n",
       "    </tr>\n",
       "  </thead>\n",
       "  <tbody>\n",
       "    <tr>\n",
       "      <th>0</th>\n",
       "      <td>#1 @ 469,741: 22x26</td>\n",
       "      <td>[#1, @, 469,741:, 22x26]</td>\n",
       "    </tr>\n",
       "    <tr>\n",
       "      <th>1</th>\n",
       "      <td>#2 @ 290,985: 25x11</td>\n",
       "      <td>[#2, @, 290,985:, 25x11]</td>\n",
       "    </tr>\n",
       "    <tr>\n",
       "      <th>2</th>\n",
       "      <td>#3 @ 794,639: 21x28</td>\n",
       "      <td>[#3, @, 794,639:, 21x28]</td>\n",
       "    </tr>\n",
       "    <tr>\n",
       "      <th>3</th>\n",
       "      <td>#4 @ 969,266: 13x11</td>\n",
       "      <td>[#4, @, 969,266:, 13x11]</td>\n",
       "    </tr>\n",
       "    <tr>\n",
       "      <th>4</th>\n",
       "      <td>#5 @ 465,103: 24x10</td>\n",
       "      <td>[#5, @, 465,103:, 24x10]</td>\n",
       "    </tr>\n",
       "  </tbody>\n",
       "</table>\n",
       "</div>"
      ],
      "text/plain": [
       "                claims                claims_edt\n",
       "0  #1 @ 469,741: 22x26  [#1, @, 469,741:, 22x26]\n",
       "1  #2 @ 290,985: 25x11  [#2, @, 290,985:, 25x11]\n",
       "2  #3 @ 794,639: 21x28  [#3, @, 794,639:, 21x28]\n",
       "3  #4 @ 969,266: 13x11  [#4, @, 969,266:, 13x11]\n",
       "4  #5 @ 465,103: 24x10  [#5, @, 465,103:, 24x10]"
      ]
     },
     "execution_count": 24,
     "metadata": {},
     "output_type": "execute_result"
    }
   ],
   "source": [
    "df3['claims_edt'] = df3.claims.str.split()\n",
    "df3.head()"
   ]
  },
  {
   "cell_type": "code",
   "execution_count": 25,
   "metadata": {},
   "outputs": [
    {
     "data": {
      "text/html": [
       "<div>\n",
       "<style scoped>\n",
       "    .dataframe tbody tr th:only-of-type {\n",
       "        vertical-align: middle;\n",
       "    }\n",
       "\n",
       "    .dataframe tbody tr th {\n",
       "        vertical-align: top;\n",
       "    }\n",
       "\n",
       "    .dataframe thead th {\n",
       "        text-align: right;\n",
       "    }\n",
       "</style>\n",
       "<table border=\"1\" class=\"dataframe\">\n",
       "  <thead>\n",
       "    <tr style=\"text-align: right;\">\n",
       "      <th></th>\n",
       "      <th>claims</th>\n",
       "      <th>claims_edt</th>\n",
       "      <th>claim_id</th>\n",
       "      <th>location</th>\n",
       "      <th>dims</th>\n",
       "    </tr>\n",
       "  </thead>\n",
       "  <tbody>\n",
       "    <tr>\n",
       "      <th>0</th>\n",
       "      <td>#1 @ 469,741: 22x26</td>\n",
       "      <td>[#1, @, 469,741:, 22x26]</td>\n",
       "      <td>1</td>\n",
       "      <td>469,741</td>\n",
       "      <td>22x26</td>\n",
       "    </tr>\n",
       "    <tr>\n",
       "      <th>1</th>\n",
       "      <td>#2 @ 290,985: 25x11</td>\n",
       "      <td>[#2, @, 290,985:, 25x11]</td>\n",
       "      <td>2</td>\n",
       "      <td>290,985</td>\n",
       "      <td>25x11</td>\n",
       "    </tr>\n",
       "    <tr>\n",
       "      <th>2</th>\n",
       "      <td>#3 @ 794,639: 21x28</td>\n",
       "      <td>[#3, @, 794,639:, 21x28]</td>\n",
       "      <td>3</td>\n",
       "      <td>794,639</td>\n",
       "      <td>21x28</td>\n",
       "    </tr>\n",
       "    <tr>\n",
       "      <th>3</th>\n",
       "      <td>#4 @ 969,266: 13x11</td>\n",
       "      <td>[#4, @, 969,266:, 13x11]</td>\n",
       "      <td>4</td>\n",
       "      <td>969,266</td>\n",
       "      <td>13x11</td>\n",
       "    </tr>\n",
       "    <tr>\n",
       "      <th>4</th>\n",
       "      <td>#5 @ 465,103: 24x10</td>\n",
       "      <td>[#5, @, 465,103:, 24x10]</td>\n",
       "      <td>5</td>\n",
       "      <td>465,103</td>\n",
       "      <td>24x10</td>\n",
       "    </tr>\n",
       "  </tbody>\n",
       "</table>\n",
       "</div>"
      ],
      "text/plain": [
       "                claims                claims_edt claim_id location   dims\n",
       "0  #1 @ 469,741: 22x26  [#1, @, 469,741:, 22x26]        1  469,741  22x26\n",
       "1  #2 @ 290,985: 25x11  [#2, @, 290,985:, 25x11]        2  290,985  25x11\n",
       "2  #3 @ 794,639: 21x28  [#3, @, 794,639:, 21x28]        3  794,639  21x28\n",
       "3  #4 @ 969,266: 13x11  [#4, @, 969,266:, 13x11]        4  969,266  13x11\n",
       "4  #5 @ 465,103: 24x10  [#5, @, 465,103:, 24x10]        5  465,103  24x10"
      ]
     },
     "execution_count": 25,
     "metadata": {},
     "output_type": "execute_result"
    }
   ],
   "source": [
    "df3['claim_id'] = df3['claims_edt'].str[0].str.replace('#','')\n",
    "df3['location'] = df3['claims_edt'].str[2].str.replace(':','')\n",
    "df3['dims'] = df3['claims_edt'].str[3]\n",
    "df3.head()"
   ]
  },
  {
   "cell_type": "code",
   "execution_count": 26,
   "metadata": {},
   "outputs": [
    {
     "data": {
      "text/html": [
       "<div>\n",
       "<style scoped>\n",
       "    .dataframe tbody tr th:only-of-type {\n",
       "        vertical-align: middle;\n",
       "    }\n",
       "\n",
       "    .dataframe tbody tr th {\n",
       "        vertical-align: top;\n",
       "    }\n",
       "\n",
       "    .dataframe thead th {\n",
       "        text-align: right;\n",
       "    }\n",
       "</style>\n",
       "<table border=\"1\" class=\"dataframe\">\n",
       "  <thead>\n",
       "    <tr style=\"text-align: right;\">\n",
       "      <th></th>\n",
       "      <th>claims</th>\n",
       "      <th>claims_edt</th>\n",
       "      <th>claim_id</th>\n",
       "      <th>location</th>\n",
       "      <th>dims</th>\n",
       "    </tr>\n",
       "  </thead>\n",
       "  <tbody>\n",
       "    <tr>\n",
       "      <th>0</th>\n",
       "      <td>#1 @ 469,741: 22x26</td>\n",
       "      <td>[#1, @, 469,741:, 22x26]</td>\n",
       "      <td>1</td>\n",
       "      <td>[469, 741]</td>\n",
       "      <td>[22, 26]</td>\n",
       "    </tr>\n",
       "    <tr>\n",
       "      <th>1</th>\n",
       "      <td>#2 @ 290,985: 25x11</td>\n",
       "      <td>[#2, @, 290,985:, 25x11]</td>\n",
       "      <td>2</td>\n",
       "      <td>[290, 985]</td>\n",
       "      <td>[25, 11]</td>\n",
       "    </tr>\n",
       "    <tr>\n",
       "      <th>2</th>\n",
       "      <td>#3 @ 794,639: 21x28</td>\n",
       "      <td>[#3, @, 794,639:, 21x28]</td>\n",
       "      <td>3</td>\n",
       "      <td>[794, 639]</td>\n",
       "      <td>[21, 28]</td>\n",
       "    </tr>\n",
       "    <tr>\n",
       "      <th>3</th>\n",
       "      <td>#4 @ 969,266: 13x11</td>\n",
       "      <td>[#4, @, 969,266:, 13x11]</td>\n",
       "      <td>4</td>\n",
       "      <td>[969, 266]</td>\n",
       "      <td>[13, 11]</td>\n",
       "    </tr>\n",
       "    <tr>\n",
       "      <th>4</th>\n",
       "      <td>#5 @ 465,103: 24x10</td>\n",
       "      <td>[#5, @, 465,103:, 24x10]</td>\n",
       "      <td>5</td>\n",
       "      <td>[465, 103]</td>\n",
       "      <td>[24, 10]</td>\n",
       "    </tr>\n",
       "  </tbody>\n",
       "</table>\n",
       "</div>"
      ],
      "text/plain": [
       "                claims                claims_edt claim_id    location  \\\n",
       "0  #1 @ 469,741: 22x26  [#1, @, 469,741:, 22x26]        1  [469, 741]   \n",
       "1  #2 @ 290,985: 25x11  [#2, @, 290,985:, 25x11]        2  [290, 985]   \n",
       "2  #3 @ 794,639: 21x28  [#3, @, 794,639:, 21x28]        3  [794, 639]   \n",
       "3  #4 @ 969,266: 13x11  [#4, @, 969,266:, 13x11]        4  [969, 266]   \n",
       "4  #5 @ 465,103: 24x10  [#5, @, 465,103:, 24x10]        5  [465, 103]   \n",
       "\n",
       "       dims  \n",
       "0  [22, 26]  \n",
       "1  [25, 11]  \n",
       "2  [21, 28]  \n",
       "3  [13, 11]  \n",
       "4  [24, 10]  "
      ]
     },
     "execution_count": 26,
     "metadata": {},
     "output_type": "execute_result"
    }
   ],
   "source": [
    "df3.location = df3.location.str.split(',')\n",
    "df3.dims = df3.dims.str.split('x')\n",
    "df3.head()"
   ]
  },
  {
   "cell_type": "code",
   "execution_count": 27,
   "metadata": {},
   "outputs": [
    {
     "data": {
      "text/html": [
       "<div>\n",
       "<style scoped>\n",
       "    .dataframe tbody tr th:only-of-type {\n",
       "        vertical-align: middle;\n",
       "    }\n",
       "\n",
       "    .dataframe tbody tr th {\n",
       "        vertical-align: top;\n",
       "    }\n",
       "\n",
       "    .dataframe thead th {\n",
       "        text-align: right;\n",
       "    }\n",
       "</style>\n",
       "<table border=\"1\" class=\"dataframe\">\n",
       "  <thead>\n",
       "    <tr style=\"text-align: right;\">\n",
       "      <th></th>\n",
       "      <th>claims</th>\n",
       "      <th>claims_edt</th>\n",
       "      <th>claim_id</th>\n",
       "      <th>location</th>\n",
       "      <th>dims</th>\n",
       "      <th>East</th>\n",
       "      <th>South</th>\n",
       "      <th>Width</th>\n",
       "      <th>Height</th>\n",
       "    </tr>\n",
       "  </thead>\n",
       "  <tbody>\n",
       "    <tr>\n",
       "      <th>0</th>\n",
       "      <td>#1 @ 469,741: 22x26</td>\n",
       "      <td>[#1, @, 469,741:, 22x26]</td>\n",
       "      <td>1</td>\n",
       "      <td>[469, 741]</td>\n",
       "      <td>[22, 26]</td>\n",
       "      <td>469</td>\n",
       "      <td>741</td>\n",
       "      <td>22</td>\n",
       "      <td>26</td>\n",
       "    </tr>\n",
       "    <tr>\n",
       "      <th>1</th>\n",
       "      <td>#2 @ 290,985: 25x11</td>\n",
       "      <td>[#2, @, 290,985:, 25x11]</td>\n",
       "      <td>2</td>\n",
       "      <td>[290, 985]</td>\n",
       "      <td>[25, 11]</td>\n",
       "      <td>290</td>\n",
       "      <td>985</td>\n",
       "      <td>25</td>\n",
       "      <td>11</td>\n",
       "    </tr>\n",
       "    <tr>\n",
       "      <th>2</th>\n",
       "      <td>#3 @ 794,639: 21x28</td>\n",
       "      <td>[#3, @, 794,639:, 21x28]</td>\n",
       "      <td>3</td>\n",
       "      <td>[794, 639]</td>\n",
       "      <td>[21, 28]</td>\n",
       "      <td>794</td>\n",
       "      <td>639</td>\n",
       "      <td>21</td>\n",
       "      <td>28</td>\n",
       "    </tr>\n",
       "    <tr>\n",
       "      <th>3</th>\n",
       "      <td>#4 @ 969,266: 13x11</td>\n",
       "      <td>[#4, @, 969,266:, 13x11]</td>\n",
       "      <td>4</td>\n",
       "      <td>[969, 266]</td>\n",
       "      <td>[13, 11]</td>\n",
       "      <td>969</td>\n",
       "      <td>266</td>\n",
       "      <td>13</td>\n",
       "      <td>11</td>\n",
       "    </tr>\n",
       "    <tr>\n",
       "      <th>4</th>\n",
       "      <td>#5 @ 465,103: 24x10</td>\n",
       "      <td>[#5, @, 465,103:, 24x10]</td>\n",
       "      <td>5</td>\n",
       "      <td>[465, 103]</td>\n",
       "      <td>[24, 10]</td>\n",
       "      <td>465</td>\n",
       "      <td>103</td>\n",
       "      <td>24</td>\n",
       "      <td>10</td>\n",
       "    </tr>\n",
       "  </tbody>\n",
       "</table>\n",
       "</div>"
      ],
      "text/plain": [
       "                claims                claims_edt claim_id    location  \\\n",
       "0  #1 @ 469,741: 22x26  [#1, @, 469,741:, 22x26]        1  [469, 741]   \n",
       "1  #2 @ 290,985: 25x11  [#2, @, 290,985:, 25x11]        2  [290, 985]   \n",
       "2  #3 @ 794,639: 21x28  [#3, @, 794,639:, 21x28]        3  [794, 639]   \n",
       "3  #4 @ 969,266: 13x11  [#4, @, 969,266:, 13x11]        4  [969, 266]   \n",
       "4  #5 @ 465,103: 24x10  [#5, @, 465,103:, 24x10]        5  [465, 103]   \n",
       "\n",
       "       dims East South Width Height  \n",
       "0  [22, 26]  469   741    22     26  \n",
       "1  [25, 11]  290   985    25     11  \n",
       "2  [21, 28]  794   639    21     28  \n",
       "3  [13, 11]  969   266    13     11  \n",
       "4  [24, 10]  465   103    24     10  "
      ]
     },
     "execution_count": 27,
     "metadata": {},
     "output_type": "execute_result"
    }
   ],
   "source": [
    "df3['East'] = df3.location.str[0]\n",
    "df3['South'] = df3.location.str[1]\n",
    "df3['Width'] = df3.dims.str[0]\n",
    "df3['Height'] = df3.dims.str[1]\n",
    "df3.head()"
   ]
  },
  {
   "cell_type": "code",
   "execution_count": 28,
   "metadata": {},
   "outputs": [
    {
     "data": {
      "text/html": [
       "<div>\n",
       "<style scoped>\n",
       "    .dataframe tbody tr th:only-of-type {\n",
       "        vertical-align: middle;\n",
       "    }\n",
       "\n",
       "    .dataframe tbody tr th {\n",
       "        vertical-align: top;\n",
       "    }\n",
       "\n",
       "    .dataframe thead th {\n",
       "        text-align: right;\n",
       "    }\n",
       "</style>\n",
       "<table border=\"1\" class=\"dataframe\">\n",
       "  <thead>\n",
       "    <tr style=\"text-align: right;\">\n",
       "      <th></th>\n",
       "      <th>claims</th>\n",
       "      <th>claims_edt</th>\n",
       "      <th>claim_id</th>\n",
       "      <th>location</th>\n",
       "      <th>dims</th>\n",
       "      <th>East</th>\n",
       "      <th>South</th>\n",
       "      <th>Width</th>\n",
       "      <th>Height</th>\n",
       "    </tr>\n",
       "  </thead>\n",
       "  <tbody>\n",
       "    <tr>\n",
       "      <th>0</th>\n",
       "      <td>#1 @ 469,741: 22x26</td>\n",
       "      <td>[#1, @, 469,741:, 22x26]</td>\n",
       "      <td>1</td>\n",
       "      <td>[469, 741]</td>\n",
       "      <td>[22, 26]</td>\n",
       "      <td>469</td>\n",
       "      <td>741</td>\n",
       "      <td>22</td>\n",
       "      <td>26</td>\n",
       "    </tr>\n",
       "    <tr>\n",
       "      <th>1</th>\n",
       "      <td>#2 @ 290,985: 25x11</td>\n",
       "      <td>[#2, @, 290,985:, 25x11]</td>\n",
       "      <td>2</td>\n",
       "      <td>[290, 985]</td>\n",
       "      <td>[25, 11]</td>\n",
       "      <td>290</td>\n",
       "      <td>985</td>\n",
       "      <td>25</td>\n",
       "      <td>11</td>\n",
       "    </tr>\n",
       "    <tr>\n",
       "      <th>2</th>\n",
       "      <td>#3 @ 794,639: 21x28</td>\n",
       "      <td>[#3, @, 794,639:, 21x28]</td>\n",
       "      <td>3</td>\n",
       "      <td>[794, 639]</td>\n",
       "      <td>[21, 28]</td>\n",
       "      <td>794</td>\n",
       "      <td>639</td>\n",
       "      <td>21</td>\n",
       "      <td>28</td>\n",
       "    </tr>\n",
       "    <tr>\n",
       "      <th>3</th>\n",
       "      <td>#4 @ 969,266: 13x11</td>\n",
       "      <td>[#4, @, 969,266:, 13x11]</td>\n",
       "      <td>4</td>\n",
       "      <td>[969, 266]</td>\n",
       "      <td>[13, 11]</td>\n",
       "      <td>969</td>\n",
       "      <td>266</td>\n",
       "      <td>13</td>\n",
       "      <td>11</td>\n",
       "    </tr>\n",
       "    <tr>\n",
       "      <th>4</th>\n",
       "      <td>#5 @ 465,103: 24x10</td>\n",
       "      <td>[#5, @, 465,103:, 24x10]</td>\n",
       "      <td>5</td>\n",
       "      <td>[465, 103]</td>\n",
       "      <td>[24, 10]</td>\n",
       "      <td>465</td>\n",
       "      <td>103</td>\n",
       "      <td>24</td>\n",
       "      <td>10</td>\n",
       "    </tr>\n",
       "  </tbody>\n",
       "</table>\n",
       "</div>"
      ],
      "text/plain": [
       "                claims                claims_edt claim_id    location  \\\n",
       "0  #1 @ 469,741: 22x26  [#1, @, 469,741:, 22x26]        1  [469, 741]   \n",
       "1  #2 @ 290,985: 25x11  [#2, @, 290,985:, 25x11]        2  [290, 985]   \n",
       "2  #3 @ 794,639: 21x28  [#3, @, 794,639:, 21x28]        3  [794, 639]   \n",
       "3  #4 @ 969,266: 13x11  [#4, @, 969,266:, 13x11]        4  [969, 266]   \n",
       "4  #5 @ 465,103: 24x10  [#5, @, 465,103:, 24x10]        5  [465, 103]   \n",
       "\n",
       "       dims  East  South  Width  Height  \n",
       "0  [22, 26]   469    741     22      26  \n",
       "1  [25, 11]   290    985     25      11  \n",
       "2  [21, 28]   794    639     21      28  \n",
       "3  [13, 11]   969    266     13      11  \n",
       "4  [24, 10]   465    103     24      10  "
      ]
     },
     "execution_count": 28,
     "metadata": {},
     "output_type": "execute_result"
    }
   ],
   "source": [
    "df3.East = pd.to_numeric(df3.East)\n",
    "df3.South = pd.to_numeric(df3.South)\n",
    "df3.Width = pd.to_numeric(df3.Width)\n",
    "df3.Height = pd.to_numeric(df3.Height)\n",
    "df3.head()"
   ]
  },
  {
   "cell_type": "code",
   "execution_count": 29,
   "metadata": {},
   "outputs": [
    {
     "data": {
      "text/html": [
       "<div>\n",
       "<style scoped>\n",
       "    .dataframe tbody tr th:only-of-type {\n",
       "        vertical-align: middle;\n",
       "    }\n",
       "\n",
       "    .dataframe tbody tr th {\n",
       "        vertical-align: top;\n",
       "    }\n",
       "\n",
       "    .dataframe thead th {\n",
       "        text-align: right;\n",
       "    }\n",
       "</style>\n",
       "<table border=\"1\" class=\"dataframe\">\n",
       "  <thead>\n",
       "    <tr style=\"text-align: right;\">\n",
       "      <th></th>\n",
       "      <th>col1</th>\n",
       "    </tr>\n",
       "  </thead>\n",
       "  <tbody>\n",
       "    <tr>\n",
       "      <th>0</th>\n",
       "      <td>#1 @ 1,3: 4x4</td>\n",
       "    </tr>\n",
       "    <tr>\n",
       "      <th>1</th>\n",
       "      <td>#2 @ 3,1: 4x4</td>\n",
       "    </tr>\n",
       "    <tr>\n",
       "      <th>2</th>\n",
       "      <td>#3 @ 5,5: 2x2</td>\n",
       "    </tr>\n",
       "  </tbody>\n",
       "</table>\n",
       "</div>"
      ],
      "text/plain": [
       "            col1\n",
       "0  #1 @ 1,3: 4x4\n",
       "1  #2 @ 3,1: 4x4\n",
       "2  #3 @ 5,5: 2x2"
      ]
     },
     "execution_count": 29,
     "metadata": {},
     "output_type": "execute_result"
    }
   ],
   "source": [
    "#1 @ 1,3: 4x4\n",
    "#2 @ 3,1: 4x4\n",
    "#3 @ 5,5: 2x2\n",
    "test_dict = {'col1': ['#1 @ 1,3: 4x4', '#2 @ 3,1: 4x4','#3 @ 5,5: 2x2'],}\n",
    "df_test = pd.DataFrame(data=test_dict)\n",
    "df_test"
   ]
  },
  {
   "cell_type": "code",
   "execution_count": 30,
   "metadata": {},
   "outputs": [
    {
     "data": {
      "text/html": [
       "<div>\n",
       "<style scoped>\n",
       "    .dataframe tbody tr th:only-of-type {\n",
       "        vertical-align: middle;\n",
       "    }\n",
       "\n",
       "    .dataframe tbody tr th {\n",
       "        vertical-align: top;\n",
       "    }\n",
       "\n",
       "    .dataframe thead th {\n",
       "        text-align: right;\n",
       "    }\n",
       "</style>\n",
       "<table border=\"1\" class=\"dataframe\">\n",
       "  <thead>\n",
       "    <tr style=\"text-align: right;\">\n",
       "      <th></th>\n",
       "      <th>col1</th>\n",
       "      <th>claims_edt</th>\n",
       "      <th>claim_id</th>\n",
       "      <th>location</th>\n",
       "      <th>dims</th>\n",
       "      <th>East</th>\n",
       "      <th>South</th>\n",
       "      <th>Width</th>\n",
       "      <th>Height</th>\n",
       "    </tr>\n",
       "  </thead>\n",
       "  <tbody>\n",
       "    <tr>\n",
       "      <th>0</th>\n",
       "      <td>#1 @ 1,3: 4x4</td>\n",
       "      <td>[#1, @, 1,3:, 4x4]</td>\n",
       "      <td>1</td>\n",
       "      <td>[1, 3]</td>\n",
       "      <td>[4, 4]</td>\n",
       "      <td>1</td>\n",
       "      <td>3</td>\n",
       "      <td>4</td>\n",
       "      <td>4</td>\n",
       "    </tr>\n",
       "    <tr>\n",
       "      <th>1</th>\n",
       "      <td>#2 @ 3,1: 4x4</td>\n",
       "      <td>[#2, @, 3,1:, 4x4]</td>\n",
       "      <td>2</td>\n",
       "      <td>[3, 1]</td>\n",
       "      <td>[4, 4]</td>\n",
       "      <td>3</td>\n",
       "      <td>1</td>\n",
       "      <td>4</td>\n",
       "      <td>4</td>\n",
       "    </tr>\n",
       "    <tr>\n",
       "      <th>2</th>\n",
       "      <td>#3 @ 5,5: 2x2</td>\n",
       "      <td>[#3, @, 5,5:, 2x2]</td>\n",
       "      <td>3</td>\n",
       "      <td>[5, 5]</td>\n",
       "      <td>[2, 2]</td>\n",
       "      <td>5</td>\n",
       "      <td>5</td>\n",
       "      <td>2</td>\n",
       "      <td>2</td>\n",
       "    </tr>\n",
       "  </tbody>\n",
       "</table>\n",
       "</div>"
      ],
      "text/plain": [
       "            col1          claims_edt claim_id location    dims  East  South  \\\n",
       "0  #1 @ 1,3: 4x4  [#1, @, 1,3:, 4x4]        1   [1, 3]  [4, 4]     1      3   \n",
       "1  #2 @ 3,1: 4x4  [#2, @, 3,1:, 4x4]        2   [3, 1]  [4, 4]     3      1   \n",
       "2  #3 @ 5,5: 2x2  [#3, @, 5,5:, 2x2]        3   [5, 5]  [2, 2]     5      5   \n",
       "\n",
       "   Width  Height  \n",
       "0      4       4  \n",
       "1      4       4  \n",
       "2      2       2  "
      ]
     },
     "execution_count": 30,
     "metadata": {},
     "output_type": "execute_result"
    }
   ],
   "source": [
    "df_test['claims_edt'] = df_test.col1.str.split()\n",
    "df_test['claim_id'] = df_test['claims_edt'].str[0].str.replace('#','')\n",
    "df_test['location'] = df_test['claims_edt'].str[2].str.replace(':','')\n",
    "df_test['dims'] = df_test['claims_edt'].str[3]\n",
    "df_test.location = df_test.location.str.split(',')\n",
    "df_test.dims = df_test.dims.str.split('x')\n",
    "df_test['East'] = df_test.location.str[0]\n",
    "df_test['South'] = df_test.location.str[1]\n",
    "df_test['Width'] = df_test.dims.str[0]\n",
    "df_test['Height'] = df_test.dims.str[1]\n",
    "df_test.East = pd.to_numeric(df_test.East)\n",
    "df_test.South = pd.to_numeric(df_test.South)\n",
    "df_test.Width = pd.to_numeric(df_test.Width)\n",
    "df_test.Height = pd.to_numeric(df_test.Height)\n",
    "\n",
    "df_test"
   ]
  },
  {
   "cell_type": "markdown",
   "metadata": {},
   "source": [
    "The four square inches marked with X are claimed by both 1 and 2. (Claim 3, while adjacent to the others, does not overlap either of them.)\n",
    "\n",
    "If the Elves all proceed with their own plans, none of them will have enough fabric. How many square inches of fabric are within two or more claims?\n",
    "\n",
    "```\n",
    "#1 @ 1,3: 4x4\n",
    "#2 @ 3,1: 4x4\n",
    "#3 @ 5,5: 2x2\n",
    "```\n",
    "\n",
    "```\n",
    "........\n",
    "...2222.\n",
    "...2222.\n",
    ".11XX22.\n",
    ".11XX22.\n",
    ".111133.\n",
    ".111133.\n",
    "........\n",
    "```\n",
    "\n",
    "Answer == 4"
   ]
  },
  {
   "cell_type": "code",
   "execution_count": 31,
   "metadata": {},
   "outputs": [],
   "source": [
    "# get sheet dimensions"
   ]
  },
  {
   "cell_type": "code",
   "execution_count": 32,
   "metadata": {},
   "outputs": [
    {
     "data": {
      "text/plain": [
       "array([[0., 0., 0., 0., 0., 0., 0.],\n",
       "       [0., 0., 0., 0., 0., 0., 0.],\n",
       "       [0., 0., 0., 0., 0., 0., 0.],\n",
       "       [0., 0., 0., 0., 0., 0., 0.],\n",
       "       [0., 0., 0., 0., 0., 0., 0.],\n",
       "       [0., 0., 0., 0., 0., 0., 0.],\n",
       "       [0., 0., 0., 0., 0., 0., 0.]])"
      ]
     },
     "execution_count": 32,
     "metadata": {},
     "output_type": "execute_result"
    }
   ],
   "source": [
    "x = (7,7)\n",
    "sheet_test = np.zeros(x)\n",
    "sheet_test"
   ]
  },
  {
   "cell_type": "code",
   "execution_count": 33,
   "metadata": {},
   "outputs": [
    {
     "data": {
      "text/html": [
       "<div>\n",
       "<style scoped>\n",
       "    .dataframe tbody tr th:only-of-type {\n",
       "        vertical-align: middle;\n",
       "    }\n",
       "\n",
       "    .dataframe tbody tr th {\n",
       "        vertical-align: top;\n",
       "    }\n",
       "\n",
       "    .dataframe thead th {\n",
       "        text-align: right;\n",
       "    }\n",
       "</style>\n",
       "<table border=\"1\" class=\"dataframe\">\n",
       "  <thead>\n",
       "    <tr style=\"text-align: right;\">\n",
       "      <th></th>\n",
       "      <th>col1</th>\n",
       "      <th>claims_edt</th>\n",
       "      <th>claim_id</th>\n",
       "      <th>location</th>\n",
       "      <th>dims</th>\n",
       "      <th>East</th>\n",
       "      <th>South</th>\n",
       "      <th>Width</th>\n",
       "      <th>Height</th>\n",
       "    </tr>\n",
       "  </thead>\n",
       "  <tbody>\n",
       "    <tr>\n",
       "      <th>0</th>\n",
       "      <td>#1 @ 1,3: 4x4</td>\n",
       "      <td>[#1, @, 1,3:, 4x4]</td>\n",
       "      <td>1</td>\n",
       "      <td>[1, 3]</td>\n",
       "      <td>[4, 4]</td>\n",
       "      <td>1</td>\n",
       "      <td>3</td>\n",
       "      <td>4</td>\n",
       "      <td>4</td>\n",
       "    </tr>\n",
       "    <tr>\n",
       "      <th>1</th>\n",
       "      <td>#2 @ 3,1: 4x4</td>\n",
       "      <td>[#2, @, 3,1:, 4x4]</td>\n",
       "      <td>2</td>\n",
       "      <td>[3, 1]</td>\n",
       "      <td>[4, 4]</td>\n",
       "      <td>3</td>\n",
       "      <td>1</td>\n",
       "      <td>4</td>\n",
       "      <td>4</td>\n",
       "    </tr>\n",
       "    <tr>\n",
       "      <th>2</th>\n",
       "      <td>#3 @ 5,5: 2x2</td>\n",
       "      <td>[#3, @, 5,5:, 2x2]</td>\n",
       "      <td>3</td>\n",
       "      <td>[5, 5]</td>\n",
       "      <td>[2, 2]</td>\n",
       "      <td>5</td>\n",
       "      <td>5</td>\n",
       "      <td>2</td>\n",
       "      <td>2</td>\n",
       "    </tr>\n",
       "  </tbody>\n",
       "</table>\n",
       "</div>"
      ],
      "text/plain": [
       "            col1          claims_edt claim_id location    dims  East  South  \\\n",
       "0  #1 @ 1,3: 4x4  [#1, @, 1,3:, 4x4]        1   [1, 3]  [4, 4]     1      3   \n",
       "1  #2 @ 3,1: 4x4  [#2, @, 3,1:, 4x4]        2   [3, 1]  [4, 4]     3      1   \n",
       "2  #3 @ 5,5: 2x2  [#3, @, 5,5:, 2x2]        3   [5, 5]  [2, 2]     5      5   \n",
       "\n",
       "   Width  Height  \n",
       "0      4       4  \n",
       "1      4       4  \n",
       "2      2       2  "
      ]
     },
     "execution_count": 33,
     "metadata": {},
     "output_type": "execute_result"
    }
   ],
   "source": [
    "df_test"
   ]
  },
  {
   "cell_type": "code",
   "execution_count": 34,
   "metadata": {},
   "outputs": [
    {
     "data": {
      "text/plain": [
       "(7, 7)"
      ]
     },
     "execution_count": 34,
     "metadata": {},
     "output_type": "execute_result"
    }
   ],
   "source": [
    "df_test['east_extent'] = df_test.East + df_test.Width\n",
    "df_test['south_extent'] = df_test.South + df_test.Height\n",
    "sheet_x_max = df_test.east_extent.max()\n",
    "sheet_y_max = df_test.south_extent.max()\n",
    "sheet_x_max, sheet_y_max"
   ]
  },
  {
   "cell_type": "code",
   "execution_count": 35,
   "metadata": {},
   "outputs": [
    {
     "data": {
      "text/plain": [
       "array([[0., 0., 0., 0., 0., 0., 0.],\n",
       "       [0., 0., 0., 1., 1., 1., 1.],\n",
       "       [0., 0., 0., 1., 1., 1., 1.],\n",
       "       [0., 1., 1., 2., 2., 1., 1.],\n",
       "       [0., 1., 1., 2., 2., 1., 1.],\n",
       "       [0., 1., 1., 1., 1., 1., 1.],\n",
       "       [0., 1., 1., 1., 1., 1., 1.]])"
      ]
     },
     "execution_count": 35,
     "metadata": {},
     "output_type": "execute_result"
    }
   ],
   "source": [
    "for row in df_test.itertuples():\n",
    "    #print(row)\n",
    "    sheet_test[row.South : row.South + row.Height, row.East : row.East + row.Width] += 1\n",
    "sheet_test\n",
    "    "
   ]
  },
  {
   "cell_type": "code",
   "execution_count": 36,
   "metadata": {},
   "outputs": [
    {
     "data": {
      "text/plain": [
       "array([[0., 0., 0., 0., 0., 0., 0.],\n",
       "       [0., 0., 0., 0., 0., 0., 0.],\n",
       "       [0., 0., 0., 0., 0., 0., 0.],\n",
       "       [0., 0., 0., 0., 0., 0., 0.],\n",
       "       [0., 0., 0., 0., 0., 0., 0.],\n",
       "       [0., 0., 0., 0., 0., 0., 0.],\n",
       "       [0., 0., 0., 0., 0., 0., 0.]])"
      ]
     },
     "execution_count": 36,
     "metadata": {},
     "output_type": "execute_result"
    }
   ],
   "source": [
    "x = (7,7)\n",
    "sheet_test2 = np.zeros(x)\n",
    "sheet_test2"
   ]
  },
  {
   "cell_type": "code",
   "execution_count": 37,
   "metadata": {},
   "outputs": [
    {
     "name": "stdout",
     "output_type": "stream",
     "text": [
      "3\n"
     ]
    },
    {
     "data": {
      "text/plain": [
       "array([[0., 0., 0., 0., 0., 0., 0.],\n",
       "       [0., 0., 0., 0., 0., 0., 0.],\n",
       "       [0., 0., 0., 0., 0., 0., 0.],\n",
       "       [0., 0., 0., 0., 0., 0., 0.],\n",
       "       [0., 0., 0., 0., 0., 0., 0.],\n",
       "       [0., 0., 0., 0., 0., 3., 3.],\n",
       "       [0., 0., 0., 0., 0., 3., 3.]])"
      ]
     },
     "execution_count": 37,
     "metadata": {},
     "output_type": "execute_result"
    }
   ],
   "source": [
    "for row in df_test.itertuples():\n",
    "    #print(row)\n",
    "    if np.all(sheet_test2[row.South : row.South + row.Height, row.East : row.East + row.Width] == 0):\n",
    "        sheet_test2[row.South : row.South + row.Height, row.East : row.East + row.Width] += 1\n",
    "    else:\n",
    "        sheet_test2[row.South : row.South + row.Height, row.East : row.East + row.Width] = 0\n",
    "for row in df_test.itertuples():\n",
    "    if np.sum(sheet_test2[row.South : row.South + row.Height, row.East : row.East + row.Width]) != row.Height * row.Width:\n",
    "        sheet_test2[row.South : row.South + row.Height, row.East : row.East + row.Width] = 0\n",
    "    else:\n",
    "        sheet_test2[row.South : row.South + row.Height, row.East : row.East + row.Width] = row.claim_id\n",
    "        print(row.claim_id)  \n",
    "sheet_test2"
   ]
  },
  {
   "cell_type": "code",
   "execution_count": 38,
   "metadata": {},
   "outputs": [],
   "source": [
    "# count nb of squares where x > 1"
   ]
  },
  {
   "cell_type": "code",
   "execution_count": 39,
   "metadata": {},
   "outputs": [
    {
     "data": {
      "text/plain": [
       "array([[0, 0, 0, 0, 0, 0, 0],\n",
       "       [0, 0, 0, 0, 0, 0, 0],\n",
       "       [0, 0, 0, 0, 0, 0, 0],\n",
       "       [0, 0, 0, 1, 1, 0, 0],\n",
       "       [0, 0, 0, 1, 1, 0, 0],\n",
       "       [0, 0, 0, 0, 0, 0, 0],\n",
       "       [0, 0, 0, 0, 0, 0, 0]])"
      ]
     },
     "execution_count": 39,
     "metadata": {},
     "output_type": "execute_result"
    }
   ],
   "source": [
    "sheet_ = (sheet_test > 1).astype(int)\n",
    "sheet_"
   ]
  },
  {
   "cell_type": "code",
   "execution_count": 40,
   "metadata": {},
   "outputs": [
    {
     "data": {
      "text/plain": [
       "4"
      ]
     },
     "execution_count": 40,
     "metadata": {},
     "output_type": "execute_result"
    }
   ],
   "source": [
    "sheet_.sum()"
   ]
  },
  {
   "cell_type": "code",
   "execution_count": 41,
   "metadata": {},
   "outputs": [
    {
     "data": {
      "text/html": [
       "<div>\n",
       "<style scoped>\n",
       "    .dataframe tbody tr th:only-of-type {\n",
       "        vertical-align: middle;\n",
       "    }\n",
       "\n",
       "    .dataframe tbody tr th {\n",
       "        vertical-align: top;\n",
       "    }\n",
       "\n",
       "    .dataframe thead th {\n",
       "        text-align: right;\n",
       "    }\n",
       "</style>\n",
       "<table border=\"1\" class=\"dataframe\">\n",
       "  <thead>\n",
       "    <tr style=\"text-align: right;\">\n",
       "      <th></th>\n",
       "      <th>claims</th>\n",
       "      <th>claims_edt</th>\n",
       "      <th>claim_id</th>\n",
       "      <th>location</th>\n",
       "      <th>dims</th>\n",
       "      <th>East</th>\n",
       "      <th>South</th>\n",
       "      <th>Width</th>\n",
       "      <th>Height</th>\n",
       "    </tr>\n",
       "  </thead>\n",
       "  <tbody>\n",
       "    <tr>\n",
       "      <th>0</th>\n",
       "      <td>#1 @ 469,741: 22x26</td>\n",
       "      <td>[#1, @, 469,741:, 22x26]</td>\n",
       "      <td>1</td>\n",
       "      <td>[469, 741]</td>\n",
       "      <td>[22, 26]</td>\n",
       "      <td>469</td>\n",
       "      <td>741</td>\n",
       "      <td>22</td>\n",
       "      <td>26</td>\n",
       "    </tr>\n",
       "    <tr>\n",
       "      <th>1</th>\n",
       "      <td>#2 @ 290,985: 25x11</td>\n",
       "      <td>[#2, @, 290,985:, 25x11]</td>\n",
       "      <td>2</td>\n",
       "      <td>[290, 985]</td>\n",
       "      <td>[25, 11]</td>\n",
       "      <td>290</td>\n",
       "      <td>985</td>\n",
       "      <td>25</td>\n",
       "      <td>11</td>\n",
       "    </tr>\n",
       "    <tr>\n",
       "      <th>2</th>\n",
       "      <td>#3 @ 794,639: 21x28</td>\n",
       "      <td>[#3, @, 794,639:, 21x28]</td>\n",
       "      <td>3</td>\n",
       "      <td>[794, 639]</td>\n",
       "      <td>[21, 28]</td>\n",
       "      <td>794</td>\n",
       "      <td>639</td>\n",
       "      <td>21</td>\n",
       "      <td>28</td>\n",
       "    </tr>\n",
       "    <tr>\n",
       "      <th>3</th>\n",
       "      <td>#4 @ 969,266: 13x11</td>\n",
       "      <td>[#4, @, 969,266:, 13x11]</td>\n",
       "      <td>4</td>\n",
       "      <td>[969, 266]</td>\n",
       "      <td>[13, 11]</td>\n",
       "      <td>969</td>\n",
       "      <td>266</td>\n",
       "      <td>13</td>\n",
       "      <td>11</td>\n",
       "    </tr>\n",
       "    <tr>\n",
       "      <th>4</th>\n",
       "      <td>#5 @ 465,103: 24x10</td>\n",
       "      <td>[#5, @, 465,103:, 24x10]</td>\n",
       "      <td>5</td>\n",
       "      <td>[465, 103]</td>\n",
       "      <td>[24, 10]</td>\n",
       "      <td>465</td>\n",
       "      <td>103</td>\n",
       "      <td>24</td>\n",
       "      <td>10</td>\n",
       "    </tr>\n",
       "  </tbody>\n",
       "</table>\n",
       "</div>"
      ],
      "text/plain": [
       "                claims                claims_edt claim_id    location  \\\n",
       "0  #1 @ 469,741: 22x26  [#1, @, 469,741:, 22x26]        1  [469, 741]   \n",
       "1  #2 @ 290,985: 25x11  [#2, @, 290,985:, 25x11]        2  [290, 985]   \n",
       "2  #3 @ 794,639: 21x28  [#3, @, 794,639:, 21x28]        3  [794, 639]   \n",
       "3  #4 @ 969,266: 13x11  [#4, @, 969,266:, 13x11]        4  [969, 266]   \n",
       "4  #5 @ 465,103: 24x10  [#5, @, 465,103:, 24x10]        5  [465, 103]   \n",
       "\n",
       "       dims  East  South  Width  Height  \n",
       "0  [22, 26]   469    741     22      26  \n",
       "1  [25, 11]   290    985     25      11  \n",
       "2  [21, 28]   794    639     21      28  \n",
       "3  [13, 11]   969    266     13      11  \n",
       "4  [24, 10]   465    103     24      10  "
      ]
     },
     "execution_count": 41,
     "metadata": {},
     "output_type": "execute_result"
    }
   ],
   "source": [
    "# data\n",
    "df3.head()"
   ]
  },
  {
   "cell_type": "code",
   "execution_count": 42,
   "metadata": {},
   "outputs": [
    {
     "data": {
      "text/plain": [
       "(1000, 999)"
      ]
     },
     "execution_count": 42,
     "metadata": {},
     "output_type": "execute_result"
    }
   ],
   "source": [
    "# get sheet extent:\n",
    "df3['east_extent'] = df3.East + df3.Width\n",
    "df3['south_extent'] = df3.South + df3.Height\n",
    "sheet_x_max = df3.east_extent.max()\n",
    "sheet_y_max = df3.south_extent.max()\n",
    "sheet_x_max, sheet_y_max"
   ]
  },
  {
   "cell_type": "code",
   "execution_count": 43,
   "metadata": {},
   "outputs": [
    {
     "data": {
      "text/plain": [
       "array([[0., 0., 0., ..., 0., 0., 0.],\n",
       "       [0., 0., 0., ..., 0., 0., 0.],\n",
       "       [0., 0., 0., ..., 0., 0., 0.],\n",
       "       ...,\n",
       "       [0., 0., 0., ..., 0., 0., 0.],\n",
       "       [0., 0., 0., ..., 0., 0., 0.],\n",
       "       [0., 0., 0., ..., 0., 0., 0.]])"
      ]
     },
     "execution_count": 43,
     "metadata": {},
     "output_type": "execute_result"
    }
   ],
   "source": [
    "# create sheet\n",
    "x = (sheet_x_max, sheet_y_max)\n",
    "sheet = np.zeros(x)\n",
    "sheet"
   ]
  },
  {
   "cell_type": "code",
   "execution_count": 44,
   "metadata": {},
   "outputs": [],
   "source": [
    "# populate patches\n",
    "for row in df3.itertuples():\n",
    "    #print(row)\n",
    "    sheet[row.South : row.South + row.Height, row.East : row.East + row.Width] += 1   "
   ]
  },
  {
   "cell_type": "code",
   "execution_count": 45,
   "metadata": {},
   "outputs": [
    {
     "data": {
      "text/plain": [
       "96569"
      ]
     },
     "execution_count": 45,
     "metadata": {},
     "output_type": "execute_result"
    }
   ],
   "source": [
    "# count nb of saqures where x > 1\n",
    "sheet_ = (sheet > 1).astype(int)\n",
    "sheet_\n",
    "# result\n",
    "sheet_.sum()"
   ]
  },
  {
   "cell_type": "markdown",
   "metadata": {},
   "source": [
    "## Day 3 - part 2"
   ]
  },
  {
   "cell_type": "code",
   "execution_count": 46,
   "metadata": {},
   "outputs": [
    {
     "data": {
      "text/html": [
       "<div>\n",
       "<style scoped>\n",
       "    .dataframe tbody tr th:only-of-type {\n",
       "        vertical-align: middle;\n",
       "    }\n",
       "\n",
       "    .dataframe tbody tr th {\n",
       "        vertical-align: top;\n",
       "    }\n",
       "\n",
       "    .dataframe thead th {\n",
       "        text-align: right;\n",
       "    }\n",
       "</style>\n",
       "<table border=\"1\" class=\"dataframe\">\n",
       "  <thead>\n",
       "    <tr style=\"text-align: right;\">\n",
       "      <th></th>\n",
       "      <th>claims</th>\n",
       "      <th>claims_edt</th>\n",
       "      <th>claim_id</th>\n",
       "      <th>location</th>\n",
       "      <th>dims</th>\n",
       "      <th>East</th>\n",
       "      <th>South</th>\n",
       "      <th>Width</th>\n",
       "      <th>Height</th>\n",
       "      <th>east_extent</th>\n",
       "      <th>south_extent</th>\n",
       "    </tr>\n",
       "  </thead>\n",
       "  <tbody>\n",
       "    <tr>\n",
       "      <th>0</th>\n",
       "      <td>#1 @ 469,741: 22x26</td>\n",
       "      <td>[#1, @, 469,741:, 22x26]</td>\n",
       "      <td>1</td>\n",
       "      <td>[469, 741]</td>\n",
       "      <td>[22, 26]</td>\n",
       "      <td>469</td>\n",
       "      <td>741</td>\n",
       "      <td>22</td>\n",
       "      <td>26</td>\n",
       "      <td>491</td>\n",
       "      <td>767</td>\n",
       "    </tr>\n",
       "    <tr>\n",
       "      <th>1</th>\n",
       "      <td>#2 @ 290,985: 25x11</td>\n",
       "      <td>[#2, @, 290,985:, 25x11]</td>\n",
       "      <td>2</td>\n",
       "      <td>[290, 985]</td>\n",
       "      <td>[25, 11]</td>\n",
       "      <td>290</td>\n",
       "      <td>985</td>\n",
       "      <td>25</td>\n",
       "      <td>11</td>\n",
       "      <td>315</td>\n",
       "      <td>996</td>\n",
       "    </tr>\n",
       "    <tr>\n",
       "      <th>2</th>\n",
       "      <td>#3 @ 794,639: 21x28</td>\n",
       "      <td>[#3, @, 794,639:, 21x28]</td>\n",
       "      <td>3</td>\n",
       "      <td>[794, 639]</td>\n",
       "      <td>[21, 28]</td>\n",
       "      <td>794</td>\n",
       "      <td>639</td>\n",
       "      <td>21</td>\n",
       "      <td>28</td>\n",
       "      <td>815</td>\n",
       "      <td>667</td>\n",
       "    </tr>\n",
       "    <tr>\n",
       "      <th>3</th>\n",
       "      <td>#4 @ 969,266: 13x11</td>\n",
       "      <td>[#4, @, 969,266:, 13x11]</td>\n",
       "      <td>4</td>\n",
       "      <td>[969, 266]</td>\n",
       "      <td>[13, 11]</td>\n",
       "      <td>969</td>\n",
       "      <td>266</td>\n",
       "      <td>13</td>\n",
       "      <td>11</td>\n",
       "      <td>982</td>\n",
       "      <td>277</td>\n",
       "    </tr>\n",
       "    <tr>\n",
       "      <th>4</th>\n",
       "      <td>#5 @ 465,103: 24x10</td>\n",
       "      <td>[#5, @, 465,103:, 24x10]</td>\n",
       "      <td>5</td>\n",
       "      <td>[465, 103]</td>\n",
       "      <td>[24, 10]</td>\n",
       "      <td>465</td>\n",
       "      <td>103</td>\n",
       "      <td>24</td>\n",
       "      <td>10</td>\n",
       "      <td>489</td>\n",
       "      <td>113</td>\n",
       "    </tr>\n",
       "  </tbody>\n",
       "</table>\n",
       "</div>"
      ],
      "text/plain": [
       "                claims                claims_edt claim_id    location  \\\n",
       "0  #1 @ 469,741: 22x26  [#1, @, 469,741:, 22x26]        1  [469, 741]   \n",
       "1  #2 @ 290,985: 25x11  [#2, @, 290,985:, 25x11]        2  [290, 985]   \n",
       "2  #3 @ 794,639: 21x28  [#3, @, 794,639:, 21x28]        3  [794, 639]   \n",
       "3  #4 @ 969,266: 13x11  [#4, @, 969,266:, 13x11]        4  [969, 266]   \n",
       "4  #5 @ 465,103: 24x10  [#5, @, 465,103:, 24x10]        5  [465, 103]   \n",
       "\n",
       "       dims  East  South  Width  Height  east_extent  south_extent  \n",
       "0  [22, 26]   469    741     22      26          491           767  \n",
       "1  [25, 11]   290    985     25      11          315           996  \n",
       "2  [21, 28]   794    639     21      28          815           667  \n",
       "3  [13, 11]   969    266     13      11          982           277  \n",
       "4  [24, 10]   465    103     24      10          489           113  "
      ]
     },
     "execution_count": 46,
     "metadata": {},
     "output_type": "execute_result"
    }
   ],
   "source": [
    "# data\n",
    "df3.head()"
   ]
  },
  {
   "cell_type": "code",
   "execution_count": 47,
   "metadata": {},
   "outputs": [
    {
     "data": {
      "text/plain": [
       "96569"
      ]
     },
     "execution_count": 47,
     "metadata": {},
     "output_type": "execute_result"
    }
   ],
   "source": [
    "# get sheet extent:\n",
    "df3['east_extent'] = df3.East + df3.Width\n",
    "df3['south_extent'] = df3.South + df3.Height\n",
    "sheet_x_max = df3.east_extent.max()\n",
    "sheet_y_max = df3.south_extent.max()\n",
    "#sheet_x_max, sheet_y_max\n",
    "# create sheet\n",
    "x = (sheet_x_max, sheet_y_max)\n",
    "sheet = np.zeros(x)\n",
    "#sheet\n",
    "# populate patches\n",
    "for row in df3.itertuples():\n",
    "    #print(row)\n",
    "    sheet[row.South : row.South + row.Height, row.East : row.East + row.Width] += 1 \n",
    "# count nb of saqures where x > 1\n",
    "sheet_ = (sheet > 1).astype(int)\n",
    "sheet_\n",
    "# result\n",
    "sheet_.sum()"
   ]
  },
  {
   "cell_type": "code",
   "execution_count": 48,
   "metadata": {},
   "outputs": [
    {
     "data": {
      "text/plain": [
       "array([[0., 0., 0., ..., 0., 0., 0.],\n",
       "       [0., 0., 0., ..., 0., 0., 0.],\n",
       "       [0., 0., 0., ..., 0., 0., 0.],\n",
       "       ...,\n",
       "       [0., 0., 0., ..., 0., 0., 0.],\n",
       "       [0., 0., 0., ..., 0., 0., 0.],\n",
       "       [0., 0., 0., ..., 0., 0., 0.]])"
      ]
     },
     "execution_count": 48,
     "metadata": {},
     "output_type": "execute_result"
    }
   ],
   "source": [
    "for row in df3.itertuples():\n",
    "    #print(row)\n",
    "    if np.all(sheet[row.South : row.South + row.Height, row.East : row.East + row.Width] == 0):\n",
    "        sheet[row.South : row.South + row.Height, row.East : row.East + row.Width] += 1\n",
    "    else:\n",
    "        sheet[row.South : row.South + row.Height, row.East : row.East + row.Width] = 0\n",
    "for row in df3.itertuples():\n",
    "    if np.sum(sheet[row.South : row.South + row.Height, row.East : row.East + row.Width]) != row.Height * row.Width:\n",
    "        sheet[row.South : row.South + row.Height, row.East : row.East + row.Width] = 0\n",
    "    else:\n",
    "        sheet[row.South : row.South + row.Height, row.East : row.East + row.Width] = row.claim_id\n",
    "        print(row.claim_id)  \n",
    "sheet"
   ]
  },
  {
   "cell_type": "markdown",
   "metadata": {},
   "source": [
    "## Day 4 - part 1"
   ]
  },
  {
   "cell_type": "markdown",
   "metadata": {},
   "source": [
    "```\n",
    "[1518-11-01 00:00] Guard #10 begins shift\n",
    "[1518-11-01 00:05] falls asleep\n",
    "[1518-11-01 00:25] wakes up\n",
    "[1518-11-01 00:30] falls asleep\n",
    "[1518-11-01 00:55] wakes up\n",
    "[1518-11-01 23:58] Guard #99 begins shift\n",
    "[1518-11-02 00:40] falls asleep\n",
    "[1518-11-02 00:50] wakes up\n",
    "[1518-11-03 00:05] Guard #10 begins shift\n",
    "[1518-11-03 00:24] falls asleep\n",
    "[1518-11-03 00:29] wakes up\n",
    "[1518-11-04 00:02] Guard #99 begins shift\n",
    "[1518-11-04 00:36] falls asleep\n",
    "[1518-11-04 00:46] wakes up\n",
    "[1518-11-05 00:03] Guard #99 begins shift\n",
    "[1518-11-05 00:45] falls asleep\n",
    "[1518-11-05 00:55] wakes up\n",
    "```\n",
    "\n",
    "year-month-day hour:minute\n",
    "\n",
    "```\n",
    "Date   ID   Minute\n",
    "            000000000011111111112222222222333333333344444444445555555555\n",
    "            012345678901234567890123456789012345678901234567890123456789\n",
    "11-01  #10  .....####################.....#########################.....\n",
    "11-02  #99  ........................................##########..........\n",
    "11-03  #10  ........................#####...............................\n",
    "11-04  #99  ....................................##########..............\n",
    "11-05  #99  .............................................##########.....\n",
    "```\n",
    "\n",
    "What is the ID of the guard you chose multiplied by the minute you chose? (In the above example, the answer would be 10 * 24 = 240.)"
   ]
  },
  {
   "cell_type": "code",
   "execution_count": 49,
   "metadata": {},
   "outputs": [],
   "source": [
    "df4 = pd.read_csv('../data/advent_of_code/day4.txt', header=None, names=['raw'])"
   ]
  },
  {
   "cell_type": "code",
   "execution_count": 50,
   "metadata": {},
   "outputs": [],
   "source": [
    "df4_test = pd.read_csv('../data/advent_of_code/day4_test.txt', header=None, names=['raw'])"
   ]
  },
  {
   "cell_type": "code",
   "execution_count": 51,
   "metadata": {},
   "outputs": [
    {
     "data": {
      "text/html": [
       "<div>\n",
       "<style scoped>\n",
       "    .dataframe tbody tr th:only-of-type {\n",
       "        vertical-align: middle;\n",
       "    }\n",
       "\n",
       "    .dataframe tbody tr th {\n",
       "        vertical-align: top;\n",
       "    }\n",
       "\n",
       "    .dataframe thead th {\n",
       "        text-align: right;\n",
       "    }\n",
       "</style>\n",
       "<table border=\"1\" class=\"dataframe\">\n",
       "  <thead>\n",
       "    <tr style=\"text-align: right;\">\n",
       "      <th></th>\n",
       "      <th>raw</th>\n",
       "      <th>splitted</th>\n",
       "    </tr>\n",
       "  </thead>\n",
       "  <tbody>\n",
       "    <tr>\n",
       "      <th>0</th>\n",
       "      <td>[1518-07-03 23:58] Guard #2437 begins shift</td>\n",
       "      <td>[[1518-07-03, 23:58], Guard, #2437, begins, sh...</td>\n",
       "    </tr>\n",
       "    <tr>\n",
       "      <th>1</th>\n",
       "      <td>[1518-09-23 00:54] falls asleep</td>\n",
       "      <td>[[1518-09-23, 00:54], falls, asleep]</td>\n",
       "    </tr>\n",
       "    <tr>\n",
       "      <th>2</th>\n",
       "      <td>[1518-05-08 00:02] Guard #659 begins shift</td>\n",
       "      <td>[[1518-05-08, 00:02], Guard, #659, begins, shift]</td>\n",
       "    </tr>\n",
       "    <tr>\n",
       "      <th>3</th>\n",
       "      <td>[1518-06-09 00:52] falls asleep</td>\n",
       "      <td>[[1518-06-09, 00:52], falls, asleep]</td>\n",
       "    </tr>\n",
       "    <tr>\n",
       "      <th>4</th>\n",
       "      <td>[1518-07-27 00:59] wakes up</td>\n",
       "      <td>[[1518-07-27, 00:59], wakes, up]</td>\n",
       "    </tr>\n",
       "  </tbody>\n",
       "</table>\n",
       "</div>"
      ],
      "text/plain": [
       "                                           raw  \\\n",
       "0  [1518-07-03 23:58] Guard #2437 begins shift   \n",
       "1              [1518-09-23 00:54] falls asleep   \n",
       "2   [1518-05-08 00:02] Guard #659 begins shift   \n",
       "3              [1518-06-09 00:52] falls asleep   \n",
       "4                  [1518-07-27 00:59] wakes up   \n",
       "\n",
       "                                            splitted  \n",
       "0  [[1518-07-03, 23:58], Guard, #2437, begins, sh...  \n",
       "1               [[1518-09-23, 00:54], falls, asleep]  \n",
       "2  [[1518-05-08, 00:02], Guard, #659, begins, shift]  \n",
       "3               [[1518-06-09, 00:52], falls, asleep]  \n",
       "4                   [[1518-07-27, 00:59], wakes, up]  "
      ]
     },
     "execution_count": 51,
     "metadata": {},
     "output_type": "execute_result"
    }
   ],
   "source": [
    "df4['splitted'] = df4.raw.str.split()\n",
    "df4.head()"
   ]
  },
  {
   "cell_type": "code",
   "execution_count": 52,
   "metadata": {},
   "outputs": [
    {
     "data": {
      "text/html": [
       "<div>\n",
       "<style scoped>\n",
       "    .dataframe tbody tr th:only-of-type {\n",
       "        vertical-align: middle;\n",
       "    }\n",
       "\n",
       "    .dataframe tbody tr th {\n",
       "        vertical-align: top;\n",
       "    }\n",
       "\n",
       "    .dataframe thead th {\n",
       "        text-align: right;\n",
       "    }\n",
       "</style>\n",
       "<table border=\"1\" class=\"dataframe\">\n",
       "  <thead>\n",
       "    <tr style=\"text-align: right;\">\n",
       "      <th></th>\n",
       "      <th>raw</th>\n",
       "      <th>splitted</th>\n",
       "    </tr>\n",
       "  </thead>\n",
       "  <tbody>\n",
       "    <tr>\n",
       "      <th>0</th>\n",
       "      <td>[1518-11-01 00:00] Guard #10 begins shift</td>\n",
       "      <td>[[1518-11-01, 00:00], Guard, #10, begins, shift]</td>\n",
       "    </tr>\n",
       "    <tr>\n",
       "      <th>1</th>\n",
       "      <td>[1518-11-01 00:05] falls asleep</td>\n",
       "      <td>[[1518-11-01, 00:05], falls, asleep]</td>\n",
       "    </tr>\n",
       "    <tr>\n",
       "      <th>2</th>\n",
       "      <td>[1518-11-01 00:25] wakes up</td>\n",
       "      <td>[[1518-11-01, 00:25], wakes, up]</td>\n",
       "    </tr>\n",
       "    <tr>\n",
       "      <th>3</th>\n",
       "      <td>[1518-11-01 00:30] falls asleep</td>\n",
       "      <td>[[1518-11-01, 00:30], falls, asleep]</td>\n",
       "    </tr>\n",
       "    <tr>\n",
       "      <th>4</th>\n",
       "      <td>[1518-11-01 00:55] wakes up</td>\n",
       "      <td>[[1518-11-01, 00:55], wakes, up]</td>\n",
       "    </tr>\n",
       "  </tbody>\n",
       "</table>\n",
       "</div>"
      ],
      "text/plain": [
       "                                         raw  \\\n",
       "0  [1518-11-01 00:00] Guard #10 begins shift   \n",
       "1            [1518-11-01 00:05] falls asleep   \n",
       "2                [1518-11-01 00:25] wakes up   \n",
       "3            [1518-11-01 00:30] falls asleep   \n",
       "4                [1518-11-01 00:55] wakes up   \n",
       "\n",
       "                                           splitted  \n",
       "0  [[1518-11-01, 00:00], Guard, #10, begins, shift]  \n",
       "1              [[1518-11-01, 00:05], falls, asleep]  \n",
       "2                  [[1518-11-01, 00:25], wakes, up]  \n",
       "3              [[1518-11-01, 00:30], falls, asleep]  \n",
       "4                  [[1518-11-01, 00:55], wakes, up]  "
      ]
     },
     "execution_count": 52,
     "metadata": {},
     "output_type": "execute_result"
    }
   ],
   "source": [
    "df4_test['splitted'] = df4_test.raw.str.split()\n",
    "df4_test.head()"
   ]
  },
  {
   "cell_type": "code",
   "execution_count": 53,
   "metadata": {},
   "outputs": [],
   "source": [
    "# fix time to datetime\n",
    "# datetime.datetime(year=1518,month=07,day=03,23,58)\n",
    "# example:\n",
    "t = datetime.datetime(year=1518,month=7,day=3,hour=23,minute=58)"
   ]
  },
  {
   "cell_type": "code",
   "execution_count": 54,
   "metadata": {},
   "outputs": [
    {
     "data": {
      "text/html": [
       "<div>\n",
       "<style scoped>\n",
       "    .dataframe tbody tr th:only-of-type {\n",
       "        vertical-align: middle;\n",
       "    }\n",
       "\n",
       "    .dataframe tbody tr th {\n",
       "        vertical-align: top;\n",
       "    }\n",
       "\n",
       "    .dataframe thead th {\n",
       "        text-align: right;\n",
       "    }\n",
       "</style>\n",
       "<table border=\"1\" class=\"dataframe\">\n",
       "  <thead>\n",
       "    <tr style=\"text-align: right;\">\n",
       "      <th></th>\n",
       "      <th>raw</th>\n",
       "      <th>splitted</th>\n",
       "      <th>time</th>\n",
       "      <th>guard</th>\n",
       "      <th>guard_id</th>\n",
       "      <th>shift_start</th>\n",
       "      <th>sleep_stat</th>\n",
       "    </tr>\n",
       "  </thead>\n",
       "  <tbody>\n",
       "    <tr>\n",
       "      <th>0</th>\n",
       "      <td>[1518-07-03 23:58] Guard #2437 begins shift</td>\n",
       "      <td>[[1518-07-03, 23:58], Guard, #2437, begins, sh...</td>\n",
       "      <td>1518-07-03 23:58:00</td>\n",
       "      <td>Guard</td>\n",
       "      <td>2437</td>\n",
       "      <td>begins shift</td>\n",
       "      <td>NaN</td>\n",
       "    </tr>\n",
       "    <tr>\n",
       "      <th>1</th>\n",
       "      <td>[1518-09-23 00:54] falls asleep</td>\n",
       "      <td>[[1518-09-23, 00:54], falls, asleep]</td>\n",
       "      <td>1518-09-23 00:54:00</td>\n",
       "      <td>NaN</td>\n",
       "      <td>NaN</td>\n",
       "      <td>NaN</td>\n",
       "      <td>falls asleep</td>\n",
       "    </tr>\n",
       "    <tr>\n",
       "      <th>2</th>\n",
       "      <td>[1518-05-08 00:02] Guard #659 begins shift</td>\n",
       "      <td>[[1518-05-08, 00:02], Guard, #659, begins, shift]</td>\n",
       "      <td>1518-05-08 00:02:00</td>\n",
       "      <td>Guard</td>\n",
       "      <td>659</td>\n",
       "      <td>begins shift</td>\n",
       "      <td>NaN</td>\n",
       "    </tr>\n",
       "    <tr>\n",
       "      <th>3</th>\n",
       "      <td>[1518-06-09 00:52] falls asleep</td>\n",
       "      <td>[[1518-06-09, 00:52], falls, asleep]</td>\n",
       "      <td>1518-06-09 00:52:00</td>\n",
       "      <td>NaN</td>\n",
       "      <td>NaN</td>\n",
       "      <td>NaN</td>\n",
       "      <td>falls asleep</td>\n",
       "    </tr>\n",
       "    <tr>\n",
       "      <th>4</th>\n",
       "      <td>[1518-07-27 00:59] wakes up</td>\n",
       "      <td>[[1518-07-27, 00:59], wakes, up]</td>\n",
       "      <td>1518-07-27 00:59:00</td>\n",
       "      <td>NaN</td>\n",
       "      <td>NaN</td>\n",
       "      <td>NaN</td>\n",
       "      <td>wakes up</td>\n",
       "    </tr>\n",
       "  </tbody>\n",
       "</table>\n",
       "</div>"
      ],
      "text/plain": [
       "                                           raw  \\\n",
       "0  [1518-07-03 23:58] Guard #2437 begins shift   \n",
       "1              [1518-09-23 00:54] falls asleep   \n",
       "2   [1518-05-08 00:02] Guard #659 begins shift   \n",
       "3              [1518-06-09 00:52] falls asleep   \n",
       "4                  [1518-07-27 00:59] wakes up   \n",
       "\n",
       "                                            splitted                 time  \\\n",
       "0  [[1518-07-03, 23:58], Guard, #2437, begins, sh...  1518-07-03 23:58:00   \n",
       "1               [[1518-09-23, 00:54], falls, asleep]  1518-09-23 00:54:00   \n",
       "2  [[1518-05-08, 00:02], Guard, #659, begins, shift]  1518-05-08 00:02:00   \n",
       "3               [[1518-06-09, 00:52], falls, asleep]  1518-06-09 00:52:00   \n",
       "4                   [[1518-07-27, 00:59], wakes, up]  1518-07-27 00:59:00   \n",
       "\n",
       "   guard guard_id   shift_start    sleep_stat  \n",
       "0  Guard     2437  begins shift           NaN  \n",
       "1    NaN      NaN           NaN  falls asleep  \n",
       "2  Guard      659  begins shift           NaN  \n",
       "3    NaN      NaN           NaN  falls asleep  \n",
       "4    NaN      NaN           NaN      wakes up  "
      ]
     },
     "execution_count": 54,
     "metadata": {},
     "output_type": "execute_result"
    }
   ],
   "source": [
    "# need to convert time to datetime\n",
    "df4['time'] = df4.splitted.str[0].str.replace('[', '') + ' ' + df4.splitted.str[1].str.replace(']','')\n",
    "df4['guard'], df4['guard_id'], df4['shift_start'], df4['sleep_stat'] = '','','',''\n",
    "for row in df4.itertuples():\n",
    "    time = df4.loc[row.Index, 'time']\n",
    "    df4.loc[row.Index, 'time'] = datetime.datetime.strptime(time, \"%Y-%m-%d %H:%M\")\n",
    "    if 'Guard' in row.splitted:\n",
    "        df4.loc[row.Index, 'guard'] = df4.loc[row.Index, 'splitted'][2]\n",
    "        df4.loc[row.Index, 'guard_id'] = df4.loc[row.Index, 'splitted'][3].replace('#', '')\n",
    "        df4.loc[row.Index, 'shift_start'] = df4.loc[row.Index, 'splitted'][4] + ' ' + df4.loc[row.Index, 'splitted'][5]\n",
    "        df4.loc[row.Index, 'sleep_stat'] = np.nan\n",
    "    else:\n",
    "        df4.loc[row.Index, 'guard'] = np.nan\n",
    "        df4.loc[row.Index, 'guard_id'] = np.nan\n",
    "        df4.loc[row.Index, 'shift_start'] = np.nan\n",
    "        df4.loc[row.Index, 'sleep_stat'] = df4.loc[row.Index, 'splitted'][2] + ' ' + df4.loc[row.Index, 'splitted'][3]\n",
    "df4.head()"
   ]
  },
  {
   "cell_type": "code",
   "execution_count": 55,
   "metadata": {},
   "outputs": [],
   "source": [
    "# need to convert time to datetime\n",
    "df4_test['time'] = df4_test.splitted.str[0].str.replace('[', '') + ' ' + df4_test.splitted.str[1].str.replace(']','')\n",
    "df4_test['guard'], df4_test['guard_id'], df4_test['shift_start'], df4_test['sleep_stat'] = '','','',''\n",
    "for row in df4_test.itertuples():\n",
    "    time = df4_test.loc[row.Index, 'time']\n",
    "    df4_test.loc[row.Index, 'time'] = datetime.datetime.strptime(time, \"%Y-%m-%d %H:%M\")\n",
    "    if 'Guard' in row.splitted:\n",
    "        df4_test.loc[row.Index, 'guard'] = df4_test.loc[row.Index, 'splitted'][2]\n",
    "        df4_test.loc[row.Index, 'guard_id'] = df4_test.loc[row.Index, 'splitted'][3].replace('#', '')\n",
    "        df4_test.loc[row.Index, 'shift_start'] = df4_test.loc[row.Index, 'splitted'][4] + ' ' + df4_test.loc[row.Index, 'splitted'][5]\n",
    "        df4_test.loc[row.Index, 'sleep_stat'] = np.nan\n",
    "    else:\n",
    "        df4_test.loc[row.Index, 'guard'] = np.nan\n",
    "        df4_test.loc[row.Index, 'guard_id'] = np.nan\n",
    "        df4_test.loc[row.Index, 'shift_start'] = np.nan\n",
    "        df4_test.loc[row.Index, 'sleep_stat'] = df4_test.loc[row.Index, 'splitted'][2] + ' ' + df4_test.loc[row.Index, 'splitted'][3]"
   ]
  },
  {
   "cell_type": "code",
   "execution_count": 56,
   "metadata": {},
   "outputs": [
    {
     "data": {
      "text/html": [
       "<div>\n",
       "<style scoped>\n",
       "    .dataframe tbody tr th:only-of-type {\n",
       "        vertical-align: middle;\n",
       "    }\n",
       "\n",
       "    .dataframe tbody tr th {\n",
       "        vertical-align: top;\n",
       "    }\n",
       "\n",
       "    .dataframe thead th {\n",
       "        text-align: right;\n",
       "    }\n",
       "</style>\n",
       "<table border=\"1\" class=\"dataframe\">\n",
       "  <thead>\n",
       "    <tr style=\"text-align: right;\">\n",
       "      <th></th>\n",
       "      <th>raw</th>\n",
       "      <th>splitted</th>\n",
       "      <th>time</th>\n",
       "      <th>guard</th>\n",
       "      <th>guard_id</th>\n",
       "      <th>shift_start</th>\n",
       "      <th>sleep_stat</th>\n",
       "    </tr>\n",
       "  </thead>\n",
       "  <tbody>\n",
       "    <tr>\n",
       "      <th>168</th>\n",
       "      <td>[1518-02-21 23:56] Guard #2239 begins shift</td>\n",
       "      <td>[[1518-02-21, 23:56], Guard, #2239, begins, sh...</td>\n",
       "      <td>1518-02-21 23:56:00</td>\n",
       "      <td>Guard</td>\n",
       "      <td>2239</td>\n",
       "      <td>begins shift</td>\n",
       "      <td>NaN</td>\n",
       "    </tr>\n",
       "    <tr>\n",
       "      <th>854</th>\n",
       "      <td>[1518-02-22 00:19] falls asleep</td>\n",
       "      <td>[[1518-02-22, 00:19], falls, asleep]</td>\n",
       "      <td>1518-02-22 00:19:00</td>\n",
       "      <td>NaN</td>\n",
       "      <td>NaN</td>\n",
       "      <td>NaN</td>\n",
       "      <td>falls asleep</td>\n",
       "    </tr>\n",
       "    <tr>\n",
       "      <th>913</th>\n",
       "      <td>[1518-02-22 00:37] wakes up</td>\n",
       "      <td>[[1518-02-22, 00:37], wakes, up]</td>\n",
       "      <td>1518-02-22 00:37:00</td>\n",
       "      <td>NaN</td>\n",
       "      <td>NaN</td>\n",
       "      <td>NaN</td>\n",
       "      <td>wakes up</td>\n",
       "    </tr>\n",
       "    <tr>\n",
       "      <th>243</th>\n",
       "      <td>[1518-02-22 00:44] falls asleep</td>\n",
       "      <td>[[1518-02-22, 00:44], falls, asleep]</td>\n",
       "      <td>1518-02-22 00:44:00</td>\n",
       "      <td>NaN</td>\n",
       "      <td>NaN</td>\n",
       "      <td>NaN</td>\n",
       "      <td>falls asleep</td>\n",
       "    </tr>\n",
       "    <tr>\n",
       "      <th>963</th>\n",
       "      <td>[1518-02-22 00:54] wakes up</td>\n",
       "      <td>[[1518-02-22, 00:54], wakes, up]</td>\n",
       "      <td>1518-02-22 00:54:00</td>\n",
       "      <td>NaN</td>\n",
       "      <td>NaN</td>\n",
       "      <td>NaN</td>\n",
       "      <td>wakes up</td>\n",
       "    </tr>\n",
       "  </tbody>\n",
       "</table>\n",
       "</div>"
      ],
      "text/plain": [
       "                                             raw  \\\n",
       "168  [1518-02-21 23:56] Guard #2239 begins shift   \n",
       "854              [1518-02-22 00:19] falls asleep   \n",
       "913                  [1518-02-22 00:37] wakes up   \n",
       "243              [1518-02-22 00:44] falls asleep   \n",
       "963                  [1518-02-22 00:54] wakes up   \n",
       "\n",
       "                                              splitted                 time  \\\n",
       "168  [[1518-02-21, 23:56], Guard, #2239, begins, sh...  1518-02-21 23:56:00   \n",
       "854               [[1518-02-22, 00:19], falls, asleep]  1518-02-22 00:19:00   \n",
       "913                   [[1518-02-22, 00:37], wakes, up]  1518-02-22 00:37:00   \n",
       "243               [[1518-02-22, 00:44], falls, asleep]  1518-02-22 00:44:00   \n",
       "963                   [[1518-02-22, 00:54], wakes, up]  1518-02-22 00:54:00   \n",
       "\n",
       "     guard guard_id   shift_start    sleep_stat  \n",
       "168  Guard     2239  begins shift           NaN  \n",
       "854    NaN      NaN           NaN  falls asleep  \n",
       "913    NaN      NaN           NaN      wakes up  \n",
       "243    NaN      NaN           NaN  falls asleep  \n",
       "963    NaN      NaN           NaN      wakes up  "
      ]
     },
     "execution_count": 56,
     "metadata": {},
     "output_type": "execute_result"
    }
   ],
   "source": [
    "df4 = df4.sort_values(by=['time'])\n",
    "df4.head()"
   ]
  },
  {
   "cell_type": "code",
   "execution_count": 57,
   "metadata": {},
   "outputs": [],
   "source": [
    "df4_test = df4_test.sort_values(by=['time'])"
   ]
  },
  {
   "cell_type": "code",
   "execution_count": 58,
   "metadata": {},
   "outputs": [],
   "source": [
    "df4.reset_index(drop=True, inplace=True)"
   ]
  },
  {
   "cell_type": "code",
   "execution_count": 59,
   "metadata": {},
   "outputs": [],
   "source": [
    "df4_test.reset_index(drop=True, inplace=True)"
   ]
  },
  {
   "cell_type": "code",
   "execution_count": 60,
   "metadata": {},
   "outputs": [
    {
     "data": {
      "text/html": [
       "<div>\n",
       "<style scoped>\n",
       "    .dataframe tbody tr th:only-of-type {\n",
       "        vertical-align: middle;\n",
       "    }\n",
       "\n",
       "    .dataframe tbody tr th {\n",
       "        vertical-align: top;\n",
       "    }\n",
       "\n",
       "    .dataframe thead th {\n",
       "        text-align: right;\n",
       "    }\n",
       "</style>\n",
       "<table border=\"1\" class=\"dataframe\">\n",
       "  <thead>\n",
       "    <tr style=\"text-align: right;\">\n",
       "      <th></th>\n",
       "      <th>raw</th>\n",
       "      <th>splitted</th>\n",
       "      <th>time</th>\n",
       "      <th>guard</th>\n",
       "      <th>guard_id</th>\n",
       "      <th>shift_start</th>\n",
       "      <th>sleep_stat</th>\n",
       "    </tr>\n",
       "  </thead>\n",
       "  <tbody>\n",
       "    <tr>\n",
       "      <th>0</th>\n",
       "      <td>[1518-02-21 23:56] Guard #2239 begins shift</td>\n",
       "      <td>[[1518-02-21, 23:56], Guard, #2239, begins, sh...</td>\n",
       "      <td>1518-02-21 23:56:00</td>\n",
       "      <td>Guard</td>\n",
       "      <td>2239</td>\n",
       "      <td>begins shift</td>\n",
       "      <td>NaN</td>\n",
       "    </tr>\n",
       "    <tr>\n",
       "      <th>1</th>\n",
       "      <td>[1518-02-22 00:19] falls asleep</td>\n",
       "      <td>[[1518-02-22, 00:19], falls, asleep]</td>\n",
       "      <td>1518-02-22 00:19:00</td>\n",
       "      <td>NaN</td>\n",
       "      <td>NaN</td>\n",
       "      <td>NaN</td>\n",
       "      <td>falls asleep</td>\n",
       "    </tr>\n",
       "    <tr>\n",
       "      <th>2</th>\n",
       "      <td>[1518-02-22 00:37] wakes up</td>\n",
       "      <td>[[1518-02-22, 00:37], wakes, up]</td>\n",
       "      <td>1518-02-22 00:37:00</td>\n",
       "      <td>NaN</td>\n",
       "      <td>NaN</td>\n",
       "      <td>NaN</td>\n",
       "      <td>wakes up</td>\n",
       "    </tr>\n",
       "    <tr>\n",
       "      <th>3</th>\n",
       "      <td>[1518-02-22 00:44] falls asleep</td>\n",
       "      <td>[[1518-02-22, 00:44], falls, asleep]</td>\n",
       "      <td>1518-02-22 00:44:00</td>\n",
       "      <td>NaN</td>\n",
       "      <td>NaN</td>\n",
       "      <td>NaN</td>\n",
       "      <td>falls asleep</td>\n",
       "    </tr>\n",
       "    <tr>\n",
       "      <th>4</th>\n",
       "      <td>[1518-02-22 00:54] wakes up</td>\n",
       "      <td>[[1518-02-22, 00:54], wakes, up]</td>\n",
       "      <td>1518-02-22 00:54:00</td>\n",
       "      <td>NaN</td>\n",
       "      <td>NaN</td>\n",
       "      <td>NaN</td>\n",
       "      <td>wakes up</td>\n",
       "    </tr>\n",
       "  </tbody>\n",
       "</table>\n",
       "</div>"
      ],
      "text/plain": [
       "                                           raw  \\\n",
       "0  [1518-02-21 23:56] Guard #2239 begins shift   \n",
       "1              [1518-02-22 00:19] falls asleep   \n",
       "2                  [1518-02-22 00:37] wakes up   \n",
       "3              [1518-02-22 00:44] falls asleep   \n",
       "4                  [1518-02-22 00:54] wakes up   \n",
       "\n",
       "                                            splitted                 time  \\\n",
       "0  [[1518-02-21, 23:56], Guard, #2239, begins, sh...  1518-02-21 23:56:00   \n",
       "1               [[1518-02-22, 00:19], falls, asleep]  1518-02-22 00:19:00   \n",
       "2                   [[1518-02-22, 00:37], wakes, up]  1518-02-22 00:37:00   \n",
       "3               [[1518-02-22, 00:44], falls, asleep]  1518-02-22 00:44:00   \n",
       "4                   [[1518-02-22, 00:54], wakes, up]  1518-02-22 00:54:00   \n",
       "\n",
       "   guard guard_id   shift_start    sleep_stat  \n",
       "0  Guard     2239  begins shift           NaN  \n",
       "1    NaN      NaN           NaN  falls asleep  \n",
       "2    NaN      NaN           NaN      wakes up  \n",
       "3    NaN      NaN           NaN  falls asleep  \n",
       "4    NaN      NaN           NaN      wakes up  "
      ]
     },
     "execution_count": 60,
     "metadata": {},
     "output_type": "execute_result"
    }
   ],
   "source": [
    "df4.head()"
   ]
  },
  {
   "cell_type": "code",
   "execution_count": 61,
   "metadata": {},
   "outputs": [],
   "source": [
    "df4.drop(columns=['raw', 'splitted'], inplace=True)"
   ]
  },
  {
   "cell_type": "code",
   "execution_count": 62,
   "metadata": {},
   "outputs": [],
   "source": [
    "df4_test.drop(columns=['raw', 'splitted'], inplace=True)"
   ]
  },
  {
   "cell_type": "code",
   "execution_count": 63,
   "metadata": {},
   "outputs": [
    {
     "data": {
      "text/html": [
       "<div>\n",
       "<style scoped>\n",
       "    .dataframe tbody tr th:only-of-type {\n",
       "        vertical-align: middle;\n",
       "    }\n",
       "\n",
       "    .dataframe tbody tr th {\n",
       "        vertical-align: top;\n",
       "    }\n",
       "\n",
       "    .dataframe thead th {\n",
       "        text-align: right;\n",
       "    }\n",
       "</style>\n",
       "<table border=\"1\" class=\"dataframe\">\n",
       "  <thead>\n",
       "    <tr style=\"text-align: right;\">\n",
       "      <th></th>\n",
       "      <th>time</th>\n",
       "      <th>guard</th>\n",
       "      <th>guard_id</th>\n",
       "      <th>shift_start</th>\n",
       "      <th>sleep_stat</th>\n",
       "    </tr>\n",
       "  </thead>\n",
       "  <tbody>\n",
       "    <tr>\n",
       "      <th>0</th>\n",
       "      <td>1518-02-21 23:56:00</td>\n",
       "      <td>Guard</td>\n",
       "      <td>2239</td>\n",
       "      <td>begins shift</td>\n",
       "      <td>NaN</td>\n",
       "    </tr>\n",
       "    <tr>\n",
       "      <th>1</th>\n",
       "      <td>1518-02-22 00:19:00</td>\n",
       "      <td>NaN</td>\n",
       "      <td>NaN</td>\n",
       "      <td>NaN</td>\n",
       "      <td>falls asleep</td>\n",
       "    </tr>\n",
       "    <tr>\n",
       "      <th>2</th>\n",
       "      <td>1518-02-22 00:37:00</td>\n",
       "      <td>NaN</td>\n",
       "      <td>NaN</td>\n",
       "      <td>NaN</td>\n",
       "      <td>wakes up</td>\n",
       "    </tr>\n",
       "    <tr>\n",
       "      <th>3</th>\n",
       "      <td>1518-02-22 00:44:00</td>\n",
       "      <td>NaN</td>\n",
       "      <td>NaN</td>\n",
       "      <td>NaN</td>\n",
       "      <td>falls asleep</td>\n",
       "    </tr>\n",
       "    <tr>\n",
       "      <th>4</th>\n",
       "      <td>1518-02-22 00:54:00</td>\n",
       "      <td>NaN</td>\n",
       "      <td>NaN</td>\n",
       "      <td>NaN</td>\n",
       "      <td>wakes up</td>\n",
       "    </tr>\n",
       "    <tr>\n",
       "      <th>5</th>\n",
       "      <td>1518-02-23 00:00:00</td>\n",
       "      <td>Guard</td>\n",
       "      <td>3323</td>\n",
       "      <td>begins shift</td>\n",
       "      <td>NaN</td>\n",
       "    </tr>\n",
       "    <tr>\n",
       "      <th>6</th>\n",
       "      <td>1518-02-23 00:31:00</td>\n",
       "      <td>NaN</td>\n",
       "      <td>NaN</td>\n",
       "      <td>NaN</td>\n",
       "      <td>falls asleep</td>\n",
       "    </tr>\n",
       "    <tr>\n",
       "      <th>7</th>\n",
       "      <td>1518-02-23 00:40:00</td>\n",
       "      <td>NaN</td>\n",
       "      <td>NaN</td>\n",
       "      <td>NaN</td>\n",
       "      <td>wakes up</td>\n",
       "    </tr>\n",
       "    <tr>\n",
       "      <th>8</th>\n",
       "      <td>1518-02-23 00:43:00</td>\n",
       "      <td>NaN</td>\n",
       "      <td>NaN</td>\n",
       "      <td>NaN</td>\n",
       "      <td>falls asleep</td>\n",
       "    </tr>\n",
       "    <tr>\n",
       "      <th>9</th>\n",
       "      <td>1518-02-23 00:50:00</td>\n",
       "      <td>NaN</td>\n",
       "      <td>NaN</td>\n",
       "      <td>NaN</td>\n",
       "      <td>wakes up</td>\n",
       "    </tr>\n",
       "  </tbody>\n",
       "</table>\n",
       "</div>"
      ],
      "text/plain": [
       "                  time  guard guard_id   shift_start    sleep_stat\n",
       "0  1518-02-21 23:56:00  Guard     2239  begins shift           NaN\n",
       "1  1518-02-22 00:19:00    NaN      NaN           NaN  falls asleep\n",
       "2  1518-02-22 00:37:00    NaN      NaN           NaN      wakes up\n",
       "3  1518-02-22 00:44:00    NaN      NaN           NaN  falls asleep\n",
       "4  1518-02-22 00:54:00    NaN      NaN           NaN      wakes up\n",
       "5  1518-02-23 00:00:00  Guard     3323  begins shift           NaN\n",
       "6  1518-02-23 00:31:00    NaN      NaN           NaN  falls asleep\n",
       "7  1518-02-23 00:40:00    NaN      NaN           NaN      wakes up\n",
       "8  1518-02-23 00:43:00    NaN      NaN           NaN  falls asleep\n",
       "9  1518-02-23 00:50:00    NaN      NaN           NaN      wakes up"
      ]
     },
     "execution_count": 63,
     "metadata": {},
     "output_type": "execute_result"
    }
   ],
   "source": [
    "df4.head(10)"
   ]
  },
  {
   "cell_type": "code",
   "execution_count": 64,
   "metadata": {},
   "outputs": [],
   "source": [
    "df4['asleep'] = np.nan\n",
    "for row in df4.itertuples():\n",
    "    #print(row.asleep)\n",
    "    if row.guard == 'Guard':\n",
    "        continue\n",
    "    if np.isnan(row.guard):\n",
    "        df4.loc[row.Index, 'guard_id'] = df4.loc[row.Index - 1, 'guard_id']\n",
    "    if row.sleep_stat == 'falls asleep':\n",
    "        start_sleep = row.time.minute\n",
    "    if row.sleep_stat == 'wakes up':\n",
    "        asleep_time = row.time.minute - start_sleep\n",
    "        df4.loc[row.Index,'asleep'] = asleep_time"
   ]
  },
  {
   "cell_type": "code",
   "execution_count": 65,
   "metadata": {},
   "outputs": [],
   "source": [
    "df4_test['asleep'] = np.nan\n",
    "for row in df4_test.itertuples():\n",
    "    #print(row.asleep)\n",
    "    if row.guard == 'Guard':\n",
    "        continue\n",
    "    if np.isnan(row.guard):\n",
    "        df4_test.loc[row.Index, 'guard_id'] = df4_test.loc[row.Index - 1, 'guard_id']\n",
    "    if row.sleep_stat == 'falls asleep':\n",
    "        start_sleep = row.time.minute\n",
    "    if row.sleep_stat == 'wakes up':\n",
    "        asleep_time = row.time.minute - start_sleep\n",
    "        df4_test.loc[row.Index,'asleep'] = asleep_time"
   ]
  },
  {
   "cell_type": "code",
   "execution_count": 66,
   "metadata": {},
   "outputs": [
    {
     "data": {
      "text/html": [
       "<div>\n",
       "<style scoped>\n",
       "    .dataframe tbody tr th:only-of-type {\n",
       "        vertical-align: middle;\n",
       "    }\n",
       "\n",
       "    .dataframe tbody tr th {\n",
       "        vertical-align: top;\n",
       "    }\n",
       "\n",
       "    .dataframe thead th {\n",
       "        text-align: right;\n",
       "    }\n",
       "</style>\n",
       "<table border=\"1\" class=\"dataframe\">\n",
       "  <thead>\n",
       "    <tr style=\"text-align: right;\">\n",
       "      <th></th>\n",
       "      <th>time</th>\n",
       "      <th>guard</th>\n",
       "      <th>guard_id</th>\n",
       "      <th>shift_start</th>\n",
       "      <th>sleep_stat</th>\n",
       "      <th>asleep</th>\n",
       "    </tr>\n",
       "  </thead>\n",
       "  <tbody>\n",
       "    <tr>\n",
       "      <th>0</th>\n",
       "      <td>1518-02-21 23:56:00</td>\n",
       "      <td>Guard</td>\n",
       "      <td>2239</td>\n",
       "      <td>begins shift</td>\n",
       "      <td>NaN</td>\n",
       "      <td>NaN</td>\n",
       "    </tr>\n",
       "    <tr>\n",
       "      <th>1</th>\n",
       "      <td>1518-02-22 00:19:00</td>\n",
       "      <td>NaN</td>\n",
       "      <td>2239</td>\n",
       "      <td>NaN</td>\n",
       "      <td>falls asleep</td>\n",
       "      <td>NaN</td>\n",
       "    </tr>\n",
       "    <tr>\n",
       "      <th>2</th>\n",
       "      <td>1518-02-22 00:37:00</td>\n",
       "      <td>NaN</td>\n",
       "      <td>2239</td>\n",
       "      <td>NaN</td>\n",
       "      <td>wakes up</td>\n",
       "      <td>18.0</td>\n",
       "    </tr>\n",
       "    <tr>\n",
       "      <th>3</th>\n",
       "      <td>1518-02-22 00:44:00</td>\n",
       "      <td>NaN</td>\n",
       "      <td>2239</td>\n",
       "      <td>NaN</td>\n",
       "      <td>falls asleep</td>\n",
       "      <td>NaN</td>\n",
       "    </tr>\n",
       "    <tr>\n",
       "      <th>4</th>\n",
       "      <td>1518-02-22 00:54:00</td>\n",
       "      <td>NaN</td>\n",
       "      <td>2239</td>\n",
       "      <td>NaN</td>\n",
       "      <td>wakes up</td>\n",
       "      <td>10.0</td>\n",
       "    </tr>\n",
       "    <tr>\n",
       "      <th>5</th>\n",
       "      <td>1518-02-23 00:00:00</td>\n",
       "      <td>Guard</td>\n",
       "      <td>3323</td>\n",
       "      <td>begins shift</td>\n",
       "      <td>NaN</td>\n",
       "      <td>NaN</td>\n",
       "    </tr>\n",
       "    <tr>\n",
       "      <th>6</th>\n",
       "      <td>1518-02-23 00:31:00</td>\n",
       "      <td>NaN</td>\n",
       "      <td>3323</td>\n",
       "      <td>NaN</td>\n",
       "      <td>falls asleep</td>\n",
       "      <td>NaN</td>\n",
       "    </tr>\n",
       "    <tr>\n",
       "      <th>7</th>\n",
       "      <td>1518-02-23 00:40:00</td>\n",
       "      <td>NaN</td>\n",
       "      <td>3323</td>\n",
       "      <td>NaN</td>\n",
       "      <td>wakes up</td>\n",
       "      <td>9.0</td>\n",
       "    </tr>\n",
       "    <tr>\n",
       "      <th>8</th>\n",
       "      <td>1518-02-23 00:43:00</td>\n",
       "      <td>NaN</td>\n",
       "      <td>3323</td>\n",
       "      <td>NaN</td>\n",
       "      <td>falls asleep</td>\n",
       "      <td>NaN</td>\n",
       "    </tr>\n",
       "    <tr>\n",
       "      <th>9</th>\n",
       "      <td>1518-02-23 00:50:00</td>\n",
       "      <td>NaN</td>\n",
       "      <td>3323</td>\n",
       "      <td>NaN</td>\n",
       "      <td>wakes up</td>\n",
       "      <td>7.0</td>\n",
       "    </tr>\n",
       "    <tr>\n",
       "      <th>10</th>\n",
       "      <td>1518-02-23 23:59:00</td>\n",
       "      <td>Guard</td>\n",
       "      <td>1303</td>\n",
       "      <td>begins shift</td>\n",
       "      <td>NaN</td>\n",
       "      <td>NaN</td>\n",
       "    </tr>\n",
       "    <tr>\n",
       "      <th>11</th>\n",
       "      <td>1518-02-24 00:27:00</td>\n",
       "      <td>NaN</td>\n",
       "      <td>1303</td>\n",
       "      <td>NaN</td>\n",
       "      <td>falls asleep</td>\n",
       "      <td>NaN</td>\n",
       "    </tr>\n",
       "    <tr>\n",
       "      <th>12</th>\n",
       "      <td>1518-02-24 00:35:00</td>\n",
       "      <td>NaN</td>\n",
       "      <td>1303</td>\n",
       "      <td>NaN</td>\n",
       "      <td>wakes up</td>\n",
       "      <td>8.0</td>\n",
       "    </tr>\n",
       "    <tr>\n",
       "      <th>13</th>\n",
       "      <td>1518-02-24 00:53:00</td>\n",
       "      <td>NaN</td>\n",
       "      <td>1303</td>\n",
       "      <td>NaN</td>\n",
       "      <td>falls asleep</td>\n",
       "      <td>NaN</td>\n",
       "    </tr>\n",
       "    <tr>\n",
       "      <th>14</th>\n",
       "      <td>1518-02-24 00:59:00</td>\n",
       "      <td>NaN</td>\n",
       "      <td>1303</td>\n",
       "      <td>NaN</td>\n",
       "      <td>wakes up</td>\n",
       "      <td>6.0</td>\n",
       "    </tr>\n",
       "  </tbody>\n",
       "</table>\n",
       "</div>"
      ],
      "text/plain": [
       "                   time  guard guard_id   shift_start    sleep_stat  asleep\n",
       "0   1518-02-21 23:56:00  Guard     2239  begins shift           NaN     NaN\n",
       "1   1518-02-22 00:19:00    NaN     2239           NaN  falls asleep     NaN\n",
       "2   1518-02-22 00:37:00    NaN     2239           NaN      wakes up    18.0\n",
       "3   1518-02-22 00:44:00    NaN     2239           NaN  falls asleep     NaN\n",
       "4   1518-02-22 00:54:00    NaN     2239           NaN      wakes up    10.0\n",
       "5   1518-02-23 00:00:00  Guard     3323  begins shift           NaN     NaN\n",
       "6   1518-02-23 00:31:00    NaN     3323           NaN  falls asleep     NaN\n",
       "7   1518-02-23 00:40:00    NaN     3323           NaN      wakes up     9.0\n",
       "8   1518-02-23 00:43:00    NaN     3323           NaN  falls asleep     NaN\n",
       "9   1518-02-23 00:50:00    NaN     3323           NaN      wakes up     7.0\n",
       "10  1518-02-23 23:59:00  Guard     1303  begins shift           NaN     NaN\n",
       "11  1518-02-24 00:27:00    NaN     1303           NaN  falls asleep     NaN\n",
       "12  1518-02-24 00:35:00    NaN     1303           NaN      wakes up     8.0\n",
       "13  1518-02-24 00:53:00    NaN     1303           NaN  falls asleep     NaN\n",
       "14  1518-02-24 00:59:00    NaN     1303           NaN      wakes up     6.0"
      ]
     },
     "execution_count": 66,
     "metadata": {},
     "output_type": "execute_result"
    }
   ],
   "source": [
    "df4.head(15)"
   ]
  },
  {
   "cell_type": "code",
   "execution_count": 67,
   "metadata": {},
   "outputs": [
    {
     "data": {
      "text/html": [
       "<div>\n",
       "<style scoped>\n",
       "    .dataframe tbody tr th:only-of-type {\n",
       "        vertical-align: middle;\n",
       "    }\n",
       "\n",
       "    .dataframe tbody tr th {\n",
       "        vertical-align: top;\n",
       "    }\n",
       "\n",
       "    .dataframe thead th {\n",
       "        text-align: right;\n",
       "    }\n",
       "</style>\n",
       "<table border=\"1\" class=\"dataframe\">\n",
       "  <thead>\n",
       "    <tr style=\"text-align: right;\">\n",
       "      <th></th>\n",
       "      <th>asleep</th>\n",
       "    </tr>\n",
       "    <tr>\n",
       "      <th>guard_id</th>\n",
       "      <th></th>\n",
       "    </tr>\n",
       "  </thead>\n",
       "  <tbody>\n",
       "    <tr>\n",
       "      <th>1901</th>\n",
       "      <td>551.0</td>\n",
       "    </tr>\n",
       "    <tr>\n",
       "      <th>2437</th>\n",
       "      <td>492.0</td>\n",
       "    </tr>\n",
       "    <tr>\n",
       "      <th>1307</th>\n",
       "      <td>491.0</td>\n",
       "    </tr>\n",
       "    <tr>\n",
       "      <th>1447</th>\n",
       "      <td>487.0</td>\n",
       "    </tr>\n",
       "    <tr>\n",
       "      <th>3011</th>\n",
       "      <td>450.0</td>\n",
       "    </tr>\n",
       "  </tbody>\n",
       "</table>\n",
       "</div>"
      ],
      "text/plain": [
       "          asleep\n",
       "guard_id        \n",
       "1901       551.0\n",
       "2437       492.0\n",
       "1307       491.0\n",
       "1447       487.0\n",
       "3011       450.0"
      ]
     },
     "execution_count": 67,
     "metadata": {},
     "output_type": "execute_result"
    }
   ],
   "source": [
    "df4.groupby(df4.guard_id).sum().sort_values('asleep', ascending=False).head()"
   ]
  },
  {
   "cell_type": "code",
   "execution_count": 68,
   "metadata": {},
   "outputs": [
    {
     "data": {
      "text/html": [
       "<div>\n",
       "<style scoped>\n",
       "    .dataframe tbody tr th:only-of-type {\n",
       "        vertical-align: middle;\n",
       "    }\n",
       "\n",
       "    .dataframe tbody tr th {\n",
       "        vertical-align: top;\n",
       "    }\n",
       "\n",
       "    .dataframe thead th {\n",
       "        text-align: right;\n",
       "    }\n",
       "</style>\n",
       "<table border=\"1\" class=\"dataframe\">\n",
       "  <thead>\n",
       "    <tr style=\"text-align: right;\">\n",
       "      <th></th>\n",
       "      <th>asleep</th>\n",
       "    </tr>\n",
       "    <tr>\n",
       "      <th>guard_id</th>\n",
       "      <th></th>\n",
       "    </tr>\n",
       "  </thead>\n",
       "  <tbody>\n",
       "    <tr>\n",
       "      <th>10</th>\n",
       "      <td>50.0</td>\n",
       "    </tr>\n",
       "    <tr>\n",
       "      <th>99</th>\n",
       "      <td>30.0</td>\n",
       "    </tr>\n",
       "  </tbody>\n",
       "</table>\n",
       "</div>"
      ],
      "text/plain": [
       "          asleep\n",
       "guard_id        \n",
       "10          50.0\n",
       "99          30.0"
      ]
     },
     "execution_count": 68,
     "metadata": {},
     "output_type": "execute_result"
    }
   ],
   "source": [
    "df4_test.groupby(df4_test.guard_id).sum().sort_values('asleep', ascending=False).head()"
   ]
  },
  {
   "cell_type": "code",
   "execution_count": 69,
   "metadata": {},
   "outputs": [
    {
     "data": {
      "text/plain": [
       "56"
      ]
     },
     "execution_count": 69,
     "metadata": {},
     "output_type": "execute_result"
    }
   ],
   "source": [
    "df4.time[0].minute"
   ]
  },
  {
   "cell_type": "code",
   "execution_count": 70,
   "metadata": {},
   "outputs": [],
   "source": [
    "df4_ = df4.loc[df4['guard_id'] == '1901'].copy()"
   ]
  },
  {
   "cell_type": "code",
   "execution_count": 71,
   "metadata": {},
   "outputs": [],
   "source": [
    "df4_test_ = df4_test.loc[df4_test['guard_id'] == '10'].copy()"
   ]
  },
  {
   "cell_type": "code",
   "execution_count": 72,
   "metadata": {},
   "outputs": [],
   "source": [
    "df4_test_.reset_index(drop=True, inplace=True)"
   ]
  },
  {
   "cell_type": "code",
   "execution_count": 73,
   "metadata": {},
   "outputs": [
    {
     "data": {
      "text/html": [
       "<div>\n",
       "<style scoped>\n",
       "    .dataframe tbody tr th:only-of-type {\n",
       "        vertical-align: middle;\n",
       "    }\n",
       "\n",
       "    .dataframe tbody tr th {\n",
       "        vertical-align: top;\n",
       "    }\n",
       "\n",
       "    .dataframe thead th {\n",
       "        text-align: right;\n",
       "    }\n",
       "</style>\n",
       "<table border=\"1\" class=\"dataframe\">\n",
       "  <thead>\n",
       "    <tr style=\"text-align: right;\">\n",
       "      <th></th>\n",
       "      <th>time</th>\n",
       "      <th>guard</th>\n",
       "      <th>guard_id</th>\n",
       "      <th>shift_start</th>\n",
       "      <th>sleep_stat</th>\n",
       "      <th>asleep</th>\n",
       "    </tr>\n",
       "  </thead>\n",
       "  <tbody>\n",
       "    <tr>\n",
       "      <th>20</th>\n",
       "      <td>1518-02-25 23:57:00</td>\n",
       "      <td>Guard</td>\n",
       "      <td>1901</td>\n",
       "      <td>begins shift</td>\n",
       "      <td>NaN</td>\n",
       "      <td>NaN</td>\n",
       "    </tr>\n",
       "    <tr>\n",
       "      <th>21</th>\n",
       "      <td>1518-02-26 00:22:00</td>\n",
       "      <td>NaN</td>\n",
       "      <td>1901</td>\n",
       "      <td>NaN</td>\n",
       "      <td>falls asleep</td>\n",
       "      <td>NaN</td>\n",
       "    </tr>\n",
       "    <tr>\n",
       "      <th>22</th>\n",
       "      <td>1518-02-26 00:58:00</td>\n",
       "      <td>NaN</td>\n",
       "      <td>1901</td>\n",
       "      <td>NaN</td>\n",
       "      <td>wakes up</td>\n",
       "      <td>36.0</td>\n",
       "    </tr>\n",
       "    <tr>\n",
       "      <th>56</th>\n",
       "      <td>1518-03-08 00:00:00</td>\n",
       "      <td>Guard</td>\n",
       "      <td>1901</td>\n",
       "      <td>begins shift</td>\n",
       "      <td>NaN</td>\n",
       "      <td>NaN</td>\n",
       "    </tr>\n",
       "    <tr>\n",
       "      <th>57</th>\n",
       "      <td>1518-03-08 00:39:00</td>\n",
       "      <td>NaN</td>\n",
       "      <td>1901</td>\n",
       "      <td>NaN</td>\n",
       "      <td>falls asleep</td>\n",
       "      <td>NaN</td>\n",
       "    </tr>\n",
       "  </tbody>\n",
       "</table>\n",
       "</div>"
      ],
      "text/plain": [
       "                   time  guard guard_id   shift_start    sleep_stat  asleep\n",
       "20  1518-02-25 23:57:00  Guard     1901  begins shift           NaN     NaN\n",
       "21  1518-02-26 00:22:00    NaN     1901           NaN  falls asleep     NaN\n",
       "22  1518-02-26 00:58:00    NaN     1901           NaN      wakes up    36.0\n",
       "56  1518-03-08 00:00:00  Guard     1901  begins shift           NaN     NaN\n",
       "57  1518-03-08 00:39:00    NaN     1901           NaN  falls asleep     NaN"
      ]
     },
     "execution_count": 73,
     "metadata": {},
     "output_type": "execute_result"
    }
   ],
   "source": [
    "df4_.head()"
   ]
  },
  {
   "cell_type": "code",
   "execution_count": 74,
   "metadata": {},
   "outputs": [],
   "source": [
    "df4_['minute'] = np.nan"
   ]
  },
  {
   "cell_type": "code",
   "execution_count": 75,
   "metadata": {},
   "outputs": [],
   "source": [
    "df4_test_['minute'] = np.nan"
   ]
  },
  {
   "cell_type": "code",
   "execution_count": 76,
   "metadata": {},
   "outputs": [
    {
     "data": {
      "text/html": [
       "<div>\n",
       "<style scoped>\n",
       "    .dataframe tbody tr th:only-of-type {\n",
       "        vertical-align: middle;\n",
       "    }\n",
       "\n",
       "    .dataframe tbody tr th {\n",
       "        vertical-align: top;\n",
       "    }\n",
       "\n",
       "    .dataframe thead th {\n",
       "        text-align: right;\n",
       "    }\n",
       "</style>\n",
       "<table border=\"1\" class=\"dataframe\">\n",
       "  <thead>\n",
       "    <tr style=\"text-align: right;\">\n",
       "      <th></th>\n",
       "      <th>time</th>\n",
       "      <th>guard</th>\n",
       "      <th>guard_id</th>\n",
       "      <th>shift_start</th>\n",
       "      <th>sleep_stat</th>\n",
       "      <th>asleep</th>\n",
       "      <th>minute</th>\n",
       "    </tr>\n",
       "  </thead>\n",
       "  <tbody>\n",
       "    <tr>\n",
       "      <th>20</th>\n",
       "      <td>1518-02-25 23:57:00</td>\n",
       "      <td>Guard</td>\n",
       "      <td>1901</td>\n",
       "      <td>begins shift</td>\n",
       "      <td>NaN</td>\n",
       "      <td>NaN</td>\n",
       "      <td>NaN</td>\n",
       "    </tr>\n",
       "    <tr>\n",
       "      <th>21</th>\n",
       "      <td>1518-02-26 00:22:00</td>\n",
       "      <td>NaN</td>\n",
       "      <td>1901</td>\n",
       "      <td>NaN</td>\n",
       "      <td>falls asleep</td>\n",
       "      <td>NaN</td>\n",
       "      <td>NaN</td>\n",
       "    </tr>\n",
       "    <tr>\n",
       "      <th>22</th>\n",
       "      <td>1518-02-26 00:58:00</td>\n",
       "      <td>NaN</td>\n",
       "      <td>1901</td>\n",
       "      <td>NaN</td>\n",
       "      <td>wakes up</td>\n",
       "      <td>36.0</td>\n",
       "      <td>NaN</td>\n",
       "    </tr>\n",
       "    <tr>\n",
       "      <th>56</th>\n",
       "      <td>1518-03-08 00:00:00</td>\n",
       "      <td>Guard</td>\n",
       "      <td>1901</td>\n",
       "      <td>begins shift</td>\n",
       "      <td>NaN</td>\n",
       "      <td>NaN</td>\n",
       "      <td>NaN</td>\n",
       "    </tr>\n",
       "    <tr>\n",
       "      <th>57</th>\n",
       "      <td>1518-03-08 00:39:00</td>\n",
       "      <td>NaN</td>\n",
       "      <td>1901</td>\n",
       "      <td>NaN</td>\n",
       "      <td>falls asleep</td>\n",
       "      <td>NaN</td>\n",
       "      <td>NaN</td>\n",
       "    </tr>\n",
       "  </tbody>\n",
       "</table>\n",
       "</div>"
      ],
      "text/plain": [
       "                   time  guard guard_id   shift_start    sleep_stat  asleep  \\\n",
       "20  1518-02-25 23:57:00  Guard     1901  begins shift           NaN     NaN   \n",
       "21  1518-02-26 00:22:00    NaN     1901           NaN  falls asleep     NaN   \n",
       "22  1518-02-26 00:58:00    NaN     1901           NaN      wakes up    36.0   \n",
       "56  1518-03-08 00:00:00  Guard     1901  begins shift           NaN     NaN   \n",
       "57  1518-03-08 00:39:00    NaN     1901           NaN  falls asleep     NaN   \n",
       "\n",
       "    minute  \n",
       "20     NaN  \n",
       "21     NaN  \n",
       "22     NaN  \n",
       "56     NaN  \n",
       "57     NaN  "
      ]
     },
     "execution_count": 76,
     "metadata": {},
     "output_type": "execute_result"
    }
   ],
   "source": [
    "df4_.head()"
   ]
  },
  {
   "cell_type": "code",
   "execution_count": 77,
   "metadata": {},
   "outputs": [],
   "source": [
    "for row in df4_.itertuples():\n",
    "    df4_.loc[row.Index, 'minute'] = row.time.minute"
   ]
  },
  {
   "cell_type": "code",
   "execution_count": 78,
   "metadata": {},
   "outputs": [],
   "source": [
    "for row in df4_test_.itertuples():\n",
    "    df4_test_.loc[row.Index, 'minute'] = row.time.minute"
   ]
  },
  {
   "cell_type": "code",
   "execution_count": 79,
   "metadata": {},
   "outputs": [
    {
     "data": {
      "text/html": [
       "<div>\n",
       "<style scoped>\n",
       "    .dataframe tbody tr th:only-of-type {\n",
       "        vertical-align: middle;\n",
       "    }\n",
       "\n",
       "    .dataframe tbody tr th {\n",
       "        vertical-align: top;\n",
       "    }\n",
       "\n",
       "    .dataframe thead th {\n",
       "        text-align: right;\n",
       "    }\n",
       "</style>\n",
       "<table border=\"1\" class=\"dataframe\">\n",
       "  <thead>\n",
       "    <tr style=\"text-align: right;\">\n",
       "      <th></th>\n",
       "      <th>time</th>\n",
       "      <th>guard</th>\n",
       "      <th>guard_id</th>\n",
       "      <th>shift_start</th>\n",
       "      <th>sleep_stat</th>\n",
       "      <th>asleep</th>\n",
       "      <th>minute</th>\n",
       "    </tr>\n",
       "  </thead>\n",
       "  <tbody>\n",
       "    <tr>\n",
       "      <th>909</th>\n",
       "      <td>1518-10-16 00:30:00</td>\n",
       "      <td>NaN</td>\n",
       "      <td>1901</td>\n",
       "      <td>NaN</td>\n",
       "      <td>falls asleep</td>\n",
       "      <td>NaN</td>\n",
       "      <td>30.0</td>\n",
       "    </tr>\n",
       "    <tr>\n",
       "      <th>910</th>\n",
       "      <td>1518-10-16 00:52:00</td>\n",
       "      <td>NaN</td>\n",
       "      <td>1901</td>\n",
       "      <td>NaN</td>\n",
       "      <td>wakes up</td>\n",
       "      <td>22.0</td>\n",
       "      <td>52.0</td>\n",
       "    </tr>\n",
       "    <tr>\n",
       "      <th>1051</th>\n",
       "      <td>1518-11-21 23:56:00</td>\n",
       "      <td>Guard</td>\n",
       "      <td>1901</td>\n",
       "      <td>begins shift</td>\n",
       "      <td>NaN</td>\n",
       "      <td>NaN</td>\n",
       "      <td>56.0</td>\n",
       "    </tr>\n",
       "    <tr>\n",
       "      <th>1052</th>\n",
       "      <td>1518-11-22 00:38:00</td>\n",
       "      <td>NaN</td>\n",
       "      <td>1901</td>\n",
       "      <td>NaN</td>\n",
       "      <td>falls asleep</td>\n",
       "      <td>NaN</td>\n",
       "      <td>38.0</td>\n",
       "    </tr>\n",
       "    <tr>\n",
       "      <th>1053</th>\n",
       "      <td>1518-11-22 00:42:00</td>\n",
       "      <td>NaN</td>\n",
       "      <td>1901</td>\n",
       "      <td>NaN</td>\n",
       "      <td>wakes up</td>\n",
       "      <td>4.0</td>\n",
       "      <td>42.0</td>\n",
       "    </tr>\n",
       "  </tbody>\n",
       "</table>\n",
       "</div>"
      ],
      "text/plain": [
       "                     time  guard guard_id   shift_start    sleep_stat  asleep  \\\n",
       "909   1518-10-16 00:30:00    NaN     1901           NaN  falls asleep     NaN   \n",
       "910   1518-10-16 00:52:00    NaN     1901           NaN      wakes up    22.0   \n",
       "1051  1518-11-21 23:56:00  Guard     1901  begins shift           NaN     NaN   \n",
       "1052  1518-11-22 00:38:00    NaN     1901           NaN  falls asleep     NaN   \n",
       "1053  1518-11-22 00:42:00    NaN     1901           NaN      wakes up     4.0   \n",
       "\n",
       "      minute  \n",
       "909     30.0  \n",
       "910     52.0  \n",
       "1051    56.0  \n",
       "1052    38.0  \n",
       "1053    42.0  "
      ]
     },
     "execution_count": 79,
     "metadata": {},
     "output_type": "execute_result"
    }
   ],
   "source": [
    "df4_.tail()"
   ]
  },
  {
   "cell_type": "code",
   "execution_count": 80,
   "metadata": {},
   "outputs": [],
   "source": [
    "sleep_minutes = []\n",
    "for row in df4_.itertuples():\n",
    "    #print(row)\n",
    "    if row.guard == 'Guard':\n",
    "        continue\n",
    "    if row.sleep_stat == 'falls asleep':\n",
    "        start_range = df4_.loc[row.Index, 'minute']\n",
    "    if row.sleep_stat == 'wakes up':\n",
    "        stop_range = df4_.loc[row.Index, 'minute']\n",
    "        sleep_range = range(int(start_range), int(stop_range))\n",
    "        sleep_minutes.extend(list(sleep_range))"
   ]
  },
  {
   "cell_type": "code",
   "execution_count": 81,
   "metadata": {},
   "outputs": [
    {
     "data": {
      "text/plain": [
       "41"
      ]
     },
     "execution_count": 81,
     "metadata": {},
     "output_type": "execute_result"
    }
   ],
   "source": [
    "max(sleep_minutes,key=sleep_minutes.count)"
   ]
  },
  {
   "cell_type": "code",
   "execution_count": 82,
   "metadata": {},
   "outputs": [],
   "source": [
    "sleep_minutes = []\n",
    "for row in df4_test_.itertuples():\n",
    "    #print(row)\n",
    "    if row.guard == 'Guard':\n",
    "        continue\n",
    "    if row.sleep_stat == 'falls asleep':\n",
    "        start_range = df4_test_.loc[row.Index, 'minute']\n",
    "    if row.sleep_stat == 'wakes up':\n",
    "        stop_range = df4_test_.loc[row.Index, 'minute']\n",
    "        sleep_range = range(int(start_range), int(stop_range))\n",
    "        sleep_minutes.extend(list(sleep_range))"
   ]
  },
  {
   "cell_type": "code",
   "execution_count": 83,
   "metadata": {},
   "outputs": [
    {
     "data": {
      "text/plain": [
       "24"
      ]
     },
     "execution_count": 83,
     "metadata": {},
     "output_type": "execute_result"
    }
   ],
   "source": [
    "max(sleep_minutes,key=sleep_minutes.count)"
   ]
  },
  {
   "cell_type": "code",
   "execution_count": 84,
   "metadata": {},
   "outputs": [
    {
     "data": {
      "text/plain": [
       "77941"
      ]
     },
     "execution_count": 84,
     "metadata": {},
     "output_type": "execute_result"
    }
   ],
   "source": [
    "41 * 1901"
   ]
  },
  {
   "cell_type": "markdown",
   "metadata": {},
   "source": [
    "## Day 4 - part 2"
   ]
  },
  {
   "cell_type": "markdown",
   "metadata": {},
   "source": [
    "```\n",
    "Date   ID   Minute\n",
    "            000000000011111111112222222222333333333344444444445555555555\n",
    "            012345678901234567890123456789012345678901234567890123456789\n",
    "11-01  #10  .....####################.....#########################.....\n",
    "11-02  #99  ........................................##########..........\n",
    "11-03  #10  ........................#####...............................\n",
    "11-04  #99  ....................................##########..............\n",
    "11-05  #99  .............................................##########.....\n",
    "```\n",
    "\n",
    "What is the ID of the guard you chose multiplied by the minute you chose? (In the above example, the answer would be 99 * 45 = 4455.)"
   ]
  },
  {
   "cell_type": "code",
   "execution_count": 85,
   "metadata": {},
   "outputs": [
    {
     "data": {
      "text/html": [
       "<div>\n",
       "<style scoped>\n",
       "    .dataframe tbody tr th:only-of-type {\n",
       "        vertical-align: middle;\n",
       "    }\n",
       "\n",
       "    .dataframe tbody tr th {\n",
       "        vertical-align: top;\n",
       "    }\n",
       "\n",
       "    .dataframe thead th {\n",
       "        text-align: right;\n",
       "    }\n",
       "</style>\n",
       "<table border=\"1\" class=\"dataframe\">\n",
       "  <thead>\n",
       "    <tr style=\"text-align: right;\">\n",
       "      <th></th>\n",
       "      <th>time</th>\n",
       "      <th>guard</th>\n",
       "      <th>guard_id</th>\n",
       "      <th>shift_start</th>\n",
       "      <th>sleep_stat</th>\n",
       "      <th>asleep</th>\n",
       "      <th>minute</th>\n",
       "    </tr>\n",
       "  </thead>\n",
       "  <tbody>\n",
       "    <tr>\n",
       "      <th>20</th>\n",
       "      <td>1518-02-25 23:57:00</td>\n",
       "      <td>Guard</td>\n",
       "      <td>1901</td>\n",
       "      <td>begins shift</td>\n",
       "      <td>NaN</td>\n",
       "      <td>NaN</td>\n",
       "      <td>57.0</td>\n",
       "    </tr>\n",
       "    <tr>\n",
       "      <th>21</th>\n",
       "      <td>1518-02-26 00:22:00</td>\n",
       "      <td>NaN</td>\n",
       "      <td>1901</td>\n",
       "      <td>NaN</td>\n",
       "      <td>falls asleep</td>\n",
       "      <td>NaN</td>\n",
       "      <td>22.0</td>\n",
       "    </tr>\n",
       "    <tr>\n",
       "      <th>22</th>\n",
       "      <td>1518-02-26 00:58:00</td>\n",
       "      <td>NaN</td>\n",
       "      <td>1901</td>\n",
       "      <td>NaN</td>\n",
       "      <td>wakes up</td>\n",
       "      <td>36.0</td>\n",
       "      <td>58.0</td>\n",
       "    </tr>\n",
       "    <tr>\n",
       "      <th>56</th>\n",
       "      <td>1518-03-08 00:00:00</td>\n",
       "      <td>Guard</td>\n",
       "      <td>1901</td>\n",
       "      <td>begins shift</td>\n",
       "      <td>NaN</td>\n",
       "      <td>NaN</td>\n",
       "      <td>0.0</td>\n",
       "    </tr>\n",
       "    <tr>\n",
       "      <th>57</th>\n",
       "      <td>1518-03-08 00:39:00</td>\n",
       "      <td>NaN</td>\n",
       "      <td>1901</td>\n",
       "      <td>NaN</td>\n",
       "      <td>falls asleep</td>\n",
       "      <td>NaN</td>\n",
       "      <td>39.0</td>\n",
       "    </tr>\n",
       "    <tr>\n",
       "      <th>58</th>\n",
       "      <td>1518-03-08 00:49:00</td>\n",
       "      <td>NaN</td>\n",
       "      <td>1901</td>\n",
       "      <td>NaN</td>\n",
       "      <td>wakes up</td>\n",
       "      <td>10.0</td>\n",
       "      <td>49.0</td>\n",
       "    </tr>\n",
       "    <tr>\n",
       "      <th>69</th>\n",
       "      <td>1518-03-11 00:04:00</td>\n",
       "      <td>Guard</td>\n",
       "      <td>1901</td>\n",
       "      <td>begins shift</td>\n",
       "      <td>NaN</td>\n",
       "      <td>NaN</td>\n",
       "      <td>4.0</td>\n",
       "    </tr>\n",
       "    <tr>\n",
       "      <th>70</th>\n",
       "      <td>1518-03-11 00:13:00</td>\n",
       "      <td>NaN</td>\n",
       "      <td>1901</td>\n",
       "      <td>NaN</td>\n",
       "      <td>falls asleep</td>\n",
       "      <td>NaN</td>\n",
       "      <td>13.0</td>\n",
       "    </tr>\n",
       "    <tr>\n",
       "      <th>71</th>\n",
       "      <td>1518-03-11 00:59:00</td>\n",
       "      <td>NaN</td>\n",
       "      <td>1901</td>\n",
       "      <td>NaN</td>\n",
       "      <td>wakes up</td>\n",
       "      <td>46.0</td>\n",
       "      <td>59.0</td>\n",
       "    </tr>\n",
       "  </tbody>\n",
       "</table>\n",
       "</div>"
      ],
      "text/plain": [
       "                   time  guard guard_id   shift_start    sleep_stat  asleep  \\\n",
       "20  1518-02-25 23:57:00  Guard     1901  begins shift           NaN     NaN   \n",
       "21  1518-02-26 00:22:00    NaN     1901           NaN  falls asleep     NaN   \n",
       "22  1518-02-26 00:58:00    NaN     1901           NaN      wakes up    36.0   \n",
       "56  1518-03-08 00:00:00  Guard     1901  begins shift           NaN     NaN   \n",
       "57  1518-03-08 00:39:00    NaN     1901           NaN  falls asleep     NaN   \n",
       "58  1518-03-08 00:49:00    NaN     1901           NaN      wakes up    10.0   \n",
       "69  1518-03-11 00:04:00  Guard     1901  begins shift           NaN     NaN   \n",
       "70  1518-03-11 00:13:00    NaN     1901           NaN  falls asleep     NaN   \n",
       "71  1518-03-11 00:59:00    NaN     1901           NaN      wakes up    46.0   \n",
       "\n",
       "    minute  \n",
       "20    57.0  \n",
       "21    22.0  \n",
       "22    58.0  \n",
       "56     0.0  \n",
       "57    39.0  \n",
       "58    49.0  \n",
       "69     4.0  \n",
       "70    13.0  \n",
       "71    59.0  "
      ]
     },
     "execution_count": 85,
     "metadata": {},
     "output_type": "execute_result"
    }
   ],
   "source": [
    "df4_.head(9)"
   ]
  },
  {
   "cell_type": "markdown",
   "metadata": {},
   "source": [
    "need list of sleep minutes for each guard and each date\n",
    "\n",
    "create dictionary with:\n",
    "\n",
    "- 'date, id': [list of sleeping minutes]\n",
    "- 'date, id': [list of sleeping minutes]\n",
    "- 'date, id': [list of sleeping minutes]\n",
    "- ..."
   ]
  },
  {
   "cell_type": "code",
   "execution_count": 86,
   "metadata": {},
   "outputs": [
    {
     "data": {
      "text/html": [
       "<div>\n",
       "<style scoped>\n",
       "    .dataframe tbody tr th:only-of-type {\n",
       "        vertical-align: middle;\n",
       "    }\n",
       "\n",
       "    .dataframe tbody tr th {\n",
       "        vertical-align: top;\n",
       "    }\n",
       "\n",
       "    .dataframe thead th {\n",
       "        text-align: right;\n",
       "    }\n",
       "</style>\n",
       "<table border=\"1\" class=\"dataframe\">\n",
       "  <thead>\n",
       "    <tr style=\"text-align: right;\">\n",
       "      <th></th>\n",
       "      <th>time</th>\n",
       "      <th>guard</th>\n",
       "      <th>guard_id</th>\n",
       "      <th>shift_start</th>\n",
       "      <th>sleep_stat</th>\n",
       "      <th>asleep</th>\n",
       "    </tr>\n",
       "  </thead>\n",
       "  <tbody>\n",
       "    <tr>\n",
       "      <th>0</th>\n",
       "      <td>1518-11-01 00:00:00</td>\n",
       "      <td>Guard</td>\n",
       "      <td>10</td>\n",
       "      <td>begins shift</td>\n",
       "      <td>NaN</td>\n",
       "      <td>NaN</td>\n",
       "    </tr>\n",
       "    <tr>\n",
       "      <th>1</th>\n",
       "      <td>1518-11-01 00:05:00</td>\n",
       "      <td>NaN</td>\n",
       "      <td>10</td>\n",
       "      <td>NaN</td>\n",
       "      <td>falls asleep</td>\n",
       "      <td>NaN</td>\n",
       "    </tr>\n",
       "    <tr>\n",
       "      <th>2</th>\n",
       "      <td>1518-11-01 00:25:00</td>\n",
       "      <td>NaN</td>\n",
       "      <td>10</td>\n",
       "      <td>NaN</td>\n",
       "      <td>wakes up</td>\n",
       "      <td>20.0</td>\n",
       "    </tr>\n",
       "    <tr>\n",
       "      <th>3</th>\n",
       "      <td>1518-11-01 00:30:00</td>\n",
       "      <td>NaN</td>\n",
       "      <td>10</td>\n",
       "      <td>NaN</td>\n",
       "      <td>falls asleep</td>\n",
       "      <td>NaN</td>\n",
       "    </tr>\n",
       "    <tr>\n",
       "      <th>4</th>\n",
       "      <td>1518-11-01 00:55:00</td>\n",
       "      <td>NaN</td>\n",
       "      <td>10</td>\n",
       "      <td>NaN</td>\n",
       "      <td>wakes up</td>\n",
       "      <td>25.0</td>\n",
       "    </tr>\n",
       "  </tbody>\n",
       "</table>\n",
       "</div>"
      ],
      "text/plain": [
       "                  time  guard guard_id   shift_start    sleep_stat  asleep\n",
       "0  1518-11-01 00:00:00  Guard       10  begins shift           NaN     NaN\n",
       "1  1518-11-01 00:05:00    NaN       10           NaN  falls asleep     NaN\n",
       "2  1518-11-01 00:25:00    NaN       10           NaN      wakes up    20.0\n",
       "3  1518-11-01 00:30:00    NaN       10           NaN  falls asleep     NaN\n",
       "4  1518-11-01 00:55:00    NaN       10           NaN      wakes up    25.0"
      ]
     },
     "execution_count": 86,
     "metadata": {},
     "output_type": "execute_result"
    }
   ],
   "source": [
    "df4_test.head()"
   ]
  },
  {
   "cell_type": "code",
   "execution_count": 87,
   "metadata": {},
   "outputs": [
    {
     "data": {
      "text/html": [
       "<div>\n",
       "<style scoped>\n",
       "    .dataframe tbody tr th:only-of-type {\n",
       "        vertical-align: middle;\n",
       "    }\n",
       "\n",
       "    .dataframe tbody tr th {\n",
       "        vertical-align: top;\n",
       "    }\n",
       "\n",
       "    .dataframe thead th {\n",
       "        text-align: right;\n",
       "    }\n",
       "</style>\n",
       "<table border=\"1\" class=\"dataframe\">\n",
       "  <thead>\n",
       "    <tr style=\"text-align: right;\">\n",
       "      <th></th>\n",
       "      <th>time</th>\n",
       "      <th>guard</th>\n",
       "      <th>guard_id</th>\n",
       "      <th>shift_start</th>\n",
       "      <th>sleep_stat</th>\n",
       "      <th>asleep</th>\n",
       "    </tr>\n",
       "  </thead>\n",
       "  <tbody>\n",
       "    <tr>\n",
       "      <th>0</th>\n",
       "      <td>1518-02-21 23:56:00</td>\n",
       "      <td>Guard</td>\n",
       "      <td>2239</td>\n",
       "      <td>begins shift</td>\n",
       "      <td>NaN</td>\n",
       "      <td>NaN</td>\n",
       "    </tr>\n",
       "    <tr>\n",
       "      <th>1</th>\n",
       "      <td>1518-02-22 00:19:00</td>\n",
       "      <td>NaN</td>\n",
       "      <td>2239</td>\n",
       "      <td>NaN</td>\n",
       "      <td>falls asleep</td>\n",
       "      <td>NaN</td>\n",
       "    </tr>\n",
       "    <tr>\n",
       "      <th>2</th>\n",
       "      <td>1518-02-22 00:37:00</td>\n",
       "      <td>NaN</td>\n",
       "      <td>2239</td>\n",
       "      <td>NaN</td>\n",
       "      <td>wakes up</td>\n",
       "      <td>18.0</td>\n",
       "    </tr>\n",
       "    <tr>\n",
       "      <th>3</th>\n",
       "      <td>1518-02-22 00:44:00</td>\n",
       "      <td>NaN</td>\n",
       "      <td>2239</td>\n",
       "      <td>NaN</td>\n",
       "      <td>falls asleep</td>\n",
       "      <td>NaN</td>\n",
       "    </tr>\n",
       "    <tr>\n",
       "      <th>4</th>\n",
       "      <td>1518-02-22 00:54:00</td>\n",
       "      <td>NaN</td>\n",
       "      <td>2239</td>\n",
       "      <td>NaN</td>\n",
       "      <td>wakes up</td>\n",
       "      <td>10.0</td>\n",
       "    </tr>\n",
       "  </tbody>\n",
       "</table>\n",
       "</div>"
      ],
      "text/plain": [
       "                  time  guard guard_id   shift_start    sleep_stat  asleep\n",
       "0  1518-02-21 23:56:00  Guard     2239  begins shift           NaN     NaN\n",
       "1  1518-02-22 00:19:00    NaN     2239           NaN  falls asleep     NaN\n",
       "2  1518-02-22 00:37:00    NaN     2239           NaN      wakes up    18.0\n",
       "3  1518-02-22 00:44:00    NaN     2239           NaN  falls asleep     NaN\n",
       "4  1518-02-22 00:54:00    NaN     2239           NaN      wakes up    10.0"
      ]
     },
     "execution_count": 87,
     "metadata": {},
     "output_type": "execute_result"
    }
   ],
   "source": [
    "df4.head()"
   ]
  },
  {
   "cell_type": "code",
   "execution_count": 88,
   "metadata": {},
   "outputs": [],
   "source": [
    "sleep_dict = {}\n",
    "for row in df4_test.itertuples():\n",
    "    if df4_test.loc[row.Index, 'guard'] == 'Guard':\n",
    "        sleep_cycle = 0\n",
    "    if df4_test.loc[row.Index, 'sleep_stat'] == 'falls asleep':\n",
    "        sleep_cycle += 1\n",
    "        date_cycle = df4_test.loc[row.Index, 'time'].month, df4_test.loc[row.Index, 'time'].day, sleep_cycle\n",
    "        guard_id = df4_test.loc[row.Index, 'guard_id']\n",
    "        start_range = df4_test.loc[row.Index, 'time'].minute\n",
    "    if df4_test.loc[row.Index, 'sleep_stat'] == 'wakes up':\n",
    "        end_range = df4_test.loc[row.Index, 'time'].minute\n",
    "        list_asleep = [minute for minute in range(start_range, end_range)]\n",
    "        sleep_dict[row.Index] = {'date_cycle': date_cycle, 'ID': guard_id, 'asleep': list_asleep}"
   ]
  },
  {
   "cell_type": "code",
   "execution_count": 89,
   "metadata": {},
   "outputs": [],
   "source": [
    "sleep_dict = {}\n",
    "for row in df4.itertuples():\n",
    "    if df4.loc[row.Index, 'guard'] == 'Guard':\n",
    "        sleep_cycle = 0\n",
    "    if df4.loc[row.Index, 'sleep_stat'] == 'falls asleep':\n",
    "        sleep_cycle += 1\n",
    "        date_cycle = df4.loc[row.Index, 'time'].month, df4.loc[row.Index, 'time'].day, sleep_cycle\n",
    "        guard_id = df4.loc[row.Index, 'guard_id']\n",
    "        start_range = df4.loc[row.Index, 'time'].minute\n",
    "    if df4.loc[row.Index, 'sleep_stat'] == 'wakes up':\n",
    "        end_range = df4.loc[row.Index, 'time'].minute\n",
    "        list_asleep = [minute for minute in range(start_range, end_range)]\n",
    "        sleep_dict[row.Index] = {'date_cycle': date_cycle, 'ID': guard_id, 'asleep': list_asleep}"
   ]
  },
  {
   "cell_type": "code",
   "execution_count": 90,
   "metadata": {},
   "outputs": [],
   "source": [
    "#sleep_dict"
   ]
  },
  {
   "cell_type": "code",
   "execution_count": 91,
   "metadata": {},
   "outputs": [],
   "source": [
    "sleep_list = []\n",
    "for i in range(60):\n",
    "    for k in sleep_dict.keys():\n",
    "        #print(f'{i}/{sleep_dict[k][\"ID\"]}: {sleep_dict[k][\"asleep\"].count(i)}')\n",
    "        sleep_list.append((i, sleep_dict[k]['ID'], sleep_dict[k]['asleep'].count(i)))"
   ]
  },
  {
   "cell_type": "code",
   "execution_count": 92,
   "metadata": {},
   "outputs": [
    {
     "data": {
      "text/plain": [
       "[(0, '2239', 0),\n",
       " (0, '2239', 0),\n",
       " (0, '3323', 0),\n",
       " (0, '3323', 0),\n",
       " (0, '1303', 0)]"
      ]
     },
     "execution_count": 92,
     "metadata": {},
     "output_type": "execute_result"
    }
   ],
   "source": [
    "sleep_list[:5]"
   ]
  },
  {
   "cell_type": "code",
   "execution_count": 93,
   "metadata": {},
   "outputs": [],
   "source": [
    "c = Counter((elem[0], elem[1], elem[2]) for elem in sleep_list if elem[2] == 1)"
   ]
  },
  {
   "cell_type": "code",
   "execution_count": 94,
   "metadata": {},
   "outputs": [
    {
     "data": {
      "text/plain": [
       "((27, '1307', 1), 18)"
      ]
     },
     "execution_count": 94,
     "metadata": {},
     "output_type": "execute_result"
    }
   ],
   "source": [
    "c.most_common()[0]"
   ]
  },
  {
   "cell_type": "code",
   "execution_count": 95,
   "metadata": {},
   "outputs": [
    {
     "name": "stdout",
     "output_type": "stream",
     "text": [
      "27 1307\n"
     ]
    },
    {
     "data": {
      "text/plain": [
       "35289"
      ]
     },
     "execution_count": 95,
     "metadata": {},
     "output_type": "execute_result"
    }
   ],
   "source": [
    "print(c.most_common()[0][0][0], int(c.most_common()[0][0][1]))\n",
    "c.most_common()[0][0][0] * int(c.most_common()[0][0][1])"
   ]
  },
  {
   "cell_type": "code",
   "execution_count": 96,
   "metadata": {},
   "outputs": [
    {
     "data": {
      "text/plain": [
       "[((27, '1307', 1), 18),\n",
       " ((26, '1307', 1), 16),\n",
       " ((28, '1307', 1), 16),\n",
       " ((41, '1901', 1), 16),\n",
       " ((29, '1307', 1), 15)]"
      ]
     },
     "execution_count": 96,
     "metadata": {},
     "output_type": "execute_result"
    }
   ],
   "source": [
    "c.most_common()[:5]"
   ]
  },
  {
   "cell_type": "markdown",
   "metadata": {},
   "source": [
    "## Day 5 - part 1"
   ]
  },
  {
   "cell_type": "markdown",
   "metadata": {},
   "source": [
    "For example:\n",
    "\n",
    "- In aA, a and A react, leaving nothing behind.\n",
    "- In abBA, bB destroys itself, leaving aA. As above, this then destroys itself, leaving nothing.\n",
    "- In abAB, no two adjacent units are of the same type, and so nothing happens.\n",
    "- In aabAAB, even though aa and AA are of the same type, their polarities match, and so nothing happens.\n",
    "\n",
    "in `dabAcCaCBAcCcaDA`:\n",
    "\n",
    "```\n",
    "dabAcCaCBAcCcaDA  The first 'cC' is removed.\n",
    "dabAaCBAcCcaDA    This creates 'Aa', which is removed.\n",
    "dabCBAcCcaDA      Either 'cC' or 'Cc' are removed (the result is the same).\n",
    "dabCBAcaDA        No further actions can be taken.\n",
    "```\n",
    "\n",
    "After all possible reactions, the resulting polymer contains 10 units.\n",
    "\n",
    "How many units remain after fully reacting the polymer you scanned?\n"
   ]
  },
  {
   "cell_type": "code",
   "execution_count": 97,
   "metadata": {},
   "outputs": [],
   "source": [
    "df5_test = pd.read_csv('../data/advent_of_code/day5_test.txt')\n",
    "df5 = pd.read_csv('../data/advent_of_code/day5.txt')\n",
    "polymer_test = df5_test.columns[0]\n",
    "polymer = df5.columns[0]"
   ]
  },
  {
   "cell_type": "code",
   "execution_count": 98,
   "metadata": {},
   "outputs": [
    {
     "data": {
      "text/plain": [
       "('dabAcCaCBAcCcaDA', 16)"
      ]
     },
     "execution_count": 98,
     "metadata": {},
     "output_type": "execute_result"
    }
   ],
   "source": [
    "polymer_test, len(polymer_test)"
   ]
  },
  {
   "cell_type": "code",
   "execution_count": 99,
   "metadata": {},
   "outputs": [
    {
     "data": {
      "text/plain": [
       "50000"
      ]
     },
     "execution_count": 99,
     "metadata": {},
     "output_type": "execute_result"
    }
   ],
   "source": [
    "len(polymer)"
   ]
  },
  {
   "cell_type": "code",
   "execution_count": 100,
   "metadata": {},
   "outputs": [],
   "source": [
    "def shorten_string(input_tuple):\n",
    "    \"\"\"return a string with index and index + 1 removed\"\"\"\n",
    "    string = input_tuple[0]\n",
    "    index = input_tuple[1]\n",
    "    output = (string[:index] + string[index + 2:])\n",
    "    return output"
   ]
  },
  {
   "cell_type": "code",
   "execution_count": 101,
   "metadata": {},
   "outputs": [],
   "source": [
    "def string_walker(string):\n",
    "    \"\"\"return string without matching doubles\"\"\"\n",
    "    for i in range(len(string[:-1])):\n",
    "        try:\n",
    "            l = string[i]\n",
    "            string[i+1]\n",
    "        except IndexError:\n",
    "            break\n",
    "        if l.islower():\n",
    "            if string[i+1].islower():\n",
    "                continue\n",
    "            if string[i+1].lower() == l:\n",
    "                string = shorten_string((string, i))\n",
    "        if l.isupper():\n",
    "            if string[i+1].isupper():\n",
    "                continue\n",
    "            if string[i+1].upper() == l:\n",
    "                string = shorten_string((string, i))\n",
    "    return string"
   ]
  },
  {
   "cell_type": "code",
   "execution_count": 102,
   "metadata": {},
   "outputs": [],
   "source": [
    "def loop_caller(string):\n",
    "    \"\"\"call function\"\"\"\n",
    "    for i in range(len(string)):\n",
    "        string = string_walker(string)\n",
    "    return string"
   ]
  },
  {
   "cell_type": "code",
   "execution_count": 103,
   "metadata": {},
   "outputs": [
    {
     "data": {
      "text/plain": [
       "True"
      ]
     },
     "execution_count": 103,
     "metadata": {},
     "output_type": "execute_result"
    }
   ],
   "source": [
    "'dabCBAcaDA' == loop_caller(polymer_test)"
   ]
  },
  {
   "cell_type": "code",
   "execution_count": 104,
   "metadata": {},
   "outputs": [
    {
     "data": {
      "text/plain": [
       "10"
      ]
     },
     "execution_count": 104,
     "metadata": {},
     "output_type": "execute_result"
    }
   ],
   "source": [
    "len(loop_caller(polymer_test))"
   ]
  },
  {
   "cell_type": "code",
   "execution_count": 105,
   "metadata": {},
   "outputs": [
    {
     "data": {
      "text/plain": [
       "10766"
      ]
     },
     "execution_count": 105,
     "metadata": {},
     "output_type": "execute_result"
    }
   ],
   "source": [
    "len(loop_caller(polymer))"
   ]
  },
  {
   "cell_type": "markdown",
   "metadata": {},
   "source": [
    "## Day 5 - part 2\n",
    "\n",
    "For example, again using the polymer `dabAcCaCBAcCcaDA` from above:\n",
    "\n",
    "- Removing all A/a units produces `dbcCCBcCcD`. Fully reacting this polymer produces `dbCBcD`, which has length 6.\n",
    "- Removing all B/b units produces `daAcCaCAcCcaDA`. Fully reacting this polymer produces `daCAcaDA`, which has length 8.\n",
    "- Removing all C/c units produces `dabAaBAaDA`. Fully reacting this polymer produces `daDA`, which has length 4.\n",
    "- Removing all D/d units produces `abAcCaCBAcCcaA`. Fully reacting this polymer produces `abCBAc`, which has length 6.\n",
    "\n",
    "In this example, removing all C/c units was best, producing the answer 4.\n",
    "\n",
    "What is the length of the shortest polymer you can produce by removing all units of exactly one type and fully reacting the result?"
   ]
  },
  {
   "cell_type": "code",
   "execution_count": 106,
   "metadata": {},
   "outputs": [
    {
     "data": {
      "text/plain": [
       "50000"
      ]
     },
     "execution_count": 106,
     "metadata": {},
     "output_type": "execute_result"
    }
   ],
   "source": [
    "len(polymer)"
   ]
  },
  {
   "cell_type": "code",
   "execution_count": 107,
   "metadata": {},
   "outputs": [],
   "source": [
    "test = [('a', 23), ('b', 34), ('c', 12)]"
   ]
  },
  {
   "cell_type": "code",
   "execution_count": 108,
   "metadata": {},
   "outputs": [
    {
     "data": {
      "text/plain": [
       "('c', 12)"
      ]
     },
     "execution_count": 108,
     "metadata": {},
     "output_type": "execute_result"
    }
   ],
   "source": [
    "min(test, key=lambda t: t[1])"
   ]
  },
  {
   "cell_type": "code",
   "execution_count": 109,
   "metadata": {},
   "outputs": [
    {
     "name": "stdout",
     "output_type": "stream",
     "text": [
      "('p', 6538)\n"
     ]
    }
   ],
   "source": [
    "results = []\n",
    "for c in ascii_lowercase:\n",
    "    test_ = polymer\n",
    "    c_upper = c.upper()\n",
    "    test_ = test_.replace(c, '')\n",
    "    test_ = test_.replace(c_upper, '')\n",
    "    results.append((c, len(loop_caller(test_))))\n",
    "print(min(results, key=lambda t: t[1]))"
   ]
  },
  {
   "cell_type": "markdown",
   "metadata": {},
   "source": [
    "## Day 6 - part 1\n",
    "\n",
    "Using only the [Manhattan distance](https://en.wikipedia.org/wiki/Taxicab_geometry), determine the area around each coordinate by counting the number of integer X,Y locations that are closest to that coordinate (and aren't tied in distance to any other coordinate).\n",
    "\n",
    "Your goal is to find the size of the largest area that isn't infinite. For example, consider the following list of coordinates:\n",
    "\n",
    "```\n",
    "1, 1\n",
    "1, 6\n",
    "8, 3\n",
    "3, 4\n",
    "5, 5\n",
    "8, 9\n",
    "```\n",
    "\n",
    "If we name these coordinates A through F, we can draw them on a grid, putting 0,0 at the top left:\n",
    "\n",
    "```\n",
    "..........\n",
    ".A........\n",
    "..........\n",
    "........C.\n",
    "...D......\n",
    ".....E....\n",
    ".B........\n",
    "..........\n",
    "..........\n",
    "........F.\n",
    "```\n",
    "\n",
    "This view is partial - the actual grid extends infinitely in all directions. Using the Manhattan distance, each location's closest coordinate can be determined, shown here in lowercase:\n",
    "\n",
    "```\n",
    "aaaaa.cccc\n",
    "aAaaa.cccc\n",
    "aaaddecccc\n",
    "aadddeccCc\n",
    "..dDdeeccc\n",
    "bb.deEeecc\n",
    "bBb.eeee..\n",
    "bbb.eeefff\n",
    "bbb.eeffff\n",
    "bbb.ffffFf\n",
    "```\n",
    "\n",
    "Locations shown as . are equally far from two or more coordinates, and so they don't count as being closest to any.\n",
    "\n",
    "In this example, the areas of coordinates A, B, C, and F are infinite - while not shown here, their areas extend forever outside the visible grid. However, the areas of coordinates D and E are finite: D is closest to 9 locations, and E is closest to 17 (both including the coordinate's location itself). Therefore, in this example, the size of the largest area is 17.\n",
    "\n",
    "What is the size of the largest area that isn't infinite?"
   ]
  },
  {
   "cell_type": "code",
   "execution_count": 110,
   "metadata": {},
   "outputs": [],
   "source": [
    "# import data\n",
    "df6_test = pd.read_csv('../data/advent_of_code/day6_test.txt', header=None, names=['X', 'Y'])\n",
    "df6_test.index = df6_test.index + 1\n",
    "df6 = pd.read_csv('../data/advent_of_code/day6.txt', header=None, names=['X', 'Y'])\n",
    "df6.index = df6.index + 1"
   ]
  },
  {
   "cell_type": "code",
   "execution_count": 111,
   "metadata": {},
   "outputs": [],
   "source": [
    "# Helper functions\n",
    "\n",
    "def make_sheet(dataframe):\n",
    "    \"\"\"make sheet based on input dataframe\"\"\"\n",
    "    # get max extent to right and bottom\n",
    "    nb_uids = dataframe.shape[0]\n",
    "    max_x = dataframe['X'].max()\n",
    "    max_y = dataframe['Y'].max()\n",
    "    # make sheet\n",
    "    sheet = np.zeros((nb_uids + 1, max_x + 1, max_y + 1))\n",
    "    sheet[0][:] = np.nan\n",
    "    for row in dataframe.itertuples():\n",
    "        sheet[row.Index, row.X, row.Y] = row.Index\n",
    "    return sheet\n",
    "\n",
    "def manhattan_dist(x, y):\n",
    "    \"\"\"return manhattan distance between two points\n",
    "    x[0,1] and y[0,1]\n",
    "    \"\"\"\n",
    "    return abs(x[0] - y[0]) + abs(x[1] - y[1])\n",
    "\n",
    "def manhattan_dist_by_target(dataframe, sheet):\n",
    "    \"\"\"calculate manhattan distance to all points in sheet from each point in dataframe\"\"\"\n",
    "    for row in dataframe.itertuples():\n",
    "        for arr_index, arr_val in np.ndenumerate(sheet[row.Index]):\n",
    "            sheet[row.Index][arr_index[0],arr_index[1]] = manhattan_dist(list(arr_index), [row.X, row.Y])\n",
    "    return sheet\n",
    "\n",
    "def get_max_area(sheet):\n",
    "    \"\"\"count area of each type and save to dict, then return max area id and value, only if id not on edge\"\"\"\n",
    "    top = sheet[0][0]\n",
    "    base = sheet[0][-1]\n",
    "    left = sheet[0][:,0]\n",
    "    right = sheet[0][:,-1]\n",
    "    edge_set = set(list(top) + list(base) + list(left) + list(right))\n",
    "\n",
    "    unique, counts = np.unique(sheet[0], return_counts=True)\n",
    "    areas = dict(zip(unique, counts))\n",
    "    \n",
    "    final_areas = {}\n",
    "    for k, v in areas.items():\n",
    "        if k not in edge_set and not np.isnan(k):\n",
    "            final_areas[k] = v\n",
    "\n",
    "    maxarea_final = max(zip(final_areas.values(), final_areas.keys()))\n",
    "    \n",
    "    print(f'Max area ID: {int(maxarea_final[1])}\\nMax area: {maxarea_final[0]}')\n",
    "    return\n"
   ]
  },
  {
   "cell_type": "code",
   "execution_count": 112,
   "metadata": {},
   "outputs": [
    {
     "data": {
      "text/plain": [
       "array([[[nan, nan, nan, nan, nan, nan, nan, nan, nan, nan],\n",
       "        [nan, nan, nan, nan, nan, nan, nan, nan, nan, nan],\n",
       "        [nan, nan, nan, nan, nan, nan, nan, nan, nan, nan],\n",
       "        [nan, nan, nan, nan, nan, nan, nan, nan, nan, nan],\n",
       "        [nan, nan, nan, nan, nan, nan, nan, nan, nan, nan],\n",
       "        [nan, nan, nan, nan, nan, nan, nan, nan, nan, nan],\n",
       "        [nan, nan, nan, nan, nan, nan, nan, nan, nan, nan],\n",
       "        [nan, nan, nan, nan, nan, nan, nan, nan, nan, nan],\n",
       "        [nan, nan, nan, nan, nan, nan, nan, nan, nan, nan]],\n",
       "\n",
       "       [[ 2.,  1.,  2.,  3.,  4.,  5.,  6.,  7.,  8.,  9.],\n",
       "        [ 1.,  0.,  1.,  2.,  3.,  4.,  5.,  6.,  7.,  8.],\n",
       "        [ 2.,  1.,  2.,  3.,  4.,  5.,  6.,  7.,  8.,  9.],\n",
       "        [ 3.,  2.,  3.,  4.,  5.,  6.,  7.,  8.,  9., 10.],\n",
       "        [ 4.,  3.,  4.,  5.,  6.,  7.,  8.,  9., 10., 11.],\n",
       "        [ 5.,  4.,  5.,  6.,  7.,  8.,  9., 10., 11., 12.],\n",
       "        [ 6.,  5.,  6.,  7.,  8.,  9., 10., 11., 12., 13.],\n",
       "        [ 7.,  6.,  7.,  8.,  9., 10., 11., 12., 13., 14.],\n",
       "        [ 8.,  7.,  8.,  9., 10., 11., 12., 13., 14., 15.]],\n",
       "\n",
       "       [[ 7.,  6.,  5.,  4.,  3.,  2.,  1.,  2.,  3.,  4.],\n",
       "        [ 6.,  5.,  4.,  3.,  2.,  1.,  0.,  1.,  2.,  3.],\n",
       "        [ 7.,  6.,  5.,  4.,  3.,  2.,  1.,  2.,  3.,  4.],\n",
       "        [ 8.,  7.,  6.,  5.,  4.,  3.,  2.,  3.,  4.,  5.],\n",
       "        [ 9.,  8.,  7.,  6.,  5.,  4.,  3.,  4.,  5.,  6.],\n",
       "        [10.,  9.,  8.,  7.,  6.,  5.,  4.,  5.,  6.,  7.],\n",
       "        [11., 10.,  9.,  8.,  7.,  6.,  5.,  6.,  7.,  8.],\n",
       "        [12., 11., 10.,  9.,  8.,  7.,  6.,  7.,  8.,  9.],\n",
       "        [13., 12., 11., 10.,  9.,  8.,  7.,  8.,  9., 10.]],\n",
       "\n",
       "       [[11., 10.,  9.,  8.,  9., 10., 11., 12., 13., 14.],\n",
       "        [10.,  9.,  8.,  7.,  8.,  9., 10., 11., 12., 13.],\n",
       "        [ 9.,  8.,  7.,  6.,  7.,  8.,  9., 10., 11., 12.],\n",
       "        [ 8.,  7.,  6.,  5.,  6.,  7.,  8.,  9., 10., 11.],\n",
       "        [ 7.,  6.,  5.,  4.,  5.,  6.,  7.,  8.,  9., 10.],\n",
       "        [ 6.,  5.,  4.,  3.,  4.,  5.,  6.,  7.,  8.,  9.],\n",
       "        [ 5.,  4.,  3.,  2.,  3.,  4.,  5.,  6.,  7.,  8.],\n",
       "        [ 4.,  3.,  2.,  1.,  2.,  3.,  4.,  5.,  6.,  7.],\n",
       "        [ 3.,  2.,  1.,  0.,  1.,  2.,  3.,  4.,  5.,  6.]],\n",
       "\n",
       "       [[ 7.,  6.,  5.,  4.,  3.,  4.,  5.,  6.,  7.,  8.],\n",
       "        [ 6.,  5.,  4.,  3.,  2.,  3.,  4.,  5.,  6.,  7.],\n",
       "        [ 5.,  4.,  3.,  2.,  1.,  2.,  3.,  4.,  5.,  6.],\n",
       "        [ 4.,  3.,  2.,  1.,  0.,  1.,  2.,  3.,  4.,  5.],\n",
       "        [ 5.,  4.,  3.,  2.,  1.,  2.,  3.,  4.,  5.,  6.],\n",
       "        [ 6.,  5.,  4.,  3.,  2.,  3.,  4.,  5.,  6.,  7.],\n",
       "        [ 7.,  6.,  5.,  4.,  3.,  4.,  5.,  6.,  7.,  8.],\n",
       "        [ 8.,  7.,  6.,  5.,  4.,  5.,  6.,  7.,  8.,  9.],\n",
       "        [ 9.,  8.,  7.,  6.,  5.,  6.,  7.,  8.,  9., 10.]],\n",
       "\n",
       "       [[10.,  9.,  8.,  7.,  6.,  5.,  6.,  7.,  8.,  9.],\n",
       "        [ 9.,  8.,  7.,  6.,  5.,  4.,  5.,  6.,  7.,  8.],\n",
       "        [ 8.,  7.,  6.,  5.,  4.,  3.,  4.,  5.,  6.,  7.],\n",
       "        [ 7.,  6.,  5.,  4.,  3.,  2.,  3.,  4.,  5.,  6.],\n",
       "        [ 6.,  5.,  4.,  3.,  2.,  1.,  2.,  3.,  4.,  5.],\n",
       "        [ 5.,  4.,  3.,  2.,  1.,  0.,  1.,  2.,  3.,  4.],\n",
       "        [ 6.,  5.,  4.,  3.,  2.,  1.,  2.,  3.,  4.,  5.],\n",
       "        [ 7.,  6.,  5.,  4.,  3.,  2.,  3.,  4.,  5.,  6.],\n",
       "        [ 8.,  7.,  6.,  5.,  4.,  3.,  4.,  5.,  6.,  7.]],\n",
       "\n",
       "       [[17., 16., 15., 14., 13., 12., 11., 10.,  9.,  8.],\n",
       "        [16., 15., 14., 13., 12., 11., 10.,  9.,  8.,  7.],\n",
       "        [15., 14., 13., 12., 11., 10.,  9.,  8.,  7.,  6.],\n",
       "        [14., 13., 12., 11., 10.,  9.,  8.,  7.,  6.,  5.],\n",
       "        [13., 12., 11., 10.,  9.,  8.,  7.,  6.,  5.,  4.],\n",
       "        [12., 11., 10.,  9.,  8.,  7.,  6.,  5.,  4.,  3.],\n",
       "        [11., 10.,  9.,  8.,  7.,  6.,  5.,  4.,  3.,  2.],\n",
       "        [10.,  9.,  8.,  7.,  6.,  5.,  4.,  3.,  2.,  1.],\n",
       "        [ 9.,  8.,  7.,  6.,  5.,  4.,  3.,  2.,  1.,  0.]]])"
      ]
     },
     "execution_count": 112,
     "metadata": {},
     "output_type": "execute_result"
    }
   ],
   "source": [
    "sheet = make_sheet(df6_test)\n",
    "manhattan_dist_by_target(df6_test, sheet)"
   ]
  },
  {
   "cell_type": "code",
   "execution_count": 113,
   "metadata": {},
   "outputs": [],
   "source": [
    "num_ids = sheet.shape[0]\n",
    "temp_dict = {}\n",
    "for arr_index, arr_val in np.ndenumerate(sheet[0]):\n",
    "    temp_list = []\n",
    "    for i in list(range(num_ids))[1:]:\n",
    "        temp_list.append(sheet[i][arr_index])\n",
    "    if temp_list.count(min(temp_list)) == 1:\n",
    "        temp_dict[arr_index] = temp_list.index(min(temp_list)) + 1\n",
    "    else:\n",
    "        temp_dict[arr_index] = np.nan"
   ]
  },
  {
   "cell_type": "code",
   "execution_count": 114,
   "metadata": {},
   "outputs": [
    {
     "data": {
      "text/plain": [
       "array([[[ 1.,  1.,  1.,  1., nan,  2.,  2.,  2.,  2.,  2.],\n",
       "        [ 1.,  1.,  1.,  1., nan,  2.,  2.,  2.,  2.,  2.],\n",
       "        [ 1.,  1.,  1.,  4.,  4., nan,  2.,  2.,  2.,  2.],\n",
       "        [ 1.,  1.,  4.,  4.,  4.,  4., nan, nan, nan, nan],\n",
       "        [ 1.,  1.,  4.,  4.,  4.,  5.,  5.,  5.,  5.,  6.],\n",
       "        [nan, nan,  5.,  5.,  5.,  5.,  5.,  5.,  5.,  6.],\n",
       "        [ 3.,  3.,  3.,  3.,  5.,  5.,  5.,  5.,  6.,  6.],\n",
       "        [ 3.,  3.,  3.,  3.,  3.,  5.,  5.,  6.,  6.,  6.],\n",
       "        [ 3.,  3.,  3.,  3.,  3.,  3., nan,  6.,  6.,  6.]],\n",
       "\n",
       "       [[ 2.,  1.,  2.,  3.,  4.,  5.,  6.,  7.,  8.,  9.],\n",
       "        [ 1.,  0.,  1.,  2.,  3.,  4.,  5.,  6.,  7.,  8.],\n",
       "        [ 2.,  1.,  2.,  3.,  4.,  5.,  6.,  7.,  8.,  9.],\n",
       "        [ 3.,  2.,  3.,  4.,  5.,  6.,  7.,  8.,  9., 10.],\n",
       "        [ 4.,  3.,  4.,  5.,  6.,  7.,  8.,  9., 10., 11.],\n",
       "        [ 5.,  4.,  5.,  6.,  7.,  8.,  9., 10., 11., 12.],\n",
       "        [ 6.,  5.,  6.,  7.,  8.,  9., 10., 11., 12., 13.],\n",
       "        [ 7.,  6.,  7.,  8.,  9., 10., 11., 12., 13., 14.],\n",
       "        [ 8.,  7.,  8.,  9., 10., 11., 12., 13., 14., 15.]],\n",
       "\n",
       "       [[ 7.,  6.,  5.,  4.,  3.,  2.,  1.,  2.,  3.,  4.],\n",
       "        [ 6.,  5.,  4.,  3.,  2.,  1.,  0.,  1.,  2.,  3.],\n",
       "        [ 7.,  6.,  5.,  4.,  3.,  2.,  1.,  2.,  3.,  4.],\n",
       "        [ 8.,  7.,  6.,  5.,  4.,  3.,  2.,  3.,  4.,  5.],\n",
       "        [ 9.,  8.,  7.,  6.,  5.,  4.,  3.,  4.,  5.,  6.],\n",
       "        [10.,  9.,  8.,  7.,  6.,  5.,  4.,  5.,  6.,  7.],\n",
       "        [11., 10.,  9.,  8.,  7.,  6.,  5.,  6.,  7.,  8.],\n",
       "        [12., 11., 10.,  9.,  8.,  7.,  6.,  7.,  8.,  9.],\n",
       "        [13., 12., 11., 10.,  9.,  8.,  7.,  8.,  9., 10.]],\n",
       "\n",
       "       [[11., 10.,  9.,  8.,  9., 10., 11., 12., 13., 14.],\n",
       "        [10.,  9.,  8.,  7.,  8.,  9., 10., 11., 12., 13.],\n",
       "        [ 9.,  8.,  7.,  6.,  7.,  8.,  9., 10., 11., 12.],\n",
       "        [ 8.,  7.,  6.,  5.,  6.,  7.,  8.,  9., 10., 11.],\n",
       "        [ 7.,  6.,  5.,  4.,  5.,  6.,  7.,  8.,  9., 10.],\n",
       "        [ 6.,  5.,  4.,  3.,  4.,  5.,  6.,  7.,  8.,  9.],\n",
       "        [ 5.,  4.,  3.,  2.,  3.,  4.,  5.,  6.,  7.,  8.],\n",
       "        [ 4.,  3.,  2.,  1.,  2.,  3.,  4.,  5.,  6.,  7.],\n",
       "        [ 3.,  2.,  1.,  0.,  1.,  2.,  3.,  4.,  5.,  6.]],\n",
       "\n",
       "       [[ 7.,  6.,  5.,  4.,  3.,  4.,  5.,  6.,  7.,  8.],\n",
       "        [ 6.,  5.,  4.,  3.,  2.,  3.,  4.,  5.,  6.,  7.],\n",
       "        [ 5.,  4.,  3.,  2.,  1.,  2.,  3.,  4.,  5.,  6.],\n",
       "        [ 4.,  3.,  2.,  1.,  0.,  1.,  2.,  3.,  4.,  5.],\n",
       "        [ 5.,  4.,  3.,  2.,  1.,  2.,  3.,  4.,  5.,  6.],\n",
       "        [ 6.,  5.,  4.,  3.,  2.,  3.,  4.,  5.,  6.,  7.],\n",
       "        [ 7.,  6.,  5.,  4.,  3.,  4.,  5.,  6.,  7.,  8.],\n",
       "        [ 8.,  7.,  6.,  5.,  4.,  5.,  6.,  7.,  8.,  9.],\n",
       "        [ 9.,  8.,  7.,  6.,  5.,  6.,  7.,  8.,  9., 10.]],\n",
       "\n",
       "       [[10.,  9.,  8.,  7.,  6.,  5.,  6.,  7.,  8.,  9.],\n",
       "        [ 9.,  8.,  7.,  6.,  5.,  4.,  5.,  6.,  7.,  8.],\n",
       "        [ 8.,  7.,  6.,  5.,  4.,  3.,  4.,  5.,  6.,  7.],\n",
       "        [ 7.,  6.,  5.,  4.,  3.,  2.,  3.,  4.,  5.,  6.],\n",
       "        [ 6.,  5.,  4.,  3.,  2.,  1.,  2.,  3.,  4.,  5.],\n",
       "        [ 5.,  4.,  3.,  2.,  1.,  0.,  1.,  2.,  3.,  4.],\n",
       "        [ 6.,  5.,  4.,  3.,  2.,  1.,  2.,  3.,  4.,  5.],\n",
       "        [ 7.,  6.,  5.,  4.,  3.,  2.,  3.,  4.,  5.,  6.],\n",
       "        [ 8.,  7.,  6.,  5.,  4.,  3.,  4.,  5.,  6.,  7.]],\n",
       "\n",
       "       [[17., 16., 15., 14., 13., 12., 11., 10.,  9.,  8.],\n",
       "        [16., 15., 14., 13., 12., 11., 10.,  9.,  8.,  7.],\n",
       "        [15., 14., 13., 12., 11., 10.,  9.,  8.,  7.,  6.],\n",
       "        [14., 13., 12., 11., 10.,  9.,  8.,  7.,  6.,  5.],\n",
       "        [13., 12., 11., 10.,  9.,  8.,  7.,  6.,  5.,  4.],\n",
       "        [12., 11., 10.,  9.,  8.,  7.,  6.,  5.,  4.,  3.],\n",
       "        [11., 10.,  9.,  8.,  7.,  6.,  5.,  4.,  3.,  2.],\n",
       "        [10.,  9.,  8.,  7.,  6.,  5.,  4.,  3.,  2.,  1.],\n",
       "        [ 9.,  8.,  7.,  6.,  5.,  4.,  3.,  2.,  1.,  0.]]])"
      ]
     },
     "execution_count": 114,
     "metadata": {},
     "output_type": "execute_result"
    }
   ],
   "source": [
    "num_ids = sheet.shape[0]\n",
    "temp_dict = {}\n",
    "for arr_index, arr_val in np.ndenumerate(sheet[0]):\n",
    "    temp_list = []\n",
    "    for i in list(range(num_ids))[1:]:\n",
    "        temp_list.append(sheet[i][arr_index])\n",
    "    if temp_list.count(min(temp_list)) == 1:\n",
    "        sheet[0][arr_index] = temp_list.index(min(temp_list)) + 1\n",
    "    else:\n",
    "        sheet[0][arr_index] = np.nan\n",
    "sheet"
   ]
  },
  {
   "cell_type": "code",
   "execution_count": 115,
   "metadata": {},
   "outputs": [
    {
     "name": "stdout",
     "output_type": "stream",
     "text": [
      "Max area ID: 5\n",
      "Max area: 17\n"
     ]
    }
   ],
   "source": [
    "get_max_area(sheet)"
   ]
  },
  {
   "cell_type": "markdown",
   "metadata": {},
   "source": [
    "## Day 6 - part 2\n",
    "\n",
    "On the other hand, if the coordinates are safe, maybe the best you can do is try to find a region near as many coordinates as possible.\n",
    "\n",
    "For example, suppose you want the sum of the Manhattan distance to all of the coordinates to be less than 32. For each location, add up the distances to all of the given coordinates; if the total of those distances is less than 32, that location is within the desired region. Using the same coordinates as above, the resulting region looks like this:\n",
    "\n",
    "```\n",
    "..........\n",
    ".A........\n",
    "..........\n",
    "...###..C.\n",
    "..#D###...\n",
    "..###E#...\n",
    ".B.###....\n",
    "..........\n",
    "..........\n",
    "........F.\n",
    "```\n",
    "\n",
    "In particular, consider the highlighted location 4,3 located at the top middle of the region. Its calculation is as follows, where abs() is the absolute value function:\n",
    "\n",
    "- Distance to coordinate A: abs(4-1) + abs(3-1) =  5\n",
    "- Distance to coordinate B: abs(4-1) + abs(3-6) =  6\n",
    "- Distance to coordinate C: abs(4-8) + abs(3-3) =  4\n",
    "- Distance to coordinate D: abs(4-3) + abs(3-4) =  2\n",
    "- Distance to coordinate E: abs(4-5) + abs(3-5) =  3\n",
    "- Distance to coordinate F: abs(4-8) + abs(3-9) = 10\n",
    "- Total distance: 5 + 6 + 4 + 2 + 3 + 10 = 30\n",
    "\n",
    "Because the total distance to all coordinates (30) is less than 32, the location is within the region.\n",
    "\n",
    "This region, which also includes coordinates D and E, has a total size of 16.\n",
    "\n",
    "Your actual region will need to be much larger than this example, though, instead including all locations with a total distance of less than 10000.\n",
    "\n",
    "**What is the size of the region containing all locations which have a total distance to all given coordinates of less than 10000?**"
   ]
  },
  {
   "cell_type": "code",
   "execution_count": 116,
   "metadata": {},
   "outputs": [],
   "source": [
    "# import data\n",
    "df6_test = pd.read_csv('../data/advent_of_code/day6_test.txt', header=None, names=['X', 'Y'])\n",
    "df6_test.index = df6_test.index + 1\n",
    "df6 = pd.read_csv('../data/advent_of_code/day6.txt', header=None, names=['X', 'Y'])\n",
    "df6.index = df6.index + 1"
   ]
  },
  {
   "cell_type": "code",
   "execution_count": 117,
   "metadata": {},
   "outputs": [
    {
     "data": {
      "text/plain": [
       "array([[[ nan,  nan,  nan, ...,  nan,  nan,  nan],\n",
       "        [ nan,  nan,  nan, ...,  nan,  nan,  nan],\n",
       "        [ nan,  nan,  nan, ...,  nan,  nan,  nan],\n",
       "        ...,\n",
       "        [ nan,  nan,  nan, ...,  nan,  nan,  nan],\n",
       "        [ nan,  nan,  nan, ...,  nan,  nan,  nan],\n",
       "        [ nan,  nan,  nan, ...,  nan,  nan,  nan]],\n",
       "\n",
       "       [[390., 389., 388., ..., 561., 562., 563.],\n",
       "        [389., 388., 387., ..., 560., 561., 562.],\n",
       "        [388., 387., 386., ..., 559., 560., 561.],\n",
       "        ...,\n",
       "        [146., 145., 144., ..., 317., 318., 319.],\n",
       "        [147., 146., 145., ..., 318., 319., 320.],\n",
       "        [148., 147., 146., ..., 319., 320., 321.]],\n",
       "\n",
       "       [[360., 359., 358., ..., 591., 592., 593.],\n",
       "        [359., 358., 357., ..., 590., 591., 592.],\n",
       "        [358., 357., 356., ..., 589., 590., 591.],\n",
       "        ...,\n",
       "        [116., 115., 114., ..., 347., 348., 349.],\n",
       "        [117., 116., 115., ..., 348., 349., 350.],\n",
       "        [118., 117., 116., ..., 349., 350., 351.]],\n",
       "\n",
       "       ...,\n",
       "\n",
       "       [[570., 569., 568., ..., 451., 452., 453.],\n",
       "        [569., 568., 567., ..., 450., 451., 452.],\n",
       "        [568., 567., 566., ..., 449., 450., 451.],\n",
       "        ...,\n",
       "        [256., 255., 254., ..., 137., 138., 139.],\n",
       "        [257., 256., 255., ..., 138., 139., 140.],\n",
       "        [258., 257., 256., ..., 139., 140., 141.]],\n",
       "\n",
       "       [[559., 558., 557., ..., 384., 385., 386.],\n",
       "        [558., 557., 556., ..., 383., 384., 385.],\n",
       "        [557., 556., 555., ..., 382., 383., 384.],\n",
       "        ...,\n",
       "        [323., 322., 321., ..., 148., 149., 150.],\n",
       "        [324., 323., 322., ..., 149., 150., 151.],\n",
       "        [325., 324., 323., ..., 150., 151., 152.]],\n",
       "\n",
       "       [[313., 312., 311., ..., 198., 199., 200.],\n",
       "        [312., 311., 310., ..., 197., 198., 199.],\n",
       "        [311., 310., 309., ..., 196., 197., 198.],\n",
       "        ...,\n",
       "        [509., 508., 507., ..., 394., 395., 396.],\n",
       "        [510., 509., 508., ..., 395., 396., 397.],\n",
       "        [511., 510., 509., ..., 396., 397., 398.]]])"
      ]
     },
     "execution_count": 117,
     "metadata": {},
     "output_type": "execute_result"
    }
   ],
   "source": [
    "sheet = make_sheet(df6)\n",
    "manhattan_dist_by_target(df6, sheet)"
   ]
  },
  {
   "cell_type": "code",
   "execution_count": 118,
   "metadata": {},
   "outputs": [
    {
     "data": {
      "text/plain": [
       "array([[[ nan,  nan,  nan, ...,  nan,  nan,  nan],\n",
       "        [ nan,  nan,  nan, ...,  nan,  nan,  nan],\n",
       "        [ nan,  nan,  nan, ...,  nan,  nan,  nan],\n",
       "        ...,\n",
       "        [ nan,  nan,  nan, ...,  nan,  nan,  nan],\n",
       "        [ nan,  nan,  nan, ...,  nan,  nan,  nan],\n",
       "        [ nan,  nan,  nan, ...,  nan,  nan,  nan]],\n",
       "\n",
       "       [[390., 389., 388., ..., 561., 562., 563.],\n",
       "        [389., 388., 387., ..., 560., 561., 562.],\n",
       "        [388., 387., 386., ..., 559., 560., 561.],\n",
       "        ...,\n",
       "        [146., 145., 144., ..., 317., 318., 319.],\n",
       "        [147., 146., 145., ..., 318., 319., 320.],\n",
       "        [148., 147., 146., ..., 319., 320., 321.]],\n",
       "\n",
       "       [[360., 359., 358., ..., 591., 592., 593.],\n",
       "        [359., 358., 357., ..., 590., 591., 592.],\n",
       "        [358., 357., 356., ..., 589., 590., 591.],\n",
       "        ...,\n",
       "        [116., 115., 114., ..., 347., 348., 349.],\n",
       "        [117., 116., 115., ..., 348., 349., 350.],\n",
       "        [118., 117., 116., ..., 349., 350., 351.]],\n",
       "\n",
       "       ...,\n",
       "\n",
       "       [[570., 569., 568., ..., 451., 452., 453.],\n",
       "        [569., 568., 567., ..., 450., 451., 452.],\n",
       "        [568., 567., 566., ..., 449., 450., 451.],\n",
       "        ...,\n",
       "        [256., 255., 254., ..., 137., 138., 139.],\n",
       "        [257., 256., 255., ..., 138., 139., 140.],\n",
       "        [258., 257., 256., ..., 139., 140., 141.]],\n",
       "\n",
       "       [[559., 558., 557., ..., 384., 385., 386.],\n",
       "        [558., 557., 556., ..., 383., 384., 385.],\n",
       "        [557., 556., 555., ..., 382., 383., 384.],\n",
       "        ...,\n",
       "        [323., 322., 321., ..., 148., 149., 150.],\n",
       "        [324., 323., 322., ..., 149., 150., 151.],\n",
       "        [325., 324., 323., ..., 150., 151., 152.]],\n",
       "\n",
       "       [[313., 312., 311., ..., 198., 199., 200.],\n",
       "        [312., 311., 310., ..., 197., 198., 199.],\n",
       "        [311., 310., 309., ..., 196., 197., 198.],\n",
       "        ...,\n",
       "        [509., 508., 507., ..., 394., 395., 396.],\n",
       "        [510., 509., 508., ..., 395., 396., 397.],\n",
       "        [511., 510., 509., ..., 396., 397., 398.]]])"
      ]
     },
     "execution_count": 118,
     "metadata": {},
     "output_type": "execute_result"
    }
   ],
   "source": [
    "sheet[0] = np.nan\n",
    "sheet"
   ]
  },
  {
   "cell_type": "code",
   "execution_count": 119,
   "metadata": {},
   "outputs": [
    {
     "data": {
      "text/plain": [
       "array([[[ nan,  nan,  nan, ...,  nan,  nan,  nan],\n",
       "        [ nan,  nan,  nan, ...,  nan,  nan,  nan],\n",
       "        [ nan,  nan,  nan, ...,  nan,  nan,  nan],\n",
       "        ...,\n",
       "        [ nan,  nan,  nan, ...,  nan,  nan,  nan],\n",
       "        [ nan,  nan,  nan, ...,  nan,  nan,  nan],\n",
       "        [ nan,  nan,  nan, ...,  nan,  nan,  nan]],\n",
       "\n",
       "       [[390., 389., 388., ..., 561., 562., 563.],\n",
       "        [389., 388., 387., ..., 560., 561., 562.],\n",
       "        [388., 387., 386., ..., 559., 560., 561.],\n",
       "        ...,\n",
       "        [146., 145., 144., ..., 317., 318., 319.],\n",
       "        [147., 146., 145., ..., 318., 319., 320.],\n",
       "        [148., 147., 146., ..., 319., 320., 321.]],\n",
       "\n",
       "       [[360., 359., 358., ..., 591., 592., 593.],\n",
       "        [359., 358., 357., ..., 590., 591., 592.],\n",
       "        [358., 357., 356., ..., 589., 590., 591.],\n",
       "        ...,\n",
       "        [116., 115., 114., ..., 347., 348., 349.],\n",
       "        [117., 116., 115., ..., 348., 349., 350.],\n",
       "        [118., 117., 116., ..., 349., 350., 351.]],\n",
       "\n",
       "       ...,\n",
       "\n",
       "       [[570., 569., 568., ..., 451., 452., 453.],\n",
       "        [569., 568., 567., ..., 450., 451., 452.],\n",
       "        [568., 567., 566., ..., 449., 450., 451.],\n",
       "        ...,\n",
       "        [256., 255., 254., ..., 137., 138., 139.],\n",
       "        [257., 256., 255., ..., 138., 139., 140.],\n",
       "        [258., 257., 256., ..., 139., 140., 141.]],\n",
       "\n",
       "       [[559., 558., 557., ..., 384., 385., 386.],\n",
       "        [558., 557., 556., ..., 383., 384., 385.],\n",
       "        [557., 556., 555., ..., 382., 383., 384.],\n",
       "        ...,\n",
       "        [323., 322., 321., ..., 148., 149., 150.],\n",
       "        [324., 323., 322., ..., 149., 150., 151.],\n",
       "        [325., 324., 323., ..., 150., 151., 152.]],\n",
       "\n",
       "       [[313., 312., 311., ..., 198., 199., 200.],\n",
       "        [312., 311., 310., ..., 197., 198., 199.],\n",
       "        [311., 310., 309., ..., 196., 197., 198.],\n",
       "        ...,\n",
       "        [509., 508., 507., ..., 394., 395., 396.],\n",
       "        [510., 509., 508., ..., 395., 396., 397.],\n",
       "        [511., 510., 509., ..., 396., 397., 398.]]])"
      ]
     },
     "execution_count": 119,
     "metadata": {},
     "output_type": "execute_result"
    }
   ],
   "source": [
    "#cutoff = 32\n",
    "cutoff = 10000\n",
    "for arr_index, arr_val in np.ndenumerate(sheet[0]):\n",
    "    sheet[0,arr_index[0],arr_index[1]] = np.sum(sheet[1:,arr_index[0],arr_index[1]])\n",
    "    if sheet[0,arr_index[0],arr_index[1]] < cutoff:\n",
    "        sheet[0,arr_index[0],arr_index[1]] = 1\n",
    "    else:\n",
    "        sheet[0,arr_index[0],arr_index[1]] = np.nan\n",
    "sheet"
   ]
  },
  {
   "cell_type": "code",
   "execution_count": 120,
   "metadata": {},
   "outputs": [
    {
     "data": {
      "text/plain": [
       "array([[nan, nan, nan, ..., nan, nan, nan],\n",
       "       [nan, nan, nan, ..., nan, nan, nan],\n",
       "       [nan, nan, nan, ..., nan, nan, nan],\n",
       "       ...,\n",
       "       [nan, nan, nan, ..., nan, nan, nan],\n",
       "       [nan, nan, nan, ..., nan, nan, nan],\n",
       "       [nan, nan, nan, ..., nan, nan, nan]])"
      ]
     },
     "execution_count": 120,
     "metadata": {},
     "output_type": "execute_result"
    }
   ],
   "source": [
    "sheet[0]"
   ]
  },
  {
   "cell_type": "code",
   "execution_count": 121,
   "metadata": {},
   "outputs": [
    {
     "data": {
      "text/plain": [
       "42535.0"
      ]
     },
     "execution_count": 121,
     "metadata": {},
     "output_type": "execute_result"
    }
   ],
   "source": [
    "np.nansum(sheet[0])"
   ]
  },
  {
   "cell_type": "markdown",
   "metadata": {},
   "source": [
    "## Day 7 - part 1\n",
    "\n",
    "The instructions specify a series of steps and requirements about which steps must be finished before others can begin (your puzzle input). Each step is designated by a single letter. For example, suppose you have the following instructions:\n",
    "\n",
    "```\n",
    "Step C must be finished before step A can begin.\n",
    "Step C must be finished before step F can begin.\n",
    "Step A must be finished before step B can begin.\n",
    "Step A must be finished before step D can begin.\n",
    "Step B must be finished before step E can begin.\n",
    "Step D must be finished before step E can begin.\n",
    "Step F must be finished before step E can begin.\n",
    "```\n",
    "\n",
    "Visually, these requirements look like this:\n",
    "\n",
    "```\n",
    "  -->A--->B--\n",
    " /    \\      \\\n",
    "C      -->D----->E\n",
    " \\           /\n",
    "  ---->F-----\n",
    "```\n",
    "\n",
    "Your first goal is to determine the order in which the steps should be completed. If more than one step is ready, choose the step which is first alphabetically. In this example, the steps would be completed as follows:\n",
    "\n",
    "- Only C is available, and so it is done first.\n",
    "- Next, both A and F are available. A is first alphabetically, so it is done next.\n",
    "- Then, even though F was available earlier, steps B and D are now also available, and B is the first alphabetically of the three.\n",
    "- After that, only D and F are available. E is not available because only some of its prerequisites are complete. Therefore, D is completed next.\n",
    "- F is the only choice, so it is done next.\n",
    "- Finally, E is completed.\n",
    "\n",
    "So, in this example, the correct order is CABDFE.\n",
    "\n",
    "In what order should the steps in your instructions be completed?"
   ]
  },
  {
   "cell_type": "code",
   "execution_count": 122,
   "metadata": {},
   "outputs": [],
   "source": [
    "# import data\n",
    "df7_test = pd.read_csv('../data/advent_of_code/day7_test.txt', header=None, names=['raw'])\n",
    "df7 = pd.read_csv('../data/advent_of_code/day7.txt', header=None, names=['raw'])\n",
    "#df7_test.head(7)"
   ]
  },
  {
   "cell_type": "code",
   "execution_count": 123,
   "metadata": {},
   "outputs": [
    {
     "data": {
      "text/html": [
       "<div>\n",
       "<style scoped>\n",
       "    .dataframe tbody tr th:only-of-type {\n",
       "        vertical-align: middle;\n",
       "    }\n",
       "\n",
       "    .dataframe tbody tr th {\n",
       "        vertical-align: top;\n",
       "    }\n",
       "\n",
       "    .dataframe thead th {\n",
       "        text-align: right;\n",
       "    }\n",
       "</style>\n",
       "<table border=\"1\" class=\"dataframe\">\n",
       "  <thead>\n",
       "    <tr style=\"text-align: right;\">\n",
       "      <th></th>\n",
       "      <th>raw</th>\n",
       "      <th>start</th>\n",
       "      <th>stop</th>\n",
       "    </tr>\n",
       "  </thead>\n",
       "  <tbody>\n",
       "    <tr>\n",
       "      <th>0</th>\n",
       "      <td>Step C must be finished before step A can begin.</td>\n",
       "      <td>C</td>\n",
       "      <td>A</td>\n",
       "    </tr>\n",
       "    <tr>\n",
       "      <th>1</th>\n",
       "      <td>Step C must be finished before step F can begin.</td>\n",
       "      <td>C</td>\n",
       "      <td>F</td>\n",
       "    </tr>\n",
       "    <tr>\n",
       "      <th>2</th>\n",
       "      <td>Step A must be finished before step B can begin.</td>\n",
       "      <td>A</td>\n",
       "      <td>B</td>\n",
       "    </tr>\n",
       "    <tr>\n",
       "      <th>3</th>\n",
       "      <td>Step A must be finished before step D can begin.</td>\n",
       "      <td>A</td>\n",
       "      <td>D</td>\n",
       "    </tr>\n",
       "    <tr>\n",
       "      <th>4</th>\n",
       "      <td>Step B must be finished before step E can begin.</td>\n",
       "      <td>B</td>\n",
       "      <td>E</td>\n",
       "    </tr>\n",
       "    <tr>\n",
       "      <th>5</th>\n",
       "      <td>Step D must be finished before step E can begin.</td>\n",
       "      <td>D</td>\n",
       "      <td>E</td>\n",
       "    </tr>\n",
       "    <tr>\n",
       "      <th>6</th>\n",
       "      <td>Step F must be finished before step E can begin.</td>\n",
       "      <td>F</td>\n",
       "      <td>E</td>\n",
       "    </tr>\n",
       "  </tbody>\n",
       "</table>\n",
       "</div>"
      ],
      "text/plain": [
       "                                                raw start stop\n",
       "0  Step C must be finished before step A can begin.     C    A\n",
       "1  Step C must be finished before step F can begin.     C    F\n",
       "2  Step A must be finished before step B can begin.     A    B\n",
       "3  Step A must be finished before step D can begin.     A    D\n",
       "4  Step B must be finished before step E can begin.     B    E\n",
       "5  Step D must be finished before step E can begin.     D    E\n",
       "6  Step F must be finished before step E can begin.     F    E"
      ]
     },
     "execution_count": 123,
     "metadata": {},
     "output_type": "execute_result"
    }
   ],
   "source": [
    "df7_test['start'] = df7_test.raw.str.split().str[1]\n",
    "df7_test['stop'] = df7_test.raw.str.split().str[7]\n",
    "df7['start'] = df7.raw.str.split().str[1]\n",
    "df7['stop'] = df7.raw.str.split().str[7]\n",
    "df7_test.head(7)"
   ]
  },
  {
   "cell_type": "markdown",
   "metadata": {},
   "source": [
    "solution is: CABDFE"
   ]
  },
  {
   "cell_type": "code",
   "execution_count": 124,
   "metadata": {},
   "outputs": [
    {
     "data": {
      "text/html": [
       "<div>\n",
       "<style scoped>\n",
       "    .dataframe tbody tr th:only-of-type {\n",
       "        vertical-align: middle;\n",
       "    }\n",
       "\n",
       "    .dataframe tbody tr th {\n",
       "        vertical-align: top;\n",
       "    }\n",
       "\n",
       "    .dataframe thead th {\n",
       "        text-align: right;\n",
       "    }\n",
       "</style>\n",
       "<table border=\"1\" class=\"dataframe\">\n",
       "  <thead>\n",
       "    <tr style=\"text-align: right;\">\n",
       "      <th></th>\n",
       "      <th>raw</th>\n",
       "      <th>start</th>\n",
       "      <th>stop</th>\n",
       "    </tr>\n",
       "  </thead>\n",
       "  <tbody>\n",
       "    <tr>\n",
       "      <th>0</th>\n",
       "      <td>Step A must be finished before step G can begin.</td>\n",
       "      <td>A</td>\n",
       "      <td>G</td>\n",
       "    </tr>\n",
       "    <tr>\n",
       "      <th>1</th>\n",
       "      <td>Step A must be finished before step O can begin.</td>\n",
       "      <td>A</td>\n",
       "      <td>O</td>\n",
       "    </tr>\n",
       "    <tr>\n",
       "      <th>2</th>\n",
       "      <td>Step A must be finished before step R can begin.</td>\n",
       "      <td>A</td>\n",
       "      <td>R</td>\n",
       "    </tr>\n",
       "    <tr>\n",
       "      <th>3</th>\n",
       "      <td>Step A must be finished before step Y can begin.</td>\n",
       "      <td>A</td>\n",
       "      <td>Y</td>\n",
       "    </tr>\n",
       "    <tr>\n",
       "      <th>4</th>\n",
       "      <td>Step B must be finished before step I can begin.</td>\n",
       "      <td>B</td>\n",
       "      <td>I</td>\n",
       "    </tr>\n",
       "  </tbody>\n",
       "</table>\n",
       "</div>"
      ],
      "text/plain": [
       "                                                raw start stop\n",
       "0  Step A must be finished before step G can begin.     A    G\n",
       "1  Step A must be finished before step O can begin.     A    O\n",
       "2  Step A must be finished before step R can begin.     A    R\n",
       "3  Step A must be finished before step Y can begin.     A    Y\n",
       "4  Step B must be finished before step I can begin.     B    I"
      ]
     },
     "execution_count": 124,
     "metadata": {},
     "output_type": "execute_result"
    }
   ],
   "source": [
    "df7.sort_values(['start','stop'], ascending=[True,True], inplace=True)\n",
    "df7.reset_index(drop=True, inplace=True)\n",
    "df7.head()"
   ]
  },
  {
   "cell_type": "code",
   "execution_count": 125,
   "metadata": {},
   "outputs": [],
   "source": [
    "def build_stop_list(dataframe):\n",
    "    \"\"\"build a stop list on the fly\"\"\"\n",
    "    all_stops = []\n",
    "    for row in dataframe.itertuples():\n",
    "        all_stops.append(row.stop)\n",
    "    return all_stops"
   ]
  },
  {
   "cell_type": "code",
   "execution_count": 131,
   "metadata": {},
   "outputs": [],
   "source": [
    "all_stops = build_stop_list(df7_test)"
   ]
  },
  {
   "cell_type": "code",
   "execution_count": 132,
   "metadata": {},
   "outputs": [],
   "source": [
    "def find_next(dataframe, stop_list):\n",
    "    \"\"\"find next step until none left, return path\"\"\"\n",
    "    path = []\n",
    "    while len(stop_list) > 1:\n",
    "        for row in dataframe.itertuples():\n",
    "            if row.start in stop_list:\n",
    "                continue\n",
    "            if row.start not in stop_list:\n",
    "                path.append(row.start)\n",
    "                # delete row in df\n",
    "                dataframe.drop([row.Index], inplace=True)\n",
    "                # rebuild stop_list in stop_list\n",
    "                stop_list = build_stop_list(dataframe)\n",
    "    path.append(row.stop)\n",
    "    return path\n",
    "# CABDFE"
   ]
  },
  {
   "cell_type": "code",
   "execution_count": 133,
   "metadata": {},
   "outputs": [],
   "source": [
    "path = list(OrderedDict.fromkeys(find_next(df7_test, all_stops)))"
   ]
  },
  {
   "cell_type": "code",
   "execution_count": 135,
   "metadata": {},
   "outputs": [],
   "source": [
    "all_stops = build_stop_list(df7)"
   ]
  },
  {
   "cell_type": "code",
   "execution_count": 136,
   "metadata": {},
   "outputs": [],
   "source": [
    "path = list(OrderedDict.fromkeys(find_next(df7, all_stops)))"
   ]
  },
  {
   "cell_type": "code",
   "execution_count": 137,
   "metadata": {},
   "outputs": [
    {
     "data": {
      "text/plain": [
       "'JKPTXDEFUABHOQSVYZMNLCIGRW'"
      ]
     },
     "execution_count": 137,
     "metadata": {},
     "output_type": "execute_result"
    }
   ],
   "source": [
    "path_output = ''\n",
    "for l in path:\n",
    "    path_output += l\n",
    "path_output"
   ]
  },
  {
   "cell_type": "code",
   "execution_count": 111,
   "metadata": {},
   "outputs": [],
   "source": [
    "# wrong answer JKPTXDEFUABHOQSVYZMNLCIGRW"
   ]
  },
  {
   "cell_type": "code",
   "execution_count": null,
   "metadata": {},
   "outputs": [],
   "source": []
  }
 ],
 "metadata": {
  "kernelspec": {
   "display_name": "geocomp",
   "language": "python",
   "name": "geocomp"
  },
  "language_info": {
   "codemirror_mode": {
    "name": "ipython",
    "version": 3
   },
   "file_extension": ".py",
   "mimetype": "text/x-python",
   "name": "python",
   "nbconvert_exporter": "python",
   "pygments_lexer": "ipython3",
   "version": "3.7.0"
  }
 },
 "nbformat": 4,
 "nbformat_minor": 2
}
