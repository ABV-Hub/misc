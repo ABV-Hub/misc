{
 "cells": [
  {
   "cell_type": "markdown",
   "metadata": {},
   "source": [
    "# Email from Python demo\n",
    "\n",
    "This notebook is based on [Corey Schafer's video](https://www.youtube.com/watch?v=JRCJ6RtE3xU&t=751s).\n",
    "\n",
    "His video and work is gratefully acknowledged.\n",
    "\n",
    "First we need to setup an App password in gmail, see his video for how to do that.\n",
    "\n",
    "Next we need to set up an environment variable to hide the password and not use is in plain text in the app, see his [video](https://www.youtube.com/watch?v=5iWhQWVXosU) on that topic.\n",
    "\n",
    "### Import libraries, environment variables and input files\n",
    "\n",
    "_environment variables and files are listed in a `enviro.py` file that is ignored by `.gitignore`_"
   ]
  },
  {
   "cell_type": "code",
   "execution_count": 1,
   "metadata": {},
   "outputs": [],
   "source": [
    "import os\n",
    "import smtplib\n",
    "import imghdr\n",
    "from email.message import EmailMessage\n",
    "from enviro import gmail_login, gmail_pwd, email, email2, file01, image_list, csv_files"
   ]
  },
  {
   "cell_type": "markdown",
   "metadata": {},
   "source": [
    "### Initialize variables"
   ]
  },
  {
   "cell_type": "code",
   "execution_count": 2,
   "metadata": {},
   "outputs": [],
   "source": [
    "# Login credentials to send emails from\n",
    "login = gmail_login\n",
    "password = gmail_pwd\n",
    "\n",
    "# Target email addresses\n",
    "email_01 = email\n",
    "email_02 = email2\n",
    "\n",
    "# a single file to send\n",
    "single_file = file01\n",
    "\n",
    "# a list of images to send\n",
    "file_list = image_list\n",
    "\n",
    "# a list of data files to send\n",
    "data_files = csv_files"
   ]
  },
  {
   "cell_type": "markdown",
   "metadata": {},
   "source": [
    "### SMTP protocol\n",
    "\n",
    "First a real example.\n",
    "\n",
    "**Note that the lines that actually send the emails are commented out to avoid sending emails each time the notebook is run.**"
   ]
  },
  {
   "cell_type": "code",
   "execution_count": 3,
   "metadata": {},
   "outputs": [],
   "source": [
    "with smtplib.SMTP('smtp.gmail.com', 587) as smtp:\n",
    "    smtp.ehlo()\n",
    "    smtp.starttls()\n",
    "    smtp.ehlo()\n",
    "    \n",
    "    smtp.login(login, password)\n",
    "    \n",
    "    subject = 'Simple SMTP protocol'\n",
    "    body = 'This is a test email'\n",
    "    msg = f'Subject: {subject}\\n\\n{body}'\n",
    "    \n",
    "    # the next line will send an actual email\n",
    "    #smtp.sendmail(login, email, msg)"
   ]
  },
  {
   "cell_type": "markdown",
   "metadata": {},
   "source": [
    "Next the same code using a localhost for testing purposes:\n",
    "\n",
    "- open a terminal\n",
    "\n",
    "start a debug mail server \n",
    "\n",
    "- `python -m smtpd -c DebuggingServer -n localhost:1025`\n"
   ]
  },
  {
   "cell_type": "code",
   "execution_count": 4,
   "metadata": {},
   "outputs": [],
   "source": [
    "with smtplib.SMTP('localhost', 1025) as smtp:\n",
    "\n",
    "    subject = 'Debugging Server'\n",
    "    body = 'This is a test email'\n",
    "    msg = f'Subject: {subject}\\n\\n{body}'\n",
    "    \n",
    "    smtp.sendmail(login, email_01, msg)"
   ]
  },
  {
   "cell_type": "markdown",
   "metadata": {},
   "source": [
    "### Sending emails more simply"
   ]
  },
  {
   "cell_type": "code",
   "execution_count": 5,
   "metadata": {},
   "outputs": [],
   "source": [
    "msg = EmailMessage()\n",
    "msg['Subject'] = 'test email using EmailMessage() Class'\n",
    "msg['From'] = login\n",
    "msg['To'] = email_01\n",
    "msg.set_content('This is a test email')\n",
    "\n",
    "with smtplib.SMTP_SSL('smtp.gmail.com', 465) as smtp:\n",
    "    smtp.login(login, password)\n",
    "    # the next line will send an actual email\n",
    "    #smtp.send_message(msg)"
   ]
  },
  {
   "cell_type": "markdown",
   "metadata": {},
   "source": [
    "### Adding single attachement"
   ]
  },
  {
   "cell_type": "code",
   "execution_count": 6,
   "metadata": {},
   "outputs": [],
   "source": [
    "msg = EmailMessage()\n",
    "msg['Subject'] = 'Test a single attachment (image)'\n",
    "msg['From'] = login\n",
    "msg['To'] = email_01\n",
    "msg.set_content('File attached..')\n",
    "\n",
    "with open(single_file, 'rb') as f:\n",
    "    file_data = f.read()\n",
    "    file_type = imghdr.what(f.name)\n",
    "    file_name = f.name\n",
    "    \n",
    "msg.add_attachment(file_data, maintype='image', subtype=file_type, filename=file_name)\n",
    "\n",
    "with smtplib.SMTP_SSL('smtp.gmail.com', 465) as smtp:\n",
    "    smtp.login(login, password)\n",
    "    # the next line will send an actual email\n",
    "    #smtp.send_message(msg)"
   ]
  },
  {
   "cell_type": "markdown",
   "metadata": {},
   "source": [
    "### Adding mulitple attachements\n",
    "\n",
    "#### Images"
   ]
  },
  {
   "cell_type": "code",
   "execution_count": 7,
   "metadata": {},
   "outputs": [],
   "source": [
    "msg = EmailMessage()\n",
    "msg['Subject'] = 'test multiple attachements (images)'\n",
    "msg['From'] = login\n",
    "msg['To'] = email_01\n",
    "msg.set_content('File attached..')\n",
    "\n",
    "image_files = file_list\n",
    "\n",
    "for image in image_files:\n",
    "    file = '../../data/' + image\n",
    "    with open(file, 'rb') as f:\n",
    "        file_data = f.read()\n",
    "        file_type = imghdr.what(f.name)\n",
    "        file_name = f.name\n",
    "    msg.add_attachment(file_data, maintype='image', subtype=file_type, filename=file_name)\n",
    "\n",
    "with smtplib.SMTP_SSL('smtp.gmail.com', 465) as smtp:\n",
    "    smtp.login(login, password)\n",
    "    # the next line will send an actual email\n",
    "    #smtp.send_message(msg)"
   ]
  },
  {
   "cell_type": "markdown",
   "metadata": {},
   "source": [
    "#### Image files and generic bag of bytes type - i.e. generic data file"
   ]
  },
  {
   "cell_type": "code",
   "execution_count": 8,
   "metadata": {},
   "outputs": [],
   "source": [
    "msg = EmailMessage()\n",
    "msg['Subject'] = 'test mulitple attachements (images and generic types)'\n",
    "msg['From'] = login\n",
    "msg['To'] = email_01\n",
    "msg.set_content('File attached..')\n",
    "\n",
    "image_files = file_list\n",
    "data_files = data_files\n",
    "\n",
    "for image in image_files:\n",
    "    file = '../../data/' + image\n",
    "    with open(file, 'rb') as f:\n",
    "        file_data = f.read()\n",
    "        file_type = imghdr.what(f.name)\n",
    "        file_name = f.name\n",
    "    msg.add_attachment(file_data, maintype='image', subtype=file_type, filename=file_name)\n",
    "\n",
    "for data_file in data_files:\n",
    "    file = '../../data/' + data_file\n",
    "    with open(file, 'rb') as f:\n",
    "        file_data = f.read()\n",
    "        file_name = f.name\n",
    "    msg.add_attachment(file_data, maintype='application', subtype='octet-stream', filename=file_name)\n",
    "\n",
    "with smtplib.SMTP_SSL('smtp.gmail.com', 465) as smtp:\n",
    "    smtp.login(login, password)\n",
    "    # the next line will send an actual email\n",
    "    #smtp.send_message(msg)"
   ]
  },
  {
   "cell_type": "markdown",
   "metadata": {},
   "source": [
    "### Sending emails to multiple recipients"
   ]
  },
  {
   "cell_type": "code",
   "execution_count": 9,
   "metadata": {},
   "outputs": [],
   "source": [
    "contacts = [email_01, email_02]\n",
    "\n",
    "msg = EmailMessage()\n",
    "msg['Subject'] = 'test multiple recipents'\n",
    "msg['From'] = login\n",
    "msg['To'] = contacts\n",
    "msg.set_content('File attached..')\n",
    "\n",
    "image_files = file_list\n",
    "\n",
    "for image in image_files:\n",
    "    file = '../../data/' + image\n",
    "    with open(file, 'rb') as f:\n",
    "        file_data = f.read()\n",
    "        file_type = imghdr.what(f.name)\n",
    "        file_name = f.name\n",
    "    msg.add_attachment(file_data, maintype='image', subtype=file_type, filename=file_name)\n",
    "\n",
    "with smtplib.SMTP_SSL('smtp.gmail.com', 465) as smtp:\n",
    "    smtp.login(login, password)\n",
    "    # the next line will send an actual email\n",
    "    #smtp.send_message(msg)"
   ]
  },
  {
   "cell_type": "markdown",
   "metadata": {},
   "source": [
    "### Sending HTML"
   ]
  },
  {
   "cell_type": "code",
   "execution_count": 10,
   "metadata": {},
   "outputs": [],
   "source": [
    "msg = EmailMessage()\n",
    "msg['Subject'] = 'test HTML email'\n",
    "msg['From'] = login\n",
    "msg['To'] = email_01\n",
    "msg.set_content('This is a plain text sample email.')\n",
    "msg.add_alternative(\"\"\"\\\n",
    "<!DOCTYPE html>\n",
    "<html>\n",
    "    <body>\n",
    "        <h1 style=\"color:SlateGray;\">This is an HTML Email!</h1>\n",
    "    </body>\n",
    "</html>\n",
    "\"\"\", subtype='html')\n",
    "\n",
    "\n",
    "with smtplib.SMTP_SSL('smtp.gmail.com', 465) as smtp:\n",
    "    smtp.login(login, password)\n",
    "    # the next line will send an actual email\n",
    "    #smtp.send_message(msg)"
   ]
  },
  {
   "cell_type": "code",
   "execution_count": null,
   "metadata": {},
   "outputs": [],
   "source": []
  }
 ],
 "metadata": {
  "kernelspec": {
   "display_name": "Python 3",
   "language": "python",
   "name": "python3"
  },
  "language_info": {
   "codemirror_mode": {
    "name": "ipython",
    "version": 3
   },
   "file_extension": ".py",
   "mimetype": "text/x-python",
   "name": "python",
   "nbconvert_exporter": "python",
   "pygments_lexer": "ipython3",
   "version": "3.7.1"
  }
 },
 "nbformat": 4,
 "nbformat_minor": 2
}
