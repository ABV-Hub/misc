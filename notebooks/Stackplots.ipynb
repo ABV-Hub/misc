{
 "cells": [
  {
   "cell_type": "code",
   "execution_count": null,
   "metadata": {},
   "outputs": [],
   "source": [
    "import numpy as np\n",
    "import pandas as pd\n",
    "import seaborn as sns\n",
    "%matplotlib inline\n",
    "import matplotlib.pyplot as plt"
   ]
  },
  {
   "cell_type": "code",
   "execution_count": null,
   "metadata": {},
   "outputs": [],
   "source": [
    "labels = ['wells','Z1','Z2','Z3','Z4','Z5','Z6','Z7','Z8']\n",
    "data = [('2017-05-07',3.307680,0.005379,0.023195,0.005856,0.0,0.0,0.0,0.0),('2017-05-08',73.906138,3.590013,0.000000,0.000000,0.0,0.0,0.0,0.0)]"
   ]
  },
  {
   "cell_type": "code",
   "execution_count": null,
   "metadata": {},
   "outputs": [],
   "source": [
    "df = pd.DataFrame.from_records(data, columns=labels)\n",
    "df"
   ]
  },
  {
   "cell_type": "code",
   "execution_count": null,
   "metadata": {},
   "outputs": [],
   "source": [
    "df.set_index('wells', drop=True, inplace=True, verify_integrity=True)\n",
    "df"
   ]
  },
  {
   "cell_type": "code",
   "execution_count": null,
   "metadata": {},
   "outputs": [],
   "source": [
    "#fig, axs = plt.subplots(figsize=(20, 10), nrows=2)\n",
    "\n",
    "#ax=axs[0]\n",
    "labels=list(df.columns.values)\n",
    "x=list(df.index.values)\n",
    "#col_dict = {}\n",
    "vstack_list = []\n",
    "for col in labels:\n",
    "    col_list = []\n",
    "    for row in df[col]:\n",
    "        col_list.append(row)\n",
    "    #col_dict[col] = col_list\n",
    "    vstack_list.append(col_list)\n",
    "\n",
    "y = np.vstack(vstack_list)\n",
    "\n",
    "print(y)\n",
    "\n",
    "#plt.stackplot(df)\n",
    "\n",
    "\n",
    "#ax=axs[1]\n",
    "#colname='bhp1_bara'\n",
    "#enddate='2019-08-31'\n",
    "#df=obs_wells.loc[:enddate].xs(colname, level='well_colnames' ,axis=1)\n",
    "#plt.plot(df)\n",
    "\n",
    "#plt.show()"
   ]
  },
  {
   "cell_type": "code",
   "execution_count": null,
   "metadata": {},
   "outputs": [],
   "source": []
  }
 ],
 "metadata": {
  "kernelspec": {
   "display_name": "geocomp",
   "language": "python",
   "name": "geocomp"
  },
  "language_info": {
   "codemirror_mode": {
    "name": "ipython",
    "version": 3
   },
   "file_extension": ".py",
   "mimetype": "text/x-python",
   "name": "python",
   "nbconvert_exporter": "python",
   "pygments_lexer": "ipython3",
   "version": "3.6.5"
  }
 },
 "nbformat": 4,
 "nbformat_minor": 2
}
