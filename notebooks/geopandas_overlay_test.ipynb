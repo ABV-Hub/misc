{
 "cells": [
  {
   "cell_type": "markdown",
   "metadata": {},
   "source": [
    "# Geopandas overlay test"
   ]
  },
  {
   "cell_type": "code",
   "execution_count": 39,
   "metadata": {},
   "outputs": [],
   "source": [
    "# imports\n",
    "import pandas as pd\n",
    "import geopandas as gpd\n",
    "from shapely.geometry import Polygon, Point\n",
    "%matplotlib inline\n",
    "import matplotlib.pyplot as plt"
   ]
  },
  {
   "cell_type": "code",
   "execution_count": 41,
   "metadata": {},
   "outputs": [
    {
     "data": {
      "text/plain": [
       "<matplotlib.axes._subplots.AxesSubplot at 0x127499c50>"
      ]
     },
     "execution_count": 41,
     "metadata": {},
     "output_type": "execute_result"
    },
    {
     "data": {
      "image/png": "[encoded data removed]",
      "text/plain": [
       "<Figure size 432x288 with 1 Axes>"
      ]
     },
     "metadata": {
      "needs_background": "light"
     },
     "output_type": "display_data"
    },
    {
     "data": {
      "image/png": "[encoded data removed]",
      "text/plain": [
       "<Figure size 432x288 with 1 Axes>"
      ]
     },
     "metadata": {
      "needs_background": "light"
     },
     "output_type": "display_data"
    }
   ],
   "source": [
    "# Initialize a test GeoDataFrame where geometry is a list of points\n",
    "# Initialize a test GeoDataFrame where geometry is a list of points \n",
    "df_box = gpd.GeoDataFrame([['box', Point(1, 0)],\n",
    "                           ['box', Point(1, 1)],\n",
    "                           ['box', Point(0,1)],\n",
    "                           ['box', Point(0,0)]],\n",
    "                          columns = ['shape_id', 'geometry'],\n",
    "                          geometry='geometry'\n",
    "                         )\n",
    "\n",
    "df_triangle = gpd.GeoDataFrame([['triangle', Point(0.5, 0.5)],\n",
    "                                ['triangle', Point(2,2)],\n",
    "                                ['triangle', Point(2,1)]],\n",
    "                               columns = ['shape_id', 'geometry'],\n",
    "                               geometry='geometry'\n",
    "                              )\n",
    "\n",
    "# Extract the coordinates from the Point object\n",
    "df_box['geometry'] = df_box['geometry'].apply(lambda x: x.coords[0])\n",
    "df_triangle['geometry'] = df_triangle['geometry'].apply(lambda x: x.coords[0])\n",
    "\n",
    "\n",
    "# Group by shape ID \n",
    "#  1. Get all of the coordinates for that ID as a list\n",
    "#  2. Convert that list to a Polygon\n",
    "df_box = df_box.groupby('shape_id')['geometry'].apply(lambda x: Polygon(x.tolist())).reset_index()\n",
    "df_triangle = df_triangle.groupby('shape_id')['geometry'].apply(lambda x: Polygon(x.tolist())).reset_index()\n",
    "\n",
    "# Declare the result as a new a GeoDataFrame\n",
    "df_box = gpd.GeoDataFrame(df_box, geometry = 'geometry')\n",
    "df_triangle = gpd.GeoDataFrame(df_triangle, geometry = 'geometry')\n",
    "\n",
    "df_box.plot()\n",
    "df_triangle.plot()"
   ]
  },
  {
   "cell_type": "code",
   "execution_count": 48,
   "metadata": {},
   "outputs": [
    {
     "data": {
      "text/plain": [
       "<matplotlib.axes._subplots.AxesSubplot at 0x12763f860>"
      ]
     },
     "execution_count": 48,
     "metadata": {},
     "output_type": "execute_result"
    },
    {
     "data": {
      "image/png": "[encoded data removed]",
      "text/plain": [
       "<Figure size 432x288 with 1 Axes>"
      ]
     },
     "metadata": {
      "needs_background": "light"
     },
     "output_type": "display_data"
    }
   ],
   "source": [
    "test = gpd.overlay(df_box, df_triangle, how='symmetric_difference', make_valid=True, use_sindex=None) \n",
    "# 'intersection', 'union','identity', 'symmetric_difference' or 'difference'\n",
    "test.plot()"
   ]
  },
  {
   "cell_type": "code",
   "execution_count": null,
   "metadata": {
    "collapsed": true
   },
   "outputs": [],
   "source": []
  }
 ],
 "metadata": {
  "kernelspec": {
   "display_name": "geopandas",
   "language": "python",
   "name": "geopandas"
  },
  "language_info": {
   "codemirror_mode": {
    "name": "ipython",
    "version": 3
   },
   "file_extension": ".py",
   "mimetype": "text/x-python",
   "name": "python",
   "nbconvert_exporter": "python",
   "pygments_lexer": "ipython3",
   "version": "3.6.6"
  }
 },
 "nbformat": 4,
 "nbformat_minor": 2
}
