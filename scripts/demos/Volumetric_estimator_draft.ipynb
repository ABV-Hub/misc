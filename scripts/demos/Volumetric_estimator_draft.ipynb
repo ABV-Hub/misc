{
 "cells": [
  {
   "cell_type": "markdown",
   "metadata": {},
   "source": [
    "# Hydrocarbon volumes calculator\n",
    "\n",
    "The expression for _oil_ volumes in place:\n",
    "\n",
    "$$ V = c \\times GRV \\times \\phi \\times NTG \\times S_\\mathrm{HC} \\times \\frac{1}{FVF} $$\n",
    "\n",
    "where:\n",
    "\n",
    "- c: conversion factor: `7758` from acre-ft to bbl (oil) or `43560` from acre-ft to ft3 (gas)\n",
    "- V: hydrocarbon volumes\n",
    "- GRV: Gross rock volume\n",
    "- $\\phi$: Porosity\n",
    "- NTG: Net-to-gross\n",
    "- $S_HC$: Hydrocarbon saturation (oil or gas)\n",
    "- FVF: Formation volume factor\n",
    "\n",
    "\n",
    "### Gross rock volume\n",
    "\n",
    "Gross rock volume (GRV) can be expressed as:\n",
    "\n",
    "$$GRV = A \\times T \\times G$$\n",
    "\n",
    "where:\n",
    "\n",
    "- A: Area\n",
    "- T: Thickness\n",
    "- G: Geometric correction factor\n",
    "\n",
    "The [Geometric correction factor](https://subsurfwiki.org/wiki/Geometric_correction_factor) is applied to account for pinch out of the oil column at the edges of the prospect, it is a function of the thickness to closure height ratio as illustrated below:\n",
    "\n",
    "<html>\n",
    "    <img src=\"http://subsurfwiki.org/images/6/66/Geometric_correction_factor.png\", width=600>\n",
    "</html>"
   ]
  },
  {
   "cell_type": "code",
   "execution_count": 1,
   "metadata": {},
   "outputs": [],
   "source": [
    "# standard imports\n",
    "import pandas as pd\n",
    "import numpy as np\n",
    "import seaborn as sns\n",
    "sns.set_style('whitegrid')\n",
    "\n",
    "%matplotlib inline\n",
    "import matplotlib.pyplot as plt\n",
    "from matplotlib.ticker import StrMethodFormatter"
   ]
  },
  {
   "cell_type": "code",
   "execution_count": 2,
   "metadata": {},
   "outputs": [],
   "source": [
    "def calc_grv(thickness, height, area, top='slab', g=False):\n",
    "    \"\"\"Calculate GRV for given prospect\n",
    "    Args:\n",
    "        thickness [float]: average thickness of reservoir\n",
    "        height [float]: height of hydrocarbon column\n",
    "        area [float]: area of hydrocarbon prospect\n",
    "        top: structure shape, one of `{'slab', 'round', 'flat'}`\n",
    "        g [float]: geometric correction factor\n",
    "    Returns:\n",
    "        grv following `thickness * area * geometric_correction_factor`\n",
    "    \"\"\"\n",
    "    if g:\n",
    "        g = g\n",
    "    else:\n",
    "        ratio = thickness / height\n",
    "\n",
    "        if top == 'round':\n",
    "            g = -0.6 * ratio + 1\n",
    "        elif top == 'flat':\n",
    "            g = -0.3 * ratio + 1\n",
    "        else:\n",
    "            g = 1\n",
    "    return thickness * area * g, g\n",
    "\n",
    "\n",
    "def calc_hciip(GRV, phi=1, NTG=1, Sw=0, FVF=1, fluid='oil'):\n",
    "    \"\"\"Calculate Hydrocarbon initially in-place for a given prospect\n",
    "    Args:\n",
    "        GRV [float]: gross rock volume [acre-feet]\n",
    "        phi [float]: porosity [fraction]\n",
    "        NTG [float]: net-to-gross [fraction]\n",
    "        Sw [float]: water saturation [fraction]\n",
    "        FVF [float]: formation volume factor (Bo for oil or Bg for gas) [RES bbl/STB or RES ft3/SCF]\n",
    "    \"\"\"\n",
    "\n",
    "    try:\n",
    "        if fluid.lower() not in {'oil', 'gas'}:\n",
    "            raise ValueError(\"`fluid` arg must be of `{'gas', 'oil'}`\")\n",
    "    except AttributeError:\n",
    "        raise AttributeError(\"`fluid` arg must be of type `str`\")\n",
    "\n",
    "    if fluid == 'oil':\n",
    "        constant = 7758 # conversion factor from acre-ft to bbl\n",
    "    elif fluid == 'gas':\n",
    "        constant = 43560 # conversion factor from acre-ft to ft3\n",
    "   \n",
    "    return (constant * GRV * phi * NTG * (1 - Sw)) / FVF"
   ]
  },
  {
   "cell_type": "markdown",
   "metadata": {},
   "source": [
    "## Monte Carlo simulation of volumes\n",
    "\n",
    "The two components of the Monte Carlo simulation are:\n",
    "1. The equation to evaluate\n",
    "2. The random variables for the input\n",
    "\n",
    "Here the equation is `calc_hciip` and the variables are `{GRV, phi, NTG, Sw, FVF}`.\n",
    "\n",
    "[Normal distribution applet](https://homepage.divms.uiowa.edu/~mbognar/applets/normal.html) and [Lognormal](https://homepage.divms.uiowa.edu/~mbognar/applets/lognormal.html) to eyeball parameters.\n",
    "\n",
    "First, define the distributions paramters:"
   ]
  },
  {
   "cell_type": "code",
   "execution_count": 3,
   "metadata": {},
   "outputs": [],
   "source": [
    "grv_avg, grv_std = 8000, 800\n",
    "\n",
    "phi_avg, phi_std = 0.3, 0.05\n",
    "ntg_avg, ntg_std = 0.7, 0.05\n",
    "sw_avg, sw_std = 0.2, 0.05\n",
    "fvf_avg, fvf_std = 1.35, 0.08\n",
    "\n",
    "num_samples = 500"
   ]
  },
  {
   "cell_type": "markdown",
   "metadata": {},
   "source": [
    "Then sample from a normal distribution (to begin with) and calculate volumes:"
   ]
  },
  {
   "cell_type": "code",
   "execution_count": 4,
   "metadata": {},
   "outputs": [],
   "source": [
    "grv = np.random.normal(grv_avg, grv_std, num_samples)\n",
    "phi = np.random.normal(phi_avg, phi_std, num_samples)\n",
    "ntg = np.random.normal(ntg_avg, ntg_std, num_samples)\n",
    "sw = np.random.normal(sw_avg, sw_std, num_samples)\n",
    "fvf = np.random.normal(fvf_avg, fvf_std, num_samples)"
   ]
  },
  {
   "cell_type": "code",
   "execution_count": 5,
   "metadata": {},
   "outputs": [
    {
     "data": {
      "text/html": [
       "<div>\n",
       "<style scoped>\n",
       "    .dataframe tbody tr th:only-of-type {\n",
       "        vertical-align: middle;\n",
       "    }\n",
       "\n",
       "    .dataframe tbody tr th {\n",
       "        vertical-align: top;\n",
       "    }\n",
       "\n",
       "    .dataframe thead th {\n",
       "        text-align: right;\n",
       "    }\n",
       "</style>\n",
       "<table border=\"1\" class=\"dataframe\">\n",
       "  <thead>\n",
       "    <tr style=\"text-align: right;\">\n",
       "      <th></th>\n",
       "      <th>grv</th>\n",
       "      <th>phi</th>\n",
       "      <th>ntg</th>\n",
       "      <th>sw</th>\n",
       "      <th>fvf</th>\n",
       "      <th>hciip</th>\n",
       "    </tr>\n",
       "  </thead>\n",
       "  <tbody>\n",
       "    <tr>\n",
       "      <th>0</th>\n",
       "      <td>8989.286432</td>\n",
       "      <td>0.297045</td>\n",
       "      <td>0.672859</td>\n",
       "      <td>0.264919</td>\n",
       "      <td>1.311780</td>\n",
       "      <td>7.810809e+06</td>\n",
       "    </tr>\n",
       "    <tr>\n",
       "      <th>1</th>\n",
       "      <td>8306.242853</td>\n",
       "      <td>0.297952</td>\n",
       "      <td>0.709292</td>\n",
       "      <td>0.178932</td>\n",
       "      <td>1.386662</td>\n",
       "      <td>8.063680e+06</td>\n",
       "    </tr>\n",
       "    <tr>\n",
       "      <th>2</th>\n",
       "      <td>6758.524150</td>\n",
       "      <td>0.252536</td>\n",
       "      <td>0.682872</td>\n",
       "      <td>0.195328</td>\n",
       "      <td>1.416896</td>\n",
       "      <td>5.135060e+06</td>\n",
       "    </tr>\n",
       "    <tr>\n",
       "      <th>3</th>\n",
       "      <td>7060.860026</td>\n",
       "      <td>0.227028</td>\n",
       "      <td>0.641070</td>\n",
       "      <td>0.181046</td>\n",
       "      <td>1.411700</td>\n",
       "      <td>4.624986e+06</td>\n",
       "    </tr>\n",
       "    <tr>\n",
       "      <th>4</th>\n",
       "      <td>8926.458233</td>\n",
       "      <td>0.225500</td>\n",
       "      <td>0.624711</td>\n",
       "      <td>0.162033</td>\n",
       "      <td>1.340299</td>\n",
       "      <td>6.099294e+06</td>\n",
       "    </tr>\n",
       "  </tbody>\n",
       "</table>\n",
       "</div>"
      ],
      "text/plain": [
       "           grv       phi       ntg        sw       fvf         hciip\n",
       "0  8989.286432  0.297045  0.672859  0.264919  1.311780  7.810809e+06\n",
       "1  8306.242853  0.297952  0.709292  0.178932  1.386662  8.063680e+06\n",
       "2  6758.524150  0.252536  0.682872  0.195328  1.416896  5.135060e+06\n",
       "3  7060.860026  0.227028  0.641070  0.181046  1.411700  4.624986e+06\n",
       "4  8926.458233  0.225500  0.624711  0.162033  1.340299  6.099294e+06"
      ]
     },
     "execution_count": 5,
     "metadata": {},
     "output_type": "execute_result"
    }
   ],
   "source": [
    "df = pd.DataFrame(index=range(num_samples), data={'grv': grv,'phi': phi,'ntg': ntg,'sw': sw,'fvf': fvf,})\n",
    "df['hciip'] = calc_hciip(df.grv, df.phi, df.ntg, df.sw, df.fvf)\n",
    "df.head()"
   ]
  },
  {
   "cell_type": "code",
   "execution_count": 6,
   "metadata": {},
   "outputs": [
    {
     "data": {
      "text/plain": [
       "<matplotlib.axes._subplots.AxesSubplot at 0x7f0c2281cc10>"
      ]
     },
     "execution_count": 6,
     "metadata": {},
     "output_type": "execute_result"
    },
    {
     "data": {
      "image/png": "[encoded data removed]",
      "text/plain": [
       "<Figure size 432x288 with 1 Axes>"
      ]
     },
     "metadata": {
      "needs_background": "light"
     },
     "output_type": "display_data"
    }
   ],
   "source": [
    "sns.distplot(df.hciip)"
   ]
  },
  {
   "cell_type": "markdown",
   "metadata": {},
   "source": [
    "## Monte Carlo Experiment\n",
    "\n",
    "Putting it all together and plotting the results\n",
    "\n",
    "1. Define the property parameters and distributions:"
   ]
  },
  {
   "cell_type": "code",
   "execution_count": 7,
   "metadata": {},
   "outputs": [],
   "source": [
    "# the grv could be a single value or min, ml, max from geophysics and petrophysics\n",
    "grv_avg, grv_std = 8000, 800\n",
    "\n",
    "# properties from petrophysics\n",
    "phi_avg, phi_std = 0.3, 0.05\n",
    "ntg_avg, ntg_std = 0.7, 0.05\n",
    "sw_avg, sw_std = 0.2, 0.05\n",
    "\n",
    "# properties from reservoir engineering\n",
    "fvf_avg, fvf_std = 1.29, 0.08\n",
    "\n",
    "# sample count for MC experiment\n",
    "num_samples = 5000\n",
    "\n",
    "# Choose random inputs for each variable\n",
    "### NOTE THAT OTHER DISTIBUTIONS CAN BE SUBSTITUTED, SEE FOR EXAMPLE: https://docs.scipy.org/doc/scipy/reference/stats.html#continuous-distributions\n",
    "grv = np.random.normal(grv_avg, grv_std, num_samples)\n",
    "phi = np.random.normal(phi_avg, phi_std, num_samples)\n",
    "ntg = np.random.normal(ntg_avg, ntg_std, num_samples)\n",
    "sw = np.random.normal(sw_avg, sw_std, num_samples)\n",
    "fvf = np.random.normal(fvf_avg, fvf_std, num_samples)"
   ]
  },
  {
   "cell_type": "markdown",
   "metadata": {},
   "source": [
    "2. clean up the data if required and calculate the in-place volumes for `num_samples` times:"
   ]
  },
  {
   "cell_type": "code",
   "execution_count": 8,
   "metadata": {},
   "outputs": [],
   "source": [
    "# set negative values to 0\n",
    "for arr in [grv, phi, ntg, sw, fvf]:\n",
    "    arr[arr < 0] = 0\n",
    "# set values over 1 to 1\n",
    "for arr in [phi, ntg, sw]:\n",
    "    arr[arr > 1] = 1\n",
    "\n",
    "# Build the dataframe based on the inputs and num_samples\n",
    "df = pd.DataFrame(index=range(num_samples), data={'grv': grv,'phi': phi,'ntg': ntg,'sw': sw,'fvf': fvf,})\n",
    "\n",
    "# calculate HCIIPs based on inputs\n",
    "df['hciip'] = calc_hciip(df.grv, df.phi, df.ntg, df.sw, df.fvf)"
   ]
  },
  {
   "cell_type": "code",
   "execution_count": 9,
   "metadata": {},
   "outputs": [],
   "source": [
    "#sns.pairplot(df.iloc[::100], vars=['grv', 'phi', 'ntg', 'sw']) # make sure to downsample with `.iloc` before plotting"
   ]
  },
  {
   "cell_type": "code",
   "execution_count": 10,
   "metadata": {},
   "outputs": [
    {
     "data": {
      "text/html": [
       "<style  type=\"text/css\" >\n",
       "</style><table id=\"T_af87ee2c_d7cb_11ea_99c3_b39b59e6322d\" ><thead>    <tr>        <th class=\"blank level0\" ></th>        <th class=\"col_heading level0 col0\" >grv</th>        <th class=\"col_heading level0 col1\" >phi</th>        <th class=\"col_heading level0 col2\" >ntg</th>        <th class=\"col_heading level0 col3\" >sw</th>        <th class=\"col_heading level0 col4\" >fvf</th>        <th class=\"col_heading level0 col5\" >hciip</th>    </tr></thead><tbody>\n",
       "                <tr>\n",
       "                        <th id=\"T_af87ee2c_d7cb_11ea_99c3_b39b59e6322dlevel0_row0\" class=\"row_heading level0 row0\" >count</th>\n",
       "                        <td id=\"T_af87ee2c_d7cb_11ea_99c3_b39b59e6322drow0_col0\" class=\"data row0 col0\" >5,000.000</td>\n",
       "                        <td id=\"T_af87ee2c_d7cb_11ea_99c3_b39b59e6322drow0_col1\" class=\"data row0 col1\" >5,000.000</td>\n",
       "                        <td id=\"T_af87ee2c_d7cb_11ea_99c3_b39b59e6322drow0_col2\" class=\"data row0 col2\" >5,000.000</td>\n",
       "                        <td id=\"T_af87ee2c_d7cb_11ea_99c3_b39b59e6322drow0_col3\" class=\"data row0 col3\" >5,000.000</td>\n",
       "                        <td id=\"T_af87ee2c_d7cb_11ea_99c3_b39b59e6322drow0_col4\" class=\"data row0 col4\" >5,000.000</td>\n",
       "                        <td id=\"T_af87ee2c_d7cb_11ea_99c3_b39b59e6322drow0_col5\" class=\"data row0 col5\" >5,000.000</td>\n",
       "            </tr>\n",
       "            <tr>\n",
       "                        <th id=\"T_af87ee2c_d7cb_11ea_99c3_b39b59e6322dlevel0_row1\" class=\"row_heading level0 row1\" >mean</th>\n",
       "                        <td id=\"T_af87ee2c_d7cb_11ea_99c3_b39b59e6322drow1_col0\" class=\"data row1 col0\" >8,009.278</td>\n",
       "                        <td id=\"T_af87ee2c_d7cb_11ea_99c3_b39b59e6322drow1_col1\" class=\"data row1 col1\" >0.301</td>\n",
       "                        <td id=\"T_af87ee2c_d7cb_11ea_99c3_b39b59e6322drow1_col2\" class=\"data row1 col2\" >0.701</td>\n",
       "                        <td id=\"T_af87ee2c_d7cb_11ea_99c3_b39b59e6322drow1_col3\" class=\"data row1 col3\" >0.200</td>\n",
       "                        <td id=\"T_af87ee2c_d7cb_11ea_99c3_b39b59e6322drow1_col4\" class=\"data row1 col4\" >1.290</td>\n",
       "                        <td id=\"T_af87ee2c_d7cb_11ea_99c3_b39b59e6322drow1_col5\" class=\"data row1 col5\" >8,161,799.694</td>\n",
       "            </tr>\n",
       "            <tr>\n",
       "                        <th id=\"T_af87ee2c_d7cb_11ea_99c3_b39b59e6322dlevel0_row2\" class=\"row_heading level0 row2\" >std</th>\n",
       "                        <td id=\"T_af87ee2c_d7cb_11ea_99c3_b39b59e6322drow2_col0\" class=\"data row2 col0\" >793.478</td>\n",
       "                        <td id=\"T_af87ee2c_d7cb_11ea_99c3_b39b59e6322drow2_col1\" class=\"data row2 col1\" >0.049</td>\n",
       "                        <td id=\"T_af87ee2c_d7cb_11ea_99c3_b39b59e6322drow2_col2\" class=\"data row2 col2\" >0.050</td>\n",
       "                        <td id=\"T_af87ee2c_d7cb_11ea_99c3_b39b59e6322drow2_col3\" class=\"data row2 col3\" >0.049</td>\n",
       "                        <td id=\"T_af87ee2c_d7cb_11ea_99c3_b39b59e6322drow2_col4\" class=\"data row2 col4\" >0.080</td>\n",
       "                        <td id=\"T_af87ee2c_d7cb_11ea_99c3_b39b59e6322drow2_col5\" class=\"data row2 col5\" >1,836,014.531</td>\n",
       "            </tr>\n",
       "            <tr>\n",
       "                        <th id=\"T_af87ee2c_d7cb_11ea_99c3_b39b59e6322dlevel0_row3\" class=\"row_heading level0 row3\" >min</th>\n",
       "                        <td id=\"T_af87ee2c_d7cb_11ea_99c3_b39b59e6322drow3_col0\" class=\"data row3 col0\" >5,313.685</td>\n",
       "                        <td id=\"T_af87ee2c_d7cb_11ea_99c3_b39b59e6322drow3_col1\" class=\"data row3 col1\" >0.118</td>\n",
       "                        <td id=\"T_af87ee2c_d7cb_11ea_99c3_b39b59e6322drow3_col2\" class=\"data row3 col2\" >0.525</td>\n",
       "                        <td id=\"T_af87ee2c_d7cb_11ea_99c3_b39b59e6322drow3_col3\" class=\"data row3 col3\" >0.014</td>\n",
       "                        <td id=\"T_af87ee2c_d7cb_11ea_99c3_b39b59e6322drow3_col4\" class=\"data row3 col4\" >0.982</td>\n",
       "                        <td id=\"T_af87ee2c_d7cb_11ea_99c3_b39b59e6322drow3_col5\" class=\"data row3 col5\" >2,814,639.960</td>\n",
       "            </tr>\n",
       "            <tr>\n",
       "                        <th id=\"T_af87ee2c_d7cb_11ea_99c3_b39b59e6322dlevel0_row4\" class=\"row_heading level0 row4\" >10%</th>\n",
       "                        <td id=\"T_af87ee2c_d7cb_11ea_99c3_b39b59e6322drow4_col0\" class=\"data row4 col0\" >6,990.493</td>\n",
       "                        <td id=\"T_af87ee2c_d7cb_11ea_99c3_b39b59e6322drow4_col1\" class=\"data row4 col1\" >0.238</td>\n",
       "                        <td id=\"T_af87ee2c_d7cb_11ea_99c3_b39b59e6322drow4_col2\" class=\"data row4 col2\" >0.637</td>\n",
       "                        <td id=\"T_af87ee2c_d7cb_11ea_99c3_b39b59e6322drow4_col3\" class=\"data row4 col3\" >0.138</td>\n",
       "                        <td id=\"T_af87ee2c_d7cb_11ea_99c3_b39b59e6322drow4_col4\" class=\"data row4 col4\" >1.186</td>\n",
       "                        <td id=\"T_af87ee2c_d7cb_11ea_99c3_b39b59e6322drow4_col5\" class=\"data row4 col5\" >5,939,708.142</td>\n",
       "            </tr>\n",
       "            <tr>\n",
       "                        <th id=\"T_af87ee2c_d7cb_11ea_99c3_b39b59e6322dlevel0_row5\" class=\"row_heading level0 row5\" >50%</th>\n",
       "                        <td id=\"T_af87ee2c_d7cb_11ea_99c3_b39b59e6322drow5_col0\" class=\"data row5 col0\" >8,020.547</td>\n",
       "                        <td id=\"T_af87ee2c_d7cb_11ea_99c3_b39b59e6322drow5_col1\" class=\"data row5 col1\" >0.301</td>\n",
       "                        <td id=\"T_af87ee2c_d7cb_11ea_99c3_b39b59e6322drow5_col2\" class=\"data row5 col2\" >0.701</td>\n",
       "                        <td id=\"T_af87ee2c_d7cb_11ea_99c3_b39b59e6322drow5_col3\" class=\"data row5 col3\" >0.200</td>\n",
       "                        <td id=\"T_af87ee2c_d7cb_11ea_99c3_b39b59e6322drow5_col4\" class=\"data row5 col4\" >1.290</td>\n",
       "                        <td id=\"T_af87ee2c_d7cb_11ea_99c3_b39b59e6322drow5_col5\" class=\"data row5 col5\" >8,034,138.660</td>\n",
       "            </tr>\n",
       "            <tr>\n",
       "                        <th id=\"T_af87ee2c_d7cb_11ea_99c3_b39b59e6322dlevel0_row6\" class=\"row_heading level0 row6\" >90%</th>\n",
       "                        <td id=\"T_af87ee2c_d7cb_11ea_99c3_b39b59e6322drow6_col0\" class=\"data row6 col0\" >9,020.320</td>\n",
       "                        <td id=\"T_af87ee2c_d7cb_11ea_99c3_b39b59e6322drow6_col1\" class=\"data row6 col1\" >0.364</td>\n",
       "                        <td id=\"T_af87ee2c_d7cb_11ea_99c3_b39b59e6322drow6_col2\" class=\"data row6 col2\" >0.767</td>\n",
       "                        <td id=\"T_af87ee2c_d7cb_11ea_99c3_b39b59e6322drow6_col3\" class=\"data row6 col3\" >0.264</td>\n",
       "                        <td id=\"T_af87ee2c_d7cb_11ea_99c3_b39b59e6322drow6_col4\" class=\"data row6 col4\" >1.394</td>\n",
       "                        <td id=\"T_af87ee2c_d7cb_11ea_99c3_b39b59e6322drow6_col5\" class=\"data row6 col5\" >10,590,656.137</td>\n",
       "            </tr>\n",
       "            <tr>\n",
       "                        <th id=\"T_af87ee2c_d7cb_11ea_99c3_b39b59e6322dlevel0_row7\" class=\"row_heading level0 row7\" >max</th>\n",
       "                        <td id=\"T_af87ee2c_d7cb_11ea_99c3_b39b59e6322drow7_col0\" class=\"data row7 col0\" >10,769.774</td>\n",
       "                        <td id=\"T_af87ee2c_d7cb_11ea_99c3_b39b59e6322drow7_col1\" class=\"data row7 col1\" >0.468</td>\n",
       "                        <td id=\"T_af87ee2c_d7cb_11ea_99c3_b39b59e6322drow7_col2\" class=\"data row7 col2\" >0.906</td>\n",
       "                        <td id=\"T_af87ee2c_d7cb_11ea_99c3_b39b59e6322drow7_col3\" class=\"data row7 col3\" >0.390</td>\n",
       "                        <td id=\"T_af87ee2c_d7cb_11ea_99c3_b39b59e6322drow7_col4\" class=\"data row7 col4\" >1.612</td>\n",
       "                        <td id=\"T_af87ee2c_d7cb_11ea_99c3_b39b59e6322drow7_col5\" class=\"data row7 col5\" >15,252,673.103</td>\n",
       "            </tr>\n",
       "    </tbody></table>"
      ],
      "text/plain": [
       "<pandas.io.formats.style.Styler at 0x7f0c1df63d10>"
      ]
     },
     "execution_count": 10,
     "metadata": {},
     "output_type": "execute_result"
    }
   ],
   "source": [
    "df.describe(percentiles=[.1,.5,.9]).style.format('{:,.3f}')"
   ]
  },
  {
   "cell_type": "code",
   "execution_count": 11,
   "metadata": {},
   "outputs": [],
   "source": [
    "# reverse p90, p50, p10 to match oil-field convention\n",
    "p90, p50, p10 = df.describe(percentiles=[.1,.5,.9]).loc[['10%', '50%', '90%'], 'hciip']"
   ]
  },
  {
   "cell_type": "markdown",
   "metadata": {},
   "source": [
    "3. Plot the results:"
   ]
  },
  {
   "cell_type": "code",
   "execution_count": 12,
   "metadata": {},
   "outputs": [
    {
     "data": {
      "image/png": "[encoded data removed]",
      "text/plain": [
       "<Figure size 1152x576 with 1 Axes>"
      ]
     },
     "metadata": {
      "needs_background": "light"
     },
     "output_type": "display_data"
    }
   ],
   "source": [
    "fig, ax = plt.subplots(figsize=(16,8))\n",
    "\n",
    "n, *_ = ax.hist(df.hciip, bins=30, alpha=0.4, color='green')\n",
    "n_len = (len(str(int(n.max()))))\n",
    "y_max = round(n.max(), -(n_len-1))\n",
    "\n",
    "title = 'Probability density function of STOIIP'\n",
    "ax.set_title(title, fontsize=18)\n",
    "\n",
    "minvol, maxvol = df.hciip.describe().loc[['min', 'max']]\n",
    "\n",
    "for name, prob in {'P90': p90, 'P50': p50, 'P10': p10}.items():\n",
    "    prob_approx = '\\n~'+str(round(prob, -5)/1e6)+'mmbbl'\n",
    "    plt.axvline(prob, c='b', linewidth=1.5)\n",
    "    ax.text(prob + 100000, y_max - y_max*.1, name + prob_approx, fontdict={'fontsize': 13})\n",
    "\n",
    "ax.set_xlim(minvol, maxvol)\n",
    "ax.tick_params(axis='both', which='major', labelsize=13)\n",
    "plt.gca().xaxis.set_major_formatter(StrMethodFormatter('{x:,.0f}'))\n",
    "plt.gca().yaxis.set_major_formatter(StrMethodFormatter('{x:,.0f}'))\n",
    "\n",
    "ax.set_xlabel('STOIIP [bbl]', fontsize=14)\n",
    "ax.set_ylabel('Density of probability [1 / bbl]', fontsize=14)\n",
    "\n",
    "plt.show()"
   ]
  },
  {
   "cell_type": "markdown",
   "metadata": {},
   "source": [
    "## Tornado experiment\n",
    "\n",
    "Each variable is set to its min and max while the other ones have their default average values to calculate STOIIP. The relative impact on STOIIP is then measured."
   ]
  },
  {
   "cell_type": "code",
   "execution_count": 13,
   "metadata": {},
   "outputs": [],
   "source": [
    "grv_avg, grv_std = 8000, 800\n",
    "phi_avg, phi_std = 0.3, 0.05\n",
    "ntg_avg, ntg_std = 0.7, 0.05\n",
    "sw_avg, sw_std = 0.2, 0.05\n",
    "fvf_avg, fvf_std = 1.29, 0.08\n",
    "\n",
    "grv = np.random.normal(grv_avg, grv_std, num_samples)\n",
    "phi = np.random.normal(phi_avg, phi_std, num_samples)\n",
    "ntg = np.random.normal(ntg_avg, ntg_std, num_samples)\n",
    "sw = np.random.normal(sw_avg, sw_std, num_samples)\n",
    "fvf = np.random.normal(fvf_avg, fvf_std, num_samples)\n",
    "\n",
    "for arr in [grv, phi, ntg, sw, fvf]:\n",
    "    arr[arr < 0] = 0\n",
    "for arr in [phi, ntg, sw]:\n",
    "    arr[arr > 1] = 1\n",
    "\n",
    "grv_min, grv_max = grv.min(), grv.max()\n",
    "phi_min, phi_max = phi.min(), phi.max()\n",
    "ntg_min, ntg_max = ntg.min(), ntg.max()\n",
    "sw_min, sw_max = sw.min(), sw.max()\n",
    "fvf_min, fvf_max = fvf.min(), fvf.max()"
   ]
  },
  {
   "cell_type": "code",
   "execution_count": 14,
   "metadata": {},
   "outputs": [],
   "source": [
    "def calc_impact(args):\n",
    "    \"\"\"calculate positive or negative impact on mean\n",
    "    Args:\n",
    "        list of args, [str]: one of `{'args_mi', 'args_ma'}` where\n",
    "        args_mi is: `[grv_min, phi_min, ntg_min, sw_max, fvf_max]`\n",
    "        args_ma is: `[grv_max, phi_max, ntg_max, sw_min, fvf_min]`\n",
    "    Returns:\n",
    "        np.array of impact on mean, either negs or posvs\n",
    "    \"\"\"\n",
    "    if (args != 'args_mi') and (args != 'args_ma'):\n",
    "        raise ValueError(\"args must be one of `{'args_mi', 'args_ma'}`\")\n",
    "    \n",
    "    args_av = [grv_avg, phi_avg, ntg_avg, sw_avg, fvf_avg] \n",
    "    args_mi = [grv_min, phi_min, ntg_min, sw_max, fvf_max]\n",
    "    args_ma = [grv_max, phi_max, ntg_max, sw_min, fvf_min]\n",
    "    \n",
    "    if args == 'args_mi':\n",
    "        args = args_mi\n",
    "    else:\n",
    "        args = args_ma\n",
    "        \n",
    "    vals = []\n",
    "    stoiip_avg = calc_hciip(*args_av)\n",
    "    for idx, args in enumerate(args):\n",
    "        calc_args = args_av.copy()\n",
    "        calc_args.insert(idx, args)\n",
    "        calc_args.pop(idx+1)\n",
    "        vals.append(np.abs(100 - calc_hciip(*calc_args) * 100 / stoiip_avg))\n",
    "        calc_args = args_av.copy()\n",
    "        \n",
    "    return vals"
   ]
  },
  {
   "cell_type": "code",
   "execution_count": 15,
   "metadata": {},
   "outputs": [
    {
     "data": {
      "image/png": "[encoded data removed]",
      "text/plain": [
       "<Figure size 1152x576 with 2 Axes>"
      ]
     },
     "metadata": {
      "needs_background": "light"
     },
     "output_type": "display_data"
    }
   ],
   "source": [
    "props = ['grv', 'phi', 'ntg', 'sw', 'fvf']\n",
    "num_props = len(props)\n",
    "\n",
    "negs = np.array(calc_impact('args_mi'))\n",
    "posvs = np.array(calc_impact('args_ma'))\n",
    "results = np.array([props, negs, posvs])\n",
    "\n",
    "props = results.T[results.T[:,1].argsort()][:,0]\n",
    "negative_impact_on_mean = results.T[results.T[:,1].argsort()][:,1].astype(float)\n",
    "positive_impact_on_mean = results.T[results.T[:,1].argsort()][:,2].astype(float)\n",
    "\n",
    "pos = np.arange(num_props) + .5 # bars centered on the y axis\n",
    "\n",
    "fig, axs = plt.subplots(figsize=(16, 8), ncols=2)\n",
    "\n",
    "ax = axs[0]\n",
    "ax.barh(pos, negative_impact_on_mean, align='center', facecolor='green', alpha=0.4)\n",
    "ax.set_yticks([])\n",
    "ax.set_xlabel('negative_impact_on_mean', fontsize=14)\n",
    "ax.invert_xaxis()\n",
    "ax.grid(axis='y')\n",
    "ax.tick_params(axis='both', which='both', labelsize=14)\n",
    "ax.xaxis.set_major_formatter(StrMethodFormatter('-{x:,.0f}%'))\n",
    "\n",
    "ax = axs[1]\n",
    "ax.barh(pos, positive_impact_on_mean, align='center', facecolor='blue', alpha=0.4)\n",
    "ax.set_yticks(pos)\n",
    "ax.set_yticklabels(props, ha='center', x=-0.08, fontsize=16)\n",
    "ax.set_xlabel('positive_impact_on_mean', fontsize=14)\n",
    "ax.grid(axis='y')\n",
    "ax.tick_params(axis='both', which='both', labelsize=14)\n",
    "ax.xaxis.set_major_formatter(StrMethodFormatter('{x:,.0f}%'))\n",
    "\n",
    "plt.suptitle('Volumetrics Tornado chart', fontsize=16)\n",
    "\n",
    "plt.show()"
   ]
  },
  {
   "cell_type": "code",
   "execution_count": null,
   "metadata": {},
   "outputs": [],
   "source": []
  }
 ],
 "metadata": {
  "kernelspec": {
   "display_name": "geocomp",
   "language": "python",
   "name": "geocomp"
  },
  "language_info": {
   "codemirror_mode": {
    "name": "ipython",
    "version": 3
   },
   "file_extension": ".py",
   "mimetype": "text/x-python",
   "name": "python",
   "nbconvert_exporter": "python",
   "pygments_lexer": "ipython3",
   "version": "3.7.7"
  }
 },
 "nbformat": 4,
 "nbformat_minor": 4
}
