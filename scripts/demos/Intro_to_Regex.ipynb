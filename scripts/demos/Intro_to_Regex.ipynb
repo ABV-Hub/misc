{
 "cells": [
  {
   "cell_type": "markdown",
   "metadata": {},
   "source": [
    "# An introduction to regular expressions [regex]\n",
    "\n",
    "The [Python 3 documentation](https://docs.python.org/3/howto/regex.html) tells us that:\n",
    "\n",
    ">Regular expressions (called REs, or regexes, or regex patterns) are essentially a tiny, highly specialized programming language embedded inside Python and made available through the re module. Using this little language, you specify the rules for the set of possible strings that you want to match; this set might contain English sentences, or e-mail addresses, or TeX commands, or anything you like. You can then ask questions such as “Does this string match the pattern?”, or “Is there a match for the pattern anywhere in this string?”. You can also use REs to modify a string or to split it apart in various ways.\n",
    "\n",
    "While they are very powerful, they are anything but intuitive and while there are both [regex libraries](http://regexlib.com) and regex builder sites like [pythex](https://pythex.org/), [regex101](https://regex101.com/), [regexr](https://regexr.com/) or [debuggex](https://www.debuggex.com/), it's good to be able to refer back to a simple _cookbook_, hopefully this notebook can serve that purpose.\n",
    "\n",
    "Regex is part of the [Python standard library](https://docs.python.org/3/library/), we can import it with `import re` like so:"
   ]
  },
  {
   "cell_type": "code",
   "execution_count": 1,
   "metadata": {},
   "outputs": [],
   "source": [
    "import re"
   ]
  },
  {
   "cell_type": "markdown",
   "metadata": {},
   "source": [
    "There are many functions that are part of `re` as can be seen with the dot-tab combination: `re.`"
   ]
  },
  {
   "cell_type": "code",
   "execution_count": 2,
   "metadata": {},
   "outputs": [],
   "source": [
    "#re."
   ]
  },
  {
   "cell_type": "markdown",
   "metadata": {},
   "source": [
    "## Regex metacharacters\n",
    "\n",
    "Regex uses metacharacters as placeholders to define string patterns that can then be matched.\n",
    "\n",
    "The complete list of Python regex metacharacters is quite short:\n",
    "\n",
    "> `. [ ] ^ \\ * + ? { } | $ ( )`\n",
    "\n",
    "- `.` matches anything except a newline character.\n",
    "- `[` and `]` are used for specifying a _character class_, which is a set of characters that you wish to match.\n",
    "- `^` at the start of a character class (`[]`) (i.e. _complementing the set_), matches the characters _not listed_ within the class.\n",
    "- note that appart from `^` at the start of a class, metacharaters loose their special abilities _inside_ a class and are treated like any other character.\n",
    "- `\\` is used to _escape_ various characters to signal various special sequences, for example `\\d` matches any digit character (see below for more examples). It’s also used to escape all the metacharacters so you can still match them in patterns.\n",
    "- `*` specifies that the previous character can be matched _zero or more times_, instead of exactly once.\n",
    "- `+` specifies that the previous character can be matched _one or more times_.\n",
    "- `?` specifies that the previous character cab be matched either _once or zero times_.\n",
    "- `{` and `}` are used to specify that the previous characters repeats between *m and n* times inclusive where *m and n* are `integers`, the syntax is: `{m,n}`. `{,n}` implies a minimum of `0` and `{m,}` implies a maximum of infinity.\n",
    "- `|` signifies alternation, or the `or` operator. If *A and B* are regular expressions, `A|B` will match any string that matches either *A or B*.\n",
    "- `^` matches a regular expression at the beginning of a line, to match the `^`-literal, use `\\^`.\n",
    "- `$` matches at the end of a line, which is defined as either the end of the string, or any location followed by a newline character. To match a literal `$`, use `\\$` or enclose it inside a character class, as in `[$]`.\n",
    "- `(` and `)` mark a _group_, they group together the expressions contained inside them, and you can repeat the contents of a group with a repeating qualifier, such as `*`, `+`, `?`, or `{m,n}`."
   ]
  },
  {
   "cell_type": "markdown",
   "metadata": {},
   "source": [
    "## Special character sequences\n",
    "\n",
    "Below is a short list of special character sequences taken from the [documentation](https://docs.python.org/3/howto/regex.html), for a complete list of these sequences, visit the [last part of Regular Expression Syntax in the Standard Library reference](https://docs.python.org/3/library/re.html#re-syntax):\n",
    "\n",
    "`\\d` Matches any decimal digit; this is equivalent to the class [0-9]\n",
    "\n",
    "`\\D` Matches any non-digit character; this is equivalent to the class [^0-9]\n",
    "\n",
    "`\\s` Matches any whitespace character; this is equivalent to the class [ \\t\\n\\r\\f\\v]\n",
    "\n",
    "`\\S` Matches any non-whitespace character; this is equivalent to the class [^ \\t\\n\\r\\f\\v]\n",
    "\n",
    "`\\w` Matches any alphanumeric character; this is equivalent to the class [a-zA-Z0-9_]\n",
    "\n",
    "`\\W` Matches any non-alphanumeric character; this is equivalent to the class [^a-zA-Z0-9_]"
   ]
  },
  {
   "cell_type": "markdown",
   "metadata": {},
   "source": [
    "## Matching examples\n",
    "\n",
    "### 1. Matching well uwi's"
   ]
  },
  {
   "cell_type": "code",
   "execution_count": 3,
   "metadata": {},
   "outputs": [],
   "source": [
    "# get some data\n",
    "canadian_uwi = '100/12-04-091-05-W5/00'\n",
    "api_well = '42-501-20130-03-00'"
   ]
  },
  {
   "cell_type": "code",
   "execution_count": 4,
   "metadata": {},
   "outputs": [],
   "source": [
    "# define the regex\n",
    "re_canada = r'\\d{3}\\/\\d{2}-\\d{2}-\\d{3}-\\d{2}-[A-Z]\\d\\/\\d{2}'\n",
    "re_canada_grp = r'\\d{3}\\/(?:\\d{2}-){2}\\d{3}-\\d{2}-[A-Z]\\d\\/\\d{2}'\n",
    "re_api = r'\\d{2}-\\d{3}-\\d{5}-\\d{2}-\\d{2}'\n",
    "re_api_short = r'-?(?:\\d+)-?' # note this does not give us a single match"
   ]
  },
  {
   "cell_type": "code",
   "execution_count": 5,
   "metadata": {},
   "outputs": [],
   "source": [
    "# match the regex to the text\n",
    "match_canada = re.findall(re_canada, canadian_uwi)\n",
    "match_canada_grp = re.findall(re_canada_grp, canadian_uwi)\n",
    "match_api = re.findall(re_api, api_well)\n",
    "match_api_short = re.findall(re_api_short, api_well)"
   ]
  },
  {
   "cell_type": "code",
   "execution_count": 6,
   "metadata": {},
   "outputs": [
    {
     "data": {
      "text/plain": [
       "(['100/12-04-091-05-W5/00'], ['100/12-04-091-05-W5/00'])"
      ]
     },
     "execution_count": 6,
     "metadata": {},
     "output_type": "execute_result"
    }
   ],
   "source": [
    "match_canada, match_canada_grp"
   ]
  },
  {
   "cell_type": "code",
   "execution_count": 7,
   "metadata": {},
   "outputs": [
    {
     "data": {
      "text/plain": [
       "(['42-501-20130-03-00'], ['42-', '501-', '20130-', '03-', '00'])"
      ]
     },
     "execution_count": 7,
     "metadata": {},
     "output_type": "execute_result"
    }
   ],
   "source": [
    "match_api, match_api_short"
   ]
  },
  {
   "cell_type": "markdown",
   "metadata": {},
   "source": [
    "### 2. Matching well depths"
   ]
  },
  {
   "cell_type": "code",
   "execution_count": 8,
   "metadata": {},
   "outputs": [
    {
     "data": {
      "text/plain": [
       "'Lorem ipsum dolor sit amet, consectetur adipiscing elit. Proin nec risus ut velit consectetur finibus. Vivamus veh -8550.217 691.7777 icula cursus rh -7811.0964 oncus. Nullam dictum -7864.6305  nec eros ut sagittis. Nulla id venenatis arcu. Mauris ac tristique magna. Vivamus quis augue sed urna ultricies cursus. Cras semper, lectus eget sagittis consectetur, nisi ma -4472.429 uris suscipit enim, tristique convallis augue orci sed elit. Ut sapie 235.7094 n libero, v 454.369 olutpat quis lobortis nec, viverra  -7816.274 feugiat nisi. Nunc sapien ligula, conseq 225.864 uat fermentum mi sed, feugiat efficitur nulla. Vestibulum ante ipsum primis in faucibus orci luctus et ultrices posuere cubilia Cura -3664.382 e;'"
      ]
     },
     "execution_count": 8,
     "metadata": {},
     "output_type": "execute_result"
    }
   ],
   "source": [
    "# a Lorem Ipsum text containing random well depths\n",
    "input_text = 'Lorem ipsum dolor sit amet, consectetur adipiscing elit. Proin nec risus ut velit consectetur finibus. Vivamus veh -8550.217 691.7777 icula cursus rh -7811.0964 oncus. Nullam dictum -7864.6305  nec eros ut sagittis. Nulla id venenatis arcu. Mauris ac tristique magna. Vivamus quis augue sed urna ultricies cursus. Cras semper, lectus eget sagittis consectetur, nisi ma -4472.429 uris suscipit enim, tristique convallis augue orci sed elit. Ut sapie 235.7094 n libero, v 454.369 olutpat quis lobortis nec, viverra  -7816.274 feugiat nisi. Nunc sapien ligula, conseq 225.864 uat fermentum mi sed, feugiat efficitur nulla. Vestibulum ante ipsum primis in faucibus orci luctus et ultrices posuere cubilia Cura -3664.382 e;'\n",
    "input_text"
   ]
  },
  {
   "cell_type": "code",
   "execution_count": 9,
   "metadata": {},
   "outputs": [
    {
     "data": {
      "text/plain": [
       "['-8550.217',\n",
       " '691.7777',\n",
       " '-7811.0964',\n",
       " '-7864.6305',\n",
       " '-4472.429',\n",
       " '235.7094',\n",
       " '454.369',\n",
       " '-7816.274',\n",
       " '225.864',\n",
       " '-3664.382']"
      ]
     },
     "execution_count": 9,
     "metadata": {},
     "output_type": "execute_result"
    }
   ],
   "source": [
    "re_depth = r'-?\\d{3,5}.\\d{,4}'\n",
    "match_depth = re.findall(re_depth, input_text)\n",
    "match_depth"
   ]
  },
  {
   "cell_type": "markdown",
   "metadata": {},
   "source": [
    "### 3. Matching pressures\n",
    "\n",
    "We use an example from the [petrowiki](https://petrowiki.org/Reservoir_pressure_data_interpretation):"
   ]
  },
  {
   "cell_type": "code",
   "execution_count": 10,
   "metadata": {},
   "outputs": [
    {
     "data": {
      "text/plain": [
       "'Permeability barriers can also be identified as illustrated in Fig. 6. The barrier is indicated in Fig. 6a by the hydrostatic potential difference between the layers above and below the detected permeability barrier of approximately 20 psi. The line with a gradient of 0.497 psi/ft represents the mud pressure, which was measured in the same trip in the well while acquiring the formation pressure. In Fig. 6b, the reservoir fluid gradients differ across the permeability barrier. Nevertheless, a potential difference of approximately 140 psi across the barrier is interpreted as indicating a no-flow barrier. Zero permeability is implied. Otherwise, the pressure would have equilibrated on both sides of the barrier over geologic time.'"
      ]
     },
     "execution_count": 10,
     "metadata": {},
     "output_type": "execute_result"
    }
   ],
   "source": [
    "example_paragraph = 'Permeability barriers can also be identified as illustrated in Fig. 6. The barrier is indicated in Fig. 6a by the hydrostatic potential difference between the layers above and below the detected permeability barrier of approximately 20 psi. The line with a gradient of 0.497 psi/ft represents the mud pressure, which was measured in the same trip in the well while acquiring the formation pressure. In Fig. 6b, the reservoir fluid gradients differ across the permeability barrier. Nevertheless, a potential difference of approximately 140 psi across the barrier is interpreted as indicating a no-flow barrier. Zero permeability is implied. Otherwise, the pressure would have equilibrated on both sides of the barrier over geologic time.'\n",
    "example_paragraph"
   ]
  },
  {
   "cell_type": "markdown",
   "metadata": {},
   "source": [
    "### Lookbehind and lookahead\n",
    "\n",
    "Because we could capture both `20 psi` and `0.497 psi/ft` with a simple regex such as `r'\\d{1,3} psi'`, we will use lookbehind and lookahead patterns to exclude floats from the psi regex:\n",
    "\n",
    "- `(?<!...)` Matches if the current position in the string is not preceded by a match for ....\n",
    "- `(?!...)` Matches if ... doesn’t match next.\n",
    "\n",
    "The equivalent positive assertions exist:\n",
    "\n",
    "- `(?=...)` Matches if ... matches next, but doesn’t consume any of the string. \n",
    "- `(?<=...)` Matches if the current position in the string is preceded by a match for ... that ends at the current position.\n",
    "\n",
    "There are many such patterns in the [documentation](https://docs.python.org/3/library/re.html)."
   ]
  },
  {
   "cell_type": "code",
   "execution_count": 11,
   "metadata": {},
   "outputs": [],
   "source": [
    "re_psi = r'(?<![\\d.])\\d{1,4}(?!.]) psi' # here we use the lookbehind and lookahead patterns\n",
    "re_gradient = r'0.\\d{1,3} psi\\/ft'"
   ]
  },
  {
   "cell_type": "code",
   "execution_count": 12,
   "metadata": {},
   "outputs": [],
   "source": [
    "match_psi = re.findall(re_psi, example_paragraph)\n",
    "match_gradient = re.findall(re_gradient, example_paragraph)"
   ]
  },
  {
   "cell_type": "code",
   "execution_count": 13,
   "metadata": {},
   "outputs": [
    {
     "data": {
      "text/plain": [
       "(['20 psi', '140 psi'], ['0.497 psi/ft'])"
      ]
     },
     "execution_count": 13,
     "metadata": {},
     "output_type": "execute_result"
    }
   ],
   "source": [
    "match_psi, match_gradient"
   ]
  },
  {
   "cell_type": "markdown",
   "metadata": {},
   "source": [
    "### 4. Object-oriented 'compile' pattern\n",
    "\n",
    "So far we have used the same functional pattern of passing a `raw string regex` to the `findall()` function together with its target string, there is another common pattern that is object-orientated:\n",
    "\n",
    "- we define the `pattern` to match\n",
    "- we use the `findall()` function _on that pattern_ to return the matches\n",
    "\n",
    "Again, we use and example from the [petrowiki](https://petrowiki.org/Hole_geometry), here we want to extract the two casing sizes listed (refer to the [unicode.org](https://unicode.org/cldr/utility/list-unicodeset.jsp?a=[:Decomposition_Type=Fraction:]) for the required codes for the casing sizes."
   ]
  },
  {
   "cell_type": "code",
   "execution_count": 14,
   "metadata": {},
   "outputs": [
    {
     "data": {
      "text/plain": [
       "'The large flow string in Fig. 1 resulted in a 13⅜-in. intermediate string and a 20-in. surface casing. However, these strings may be difficult to design if high formation pressures are encountered. Table 1 shows the pipe required for various conditions on the intermediate string, assuming that a single weight and grade will be used.'"
      ]
     },
     "execution_count": 14,
     "metadata": {},
     "output_type": "execute_result"
    }
   ],
   "source": [
    "casing_design = 'The large flow string in Fig. 1 resulted in a 13⅜-in. intermediate string and a 20-in. surface casing. However, these strings may be difficult to design if high formation pressures are encountered. Table 1 shows the pipe required for various conditions on the intermediate string, assuming that a single weight and grade will be used.'\n",
    "casing_design"
   ]
  },
  {
   "cell_type": "code",
   "execution_count": 15,
   "metadata": {},
   "outputs": [],
   "source": [
    "pattern = re.compile(r'\\d{2}[\\u2150-\\u2189]?-in')\n",
    "match_casing = pattern.findall(casing_design)"
   ]
  },
  {
   "cell_type": "code",
   "execution_count": 16,
   "metadata": {},
   "outputs": [
    {
     "data": {
      "text/plain": [
       "['13⅜-in', '20-in']"
      ]
     },
     "execution_count": 16,
     "metadata": {},
     "output_type": "execute_result"
    }
   ],
   "source": [
    "match_casing"
   ]
  },
  {
   "cell_type": "markdown",
   "metadata": {},
   "source": [
    "## Flags\n",
    "\n",
    "Although you can do a lot of regex searches without using `compilation flags`, occasionally you will need them.\n",
    "\n",
    "There are 6 `compiliation flags` in Python, and all are available in long name (e.g. `IGNORECASE`) and the equivalent short, one-letter form (e.g. `I`), the [docs](https://docs.python.org/3/howto/regex.html#compilation-flags) lists all the flags and we will illustrate their use with `IGNORECASE`, to start let's search for a UWI in a short paragraph, but ignoring case:"
   ]
  },
  {
   "cell_type": "code",
   "execution_count": 17,
   "metadata": {},
   "outputs": [
    {
     "data": {
      "text/plain": [
       "'Lorem ipsum dolor sit ametUWI 223 Z 023 K 224G83 56, consectetur adipiscing elit. Cras eleifend, turpis at blandit dignissim, ligula nisl pellentesque augue, sit amet tempus tellus lorem id erat. Suspendisse ac rhoncus nibh, id mollis odio. Vestibulum sagittis nulla purus, pharetra cursus nibh aliquet ut. Nullam mauris enim, facilisis sed metus a, bibendum malesuada enim. Fusce euismod felis vitae lacus sodales fringilla. Pellentesque dolor odio,UWI 200 D 096 H 094A15 00 mattis sed est nec, placerat venenatis tellus.UWI 200 T 096 G 094B15 00 Nam in laoreet urna.'"
      ]
     },
     "execution_count": 17,
     "metadata": {},
     "output_type": "execute_result"
    }
   ],
   "source": [
    "lorem_uwi = 'Lorem ipsum dolor sit ametUWI 223 Z 023 K 224G83 56, consectetur adipiscing elit. Cras eleifend, turpis at blandit dignissim, ligula nisl pellentesque augue, sit amet tempus tellus lorem id erat. Suspendisse ac rhoncus nibh, id mollis odio. Vestibulum sagittis nulla purus, pharetra cursus nibh aliquet ut. Nullam mauris enim, facilisis sed metus a, bibendum malesuada enim. Fusce euismod felis vitae lacus sodales fringilla. Pellentesque dolor odio,UWI 200 D 096 H 094A15 00 mattis sed est nec, placerat venenatis tellus.UWI 200 T 096 G 094B15 00 Nam in laoreet urna.'\n",
    "lorem_uwi"
   ]
  },
  {
   "cell_type": "markdown",
   "metadata": {},
   "source": [
    "With the long name:"
   ]
  },
  {
   "cell_type": "code",
   "execution_count": 18,
   "metadata": {},
   "outputs": [],
   "source": [
    "pattern = re.compile(r'UWI \\d{3} [a-z] \\d{3} [a-z] \\d{3}[a-z]\\d{2} \\d{2}', re.IGNORECASE)\n",
    "match_uwi = pattern.findall(lorem_uwi)"
   ]
  },
  {
   "cell_type": "code",
   "execution_count": 19,
   "metadata": {},
   "outputs": [
    {
     "data": {
      "text/plain": [
       "['UWI 223 Z 023 K 224G83 56',\n",
       " 'UWI 200 D 096 H 094A15 00',\n",
       " 'UWI 200 T 096 G 094B15 00']"
      ]
     },
     "execution_count": 19,
     "metadata": {},
     "output_type": "execute_result"
    }
   ],
   "source": [
    "match_uwi"
   ]
  },
  {
   "cell_type": "markdown",
   "metadata": {},
   "source": [
    "And with the short name:"
   ]
  },
  {
   "cell_type": "code",
   "execution_count": 20,
   "metadata": {},
   "outputs": [],
   "source": [
    "pattern_short = re.compile(r'UWI \\d{3} [a-z] \\d{3} [a-z] \\d{3}[a-z]\\d{2} \\d{2}', re.I)\n",
    "match_uwi_short = pattern_short.findall(lorem_uwi)"
   ]
  },
  {
   "cell_type": "code",
   "execution_count": 21,
   "metadata": {},
   "outputs": [
    {
     "data": {
      "text/plain": [
       "['UWI 223 Z 023 K 224G83 56',\n",
       " 'UWI 200 D 096 H 094A15 00',\n",
       " 'UWI 200 T 096 G 094B15 00']"
      ]
     },
     "execution_count": 21,
     "metadata": {},
     "output_type": "execute_result"
    }
   ],
   "source": [
    "match_uwi_short"
   ]
  },
  {
   "cell_type": "markdown",
   "metadata": {
    "tags": [
     "exe"
    ]
   },
   "source": [
    "### Exercise\n",
    "\n",
    "Using the `drilling_history` below extracted from a Shell and ExxonMobil Technical report on the [OGA portal](https://data-ogauthority.opendata.arcgis.com/datasets?q=well%20report):\n",
    "\n",
    "1. extract all `years`\n",
    "2. extract all `well names`\n",
    "3. extract all pressures `p` at depths `d`\n",
    "4. extract the `formation names at TD`\n",
    "5. extract all `flow rates`"
   ]
  },
  {
   "cell_type": "code",
   "execution_count": 22,
   "metadata": {},
   "outputs": [
    {
     "data": {
      "text/plain": [
       "'1983: 29/8b-2 &29/8b-2s drilled by Union Oil. Oil discovered in Fulmar sands (ar s Acorn South). Well TDed in Smith Bank Fm. 1985: 29/8a-3 drilled by Shell/Esso. Acorn discovery well; producible oil in eservoir sands. Reservoir pressure of 10997 psia at 13200ft tvdss datum. DST oil r Wet Cromarty sands in overburden section (Oak Prospect). Well TDed in Smith Bank Fm. 1985: 29/9b-2 drilled by Premier Oil. Beechnut East discovery well; successful ulmar and Triassic sands. Reservoir pressure of 11040 psia at 13800ft tvdss datu 7000 bbl/d. Well TDed in Skagerrak Fm. 1986: 29/9b-3 drilled by Premier Oil. Beechnut West unsuccessful dry hole. 1988: 29/8a-4 drilled by Shell/Esso. Oil discovered in Pentland and Skagerrak s kagerrak Fm. 1989: 29/9b-6 drilled by Premier Oil. Proven producible oil discovered in Fulm ressure of 11231 psia at 13800ft tvdss datum. DST oil rates of ~1200 bbl/d. Wel m. 1992: 29/9c-8 drilled by BG. Dry hole with Triassic Skagerrak sands (Fulmar abs kagerrak Fm. 2001: 29/9b-9 drilled by Hess. Proven producible oil in Fulmar sands. Reservoir sia at 13800ft tvdss datum. DST oil rates of ~2400 bbl/d. Well TDed in Zechstein Fm. 2001:29/9b-9z drilled by Hess. Incomplete, tight Fulmar section, single oil sample ressure of 11130 psia at 13800ft tvdss datum. Well TDed in Rattray Fm. 2009: 29/8a-6 drilled by Venture/Centrica. Horizontal well with EWT in Triassic Sk eservoir pressure of 10901 at 13200ft tvdss datum. Proven producible oil from E 2000 bbl/d declining to 5000 bbl/d. Well TDed in Skagerrak Fm.'"
      ]
     },
     "execution_count": 22,
     "metadata": {},
     "output_type": "execute_result"
    }
   ],
   "source": [
    "drilling_history = '1983: 29/8b-2 &29/8b-2s drilled by Union Oil. Oil discovered in Fulmar sands (ar s Acorn South). Well TDed in Smith Bank Fm. 1985: 29/8a-3 drilled by Shell/Esso. Acorn discovery well; producible oil in eservoir sands. Reservoir pressure of 10997 psia at 13200ft tvdss datum. DST oil r Wet Cromarty sands in overburden section (Oak Prospect). Well TDed in Smith Bank Fm. 1985: 29/9b-2 drilled by Premier Oil. Beechnut East discovery well; successful ulmar and Triassic sands. Reservoir pressure of 11040 psia at 13800ft tvdss datu 7000 bbl/d. Well TDed in Skagerrak Fm. 1986: 29/9b-3 drilled by Premier Oil. Beechnut West unsuccessful dry hole. 1988: 29/8a-4 drilled by Shell/Esso. Oil discovered in Pentland and Skagerrak s kagerrak Fm. 1989: 29/9b-6 drilled by Premier Oil. Proven producible oil discovered in Fulm ressure of 11231 psia at 13800ft tvdss datum. DST oil rates of ~1200 bbl/d. Wel m. 1992: 29/9c-8 drilled by BG. Dry hole with Triassic Skagerrak sands (Fulmar abs kagerrak Fm. 2001: 29/9b-9 drilled by Hess. Proven producible oil in Fulmar sands. Reservoir sia at 13800ft tvdss datum. DST oil rates of ~2400 bbl/d. Well TDed in Zechstein Fm. 2001:29/9b-9z drilled by Hess. Incomplete, tight Fulmar section, single oil sample ressure of 11130 psia at 13800ft tvdss datum. Well TDed in Rattray Fm. 2009: 29/8a-6 drilled by Venture/Centrica. Horizontal well with EWT in Triassic Sk eservoir pressure of 10901 at 13200ft tvdss datum. Proven producible oil from E 2000 bbl/d declining to 5000 bbl/d. Well TDed in Skagerrak Fm.'\n",
    "drilling_history"
   ]
  },
  {
   "cell_type": "code",
   "execution_count": null,
   "metadata": {},
   "outputs": [],
   "source": []
  },
  {
   "cell_type": "code",
   "execution_count": 23,
   "metadata": {
    "tags": [
     "hide"
    ]
   },
   "outputs": [],
   "source": [
    "# patterns\n",
    "pattern_years = re.compile(r'\\d{4}(?=:)', re.I)\n",
    "pattern_wells = re.compile(r'(\\d{2}\\/\\d[a-z]-\\d[a-z]?)', re.I)\n",
    "pattern_p_d = re.compile(r'\\d{4,5} psia at \\d{4,5}ft tvdss', re.I)\n",
    "pattern_fm_td = re.compile(r'(?<=TDed in )([a-zA-Z]+ ?[a-zA-Z]+?)(?= Fm)')\n",
    "pattern_flow_rates = re.compile(r'~?\\d{4}(?= bbl\\/d)', re.I)\n",
    "# matches\n",
    "match_years = pattern_years.findall(drilling_history)\n",
    "match_wells = pattern_wells.findall(drilling_history)\n",
    "match_p_d = pattern_p_d.findall(drilling_history)\n",
    "match_fm_td = pattern_fm_td.findall(drilling_history)\n",
    "match_flow_rates = pattern_flow_rates.findall(drilling_history)"
   ]
  },
  {
   "cell_type": "code",
   "execution_count": 24,
   "metadata": {},
   "outputs": [
    {
     "data": {
      "text/plain": [
       "['1983',\n",
       " '1985',\n",
       " '1985',\n",
       " '1986',\n",
       " '1988',\n",
       " '1989',\n",
       " '1992',\n",
       " '2001',\n",
       " '2001',\n",
       " '2009']"
      ]
     },
     "execution_count": 24,
     "metadata": {},
     "output_type": "execute_result"
    }
   ],
   "source": [
    "match_years"
   ]
  },
  {
   "cell_type": "code",
   "execution_count": 25,
   "metadata": {},
   "outputs": [
    {
     "data": {
      "text/plain": [
       "['29/8b-2',\n",
       " '29/8b-2s',\n",
       " '29/8a-3',\n",
       " '29/9b-2',\n",
       " '29/9b-3',\n",
       " '29/8a-4',\n",
       " '29/9b-6',\n",
       " '29/9c-8',\n",
       " '29/9b-9',\n",
       " '29/9b-9z',\n",
       " '29/8a-6']"
      ]
     },
     "execution_count": 25,
     "metadata": {},
     "output_type": "execute_result"
    }
   ],
   "source": [
    "match_wells"
   ]
  },
  {
   "cell_type": "code",
   "execution_count": 26,
   "metadata": {},
   "outputs": [
    {
     "data": {
      "text/plain": [
       "['10997 psia at 13200ft tvdss',\n",
       " '11040 psia at 13800ft tvdss',\n",
       " '11231 psia at 13800ft tvdss',\n",
       " '11130 psia at 13800ft tvdss']"
      ]
     },
     "execution_count": 26,
     "metadata": {},
     "output_type": "execute_result"
    }
   ],
   "source": [
    "match_p_d"
   ]
  },
  {
   "cell_type": "code",
   "execution_count": 27,
   "metadata": {},
   "outputs": [
    {
     "data": {
      "text/plain": [
       "['Smith Bank', 'Smith Bank', 'Skagerrak', 'Zechstein', 'Rattray', 'Skagerrak']"
      ]
     },
     "execution_count": 27,
     "metadata": {},
     "output_type": "execute_result"
    }
   ],
   "source": [
    "match_fm_td"
   ]
  },
  {
   "cell_type": "code",
   "execution_count": 28,
   "metadata": {},
   "outputs": [
    {
     "data": {
      "text/plain": [
       "['7000', '~1200', '~2400', '2000', '5000']"
      ]
     },
     "execution_count": 28,
     "metadata": {},
     "output_type": "execute_result"
    }
   ],
   "source": [
    "match_flow_rates"
   ]
  },
  {
   "cell_type": "markdown",
   "metadata": {},
   "source": [
    "<hr />\n",
    "\n",
    "<div>\n",
    "<img src=\"https://avatars1.githubusercontent.com/u/1692321?s=50\"><p style=\"text-align:center\">© Agile Geoscience 2019</p>\n",
    "</div>"
   ]
  }
 ],
 "metadata": {
  "celltoolbar": "Tags",
  "kernelspec": {
   "display_name": "Python 3",
   "language": "python",
   "name": "python3"
  },
  "language_info": {
   "codemirror_mode": {
    "name": "ipython",
    "version": 3
   },
   "file_extension": ".py",
   "mimetype": "text/x-python",
   "name": "python",
   "nbconvert_exporter": "python",
   "pygments_lexer": "ipython3",
   "version": "3.7.7"
  }
 },
 "nbformat": 4,
 "nbformat_minor": 2
}
