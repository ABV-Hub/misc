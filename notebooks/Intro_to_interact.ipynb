{
 "cells": [
  {
   "cell_type": "markdown",
   "metadata": {},
   "source": [
    "### An introduction to Interact\n",
    "\n",
    "\"The interact function (ipywidgets.interact) automatically creates user interface (UI) controls for exploring code and data interactively. It is the easiest way to get started using IPython’s widgets.\" [Using Interact Documentation](https://ipywidgets.readthedocs.io/en/stable/examples/Using%20Interact.html)"
   ]
  },
  {
   "cell_type": "markdown",
   "metadata": {},
   "source": [
    "First let's import the libraries we need:"
   ]
  },
  {
   "cell_type": "code",
   "execution_count": null,
   "metadata": {},
   "outputs": [],
   "source": [
    "# imports\n",
    "import numpy as np\n",
    "%matplotlib inline\n",
    "import matplotlib.pyplot as plt\n",
    "from ipywidgets import interact, interactive, fixed, interact_manual\n",
    "import ipywidgets as widgets"
   ]
  },
  {
   "cell_type": "markdown",
   "metadata": {},
   "source": [
    "## Why would we want to use Interact in the first place? \n",
    "### An image speaks a thousand words..."
   ]
  },
  {
   "cell_type": "code",
   "execution_count": null,
   "metadata": {},
   "outputs": [],
   "source": [
    "import plotter"
   ]
  },
  {
   "cell_type": "markdown",
   "metadata": {},
   "source": [
    "## Basic interact\n",
    "\n",
    "For a basic function `square` that returns the square of the value `x` passed to it, we can construct simple sliders:"
   ]
  },
  {
   "cell_type": "code",
   "execution_count": null,
   "metadata": {},
   "outputs": [],
   "source": [
    "def vp_from_dt(dt):\n",
    "    \"\"\"vp = 10e6 / dt\"\"\"\n",
    "    return print(f'vp = {10e6/dt:.2f}')"
   ]
  },
  {
   "cell_type": "code",
   "execution_count": null,
   "metadata": {},
   "outputs": [],
   "source": [
    "interact(vp_from_dt, dt=3500)"
   ]
  },
  {
   "cell_type": "markdown",
   "metadata": {},
   "source": [
    "For a function that requires a `boolean`, we can make a toggle:"
   ]
  },
  {
   "cell_type": "code",
   "execution_count": null,
   "metadata": {},
   "outputs": [],
   "source": [
    "vp = np.array([2400, 2500, 2450, 2600, 2750, 2800])\n",
    "def convert_vp(vp, convert_to_dt):\n",
    "    if convert_to_dt:\n",
    "        output = 1e6/vp\n",
    "    else:\n",
    "        output = vp\n",
    "    return print(f'The result is {output:.2f}')"
   ]
  },
  {
   "cell_type": "code",
   "execution_count": null,
   "metadata": {},
   "outputs": [],
   "source": [
    "my_boolean = interact(convert_vp, vp=vp, convert_to_dt=True)"
   ]
  },
  {
   "cell_type": "markdown",
   "metadata": {},
   "source": [
    "And for a function that needs an input, we can use an input box:"
   ]
  },
  {
   "cell_type": "code",
   "execution_count": null,
   "metadata": {},
   "outputs": [],
   "source": [
    "def curve_name(curve):\n",
    "    output = curve.upper()\n",
    "    return print(f'your curve name is: {output}')"
   ]
  },
  {
   "cell_type": "code",
   "execution_count": null,
   "metadata": {},
   "outputs": [],
   "source": [
    "output = interact(curve_name, curve='')"
   ]
  },
  {
   "cell_type": "markdown",
   "metadata": {},
   "source": [
    "### There are many widget types available:\n",
    "- [Numeric widgets](https://ipywidgets.readthedocs.io/en/stable/examples/Widget%20List.html#Numeric-widgets)\n",
    "- [Boolean widgets](https://ipywidgets.readthedocs.io/en/stable/examples/Widget%20List.html#Boolean-widgets)\n",
    "- [Selection widgets](https://ipywidgets.readthedocs.io/en/stable/examples/Widget%20List.html#Selection-widgets)\n",
    "- [String widgets](https://ipywidgets.readthedocs.io/en/stable/examples/Widget%20List.html#String-widgets)\n",
    "- [Image](https://ipywidgets.readthedocs.io/en/stable/examples/Widget%20List.html#Image)\n",
    "- [Button](https://ipywidgets.readthedocs.io/en/stable/examples/Widget%20List.html#Button)\n",
    "- [Output](https://ipywidgets.readthedocs.io/en/latest/examples/Output%20Widget.html)\n",
    "- [Play (Animation) widget](https://ipywidgets.readthedocs.io/en/stable/examples/Widget%20List.html#Play-(Animation)-widget)\n",
    "- [Date picker](https://ipywidgets.readthedocs.io/en/stable/examples/Widget%20List.html#Date-picker)\n",
    "- [Color picker](https://ipywidgets.readthedocs.io/en/stable/examples/Widget%20List.html#Color-picker)\n",
    "- [Controller](https://ipywidgets.readthedocs.io/en/stable/examples/Widget%20List.html#Controller)\n",
    "- [Container/Layout widgets](https://ipywidgets.readthedocs.io/en/stable/examples/Widget%20List.html#Container/Layout-widgets)\n",
    "\n",
    "Almost all have different arguments that can be set as in the `IntSlider` example below:"
   ]
  },
  {
   "cell_type": "code",
   "execution_count": null,
   "metadata": {},
   "outputs": [],
   "source": [
    "widgets.IntSlider(\n",
    "    value=12,\n",
    "    min=0,\n",
    "    max=100,\n",
    "    step=1,\n",
    "    description='Slider:',\n",
    "    disabled=False,\n",
    "    continuous_update=False,\n",
    "    orientation='horizontal',\n",
    "    readout=True,\n",
    "    readout_format='d'\n",
    ")"
   ]
  },
  {
   "cell_type": "markdown",
   "metadata": {
    "tags": [
     "exe"
    ]
   },
   "source": [
    "### Exercise\n",
    "Try to replicate the range slider below using a min of 0 and a max of 20.\n",
    "Once you've got it working, see what changes you can make to it.\n",
    "\n",
    "<img src='../data/range-slider.png'/>\n",
    "\n",
    "You'll find all the widgets [here](https://ipywidgets.readthedocs.io/en/stable/examples/Widget%20List.html#Widget-List)"
   ]
  },
  {
   "cell_type": "code",
   "execution_count": null,
   "metadata": {},
   "outputs": [],
   "source": [
    "# your code here\n"
   ]
  },
  {
   "cell_type": "code",
   "execution_count": null,
   "metadata": {},
   "outputs": [],
   "source": []
  },
  {
   "cell_type": "code",
   "execution_count": null,
   "metadata": {
    "tags": [
     "hide"
    ]
   },
   "outputs": [],
   "source": [
    "widgets.IntRangeSlider(\n",
    "    value=[3, 12],\n",
    "    min=0,\n",
    "    max=20,\n",
    "    step=1,\n",
    "    description='Range:',\n",
    "    disabled=False,\n",
    "    continuous_update=False,\n",
    "    orientation='horizontal',\n",
    "    readout=True,\n",
    "    readout_format='d',\n",
    ")"
   ]
  },
  {
   "cell_type": "markdown",
   "metadata": {},
   "source": [
    "## Interact usage\n",
    "\n",
    "`interact` can also be used as a `decorator`. Interact [decorators](https://wiki.python.org/moin/PythonDecorators#What_is_a_Decorator) allow you expand the functionality of your function and interact with it in a single shot. As this example shows, interact also works with functions that have multiple arguments. [source](https://ipywidgets.readthedocs.io/en/stable/examples/Using%20Interact.html#Basic-interact)"
   ]
  },
  {
   "cell_type": "code",
   "execution_count": null,
   "metadata": {},
   "outputs": [],
   "source": [
    "method = widgets.RadioButtons(options=['square','double'],description='option')\n",
    "y = widgets.IntSlider(value=5,min=0,max=10,step=1,description='y')\n",
    "\n",
    "@interact(method=method, y=y)\n",
    "def square_or_double(method, y):\n",
    "    if method=='square':\n",
    "        y = y**2\n",
    "    else:\n",
    "        y = y*2\n",
    "    return y"
   ]
  },
  {
   "cell_type": "markdown",
   "metadata": {
    "tags": [
     "exe"
    ]
   },
   "source": [
    "### Exercise\n",
    "Write a function that returns `a` to the power of `b` but use the interact decorator to make both `a` and `b` interactive (between 0 and 10 in steps of 1), add a toggle to negate the result."
   ]
  },
  {
   "cell_type": "code",
   "execution_count": null,
   "metadata": {},
   "outputs": [],
   "source": [
    "# your code here"
   ]
  },
  {
   "cell_type": "code",
   "execution_count": null,
   "metadata": {},
   "outputs": [],
   "source": []
  },
  {
   "cell_type": "code",
   "execution_count": null,
   "metadata": {
    "tags": [
     "hide"
    ]
   },
   "outputs": [],
   "source": [
    "@interact(a=widgets.IntSlider(value=5,min=0,max=10,step=1,description='a'),\n",
    "          b=widgets.IntSlider(value=5,min=0,max=10,step=1,description='b'),\n",
    "          negate=widgets.Checkbox(value=True,description='negate'))\n",
    "def pow_a_b(a, b, negate):\n",
    "    \"\"\"return a to the power of b or negative a**b\"\"\"\n",
    "    if negate:\n",
    "        out = -a**b\n",
    "    else:\n",
    "        out = a**b\n",
    "    return out"
   ]
  },
  {
   "cell_type": "code",
   "execution_count": null,
   "metadata": {
    "tags": [
     "hide"
    ]
   },
   "outputs": [],
   "source": [
    "@interact(a=(0,10,1), b=(0,10,1), negate=False)\n",
    "def pow_a_b(a, b, negate):\n",
    "    \"\"\"return a to the power of b or negative a**b\"\"\"\n",
    "    if negate:\n",
    "        out = -a**b\n",
    "    else:\n",
    "        out = a**b\n",
    "    return out"
   ]
  },
  {
   "cell_type": "markdown",
   "metadata": {},
   "source": [
    "### Worked Example\n",
    "\n",
    "Let's build an example of an interactive wavelet using [Bruges](https://github.com/agile-geoscience/bruges), we'll use:\n",
    "- [Ricker](https://github.com/agile-geoscience/bruges/blob/master/bruges/filters/wavelets.py)\n",
    "- [Gabor](https://github.com/agile-geoscience/bruges/blob/master/bruges/filters/wavelets.py)\n",
    "- [sinc](https://github.com/agile-geoscience/bruges/blob/master/bruges/filters/wavelets.py)\n",
    "- [cosine](https://github.com/agile-geoscience/bruges/blob/master/bruges/filters/wavelets.py)"
   ]
  },
  {
   "cell_type": "code",
   "execution_count": null,
   "metadata": {},
   "outputs": [],
   "source": [
    "from bruges.filters.wavelets import ricker, gabor, sinc, cosine"
   ]
  },
  {
   "cell_type": "code",
   "execution_count": null,
   "metadata": {},
   "outputs": [],
   "source": [
    "w, t = ricker(duration=0.128, dt=0.001, f=25, return_t=True)\n",
    "\n",
    "fig, ax = plt.subplots(figsize=(15, 6), ncols=1)\n",
    "\n",
    "ax.plot(t, w)\n",
    "ax.grid()\n",
    "ax.set_title(f'ricker wavelet - frequency=25')\n",
    "\n",
    "plt.show()"
   ]
  },
  {
   "cell_type": "markdown",
   "metadata": {
    "tags": [
     "exe"
    ]
   },
   "source": [
    "### Exercise\n",
    "Let's turn this into an interactive function:\n",
    "- first define a function\n",
    "- copy the code above into that function\n",
    "- use an interact decorator and widget to have frequency by a slider (allow a range from 1Hz to 75Hz in steps of 1Hz)\n",
    "\n",
    "Remember to correct the title."
   ]
  },
  {
   "cell_type": "code",
   "execution_count": null,
   "metadata": {},
   "outputs": [],
   "source": [
    "# your code here"
   ]
  },
  {
   "cell_type": "code",
   "execution_count": null,
   "metadata": {},
   "outputs": [],
   "source": []
  },
  {
   "cell_type": "code",
   "execution_count": null,
   "metadata": {
    "tags": [
     "hide"
    ]
   },
   "outputs": [],
   "source": [
    "@interact(frequency=widgets.IntSlider(value=25,min=1,max=75,step=1))\n",
    "def plot_filter(frequency):\n",
    "    w, t = ricker(duration=0.128, dt=0.001, f=frequency, return_t=True)\n",
    "\n",
    "    fig, ax = plt.subplots(figsize=(15, 6), ncols=1)\n",
    "\n",
    "    ax.plot(t, w)\n",
    "    ax.grid()\n",
    "    ax.set_title(f'ricker wavelet - frequency={frequency}')\n",
    "\n",
    "    plt.show()\n",
    "    \n",
    "    return"
   ]
  },
  {
   "cell_type": "markdown",
   "metadata": {
    "tags": [
     "exe"
    ]
   },
   "source": [
    "### Exercise\n",
    "Now let's allow the user to pass both duration _and_ dt as interactive arguments, using your code above:\n",
    "- add two more arguments to the function\n",
    "- define these arguments `duration` and `dt` as `Interact.widgets`\n",
    "\n",
    "For `duration` use a value 0.256 seconds with a minimum of 0.04 seconds, a maximum of 0.512 seconds and steps of 0.004 seconds.\n",
    "\n",
    "For `dt` use a value 0.001 seconds with a minimum of 0.0001 seconds, a maximum of 0.008 seconds and steps of 0.0001 seconds.\n",
    "\n",
    "N.B.: you can optionally add `continuous_update=False` to the arguments of your `widgets` in order to avoid 'choppy' display when you move the sliders."
   ]
  },
  {
   "cell_type": "code",
   "execution_count": null,
   "metadata": {},
   "outputs": [],
   "source": [
    "# your code here"
   ]
  },
  {
   "cell_type": "code",
   "execution_count": null,
   "metadata": {},
   "outputs": [],
   "source": []
  },
  {
   "cell_type": "code",
   "execution_count": null,
   "metadata": {
    "tags": [
     "hide"
    ]
   },
   "outputs": [],
   "source": [
    "@interact(frequency=widgets.IntSlider(value=25,min=1,max=75,step=1,continuous_update=False),\n",
    "         duration=widgets.FloatSlider(value=0.256,min=0.04,max=0.512,step=0.004,continuous_update=False),\n",
    "         dt=widgets.FloatSlider(value=0.001,min=0.0001,max=0.008,step=0.0001,continuous_update=False))\n",
    "def plot_filter(frequency,duration,dt):\n",
    "    w, t = ricker(duration=duration, dt=dt, f=frequency, return_t=True)\n",
    "\n",
    "    fig, ax = plt.subplots(figsize=(15, 6), ncols=1)\n",
    "\n",
    "    ax.plot(t, w)\n",
    "    ax.grid()\n",
    "    ax.set_title(f'ricker wavelet - frequency={frequency}')\n",
    "\n",
    "    plt.show()\n",
    "    \n",
    "    return"
   ]
  },
  {
   "cell_type": "markdown",
   "metadata": {
    "tags": [
     "exe"
    ]
   },
   "source": [
    "### Exercise\n",
    "Now let's see if we can fill the wavelet between zero and positive values of the wavelet, for this you can use the matplotlib function `.fill_between()`, you might need to read the [docs](https://matplotlib.org/api/_as_gen/matplotlib.pyplot.fill_between.html) or look at an [example](https://matplotlib.org/examples/pylab_examples/fill_between_demo.html) to figure out how to use this function."
   ]
  },
  {
   "cell_type": "code",
   "execution_count": null,
   "metadata": {},
   "outputs": [],
   "source": [
    "# your code here"
   ]
  },
  {
   "cell_type": "code",
   "execution_count": null,
   "metadata": {},
   "outputs": [],
   "source": []
  },
  {
   "cell_type": "code",
   "execution_count": null,
   "metadata": {
    "tags": [
     "hide"
    ]
   },
   "outputs": [],
   "source": [
    "@interact(frequency=widgets.IntSlider(value=25,min=1,max=75,step=1,continuous_update=False),\n",
    "          duration=widgets.FloatSlider(value=0.256,min=0.04,max=0.512,step=0.004,continuous_update=False),\n",
    "          dt=widgets.FloatSlider(value=0.001,min=0.0001,max=0.008,step=0.0001,continuous_update=False),\n",
    "          filled=widgets.Checkbox(value=True,description='fill wavelet',disabled=False)\n",
    "         )\n",
    "def plot_filter(frequency,duration,dt,filled):\n",
    "    w, t = ricker(duration=duration, dt=dt, f=frequency, return_t=True)\n",
    "\n",
    "    fig, ax = plt.subplots(figsize=(15, 6), ncols=1)\n",
    "\n",
    "    ax.plot(t, w)\n",
    "    ax.grid()\n",
    "    ax.set_title(f'ricker wavelet - frequency={frequency}')\n",
    "    \n",
    "    # define fill_between() parameters\n",
    "    x_min = -duration / 2\n",
    "    x_max = duration / 2\n",
    "    x = np.arange(x_min, x_max, dt)\n",
    "    \n",
    "    if filled:\n",
    "        ax.fill_between(x, 0, w, where=w > 0, color='k')\n",
    "\n",
    "    plt.show()\n",
    "    \n",
    "    return"
   ]
  },
  {
   "cell_type": "markdown",
   "metadata": {
    "tags": [
     "exe"
    ]
   },
   "source": [
    "### Exercise\n",
    "Finally, let's see if we can add a choice of wavelets to the function, so that the user can choose between 'ricker', 'gabor', 'sinc' and 'cosine' for example (these all have the same input parameters), there are different ways to achieve this for example using a `ToggleButtons` or a `Select` widget.\n",
    "\n",
    "Once again, remember to correct the title."
   ]
  },
  {
   "cell_type": "code",
   "execution_count": null,
   "metadata": {},
   "outputs": [],
   "source": [
    "# your code here"
   ]
  },
  {
   "cell_type": "code",
   "execution_count": null,
   "metadata": {},
   "outputs": [],
   "source": []
  },
  {
   "cell_type": "code",
   "execution_count": null,
   "metadata": {
    "tags": [
     "hide"
    ]
   },
   "outputs": [],
   "source": [
    "FUNCS={'ricker': ricker,'gabor': gabor,'sinc': sinc,'cosine': cosine}\n",
    "\n",
    "@interact(wavelet=widgets.ToggleButtons(options=FUNCS,description='wavelet',button_style='success'),\n",
    "          frequency=widgets.IntSlider(value=25,min=1,max=75,step=1,continuous_update=False),\n",
    "          duration=widgets.FloatSlider(value=0.256,min=0.04,max=0.512,step=0.004,continuous_update=False),\n",
    "          dt=widgets.FloatSlider(value=0.001,min=0.0001,max=0.008,step=0.0001,continuous_update=False),\n",
    "          filled=widgets.Checkbox(value=True,description='fill wavelet',disabled=False)\n",
    "         )\n",
    "def plot_filter(wavelet, frequency, duration, dt, filled):\n",
    "    w, t = wavelet(duration=duration, dt=dt, f=frequency, return_t=True)\n",
    "\n",
    "    fig, ax = plt.subplots(figsize=(15, 6), ncols=1)\n",
    "\n",
    "    ax.plot(t, w)\n",
    "    ax.grid()\n",
    "    ax.set_title(f'{wavelet.__name__} wavelet - frequency={frequency}')\n",
    "    \n",
    "    # define fill_between() parameters\n",
    "    x_min = -duration / 2\n",
    "    x_max = duration / 2\n",
    "    x = np.arange(x_min, x_max, dt)\n",
    "    \n",
    "    if filled:\n",
    "        ax.fill_between(x, 0, w, where=w > 0, color='k')\n",
    "\n",
    "    plt.show()\n",
    "    \n",
    "    return"
   ]
  },
  {
   "cell_type": "code",
   "execution_count": null,
   "metadata": {
    "tags": [
     "hide"
    ]
   },
   "outputs": [],
   "source": [
    "FUNCS={'ricker': ricker,'gabor': gabor,'sinc': sinc,'cosine': cosine}\n",
    "\n",
    "@interact(wavelet=widgets.ToggleButtons(options=FUNCS.keys(),description='wavelet',button_style='success'),\n",
    "          duration=widgets.FloatSlider(value=0.256,min=0.04,max=0.512,step=0.004,\n",
    "                                      description='duration',\n",
    "                                      continuous_update=False,\n",
    "                                      readout_format='.3f'),\n",
    "          dt=widgets.FloatSlider(value=0.001,min=0.0001,max=0.008,step=0.0001,\n",
    "                                      description='dt',\n",
    "                                      continuous_update=False,\n",
    "                                      readout_format='.4f'),\n",
    "          frequency=widgets.IntSlider(value=25,min=1,max=75,step=1,\n",
    "                                      description='frequency',\n",
    "                                      continuous_update=False,\n",
    "                                      readout_format='d'),       \n",
    "          filled=widgets.Checkbox(value=True,description='fill wavelet',disabled=False)\n",
    "         )\n",
    "def plot_filter(wavelet, duration, dt, frequency, filled):\n",
    "    \"\"\"\n",
    "    Plot a filter:\n",
    "    Args:\n",
    "        function (function): one of ['ricker', 'gabor', 'sinc', 'cosine']\n",
    "        duration (float): The length in seconds of the wavelet.\n",
    "        dt (float): The sample interval in seconds.\n",
    "        frequency (ndarray): Dominant frequency of the wavelet in Hz.\n",
    "        fill (boolean): whether the filter plot is filled between 0 and wavelet.\n",
    "    Returns:\n",
    "        ndarray. {function} wavelet with centre frequency 'frequency' sampled on t.\n",
    "    \"\"\"\n",
    "    # call the wavelet function\n",
    "    w, t = FUNCS[wavelet](duration, dt, f=frequency, return_t=True)\n",
    "\n",
    "    # create the plot\n",
    "    fig, ax = plt.subplots(figsize=(15, 6), ncols=1) \n",
    "    ax.plot(t, w, color='black')\n",
    "    ax.grid()\n",
    "    ax.set_title(f'{wavelet} wavelet, frequency={frequency}, duration={duration}, dt={dt}')    \n",
    "    \n",
    "    # define fill_between() parameters\n",
    "    x_min = -duration / 2\n",
    "    x_max = duration / 2\n",
    "    x = np.arange(x_min, x_max, dt)\n",
    "    \n",
    "    # fill wavelet\n",
    "    if filled:\n",
    "        ax.fill_between(x, 0, w, where=w > 0, color='k')\n",
    "\n",
    "    # show the plot\n",
    "    plt.show()\n",
    "    \n",
    "    return\n"
   ]
  },
  {
   "cell_type": "markdown",
   "metadata": {},
   "source": [
    "### Summary\n",
    "\n",
    "Let's summarise by looking at the initial reason we looked at interact:"
   ]
  },
  {
   "cell_type": "code",
   "execution_count": null,
   "metadata": {},
   "outputs": [],
   "source": []
  },
  {
   "cell_type": "code",
   "execution_count": null,
   "metadata": {
    "tags": [
     "hide"
    ]
   },
   "outputs": [],
   "source": [
    "@interact(\n",
    "    colormap=['viridis', 'plasma', 'inferno', 'magma', 'Greys', 'Greys_r'],\n",
    "    section=widgets.RadioButtons(options=['inline', 'xline', 'timeslice'],\n",
    "                                 value='inline',description='slicer',disabled=False),\n",
    "    inline=widgets.IntSlider(value=300,min=0,max=600,step=1,\n",
    "                             continuous_update=False,description='<font color=\"red\">inline</>'),\n",
    "    xline=widgets.IntSlider(value=240,min=0,max=480,step=1,\n",
    "                            continuous_update=False,description='<font color=\"green\">xline</>'),\n",
    "    timeslice=widgets.IntSlider(value=125,min=0,max=250,step=1,\n",
    "                                continuous_update=False,description='<font color=\"blue\">timeslice</>'),\n",
    ")\n",
    "def seismic_plotter(colormap, section, inline, xline, timeslice):\n",
    "    \"\"\"Plot a chosen seismic ILine, XLine or Timeslice with a choice of colormaps\"\"\"\n",
    "    \n",
    "    # load a volume\n",
    "    vol = np.load('../data/Penobscot_0-1000ms.npy')\n",
    "    \n",
    "    # sections dictionary\n",
    "    sections = {\n",
    "        'inline': {'amp': vol[inline,:,:].T, 'line': inline, 'shrink_val': 0.6, \n",
    "                  'axhline_y': timeslice, 'axhline_c': 'b', \n",
    "                  'axvline_x': xline, 'axvline_c': 'g',\n",
    "                  'axspine_c': 'r'},\n",
    "        'xline': {'amp': vol[:,xline,:].T, 'line': xline, 'shrink_val': 0.5, \n",
    "                  'axhline_y': timeslice, 'axhline_c': 'b', \n",
    "                  'axvline_x': inline, 'axvline_c': 'r',\n",
    "                  'axspine_c': 'g'},\n",
    "        'timeslice': {'amp': vol[:,:,timeslice], 'line': timeslice, 'shrink_val': 0.95, \n",
    "                  'axhline_y': xline, 'axhline_c': 'g', \n",
    "                  'axvline_x': inline, 'axvline_c': 'r',\n",
    "                  'axspine_c': 'b'},\n",
    "    }\n",
    "\n",
    "    # scale amplitudes\n",
    "    ma = np.percentile(vol, 98)\n",
    "    \n",
    "    # plot figure\n",
    "    fig, ax = plt.subplots(figsize=(18, 6), ncols=1)\n",
    "\n",
    "    sec = sections[section]    \n",
    "    im = ax.imshow(sec['amp'], aspect=0.5, vmin=-ma, vmax=ma, cmap=colormap)\n",
    "    ax.set_title(f'Penobscot_0-1000ms {section} {sec[\"line\"]}')\n",
    "    plt.colorbar(im, ax=ax, shrink=sec['shrink_val']).set_label(colormap)\n",
    "     \n",
    "    # add projected lines\n",
    "    ax.axhline(y=sec['axhline_y'], linewidth=2, color=sec['axhline_c'])\n",
    "    ax.axvline(x=sec['axvline_x'], linewidth=2, color=sec['axvline_c'])\n",
    "    for axis in ['top','bottom','left','right']:\n",
    "        ax.spines[axis].set_linewidth(2)     \n",
    "        ax.spines[axis].set_color(sec['axspine_c'])\n",
    "    \n",
    "    plt.show()\n",
    "    \n",
    "    return\n"
   ]
  },
  {
   "cell_type": "markdown",
   "metadata": {},
   "source": [
    "<hr />\n",
    "\n",
    "<div>\n",
    "<img src=\"https://avatars1.githubusercontent.com/u/1692321?s=50\"><p style=\"text-align:center\">© Agile Geoscience 2018</p>\n",
    "</div>"
   ]
  }
 ],
 "metadata": {
  "celltoolbar": "Tags",
  "kernelspec": {
   "display_name": "geocomp",
   "language": "python",
   "name": "geocomp"
  },
  "language_info": {
   "codemirror_mode": {
    "name": "ipython",
    "version": 3
   },
   "file_extension": ".py",
   "mimetype": "text/x-python",
   "name": "python",
   "nbconvert_exporter": "python",
   "pygments_lexer": "ipython3",
   "version": "3.7.0"
  }
 },
 "nbformat": 4,
 "nbformat_minor": 2
}
