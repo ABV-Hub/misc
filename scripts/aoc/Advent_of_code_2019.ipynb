{
 "cells": [
  {
   "cell_type": "markdown",
   "metadata": {},
   "source": [
    "# Advent of code 2019\n",
    "\n",
    "### imports"
   ]
  },
  {
   "cell_type": "code",
   "execution_count": 1,
   "metadata": {},
   "outputs": [],
   "source": [
    "import numpy as np\n",
    "import pandas as pd\n",
    "%matplotlib inline\n",
    "import matplotlib.pyplot as plt"
   ]
  },
  {
   "cell_type": "markdown",
   "metadata": {},
   "source": [
    "### Day 1 - part 1"
   ]
  },
  {
   "cell_type": "code",
   "execution_count": 21,
   "metadata": {},
   "outputs": [],
   "source": [
    "# load data\n",
    "with open('./data_2019/d1p1.csv', 'r') as f:\n",
    "    data = np.array(f.readlines()).astype(int)"
   ]
  },
  {
   "cell_type": "code",
   "execution_count": 24,
   "metadata": {},
   "outputs": [
    {
     "data": {
      "text/plain": [
       "3161483"
      ]
     },
     "execution_count": 24,
     "metadata": {},
     "output_type": "execute_result"
    }
   ],
   "source": [
    "np.sum(np.floor(data / 3) - 2).astype(int)"
   ]
  },
  {
   "cell_type": "markdown",
   "metadata": {},
   "source": [
    "The first half of this puzzle is complete! It provides one gold star: *"
   ]
  },
  {
   "cell_type": "markdown",
   "metadata": {},
   "source": [
    "### Day 1 - part 2"
   ]
  },
  {
   "cell_type": "code",
   "execution_count": 87,
   "metadata": {},
   "outputs": [],
   "source": [
    "def get_fuel(mass):\n",
    "    return (np.floor(mass / 3) - 2).astype(int)"
   ]
  },
  {
   "cell_type": "code",
   "execution_count": 89,
   "metadata": {},
   "outputs": [],
   "source": [
    "get_fuel(data);"
   ]
  },
  {
   "cell_type": "code",
   "execution_count": 90,
   "metadata": {},
   "outputs": [
    {
     "data": {
      "text/plain": [
       "654"
      ]
     },
     "execution_count": 90,
     "metadata": {},
     "output_type": "execute_result"
    }
   ],
   "source": [
    "get_fuel(1969)"
   ]
  },
  {
   "cell_type": "markdown",
   "metadata": {},
   "source": [
    "mass 1969 is 654 + 216 + 70 + 21 + 5 = 966 fuel"
   ]
  },
  {
   "cell_type": "code",
   "execution_count": 146,
   "metadata": {},
   "outputs": [
    {
     "data": {
      "text/plain": [
       "50346"
      ]
     },
     "execution_count": 146,
     "metadata": {},
     "output_type": "execute_result"
    }
   ],
   "source": [
    "def get_fuel_recursive(mass):\n",
    "    if (np.floor(mass / 3) - 2).astype(int) <= 0:\n",
    "        return 0\n",
    "    else:\n",
    "        mass = (np.floor(mass / 3) - 2).astype(int)\n",
    "        new_mass = get_fuel_recursive(mass)\n",
    "        mass += new_mass\n",
    "        return mass\n",
    "    \n",
    "get_fuel_recursive(1969)"
   ]
  },
  {
   "cell_type": "code",
   "execution_count": 160,
   "metadata": {},
   "outputs": [
    {
     "data": {
      "text/plain": [
       "4739374"
      ]
     },
     "execution_count": 160,
     "metadata": {},
     "output_type": "execute_result"
    }
   ],
   "source": [
    "np.array(list(map(get_fuel_recursive, data))).sum()"
   ]
  },
  {
   "cell_type": "markdown",
   "metadata": {},
   "source": [
    "That's the right answer! You are one gold star closer to rescuing Santa."
   ]
  },
  {
   "cell_type": "markdown",
   "metadata": {},
   "source": [
    "### Day 2 - part 1"
   ]
  },
  {
   "cell_type": "code",
   "execution_count": 531,
   "metadata": {},
   "outputs": [],
   "source": [
    "window = 4"
   ]
  },
  {
   "cell_type": "code",
   "execution_count": 777,
   "metadata": {},
   "outputs": [],
   "source": [
    "data = np.array([1,9,10,3,2,3,11,0,99,30,40,50])"
   ]
  },
  {
   "cell_type": "code",
   "execution_count": 778,
   "metadata": {},
   "outputs": [],
   "source": [
    "def get_codes(data, start, window):\n",
    "    end = start + window\n",
    "    codes = data[start:end]\n",
    "    return codes"
   ]
  },
  {
   "cell_type": "code",
   "execution_count": 779,
   "metadata": {},
   "outputs": [],
   "source": [
    "def intcode(codes, data):\n",
    "    op = codes[0]\n",
    "    a, b = codes[1], codes[2]\n",
    "    out = codes[-1]\n",
    "    if op == 1:\n",
    "        return data[a] + data[b], out\n",
    "    else:#if op == 2:\n",
    "        return data[a] * data[b], out\n",
    "    #else:\n",
    "    #    return np.nan, np.nan"
   ]
  },
  {
   "cell_type": "code",
   "execution_count": 780,
   "metadata": {},
   "outputs": [],
   "source": [
    "def update_data(codes, data):\n",
    "    value, index = intcode(codes, data)\n",
    "    data[index] = value\n",
    "    return data"
   ]
  },
  {
   "cell_type": "code",
   "execution_count": 781,
   "metadata": {},
   "outputs": [],
   "source": [
    "def run_codes(data):\n",
    "    for i in range(len(data) // window):\n",
    "        codes = get_codes(data, i * window, window)\n",
    "        if codes[0] == 99:\n",
    "            break\n",
    "        update_data(codes, data)\n",
    "    return data"
   ]
  },
  {
   "cell_type": "code",
   "execution_count": 782,
   "metadata": {},
   "outputs": [
    {
     "data": {
      "text/plain": [
       "array([3500,    9,   10,   70,    2,    3,   11,    0,   99,   30,   40,\n",
       "         50])"
      ]
     },
     "execution_count": 782,
     "metadata": {},
     "output_type": "execute_result"
    }
   ],
   "source": [
    "run_codes(data)"
   ]
  },
  {
   "cell_type": "markdown",
   "metadata": {},
   "source": [
    "3500,9,10,70,\n",
    "2,3,11,0,\n",
    "99,\n",
    "30,40,50"
   ]
  },
  {
   "cell_type": "markdown",
   "metadata": {},
   "source": [
    "1,0,0,0,99 becomes 2,0,0,0,99 (1 + 1 = 2).\n",
    "\n",
    "2,3,0,3,99 becomes 2,3,0,6,99 (3 * 2 = 6).\n",
    "\n",
    "2,4,4,5,99,0 becomes 2,4,4,5,99,9801 (99 * 99 = 9801).\n",
    "\n",
    "1,1,1,4,99,5,6,0,99 becomes 30,1,1,4,2,5,6,0,99"
   ]
  },
  {
   "cell_type": "code",
   "execution_count": 783,
   "metadata": {},
   "outputs": [
    {
     "data": {
      "text/plain": [
       "[30, 1, 1, 4, 2, 5, 6, 0, 99]"
      ]
     },
     "execution_count": 783,
     "metadata": {},
     "output_type": "execute_result"
    }
   ],
   "source": [
    "run_codes([1,1,1,4,99,5,6,0,99])"
   ]
  },
  {
   "cell_type": "markdown",
   "metadata": {},
   "source": [
    "To do this, before running the program, replace position 1 with the value 12 and replace position 2 with the value 2. What value is left at position 0 after the program halts?"
   ]
  },
  {
   "cell_type": "code",
   "execution_count": 784,
   "metadata": {},
   "outputs": [
    {
     "data": {
      "text/plain": [
       "['1,0,0,3,1,1,2,3,1,3,4,3,1,5,0,3,2,1,10,19,1,6,19,23,1,10,23,27,2,27,13,31,1,31,6,35,2,6,35,39,1,39,5,43,1,6,43,47,2,6,47,51,1,51,5,55,2,55,9,59,1,6,59,63,1,9,63,67,1,67,10,71,2,9,71,75,1,6,75,79,1,5,79,83,2,83,10,87,1,87,5,91,1,91,9,95,1,6,95,99,2,99,10,103,1,103,5,107,2,107,6,111,1,111,5,115,1,9,115,119,2,119,10,123,1,6,123,127,2,13,127,131,1,131,6,135,1,135,10,139,1,13,139,143,1,143,13,147,1,5,147,151,1,151,2,155,1,155,5,0,99,2,0,14,0\\n']"
      ]
     },
     "execution_count": 784,
     "metadata": {},
     "output_type": "execute_result"
    }
   ],
   "source": [
    "with open('./data_2019/day2.csv','r') as f:\n",
    "    data = f.readlines()\n",
    "data"
   ]
  },
  {
   "cell_type": "code",
   "execution_count": 785,
   "metadata": {},
   "outputs": [],
   "source": [
    "data = np.array(data[0].split(',')).astype(int)"
   ]
  },
  {
   "cell_type": "code",
   "execution_count": 786,
   "metadata": {},
   "outputs": [],
   "source": [
    "data[1] = 12\n",
    "data[2] = 2"
   ]
  },
  {
   "cell_type": "code",
   "execution_count": 787,
   "metadata": {},
   "outputs": [
    {
     "data": {
      "text/plain": [
       "array([6327510,      12,       2,       2,       1,       1,       2,\n",
       "             3,       1,       3,       4,       3,       1,       5,\n",
       "             0,       3,       2,       1,      10,      48,       1,\n",
       "             6,      19,      50,       1,      10,      23,      54,\n",
       "             2,      27,      13,     270,       1,      31,       6,\n",
       "           272,       2,       6,      35,     544,       1,      39,\n",
       "             5,     545,       1,       6,      43,     547,       2,\n",
       "             6,      47,    1094,       1,      51,       5,    1095,\n",
       "             2,      55,       9,    3285,       1,       6,      59,\n",
       "          3287,       1,       9,      63,    3290,       1,      67,\n",
       "            10,    3294,       2,       9,      71,    9882,       1,\n",
       "             6,      75,    9884,       1,       5,      79,    9885,\n",
       "             2,      83,      10,   39540,       1,      87,       5,\n",
       "         39541,       1,      91,       9,   39544,       1,       6,\n",
       "            95,   39546,       2,      99,      10,  158184,       1,\n",
       "           103,       5,  158185,       2,     107,       6,  316370,\n",
       "             1,     111,       5,  316371,       1,       9,     115,\n",
       "        316374,       2,     119,      10, 1265496,       1,       6,\n",
       "           123, 1265498,       2,      13,     127, 6327490,       1,\n",
       "           131,       6, 6327492,       1,     135,      10, 6327496,\n",
       "             1,      13,     139, 6327501,       1,     143,      13,\n",
       "       6327506,       1,       5,     147, 6327507,       1,     151,\n",
       "             2, 6327509,       1,     155,       5,       0,      99,\n",
       "             2,       0,      14,       0])"
      ]
     },
     "execution_count": 787,
     "metadata": {},
     "output_type": "execute_result"
    }
   ],
   "source": [
    "run_codes(data)"
   ]
  },
  {
   "cell_type": "markdown",
   "metadata": {},
   "source": [
    "That's not the right answer; your answer is too low. If you're stuck, make sure you're using the full input data; there are also some general tips on the about page, or you can ask for hints on the subreddit. Please wait one minute before trying again. (You guessed 6327508.) "
   ]
  },
  {
   "cell_type": "markdown",
   "metadata": {},
   "source": [
    "6327510: That's the right answer! You are one gold star closer to rescuing Santa."
   ]
  },
  {
   "cell_type": "markdown",
   "metadata": {},
   "source": [
    "### Day 2 - part 2"
   ]
  },
  {
   "cell_type": "code",
   "execution_count": 788,
   "metadata": {},
   "outputs": [],
   "source": [
    "target = 19690720\n",
    "window = 4"
   ]
  },
  {
   "cell_type": "code",
   "execution_count": 789,
   "metadata": {},
   "outputs": [],
   "source": [
    "with open('./data_2019/day2.csv','r') as f:\n",
    "    data = f.readlines()\n",
    "data = np.array(data[0].split(',')).astype(int)"
   ]
  },
  {
   "cell_type": "code",
   "execution_count": 790,
   "metadata": {},
   "outputs": [],
   "source": [
    "data_test = data.copy()"
   ]
  },
  {
   "cell_type": "code",
   "execution_count": 791,
   "metadata": {},
   "outputs": [
    {
     "data": {
      "text/plain": [
       "array([  1,   0,   0,   3,   1,   1,   2,   3,   1,   3,   4,   3,   1,\n",
       "         5,   0,   3,   2,   1,  10,  19,   1,   6,  19,  23,   1,  10,\n",
       "        23,  27,   2,  27,  13,  31,   1,  31,   6,  35,   2,   6,  35,\n",
       "        39,   1,  39,   5,  43,   1,   6,  43,  47,   2,   6,  47,  51,\n",
       "         1,  51,   5,  55,   2,  55,   9,  59,   1,   6,  59,  63,   1,\n",
       "         9,  63,  67,   1,  67,  10,  71,   2,   9,  71,  75,   1,   6,\n",
       "        75,  79,   1,   5,  79,  83,   2,  83,  10,  87,   1,  87,   5,\n",
       "        91,   1,  91,   9,  95,   1,   6,  95,  99,   2,  99,  10, 103,\n",
       "         1, 103,   5, 107,   2, 107,   6, 111,   1, 111,   5, 115,   1,\n",
       "         9, 115, 119,   2, 119,  10, 123,   1,   6, 123, 127,   2,  13,\n",
       "       127, 131,   1, 131,   6, 135,   1, 135,  10, 139,   1,  13, 139,\n",
       "       143,   1, 143,  13, 147,   1,   5, 147, 151,   1, 151,   2, 155,\n",
       "         1, 155,   5,   0,  99,   2,   0,  14,   0])"
      ]
     },
     "execution_count": 791,
     "metadata": {},
     "output_type": "execute_result"
    }
   ],
   "source": [
    "data_test"
   ]
  },
  {
   "cell_type": "code",
   "execution_count": 816,
   "metadata": {},
   "outputs": [
    {
     "name": "stdout",
     "output_type": "stream",
     "text": [
      "41 12 19690720\n",
      "4112\n"
     ]
    }
   ],
   "source": [
    "results = {}\n",
    "for i in range(100):\n",
    "    for j in range(100):\n",
    "        data_test = data.copy()\n",
    "        data_test[1] = i\n",
    "        data_test[2] = j\n",
    "        try:\n",
    "            result = run_codes(data_test)[0]\n",
    "        except IndexError:\n",
    "            result = np.nan\n",
    "        results[(i,j)] = result\n",
    "        if result == target:\n",
    "            print(i, j, result)\n",
    "            print(100 * i + j)\n",
    "            break\n",
    "#results"
   ]
  },
  {
   "cell_type": "code",
   "execution_count": 749,
   "metadata": {},
   "outputs": [
    {
     "data": {
      "text/plain": [
       "<matplotlib.contour.QuadContourSet at 0x7f96aa2b4a90>"
      ]
     },
     "execution_count": 749,
     "metadata": {},
     "output_type": "execute_result"
    },
    {
     "data": {
      "image/png": "[encoded data removed]",
      "text/plain": [
       "<Figure size 432x432 with 1 Axes>"
      ]
     },
     "metadata": {
      "needs_background": "light"
     },
     "output_type": "display_data"
    }
   ],
   "source": [
    "x = np.arange(0,100,1)\n",
    "y = np.arange(0,100,1)\n",
    "\n",
    "fig = plt.figure(figsize=(6,6))\n",
    "plt.imshow(x * y.reshape(100,-1))\n",
    "plt.xlim(0,100)\n",
    "plt.ylim(0,100)\n",
    "plt.xticks(np.arange(0,100,10))\n",
    "plt.yticks(np.arange(0,100,10))\n",
    "plt.grid(alpha=0.4)\n",
    "plt.contour(x * y.reshape(100,-1), colors='w', linewidths=0.5)"
   ]
  },
  {
   "cell_type": "code",
   "execution_count": 736,
   "metadata": {},
   "outputs": [
    {
     "data": {
      "text/plain": [
       "array([[ 0,  0,  0,  0,  0,  0,  0,  0,  0,  0],\n",
       "       [ 0,  1,  2,  3,  4,  5,  6,  7,  8,  9],\n",
       "       [ 0,  2,  4,  6,  8, 10, 12, 14, 16, 18],\n",
       "       [ 0,  3,  6,  9, 12, 15, 18, 21, 24, 27],\n",
       "       [ 0,  4,  8, 12, 16, 20, 24, 28, 32, 36],\n",
       "       [ 0,  5, 10, 15, 20, 25, 30, 35, 40, 45],\n",
       "       [ 0,  6, 12, 18, 24, 30, 36, 42, 48, 54],\n",
       "       [ 0,  7, 14, 21, 28, 35, 42, 49, 56, 63],\n",
       "       [ 0,  8, 16, 24, 32, 40, 48, 56, 64, 72],\n",
       "       [ 0,  9, 18, 27, 36, 45, 54, 63, 72, 81]])"
      ]
     },
     "execution_count": 736,
     "metadata": {},
     "output_type": "execute_result"
    }
   ],
   "source": [
    "x = np.arange(0,10,1)\n",
    "y = np.arange(0,10,1)\n",
    "x * y.reshape(10,-1)"
   ]
  },
  {
   "cell_type": "markdown",
   "metadata": {},
   "source": [
    "Both parts of this puzzle are complete! They provide two gold stars: **"
   ]
  },
  {
   "cell_type": "markdown",
   "metadata": {},
   "source": [
    "### Day 3 - part 1"
   ]
  },
  {
   "cell_type": "code",
   "execution_count": 836,
   "metadata": {},
   "outputs": [],
   "source": [
    "with open('./data_2019/day3.csv', 'r') as f:\n",
    "    lines = f.readlines()"
   ]
  },
  {
   "cell_type": "code",
   "execution_count": 849,
   "metadata": {},
   "outputs": [],
   "source": [
    "data = []\n",
    "for line in lines:\n",
    "    line = line.strip()\n",
    "    data.append(line.split(','))    "
   ]
  },
  {
   "cell_type": "code",
   "execution_count": 903,
   "metadata": {},
   "outputs": [],
   "source": [
    "wire_a = data[0]\n",
    "wire_b = data[1]"
   ]
  },
  {
   "cell_type": "code",
   "execution_count": 904,
   "metadata": {},
   "outputs": [
    {
     "name": "stdout",
     "output_type": "stream",
     "text": [
      "['R1003', 'U476', 'L876', 'U147', 'R127', 'D10']\n"
     ]
    }
   ],
   "source": [
    "print(wire_a[0:6])"
   ]
  },
  {
   "cell_type": "code",
   "execution_count": 936,
   "metadata": {},
   "outputs": [],
   "source": [
    "def make_complex(wire):\n",
    "    wire_complex = []\n",
    "    for vector in wire:\n",
    "        real = int(vector[1:])\n",
    "        direction = vector[0]\n",
    "        if direction == 'R':\n",
    "            imag = 0\n",
    "        elif direction == 'L':\n",
    "            real *= -1\n",
    "            imag = 0\n",
    "        elif direction == 'U':\n",
    "            imag = real\n",
    "            real = 0\n",
    "        else:\n",
    "            imag = -real\n",
    "            real = 0\n",
    "        wire_complex.append(complex(real,imag))\n",
    "\n",
    "    return np.array(wire_complex)"
   ]
  },
  {
   "cell_type": "code",
   "execution_count": 937,
   "metadata": {},
   "outputs": [],
   "source": [
    "wire_a_complex = make_complex(wire_a)\n",
    "wire_b_complex = make_complex(wire_b)"
   ]
  },
  {
   "cell_type": "code",
   "execution_count": 938,
   "metadata": {},
   "outputs": [
    {
     "data": {
      "image/png": "[encoded data removed]",
      "text/plain": [
       "<Figure size 432x432 with 1 Axes>"
      ]
     },
     "metadata": {
      "needs_background": "light"
     },
     "output_type": "display_data"
    }
   ],
   "source": [
    "fig = plt.figure(figsize=(6,6))\n",
    "plt.scatter(wire_a_complex.real, wire_a_complex.imag, c='r', s=5)\n",
    "plt.scatter(wire_b_complex.real, wire_b_complex.imag, c='b', s=5)\n",
    "plt.grid()"
   ]
  },
  {
   "cell_type": "code",
   "execution_count": 939,
   "metadata": {},
   "outputs": [
    {
     "data": {
      "text/plain": [
       "False"
      ]
     },
     "execution_count": 939,
     "metadata": {},
     "output_type": "execute_result"
    }
   ],
   "source": [
    "np.all(wire_a_complex == wire_b_complex)"
   ]
  },
  {
   "cell_type": "markdown",
   "metadata": {},
   "source": [
    "Stuck on this problem - moving on for now."
   ]
  },
  {
   "cell_type": "markdown",
   "metadata": {},
   "source": [
    "### Day 4 - part 1"
   ]
  },
  {
   "cell_type": "markdown",
   "metadata": {},
   "source": [
    "Your puzzle input is 234208-765869"
   ]
  },
  {
   "cell_type": "code",
   "execution_count": 1075,
   "metadata": {},
   "outputs": [
    {
     "data": {
      "text/plain": [
       "531661"
      ]
     },
     "execution_count": 1075,
     "metadata": {},
     "output_type": "execute_result"
    }
   ],
   "source": [
    "min_val = 234208\n",
    "max_val = 765869\n",
    "pwd_range = max_val - min_val\n",
    "pwd_range"
   ]
  },
  {
   "cell_type": "code",
   "execution_count": 1076,
   "metadata": {},
   "outputs": [],
   "source": [
    "def is_six(value):\n",
    "    value = str(value)\n",
    "    if len(value) == 6:\n",
    "        return True\n",
    "    else:\n",
    "        return False"
   ]
  },
  {
   "cell_type": "code",
   "execution_count": 1077,
   "metadata": {},
   "outputs": [],
   "source": [
    "def is_inrange(value):\n",
    "    if value >= min_val and value <= max_val:\n",
    "        return True\n",
    "    else:\n",
    "        return False"
   ]
  },
  {
   "cell_type": "code",
   "execution_count": 1090,
   "metadata": {},
   "outputs": [],
   "source": [
    "def two_adjacent(value):\n",
    "    two_adjacent = False\n",
    "    value, last_n = str(value), ''\n",
    "    for n in value:\n",
    "        if n == last_n:\n",
    "            two_adjacent = True\n",
    "        else:\n",
    "            last_n = n\n",
    "    return two_adjacent"
   ]
  },
  {
   "cell_type": "code",
   "execution_count": 1091,
   "metadata": {},
   "outputs": [],
   "source": [
    "def always_increasing(value):\n",
    "    value = list(str(value))\n",
    "    value = [int(val) for val in value]\n",
    "    uprs = value[:-1]\n",
    "    lwrs = value[1:]\n",
    "\n",
    "    for u, l in zip(uprs, lwrs):\n",
    "        if l < u:\n",
    "            return False\n",
    "        else:\n",
    "            incr = True\n",
    "    return incr"
   ]
  },
  {
   "cell_type": "code",
   "execution_count": 1093,
   "metadata": {},
   "outputs": [
    {
     "name": "stdout",
     "output_type": "stream",
     "text": [
      "1246\n"
     ]
    }
   ],
   "source": [
    "valid_pwds = []\n",
    "for i in range(min_val, max_val+1):\n",
    "    if two_adjacent(i) and always_increasing(i):\n",
    "        valid_pwds.append(i)\n",
    "print(len(valid_pwds))"
   ]
  },
  {
   "cell_type": "markdown",
   "metadata": {},
   "source": [
    "That's the right answer! You are one gold star closer to rescuing Santa."
   ]
  },
  {
   "cell_type": "markdown",
   "metadata": {},
   "source": [
    "### Day 4 - part 2"
   ]
  },
  {
   "cell_type": "code",
   "execution_count": 1102,
   "metadata": {},
   "outputs": [
    {
     "data": {
      "text/plain": [
       "3"
      ]
     },
     "execution_count": 1102,
     "metadata": {},
     "output_type": "execute_result"
    }
   ],
   "source": [
    "'12444'.count('4')"
   ]
  },
  {
   "cell_type": "code",
   "execution_count": 1112,
   "metadata": {},
   "outputs": [
    {
     "name": "stdout",
     "output_type": "stream",
     "text": [
      "True\n",
      "True\n",
      "True\n"
     ]
    }
   ],
   "source": [
    "def two_adjacent_no_group(value):\n",
    "    two_adjacent = False\n",
    "    value, last_n = str(value), ''\n",
    "    pair_val = None\n",
    "    for n in value:\n",
    "        if n == last_n and value.count(str(pair_val)) <= 2:\n",
    "            pair_val = n\n",
    "            two_adjacent = True\n",
    "        else:\n",
    "            last_n = n\n",
    "    return two_adjacent\n",
    "\n",
    "print(two_adjacent_no_group(112233)) # True\n",
    "print(two_adjacent_no_group(123444)) # False\n",
    "print(two_adjacent_no_group(111122)) # True"
   ]
  },
  {
   "cell_type": "code",
   "execution_count": 1117,
   "metadata": {},
   "outputs": [],
   "source": [
    "import re"
   ]
  },
  {
   "cell_type": "code",
   "execution_count": 1194,
   "metadata": {},
   "outputs": [],
   "source": [
    "def find_all_groups(value):\n",
    "    value = str(value)\n",
    "    groups = {0: [], 1: [], 2: [], 3: [], 4: [], 5: [], 6: [], 7: [], 8: [], 9: []}\n",
    "    for i in range(10):\n",
    "        pattern = re.compile(f'{i}+')\n",
    "        groups[i] = pattern.findall(value)\n",
    "    for k, v in groups.items():\n",
    "        if not v:\n",
    "            groups[k] = ''\n",
    "        else:\n",
    "            groups[k] = v[0]\n",
    "    return groups"
   ]
  },
  {
   "cell_type": "code",
   "execution_count": 1196,
   "metadata": {},
   "outputs": [
    {
     "data": {
      "text/plain": [
       "True"
      ]
     },
     "execution_count": 1196,
     "metadata": {},
     "output_type": "execute_result"
    }
   ],
   "source": [
    "def check_solo_pair(value):\n",
    "    groups = find_all_groups(value)\n",
    "    for k, v in groups.items():\n",
    "        if len(v) == 2:\n",
    "            return True\n",
    "        else:\n",
    "            continue\n",
    "    return False\n",
    "check_solo_pair(111122)"
   ]
  },
  {
   "cell_type": "code",
   "execution_count": 1198,
   "metadata": {},
   "outputs": [
    {
     "name": "stdout",
     "output_type": "stream",
     "text": [
      "814\n"
     ]
    }
   ],
   "source": [
    "valid_keys = []\n",
    "for pwd in valid_pwds:\n",
    "    if check_solo_pair(pwd):\n",
    "        valid_keys.append(1)\n",
    "    \n",
    "print(len(valid_keys))"
   ]
  },
  {
   "cell_type": "markdown",
   "metadata": {},
   "source": [
    "That's the right answer! You are one gold star closer to rescuing Santa."
   ]
  },
  {
   "cell_type": "markdown",
   "metadata": {},
   "source": [
    "### Day 5 - part 1"
   ]
  },
  {
   "cell_type": "code",
   "execution_count": null,
   "metadata": {},
   "outputs": [],
   "source": []
  }
 ],
 "metadata": {
  "kernelspec": {
   "display_name": "geocomp",
   "language": "python",
   "name": "geocomp"
  },
  "language_info": {
   "codemirror_mode": {
    "name": "ipython",
    "version": 3
   },
   "file_extension": ".py",
   "mimetype": "text/x-python",
   "name": "python",
   "nbconvert_exporter": "python",
   "pygments_lexer": "ipython3",
   "version": "3.7.4"
  }
 },
 "nbformat": 4,
 "nbformat_minor": 2
}
