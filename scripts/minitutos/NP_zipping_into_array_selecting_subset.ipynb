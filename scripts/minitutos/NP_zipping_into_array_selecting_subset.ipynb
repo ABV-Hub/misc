{
 "cells": [
  {
   "cell_type": "code",
   "execution_count": 37,
   "metadata": {},
   "outputs": [],
   "source": [
    "import numpy as np\n",
    "%matplotlib inline\n",
    "import matplotlib.pyplot as plt"
   ]
  },
  {
   "cell_type": "code",
   "execution_count": 38,
   "metadata": {},
   "outputs": [],
   "source": [
    "a = np.random.random(100) * 100\n",
    "b = np.random.random(100) * 1000"
   ]
  },
  {
   "cell_type": "code",
   "execution_count": 46,
   "metadata": {},
   "outputs": [
    {
     "data": {
      "text/plain": [
       "array([[2.67510815e+01, 3.48897859e+02],\n",
       "       [4.05040839e-01, 4.36416844e+02],\n",
       "       [9.28569660e+01, 3.87604013e+01],\n",
       "       [3.00806281e+01, 3.79806590e+00],\n",
       "       [9.95475523e+01, 3.32603801e+01],\n",
       "       [5.68144563e+01, 2.55238455e+02],\n",
       "       [8.84780705e+01, 6.28309772e+02],\n",
       "       [1.10377105e+01, 4.25062868e+02],\n",
       "       [7.24245392e+00, 6.97598221e+02],\n",
       "       [6.09559472e+01, 4.30870600e+02]])"
      ]
     },
     "execution_count": 46,
     "metadata": {},
     "output_type": "execute_result"
    }
   ],
   "source": [
    "kdes = np.array([list(pair) for pair in zip(list(a), list(b))])\n",
    "kdes[:10]"
   ]
  },
  {
   "cell_type": "code",
   "execution_count": 47,
   "metadata": {},
   "outputs": [
    {
     "data": {
      "text/plain": [
       "numpy.ndarray"
      ]
     },
     "execution_count": 47,
     "metadata": {},
     "output_type": "execute_result"
    }
   ],
   "source": [
    "type(kdes)"
   ]
  },
  {
   "cell_type": "code",
   "execution_count": 48,
   "metadata": {},
   "outputs": [
    {
     "data": {
      "text/plain": [
       "<matplotlib.collections.PathCollection at 0x7fe2c7e14390>"
      ]
     },
     "execution_count": 48,
     "metadata": {},
     "output_type": "execute_result"
    },
    {
     "data": {
      "image/png": "[encoded data removed]",
      "text/plain": [
       "<Figure size 432x288 with 1 Axes>"
      ]
     },
     "metadata": {
      "needs_background": "light"
     },
     "output_type": "display_data"
    }
   ],
   "source": [
    "plt.scatter(kdes[:,0], kdes[:,1])"
   ]
  },
  {
   "cell_type": "code",
   "execution_count": 63,
   "metadata": {},
   "outputs": [
    {
     "data": {
      "text/plain": [
       "(array([20, 21, 22, 23, 24, 25, 26, 27, 28, 29, 30, 31, 32, 33, 34, 35, 36,\n",
       "        37, 38, 39, 40, 41, 42, 43, 44, 45, 46, 47, 48, 49, 50, 51, 52, 53,\n",
       "        54, 55, 56, 57, 58, 59, 60, 61, 62, 63, 64, 65, 66, 67, 68, 69, 70,\n",
       "        71, 72, 73, 74, 75, 76, 77, 78, 79, 80, 81, 82, 83, 84, 85, 86, 87,\n",
       "        88, 89, 90, 91, 92, 93, 94, 95, 96, 97, 98, 99]),)"
      ]
     },
     "execution_count": 63,
     "metadata": {},
     "output_type": "execute_result"
    }
   ],
   "source": [
    "np.where(kdes[:,0] >= 20)"
   ]
  },
  {
   "cell_type": "code",
   "execution_count": 64,
   "metadata": {},
   "outputs": [
    {
     "data": {
      "text/plain": [
       "(array([20, 21, 22, 23, 24, 25, 26, 27, 28, 29, 30, 31, 32, 33, 34, 35, 36,\n",
       "        37, 38]),)"
      ]
     },
     "execution_count": 64,
     "metadata": {},
     "output_type": "execute_result"
    }
   ],
   "source": [
    "(np.where((kdes[:,0] >= 20) & (kdes[:,0] <= 40)))"
   ]
  },
  {
   "cell_type": "code",
   "execution_count": 65,
   "metadata": {},
   "outputs": [
    {
     "data": {
      "text/plain": [
       "array([[ 20.54440753, 134.32578701],\n",
       "       [ 20.86829523, 152.90761627],\n",
       "       [ 21.0655104 , 158.31294095],\n",
       "       [ 21.7142345 , 164.86357546],\n",
       "       [ 23.97068854, 167.98973883],\n",
       "       [ 24.15794362, 169.19526141],\n",
       "       [ 24.74892382, 170.40263917],\n",
       "       [ 26.75108151, 196.8330578 ],\n",
       "       [ 27.85486331, 206.24884593],\n",
       "       [ 30.08062807, 209.85767675],\n",
       "       [ 30.50214264, 213.56638455],\n",
       "       [ 31.37042114, 238.17000044],\n",
       "       [ 34.59007894, 255.23845456],\n",
       "       [ 35.73600113, 261.55913107],\n",
       "       [ 35.84943187, 269.12685899],\n",
       "       [ 36.65717962, 271.45239121],\n",
       "       [ 37.02571835, 272.33098962],\n",
       "       [ 37.66399465, 278.81011821],\n",
       "       [ 38.61380665, 287.67716412]])"
      ]
     },
     "execution_count": 65,
     "metadata": {},
     "output_type": "execute_result"
    }
   ],
   "source": [
    "kdes[(np.where((kdes[:,0] >= 20) & (kdes[:,0] <= 40)))]"
   ]
  },
  {
   "cell_type": "code",
   "execution_count": null,
   "metadata": {},
   "outputs": [],
   "source": []
  }
 ],
 "metadata": {
  "kernelspec": {
   "display_name": "Python 3",
   "language": "python",
   "name": "python3"
  },
  "language_info": {
   "codemirror_mode": {
    "name": "ipython",
    "version": 3
   },
   "file_extension": ".py",
   "mimetype": "text/x-python",
   "name": "python",
   "nbconvert_exporter": "python",
   "pygments_lexer": "ipython3",
   "version": "3.7.1"
  }
 },
 "nbformat": 4,
 "nbformat_minor": 2
}
