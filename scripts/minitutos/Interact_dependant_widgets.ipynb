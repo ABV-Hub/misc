{
 "cells": [
  {
   "cell_type": "markdown",
   "metadata": {},
   "source": [
    "# Interact dependant widget\n",
    "\n",
    "credit to Azam Janah for help on the dependancy."
   ]
  },
  {
   "cell_type": "code",
   "execution_count": 1,
   "metadata": {},
   "outputs": [],
   "source": [
    "import numpy as np\n",
    "from ipywidgets import FloatSlider, Dropdown, interact\n",
    "import ipywidgets as widgets"
   ]
  },
  {
   "cell_type": "code",
   "execution_count": 2,
   "metadata": {},
   "outputs": [],
   "source": [
    "# define some min max values for each column. These would be extracted from data in a real case.\n",
    "cols = {'col1': (0,450), \n",
    "        'col2': (0,1), \n",
    "        'col3': (0,100),\n",
    "        'col4': (-1000, 1000),\n",
    "        'col5': (0,1e9)\n",
    "       }"
   ]
  },
  {
   "cell_type": "code",
   "execution_count": 3,
   "metadata": {},
   "outputs": [
    {
     "data": {
      "application/vnd.jupyter.widget-view+json": {
       "model_id": "b357eec829cf4d9daab0a7a5d1d29483",
       "version_major": 2,
       "version_minor": 0
      },
      "text/plain": [
       "interactive(children=(Dropdown(description='Col name', options=('col1', 'col2', 'col3', 'col4', 'col5'), value…"
      ]
     },
     "metadata": {},
     "output_type": "display_data"
    }
   ],
   "source": [
    "# create the widgets\n",
    "col_widget = Dropdown(options=list(cols.keys()), description='Col name')\n",
    "x_widget = FloatSlider(continuous_update=True)\n",
    "\n",
    "def update_x_range(*args):\n",
    "    \"\"\"\n",
    "    Check the min max values of the widget and update if out of bounds\n",
    "    \"\"\"\n",
    "    value = cols[col_widget.value]\n",
    "    if x_widget.max <= value[0] or x_widget.min >= value[0]:\n",
    "        x_widget.min = np.NINF\n",
    "        x_widget.max = np.inf\n",
    "        \n",
    "    x_widget.value = value[0]   \n",
    "    x_widget.min, x_widget.max = value\n",
    "col_widget.observe(update_x_range, 'value')\n",
    "\n",
    "def printer(c, x):\n",
    "    print(f'Colum: {c}\\nx_min: {x_widget.min}\\nx_max: {x_widget.max}')\n",
    "    return\n",
    "\n",
    "interact(printer, c=col_widget, x=x_widget);"
   ]
  },
  {
   "cell_type": "code",
   "execution_count": null,
   "metadata": {},
   "outputs": [],
   "source": []
  }
 ],
 "metadata": {
  "kernelspec": {
   "display_name": "geocomp",
   "language": "python",
   "name": "geocomp"
  },
  "language_info": {
   "codemirror_mode": {
    "name": "ipython",
    "version": 3
   },
   "file_extension": ".py",
   "mimetype": "text/x-python",
   "name": "python",
   "nbconvert_exporter": "python",
   "pygments_lexer": "ipython3",
   "version": "3.7.1"
  }
 },
 "nbformat": 4,
 "nbformat_minor": 2
}
