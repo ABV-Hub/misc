{
 "cells": [
  {
   "cell_type": "markdown",
   "metadata": {},
   "source": [
    "#  Binary to decimal converter\n",
    "\n",
    "inspired by the book **Code** by Charles Petzold"
   ]
  },
  {
   "cell_type": "code",
   "execution_count": 1,
   "metadata": {},
   "outputs": [],
   "source": [
    "import numpy as np"
   ]
  },
  {
   "cell_type": "code",
   "execution_count": 2,
   "metadata": {},
   "outputs": [
    {
     "data": {
      "text/plain": [
       "150"
      ]
     },
     "execution_count": 2,
     "metadata": {},
     "output_type": "execute_result"
    }
   ],
   "source": [
    "def convert_bin(binary):\n",
    "    \"\"\"\n",
    "    Converts a binary number into its decimal equivalent\n",
    "    Args:\n",
    "        binary number as a string\n",
    "    Returns:\n",
    "        decimal number\n",
    "    \"\"\"\n",
    "    decimal = 0\n",
    "    for val in enumerate(binary):\n",
    "        index = len(binary)-1 - int(val[0])\n",
    "        decimal += int(binary[index]) * 2 ** val[0]\n",
    "    #print(f'{binary} is equivalent to {decimal}')\n",
    "    return decimal\n",
    "        \n",
    "convert_bin('10010110')"
   ]
  },
  {
   "cell_type": "code",
   "execution_count": 3,
   "metadata": {},
   "outputs": [],
   "source": [
    "test_nums = [1, 2, 10, 50, 100, 500]"
   ]
  },
  {
   "cell_type": "code",
   "execution_count": 4,
   "metadata": {},
   "outputs": [
    {
     "data": {
      "text/plain": [
       "['1', '10', '1010', '110010', '1100100', '111110100']"
      ]
     },
     "execution_count": 4,
     "metadata": {},
     "output_type": "execute_result"
    }
   ],
   "source": [
    "bin_test_nums = [np.binary_repr(num) for num in test_nums]\n",
    "bin_test_nums"
   ]
  },
  {
   "cell_type": "code",
   "execution_count": 5,
   "metadata": {},
   "outputs": [
    {
     "data": {
      "text/plain": [
       "True"
      ]
     },
     "execution_count": 5,
     "metadata": {},
     "output_type": "execute_result"
    }
   ],
   "source": [
    "test_results = [convert_bin(bin_test_num) for bin_test_num in bin_test_nums]\n",
    "test_results == test_nums"
   ]
  },
  {
   "cell_type": "code",
   "execution_count": null,
   "metadata": {},
   "outputs": [],
   "source": []
  }
 ],
 "metadata": {
  "kernelspec": {
   "display_name": "Python 3",
   "language": "python",
   "name": "python3"
  },
  "language_info": {
   "codemirror_mode": {
    "name": "ipython",
    "version": 3
   },
   "file_extension": ".py",
   "mimetype": "text/x-python",
   "name": "python",
   "nbconvert_exporter": "python",
   "pygments_lexer": "ipython3",
   "version": "3.7.1"
  }
 },
 "nbformat": 4,
 "nbformat_minor": 2
}
