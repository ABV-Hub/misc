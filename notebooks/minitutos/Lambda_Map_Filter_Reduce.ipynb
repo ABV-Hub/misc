{
 "cells": [
  {
   "cell_type": "markdown",
   "metadata": {},
   "source": [
    "# Lambda, Map, Filter and Reduce functions\n",
    "\n",
    "based on [Joe James'](https://www.youtube.com/channel/UC4Xt-DUAapAtkfaWWkv4OAw) [youtube video](https://www.youtube.com/watch?v=cKlnR-CB3tk)"
   ]
  },
  {
   "cell_type": "markdown",
   "metadata": {},
   "source": [
    "## Lambda function\n",
    "\n",
    "- A simple one line function\n",
    "- Does not use `def` nor `return` as they are implicit"
   ]
  },
  {
   "cell_type": "code",
   "execution_count": 17,
   "metadata": {},
   "outputs": [
    {
     "data": {
      "text/plain": [
       "(6, 6)"
      ]
     },
     "execution_count": 17,
     "metadata": {},
     "output_type": "execute_result"
    }
   ],
   "source": [
    "def double(x):\n",
    "    return 2 * x\n",
    "\n",
    "res = lambda x: 2*x\n",
    "\n",
    "double(3), res(3)"
   ]
  },
  {
   "cell_type": "code",
   "execution_count": 18,
   "metadata": {},
   "outputs": [
    {
     "data": {
      "text/plain": [
       "(7, 7)"
      ]
     },
     "execution_count": 18,
     "metadata": {},
     "output_type": "execute_result"
    }
   ],
   "source": [
    "def add(x,y):\n",
    "    return x + y\n",
    "\n",
    "res = lambda x,y: x + y\n",
    "\n",
    "add(3,4), res(3,4)"
   ]
  },
  {
   "cell_type": "code",
   "execution_count": 20,
   "metadata": {},
   "outputs": [
    {
     "data": {
      "text/plain": [
       "(5, 5)"
      ]
     },
     "execution_count": 20,
     "metadata": {},
     "output_type": "execute_result"
    }
   ],
   "source": [
    "def mx(x,y):\n",
    "    if x > y:\n",
    "        return x\n",
    "    else:\n",
    "        return y\n",
    "\n",
    "res = lambda x,y: x if x > y else y\n",
    "    \n",
    "mx(5,3), res(5,3)"
   ]
  },
  {
   "cell_type": "markdown",
   "metadata": {},
   "source": [
    "## Map function\n",
    "\n",
    "- apply same function to each element of an iterable\n",
    "- return the modified list"
   ]
  },
  {
   "cell_type": "code",
   "execution_count": 34,
   "metadata": {},
   "outputs": [
    {
     "data": {
      "text/plain": [
       "([1, 4, 9], [1, 4, 9], [1, 4, 9], [1, 4, 9])"
      ]
     },
     "execution_count": 34,
     "metadata": {},
     "output_type": "execute_result"
    }
   ],
   "source": [
    "mylist = [1,2,3]\n",
    "def square(x):\n",
    "    return x**2\n",
    "newlist = [square(n) for n in mylist]\n",
    "newlist2 = [x**2 for x in mylist]\n",
    "\n",
    "res = list(map(lambda x: x**2, mylist))\n",
    "res2 = list(map(square, mylist))\n",
    "\n",
    "newlist, newlist2, res, res2"
   ]
  },
  {
   "cell_type": "markdown",
   "metadata": {},
   "source": [
    "## Filter function\n",
    "\n",
    "- Remove items out of a sequence\n",
    "- Return filtered sequence"
   ]
  },
  {
   "cell_type": "code",
   "execution_count": 41,
   "metadata": {},
   "outputs": [
    {
     "data": {
      "text/plain": [
       "([7, 8], [7, 8])"
      ]
     },
     "execution_count": 41,
     "metadata": {},
     "output_type": "execute_result"
    }
   ],
   "source": [
    "mylist = [5,7,8,]\n",
    "condition = 6\n",
    "\n",
    "def over_six(seq, cond):\n",
    "    return [x for x in seq if x > 6]\n",
    "\n",
    "\n",
    "res = list(filter(lambda x: x > condition, mylist))\n",
    "\n",
    "over_six(mylist, condition), res"
   ]
  },
  {
   "cell_type": "markdown",
   "metadata": {},
   "source": [
    "## Reduce function\n",
    "\n",
    "- Applies same operation to items in iterable\n",
    "- Uses result of operation as first parameter for next operation\n",
    "- Returns a single item, not an iterable"
   ]
  },
  {
   "cell_type": "code",
   "execution_count": 52,
   "metadata": {},
   "outputs": [],
   "source": [
    "from functools import reduce"
   ]
  },
  {
   "cell_type": "code",
   "execution_count": 53,
   "metadata": {},
   "outputs": [
    {
     "data": {
      "text/plain": [
       "(192, 192)"
      ]
     },
     "execution_count": 53,
     "metadata": {},
     "output_type": "execute_result"
    }
   ],
   "source": [
    "mylist = [4,6,8]\n",
    "\n",
    "def mult(seq):\n",
    "    prod = seq[0]\n",
    "    for i in range(1,len(seq)):\n",
    "        prod *= seq[i]\n",
    "    return prod\n",
    "\n",
    "res = reduce(lambda x, y: x * y, mylist)\n",
    "\n",
    "mult(mylist), res"
   ]
  },
  {
   "cell_type": "markdown",
   "metadata": {},
   "source": [
    "## Apply and Map in Pandas"
   ]
  },
  {
   "cell_type": "code",
   "execution_count": 61,
   "metadata": {},
   "outputs": [],
   "source": [
    "import numpy as np\n",
    "import pandas as pd"
   ]
  },
  {
   "cell_type": "code",
   "execution_count": 88,
   "metadata": {},
   "outputs": [
    {
     "data": {
      "text/html": [
       "<div>\n",
       "<style scoped>\n",
       "    .dataframe tbody tr th:only-of-type {\n",
       "        vertical-align: middle;\n",
       "    }\n",
       "\n",
       "    .dataframe tbody tr th {\n",
       "        vertical-align: top;\n",
       "    }\n",
       "\n",
       "    .dataframe thead th {\n",
       "        text-align: right;\n",
       "    }\n",
       "</style>\n",
       "<table border=\"1\" class=\"dataframe\">\n",
       "  <thead>\n",
       "    <tr style=\"text-align: right;\">\n",
       "      <th></th>\n",
       "      <th>depth</th>\n",
       "      <th>GR</th>\n",
       "    </tr>\n",
       "  </thead>\n",
       "  <tbody>\n",
       "    <tr>\n",
       "      <th>0</th>\n",
       "      <td>1200</td>\n",
       "      <td>68.527250</td>\n",
       "    </tr>\n",
       "    <tr>\n",
       "      <th>1</th>\n",
       "      <td>1210</td>\n",
       "      <td>105.582462</td>\n",
       "    </tr>\n",
       "    <tr>\n",
       "      <th>2</th>\n",
       "      <td>1220</td>\n",
       "      <td>110.614855</td>\n",
       "    </tr>\n",
       "    <tr>\n",
       "      <th>3</th>\n",
       "      <td>1230</td>\n",
       "      <td>119.083566</td>\n",
       "    </tr>\n",
       "    <tr>\n",
       "      <th>4</th>\n",
       "      <td>1240</td>\n",
       "      <td>9.727327</td>\n",
       "    </tr>\n",
       "  </tbody>\n",
       "</table>\n",
       "</div>"
      ],
      "text/plain": [
       "   depth          GR\n",
       "0   1200   68.527250\n",
       "1   1210  105.582462\n",
       "2   1220  110.614855\n",
       "3   1230  119.083566\n",
       "4   1240    9.727327"
      ]
     },
     "execution_count": 88,
     "metadata": {},
     "output_type": "execute_result"
    }
   ],
   "source": [
    "# first let's make a fake log\n",
    "logpoints = np.arange(1200, 1650, 10)\n",
    "d = {'depth': logpoints, 'GR': np.random.uniform(low=0, high=150, size=len(logpoints))}\n",
    "df = pd.DataFrame(data=d)\n",
    "df.head()"
   ]
  },
  {
   "cell_type": "markdown",
   "metadata": {},
   "source": [
    "Examples based on [Chris Albon's excellent work](https://chrisalbon.com/python/data_wrangling/pandas_apply_operations_to_dataframes/)."
   ]
  },
  {
   "cell_type": "code",
   "execution_count": 89,
   "metadata": {},
   "outputs": [
    {
     "data": {
      "text/html": [
       "<div>\n",
       "<style scoped>\n",
       "    .dataframe tbody tr th:only-of-type {\n",
       "        vertical-align: middle;\n",
       "    }\n",
       "\n",
       "    .dataframe tbody tr th {\n",
       "        vertical-align: top;\n",
       "    }\n",
       "\n",
       "    .dataframe thead th {\n",
       "        text-align: right;\n",
       "    }\n",
       "</style>\n",
       "<table border=\"1\" class=\"dataframe\">\n",
       "  <thead>\n",
       "    <tr style=\"text-align: right;\">\n",
       "      <th></th>\n",
       "      <th>depth</th>\n",
       "      <th>GR</th>\n",
       "      <th>GR_edit</th>\n",
       "    </tr>\n",
       "  </thead>\n",
       "  <tbody>\n",
       "    <tr>\n",
       "      <th>0</th>\n",
       "      <td>1200</td>\n",
       "      <td>68.527250</td>\n",
       "      <td>83.527250</td>\n",
       "    </tr>\n",
       "    <tr>\n",
       "      <th>1</th>\n",
       "      <td>1210</td>\n",
       "      <td>105.582462</td>\n",
       "      <td>120.582462</td>\n",
       "    </tr>\n",
       "    <tr>\n",
       "      <th>2</th>\n",
       "      <td>1220</td>\n",
       "      <td>110.614855</td>\n",
       "      <td>125.614855</td>\n",
       "    </tr>\n",
       "    <tr>\n",
       "      <th>3</th>\n",
       "      <td>1230</td>\n",
       "      <td>119.083566</td>\n",
       "      <td>134.083566</td>\n",
       "    </tr>\n",
       "    <tr>\n",
       "      <th>4</th>\n",
       "      <td>1240</td>\n",
       "      <td>9.727327</td>\n",
       "      <td>24.727327</td>\n",
       "    </tr>\n",
       "  </tbody>\n",
       "</table>\n",
       "</div>"
      ],
      "text/plain": [
       "   depth          GR     GR_edit\n",
       "0   1200   68.527250   83.527250\n",
       "1   1210  105.582462  120.582462\n",
       "2   1220  110.614855  125.614855\n",
       "3   1230  119.083566  134.083566\n",
       "4   1240    9.727327   24.727327"
      ]
     },
     "execution_count": 89,
     "metadata": {},
     "output_type": "execute_result"
    }
   ],
   "source": [
    "log_editor = lambda x: x + 15\n",
    "df['GR_edit'] = df.GR.apply(log_editor)\n",
    "df.head()"
   ]
  },
  {
   "cell_type": "code",
   "execution_count": 90,
   "metadata": {},
   "outputs": [
    {
     "data": {
      "text/html": [
       "<div>\n",
       "<style scoped>\n",
       "    .dataframe tbody tr th:only-of-type {\n",
       "        vertical-align: middle;\n",
       "    }\n",
       "\n",
       "    .dataframe tbody tr th {\n",
       "        vertical-align: top;\n",
       "    }\n",
       "\n",
       "    .dataframe thead th {\n",
       "        text-align: right;\n",
       "    }\n",
       "</style>\n",
       "<table border=\"1\" class=\"dataframe\">\n",
       "  <thead>\n",
       "    <tr style=\"text-align: right;\">\n",
       "      <th></th>\n",
       "      <th>depth</th>\n",
       "      <th>GR</th>\n",
       "      <th>GR_edit</th>\n",
       "      <th>GR_edit_2</th>\n",
       "    </tr>\n",
       "  </thead>\n",
       "  <tbody>\n",
       "    <tr>\n",
       "      <th>0</th>\n",
       "      <td>1200</td>\n",
       "      <td>68.527250</td>\n",
       "      <td>83.527250</td>\n",
       "      <td>83.527250</td>\n",
       "    </tr>\n",
       "    <tr>\n",
       "      <th>1</th>\n",
       "      <td>1210</td>\n",
       "      <td>105.582462</td>\n",
       "      <td>120.582462</td>\n",
       "      <td>120.582462</td>\n",
       "    </tr>\n",
       "    <tr>\n",
       "      <th>2</th>\n",
       "      <td>1220</td>\n",
       "      <td>110.614855</td>\n",
       "      <td>125.614855</td>\n",
       "      <td>125.614855</td>\n",
       "    </tr>\n",
       "    <tr>\n",
       "      <th>3</th>\n",
       "      <td>1230</td>\n",
       "      <td>119.083566</td>\n",
       "      <td>134.083566</td>\n",
       "      <td>134.083566</td>\n",
       "    </tr>\n",
       "    <tr>\n",
       "      <th>4</th>\n",
       "      <td>1240</td>\n",
       "      <td>9.727327</td>\n",
       "      <td>24.727327</td>\n",
       "      <td>24.727327</td>\n",
       "    </tr>\n",
       "  </tbody>\n",
       "</table>\n",
       "</div>"
      ],
      "text/plain": [
       "   depth          GR     GR_edit   GR_edit_2\n",
       "0   1200   68.527250   83.527250   83.527250\n",
       "1   1210  105.582462  120.582462  120.582462\n",
       "2   1220  110.614855  125.614855  125.614855\n",
       "3   1230  119.083566  134.083566  134.083566\n",
       "4   1240    9.727327   24.727327   24.727327"
      ]
     },
     "execution_count": 90,
     "metadata": {},
     "output_type": "execute_result"
    }
   ],
   "source": [
    "df['GR_edit_2'] = df.GR.map(log_editor)\n",
    "df.head()"
   ]
  },
  {
   "cell_type": "code",
   "execution_count": 91,
   "metadata": {},
   "outputs": [
    {
     "data": {
      "text/html": [
       "<div>\n",
       "<style scoped>\n",
       "    .dataframe tbody tr th:only-of-type {\n",
       "        vertical-align: middle;\n",
       "    }\n",
       "\n",
       "    .dataframe tbody tr th {\n",
       "        vertical-align: top;\n",
       "    }\n",
       "\n",
       "    .dataframe thead th {\n",
       "        text-align: right;\n",
       "    }\n",
       "</style>\n",
       "<table border=\"1\" class=\"dataframe\">\n",
       "  <thead>\n",
       "    <tr style=\"text-align: right;\">\n",
       "      <th></th>\n",
       "      <th>depth</th>\n",
       "      <th>GR</th>\n",
       "      <th>GR_edit</th>\n",
       "      <th>GR_edit_2</th>\n",
       "    </tr>\n",
       "  </thead>\n",
       "  <tbody>\n",
       "    <tr>\n",
       "      <th>29</th>\n",
       "      <td>1490</td>\n",
       "      <td>143.628593</td>\n",
       "      <td>158.628593</td>\n",
       "      <td>158.628593</td>\n",
       "    </tr>\n",
       "    <tr>\n",
       "      <th>37</th>\n",
       "      <td>1570</td>\n",
       "      <td>141.465973</td>\n",
       "      <td>156.465973</td>\n",
       "      <td>156.465973</td>\n",
       "    </tr>\n",
       "  </tbody>\n",
       "</table>\n",
       "</div>"
      ],
      "text/plain": [
       "    depth          GR     GR_edit   GR_edit_2\n",
       "29   1490  143.628593  158.628593  158.628593\n",
       "37   1570  141.465973  156.465973  156.465973"
      ]
     },
     "execution_count": 91,
     "metadata": {},
     "output_type": "execute_result"
    }
   ],
   "source": [
    "# filtering\n",
    "df[df.GR > 140]"
   ]
  },
  {
   "cell_type": "code",
   "execution_count": null,
   "metadata": {},
   "outputs": [],
   "source": []
  }
 ],
 "metadata": {
  "kernelspec": {
   "display_name": "Python 3",
   "language": "python",
   "name": "python3"
  },
  "language_info": {
   "codemirror_mode": {
    "name": "ipython",
    "version": 3
   },
   "file_extension": ".py",
   "mimetype": "text/x-python",
   "name": "python",
   "nbconvert_exporter": "python",
   "pygments_lexer": "ipython3",
   "version": "3.7.1"
  }
 },
 "nbformat": 4,
 "nbformat_minor": 2
}
